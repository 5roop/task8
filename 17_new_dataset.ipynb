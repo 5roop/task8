{
 "cells": [
  {
   "cell_type": "code",
   "execution_count": 1,
   "metadata": {},
   "outputs": [
    {
     "data": {
      "text/plain": [
       "(44563, 24)"
      ]
     },
     "execution_count": 1,
     "metadata": {},
     "output_type": "execute_result"
    }
   ],
   "source": [
    "import pandas as pd\n",
    "\n",
    "df = pd.read_csv(\"transfer_10.csv\").dropna()\n",
    "df.shape"
   ]
  },
  {
   "cell_type": "markdown",
   "metadata": {},
   "source": [
    "Let's remove instances that were in samples and instances where sim < 0.8:"
   ]
  },
  {
   "cell_type": "code",
   "execution_count": 2,
   "metadata": {},
   "outputs": [],
   "source": [
    "c1 = ~df.was_in_samples\n",
    "c2 = df.sim >= 0.8\n",
    "\n",
    "df = df.loc[c1 & c2, :]\n"
   ]
  },
  {
   "cell_type": "markdown",
   "metadata": {},
   "source": [
    "Let's prepare a subset of 25k instances and calculate the duration:"
   ]
  },
  {
   "cell_type": "code",
   "execution_count": 3,
   "metadata": {},
   "outputs": [
    {
     "data": {
      "text/plain": [
       "114.72261111111041"
      ]
     },
     "execution_count": 3,
     "metadata": {},
     "output_type": "execute_result"
    }
   ],
   "source": [
    "subset = df.iloc[:25500].reset_index(drop=True)\n",
    "((subset.end - subset.start).cumsum()/3600).values[-1]"
   ]
  },
  {
   "cell_type": "markdown",
   "metadata": {},
   "source": [
    "Ok, we have 114.7 hours of data. Let's randomize the row order instead of doing train-dev-test split:"
   ]
  },
  {
   "cell_type": "code",
   "execution_count": 4,
   "metadata": {},
   "outputs": [],
   "source": [
    "subset = subset.sample(frac=1).reset_index(drop=True)"
   ]
  },
  {
   "cell_type": "code",
   "execution_count": 6,
   "metadata": {},
   "outputs": [],
   "source": [
    "subset[\"split\"] = [\"train\"] * 24500 + [\"test\"] * 500 + [\"dev\"] * 500"
   ]
  },
  {
   "cell_type": "code",
   "execution_count": 10,
   "metadata": {},
   "outputs": [
    {
     "data": {
      "text/plain": [
       "2.2508305555555506"
      ]
     },
     "execution_count": 10,
     "metadata": {},
     "output_type": "execute_result"
    }
   ],
   "source": [
    "condition = subset.split == \"test\"\n",
    "subsubset = subset.loc[condition, :]\n",
    "(subsubset.end-subsubset.start).sum()/3600"
   ]
  },
  {
   "cell_type": "code",
   "execution_count": 24,
   "metadata": {},
   "outputs": [],
   "source": [
    "train = subset.loc[\n",
    "    subset.split==\"train\",  ['hashname',\n",
    "                            'human_transcript',\n",
    "                            'unnormalized_transcript']\n",
    "                    ]\n",
    "test = subset.loc[\n",
    "    subset.split==\"test\",  ['hashname',\n",
    "                            'human_transcript',\n",
    "                            'unnormalized_transcript']\n",
    "                    ]\n",
    "dev = subset.loc[\n",
    "    subset.split==\"dev\",  ['hashname',\n",
    "                            'human_transcript',\n",
    "                            'unnormalized_transcript']\n",
    "                    ]\n",
    "\n",
    "train.to_csv(\"17_train.csv\", index=False)\n",
    "dev.to_csv(\"17_dev.csv\", index=False)\n",
    "test.to_csv(\"17_test.csv\", index=False)"
   ]
  },
  {
   "cell_type": "markdown",
   "metadata": {},
   "source": [
    "# Implementing the unnormalized preprocessing:"
   ]
  },
  {
   "cell_type": "code",
   "execution_count": 29,
   "metadata": {},
   "outputs": [
    {
     "data": {
      "text/plain": [
       "'u svezi sa člankom 190. Poslovnika Hrvatskog sabora. Materijal vam je dostavljen u pretince. Ove zakonske prijedloge raspravljat ćemo sukladno odredbama Poslovnika koje se odnose na drugo čitanje. Amandmani se mogu podnositi do kraja rasprave sukladno članku 197. Poslovnika. Raspravu su proveli Odbor'"
      ]
     },
     "execution_count": 29,
     "metadata": {},
     "output_type": "execute_result"
    }
   ],
   "source": [
    "import parse\n",
    "s = df.unnormalized_transcript[1]\n",
    "s"
   ]
  },
  {
   "cell_type": "code",
   "execution_count": 31,
   "metadata": {},
   "outputs": [
    {
     "name": "stdout",
     "output_type": "stream",
     "text": [
      "<Result () {'hit': 190}>\n",
      "<Result () {'hit': 197}>\n"
     ]
    }
   ],
   "source": [
    "p = parse.compile(\"{hit:d}.\")\n",
    "for seg in s.split():\n",
    "    result = p.parse(seg)\n",
    "    if result:\n",
    "        print(result)"
   ]
  },
  {
   "cell_type": "code",
   "execution_count": 53,
   "metadata": {},
   "outputs": [],
   "source": [
    "def process(text:str):\n",
    "    from parse import compile\n",
    "    from string import punctuation\n",
    "    p = compile(\"{hit:d}.\")\n",
    "    in_list = text.split()\n",
    "    out_list = list()\n",
    "    for seg in in_list:\n",
    "        parse_result = p.parse(seg)\n",
    "        if parse_result:\n",
    "            # We got a number with a dot afterward:\n",
    "            out_list.append(seg.lower())\n",
    "        else:\n",
    "            out_list.append(seg.translate(str.maketrans('', '', punctuation)).lower())\n",
    "    return \" \".join(out_list)\n",
    "\n",
    "\n",
    "\n",
    "train['unnormalized_transcript'] = train.unnormalized_transcript.apply(process)\n",
    "test['unnormalized_transcript'] = test.unnormalized_transcript.apply(process)\n",
    "dev['unnormalized_transcript'] = dev.unnormalized_transcript.apply(process)\n",
    "train.to_csv(\"17_train.csv\", index=False)\n",
    "dev.to_csv(\"17_dev.csv\", index=False)\n",
    "test.to_csv(\"17_test.csv\", index=False)\n"
   ]
  },
  {
   "cell_type": "code",
   "execution_count": 52,
   "metadata": {},
   "outputs": [
    {
     "data": {
      "text/plain": [
       "'konačni prijedlog zakona o izmjenama i dopunama zakona o doprinosima drugo čitanje pzbrdevetnaest i konačni prijedlog zakona o porezu na dohodak drugo čitanje pzbrdvadeset tri predlagatelj je vlada republike hrvatske na temelju članka osamdeset pet ustava erha i članka sto sedamdeset dva poslovnika'"
      ]
     },
     "execution_count": 52,
     "metadata": {},
     "output_type": "execute_result"
    }
   ],
   "source": [
    "df.human_transcript[0]"
   ]
  },
  {
   "cell_type": "code",
   "execution_count": 57,
   "metadata": {},
   "outputs": [
    {
     "data": {
      "text/plain": [
       "24500                                                                                                                        ribarsku brodicu i sad što se događa imamo sustav enormnog licemjerja licemjerja u kojem bankar iz hbora koji je odobrio kredit od 115 milijuna kuna eph holdingu neće snositi nikakvu odgovornost a\n",
       "24501                                                          bi ga zaista preciznije definirati bruto površinu na građevnoj čestici no ono što još jedino koristim priliku i ovu repliku da jednu dodatnu sugestiju a to je odnos prostornih planova većeg reda prema prostornim planovima nižeg reda vrlo često u praksi imate\n",
       "24502                              uz radno vrijeme moramo biti svjesni da to ljude neće destimulirati na žalost i neće ih staviti u bolju poziciju u hrvatskoj i natjerati da poštuju zakone zbog toga što uzrok problema nije riješen znači mi u hrvatskoj imamo kronični nedostatak zaposlenih radnika u cestovnom prijevozu i\n",
       "24503                                                        prema tome mislim da lokalnu samoupravu treba financijski ojačati dakle sredstva maksimalno decentralizirati i ne gušiti ju i to bi bio pravi put zahvaljujem uvaženom kolegi horvatu na odgovoru sljedeća se za repliku javila uvažena kolegica marija puh izvolite\n",
       "24504                                                                                                                                                                                                                                                          senzibiliteta onda vam to pomogne da nešto važno uđe i u prioritet\n",
       "24505    što se tiče poticajnih mjera rh osigurava financijska sredstva kroz proračun što je veliki doprinos za pružanje realizacije izgradnje potrebnih kuća i stanova za naše sugrađane nadalje bilo bi dobo da razmilite o mogućnosti dodatnih mjera a odnose se na smanjenje pdva za nabavku materijala za izvođenje radova i\n",
       "24506                                                                                                                            pitanje zaštićenih najmoprimaca moramo danas trezveno mirno bez ulaženja što sam malo prije rekao i prebrojavanja krvnih zrnaca svakog pojedinog slučaja dati jedan pametan i vrijedan prijedlog\n",
       "24507                                                                                                                                              u kanadi gmo polja pobila su skoro sve pčele nema više ne leptira nego nema ptica koje slijeću na polja mikro organizmi u tlu u potpunosti su uništeni u jednoj žličici čajnoj\n",
       "24508                                                                                                                                                              i u meni se opravdano stvara isto revolt zašto neki ljudi izbjegavaju lice pravde godinama uzeli su ogromne novce vidimo ih po gradu se šeću u skupim odjelima\n",
       "24509                                                                                              izgradnju novih stanova neće imati nekog velikog utjecaja ova izmjena zakona ali ono šta mene više brine je nevjerojatna lakoća ignorancije sada 300 obitelji ovdje ispred hrvatskog sabora da im se nitko nije obratio ispred\n",
       "24510                                                                                                                                                                                                             općine i mislim da smo toga svi svjesni ali ako želimo krenuti u nekakvu cjelovitu reformu negdje moramo početi\n",
       "24511                                                                                                                primjerice postoji poglavlje sloboda od izrabljivanja nasilja i zlostavljanja u ovom izvješću i vidi se da osim udruga i organizacija civilnog života žrtve nasilja ne dobivaju od svih institucija dovoljno\n",
       "24512      možemo imati to su iskustva i europe i hrvatske možete imati i sektorski pristup i možete imati integralni pristup ja sam se uvijek zalagala za integralni pristup što to znači da se isti pojmovi da isto nazivlje bude za iste pojmove u svakom zakonu pa ako je u zakonu o prostornom uređenju koji je krovni zakon\n",
       "24513                                                    to je vrlo jednostavno pitanje što ste učinili imali ste ingerencije kao ministar gospodarstva prema tome ja nisam vidio da ste problem riješili da ste ga riješili ne bi ga mi morali rješavati sada to vam je jednostavno u životu je sve kad podvučeš crtu plus minus\n",
       "24514                             imaju manje raspoloživog dohotka za trošenje kućanstva poduzeća imaju manje novaca za investiranje a država mora povećavati poreze i tako povećavati poreznu presiju kako bi dug otplaćivala znači to je jedan razlog zašto ne možemo dopustiti deprecijaciju tečaja s druge strane financijska\n",
       "24515                                                                                                                                                                    ostvaruju isto tako određene prihode a to je evo kao što znate sa 5 za mirovinsko na 1 i posebnog doprinosa za zaštitu zdravlja sa 05 na 01 hvala lijepa\n",
       "24516                                                                                                                            mogao kao i banka da li je ona smjela ili nije smjela davati ne znam kredit od milijun eura odokativnom ili nekakvom svojom vrstom procjene nekretnine ako već nije bilo drugih mogućnosti da se\n",
       "24517                             državnih brzo brodskih trajektnih linija gdje je najniža cijena nije bila najvažniji moment u kojem bi netko dobio liniju ili bi bio konkurentan bilo je mnogo drugih kriterija koje su znači omogućavale da takvu liniju netko odobri klub hdza će u smislu ove ekonomske najpovoljnije ponude\n",
       "24518                                                europske unije i svaka pomoć je njima dobro došla no međutim postoje tu još mnoge stvari koje bismo mogli uštedjeti na ovoj emisiji co2 tu su ljudi koji se voze na autoplin i oni su pri registraciji kažnjeni s određenim iznosom kad registriraju svoja vozila umjesto da\n",
       "24519                                                                                                                    da se koristi za potrebe elektroničkih aukcija iz čega proizlazi da nam neke druge i dodatne elektroničke platforme nisu potrebne nego nam je potrebno korištenje onih mogućnosti koje već imamo i to je\n",
       "Name: unnormalized_transcript, dtype: object"
      ]
     },
     "execution_count": 57,
     "metadata": {},
     "output_type": "execute_result"
    }
   ],
   "source": [
    "pd.set_option('display.max_colwidth', None)\n",
    "test.unnormalized_transcript.head(20)"
   ]
  },
  {
   "cell_type": "code",
   "execution_count": null,
   "metadata": {},
   "outputs": [],
   "source": []
  }
 ],
 "metadata": {
  "interpreter": {
   "hash": "7f6f5766036ee03d059e365a942add07f79c17033585e9357ee8157d52fe6bb9"
  },
  "kernelspec": {
   "display_name": "Python 3.8.3 ('base')",
   "language": "python",
   "name": "python3"
  },
  "language_info": {
   "codemirror_mode": {
    "name": "ipython",
    "version": 3
   },
   "file_extension": ".py",
   "mimetype": "text/x-python",
   "name": "python",
   "nbconvert_exporter": "python",
   "pygments_lexer": "ipython3",
   "version": "3.8.3"
  },
  "orig_nbformat": 4
 },
 "nbformat": 4,
 "nbformat_minor": 2
}
