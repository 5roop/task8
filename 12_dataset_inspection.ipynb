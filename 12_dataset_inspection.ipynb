{
 "cells": [
  {
   "cell_type": "code",
   "execution_count": 1,
   "metadata": {},
   "outputs": [],
   "source": [
    "import pandas as pd\n",
    "\n",
    "df = pd.read_csv(\"transfer_10.csv\")\n"
   ]
  },
  {
   "cell_type": "code",
   "execution_count": 2,
   "metadata": {},
   "outputs": [],
   "source": [
    "import os\n"
   ]
  },
  {
   "cell_type": "markdown",
   "metadata": {},
   "source": [
    "# Are all of the files sampled at 16kHz?"
   ]
  },
  {
   "cell_type": "code",
   "execution_count": 3,
   "metadata": {},
   "outputs": [
    {
     "data": {
      "text/plain": [
       "'sPNuDebATRM_1853.82-1873.66.wav'"
      ]
     },
     "execution_count": 3,
     "metadata": {},
     "output_type": "execute_result"
    }
   ],
   "source": [
    "df.hashname[0]"
   ]
  },
  {
   "cell_type": "code",
   "execution_count": 4,
   "metadata": {},
   "outputs": [
    {
     "data": {
      "text/plain": [
       "'16000'"
      ]
     },
     "execution_count": 4,
     "metadata": {},
     "output_type": "execute_result"
    }
   ],
   "source": [
    "import subprocess\n",
    "subprocess.getoutput(\"soxi -r transfer_10/sPNuDebATRM_1853.82-1873.66.wav\")"
   ]
  },
  {
   "cell_type": "code",
   "execution_count": 10,
   "metadata": {},
   "outputs": [
    {
     "name": "stdout",
     "output_type": "stream",
     "text": [
      "Detected samplerates in transfer_10 directory:  {'16000'}\n"
     ]
    }
   ],
   "source": [
    "def get_samplerate(file):\n",
    "    return subprocess.getoutput(f\"soxi -r transfer_10/{file}\")\n",
    "\n",
    "\n",
    "from concurrent.futures import ProcessPoolExecutor\n",
    "with ProcessPoolExecutor(max_workers=20) as executor:\n",
    "    samplerates = executor.map(get_samplerate, df.hashname)\n",
    "print(\"Detected samplerates in transfer_10 directory: \", set(samplerates))"
   ]
  },
  {
   "cell_type": "code",
   "execution_count": 12,
   "metadata": {},
   "outputs": [
    {
     "name": "stdout",
     "output_type": "stream",
     "text": [
      "Detected channels in transfer_10 directory:  {'1'}\n"
     ]
    }
   ],
   "source": [
    "def get_channels(file):\n",
    "    return subprocess.getoutput(f\"soxi -c transfer_10/{file}\")\n",
    "\n",
    "\n",
    "from concurrent.futures import ProcessPoolExecutor\n",
    "with ProcessPoolExecutor(max_workers=20) as executor:\n",
    "    channels = executor.map(get_channels, df.hashname)\n",
    "print(\"Detected channels in transfer_10 directory: \", set(channels))"
   ]
  },
  {
   "cell_type": "code",
   "execution_count": 13,
   "metadata": {},
   "outputs": [
    {
     "name": "stdout",
     "output_type": "stream",
     "text": [
      "Detected bitrate in transfer_10 directory:  {'257k', '258k', '256k', '259k'}\n"
     ]
    }
   ],
   "source": [
    "def get_bitrate(file):\n",
    "    return subprocess.getoutput(f\"soxi -B transfer_10/{file}\")\n",
    "\n",
    "\n",
    "from concurrent.futures import ProcessPoolExecutor\n",
    "with ProcessPoolExecutor(max_workers=20) as executor:\n",
    "    bitrate = executor.map(get_bitrate, df.hashname)\n",
    "print(\"Detected bitrate in transfer_10 directory: \", set(bitrate))"
   ]
  },
  {
   "cell_type": "code",
   "execution_count": 14,
   "metadata": {},
   "outputs": [
    {
     "name": "stdout",
     "output_type": "stream",
     "text": [
      "Detected precision in transfer_10 directory:  {'16'}\n"
     ]
    }
   ],
   "source": [
    "def get_precision(file):\n",
    "    return subprocess.getoutput(f\"soxi -b transfer_10/{file}\")\n",
    "\n",
    "\n",
    "from concurrent.futures import ProcessPoolExecutor\n",
    "with ProcessPoolExecutor(max_workers=20) as executor:\n",
    "    precision = executor.map(get_precision, df.hashname)\n",
    "print(\"Detected precision in transfer_10 directory: \", set(precision))"
   ]
  },
  {
   "cell_type": "code",
   "execution_count": null,
   "metadata": {},
   "outputs": [],
   "source": []
  }
 ],
 "metadata": {
  "interpreter": {
   "hash": "7f6f5766036ee03d059e365a942add07f79c17033585e9357ee8157d52fe6bb9"
  },
  "kernelspec": {
   "display_name": "Python 3.8.3 ('base')",
   "language": "python",
   "name": "python3"
  },
  "language_info": {
   "codemirror_mode": {
    "name": "ipython",
    "version": 3
   },
   "file_extension": ".py",
   "mimetype": "text/x-python",
   "name": "python",
   "nbconvert_exporter": "python",
   "pygments_lexer": "ipython3",
   "version": "3.8.3"
  },
  "orig_nbformat": 4
 },
 "nbformat": 4,
 "nbformat_minor": 2
}
