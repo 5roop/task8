{
    "cells": [
        {
            "cell_type": "code",
            "execution_count": 1,
            "metadata": {},
            "outputs": [
                {
                    "data": {
                        "text/plain": [
                            "<weakproxy at 0x7f272a7598b0 to Device at 0x7f272a75b4f0>"
                        ]
                    },
                    "execution_count": 1,
                    "metadata": {},
                    "output_type": "execute_result"
                }
            ],
            "source": [
                "import torch\n",
                "from numba import cuda\n",
                "cuda.select_device(0)\n",
                "cuda.close()\n",
                "cuda.select_device(0)\n",
                "\n",
                "#torch.cuda.empty_cache()"
            ]
        },
        {
            "cell_type": "markdown",
            "metadata": {},
            "source": [
                "## Reading the transcripts"
            ]
        },
        {
            "cell_type": "code",
            "execution_count": 2,
            "metadata": {},
            "outputs": [
                {
                    "data": {
                        "text/html": [
                            "<div>\n",
                            "<style scoped>\n",
                            "    .dataframe tbody tr th:only-of-type {\n",
                            "        vertical-align: middle;\n",
                            "    }\n",
                            "\n",
                            "    .dataframe tbody tr th {\n",
                            "        vertical-align: top;\n",
                            "    }\n",
                            "\n",
                            "    .dataframe thead th {\n",
                            "        text-align: right;\n",
                            "    }\n",
                            "</style>\n",
                            "<table border=\"1\" class=\"dataframe\">\n",
                            "  <thead>\n",
                            "    <tr style=\"text-align: right;\">\n",
                            "      <th></th>\n",
                            "      <th>path</th>\n",
                            "      <th>sentence</th>\n",
                            "      <th>filesize</th>\n",
                            "    </tr>\n",
                            "  </thead>\n",
                            "  <tbody>\n",
                            "    <tr>\n",
                            "      <th>0</th>\n",
                            "      <td>/home/peterr/macocu/task6_speech/data/00000001...</td>\n",
                            "      <td>poštovane kolegice i kolege zastupnici molio b...</td>\n",
                            "      <td>249678</td>\n",
                            "    </tr>\n",
                            "    <tr>\n",
                            "      <th>1</th>\n",
                            "      <td>/home/peterr/macocu/task6_speech/data/00000002...</td>\n",
                            "      <td>prvi klub koji se javio za stanku je klub esde...</td>\n",
                            "      <td>118478</td>\n",
                            "    </tr>\n",
                            "    <tr>\n",
                            "      <th>2</th>\n",
                            "      <td>/home/peterr/macocu/task6_speech/data/00000003...</td>\n",
                            "      <td>u njihovo ime predstavnik bojan glavašević</td>\n",
                            "      <td>96078</td>\n",
                            "    </tr>\n",
                            "    <tr>\n",
                            "      <th>3</th>\n",
                            "      <td>/home/peterr/macocu/task6_speech/data/00000004...</td>\n",
                            "      <td>hvala gospodine predsjedniče</td>\n",
                            "      <td>38478</td>\n",
                            "    </tr>\n",
                            "    <tr>\n",
                            "      <th>4</th>\n",
                            "      <td>/home/peterr/macocu/task6_speech/data/00000005...</td>\n",
                            "      <td>poštovani gospodine predsjedniče hrvatskog sab...</td>\n",
                            "      <td>368078</td>\n",
                            "    </tr>\n",
                            "  </tbody>\n",
                            "</table>\n",
                            "</div>"
                        ],
                        "text/plain": [
                            "                                                path  \\\n",
                            "0  /home/peterr/macocu/task6_speech/data/00000001...   \n",
                            "1  /home/peterr/macocu/task6_speech/data/00000002...   \n",
                            "2  /home/peterr/macocu/task6_speech/data/00000003...   \n",
                            "3  /home/peterr/macocu/task6_speech/data/00000004...   \n",
                            "4  /home/peterr/macocu/task6_speech/data/00000005...   \n",
                            "\n",
                            "                                            sentence  filesize  \n",
                            "0  poštovane kolegice i kolege zastupnici molio b...    249678  \n",
                            "1  prvi klub koji se javio za stanku je klub esde...    118478  \n",
                            "2        u njihovo ime predstavnik bojan glavašević      96078  \n",
                            "3                      hvala gospodine predsjedniče      38478  \n",
                            "4  poštovani gospodine predsjedniče hrvatskog sab...    368078  "
                        ]
                    },
                    "execution_count": 2,
                    "metadata": {},
                    "output_type": "execute_result"
                }
            ],
            "source": [
                "import pandas as pd\n",
                "import numpy as np\n",
                "\n",
                "f = \"/home/nikolal/projects/parlaspeech/transcripts_normalized.txt\"\n",
                "df = pd.read_table(f, names=[\"unknown1\", \"path\", \"sentence\"],\n",
                "        #nrows=2000\n",
                "        )\n",
                "\n",
                "df[\"path\"] = \"/home/peterr/macocu/task6_speech/data/\" + \\\n",
                "    df.path.str.replace(\"flac/\", \"\") + \".wav\"\n",
                "df = df.drop(columns=\"unknown1\")\n",
                "import os\n",
                "df[\"filesize\"] = df[\"path\"].apply(os.path.getsize)\n",
                "for char in ['*', ':', ';']:\n",
                "    df[\"sentence\"] = df.sentence.str.replace(char, \"\")\n",
                "    \n",
                "df.head()\n"
            ]
        },
        {
            "cell_type": "markdown",
            "metadata": {},
            "source": [
                "## performing the train_test split"
            ]
        },
        {
            "cell_type": "code",
            "execution_count": 3,
            "metadata": {},
            "outputs": [],
            "source": [
                "from sklearn.model_selection import train_test_split\n",
                "\n",
                "common_voice_train_df, common_voice_test_df = train_test_split(df, train_size=0.8, )\n",
                "\n",
                "\n",
                "LIM = int(df.shape[0] * 0.8)\n",
                "common_voice_train_df = df.loc[0:LIM, :].copy()\n",
                "common_voice_test_df = df.loc[LIM:, :].copy()\n",
                "\n",
                "\n",
                "common_voice_train_df.reset_index(drop=True, inplace=True)\n",
                "common_voice_test_df.reset_index(drop=True, inplace=True)"
            ]
        },
        {
            "cell_type": "markdown",
            "metadata": {},
            "source": [
                "## Reading the audio file with `datasets.Audio`"
            ]
        },
        {
            "cell_type": "code",
            "execution_count": 4,
            "metadata": {},
            "outputs": [],
            "source": [
                "import datasets\n",
                "from datasets import load_dataset, load_metric, Audio\n",
                "def load_audio(path):\n",
                "    return datasets.Audio(sampling_rate=16000).decode_example(path)\n",
                "\n",
                "# Adding audio\n",
                "common_voice_train_df.loc[:, \"audio\"] = common_voice_train_df.path.apply(load_audio)\n",
                "common_voice_test_df.loc[:, \"audio\"] = common_voice_test_df.path.apply(load_audio)\n",
                "\n",
                "# Initiating a dataset from pandas dataframe\n",
                "common_voice_train_dataset = datasets.Dataset.from_pandas(common_voice_train_df)\n",
                "common_voice_test_dataset = datasets.Dataset.from_pandas(common_voice_test_df)"
            ]
        },
        {
            "cell_type": "markdown",
            "metadata": {},
            "source": [
                "## Preparing the training pipeline"
            ]
        },
        {
            "cell_type": "code",
            "execution_count": 5,
            "metadata": {},
            "outputs": [
                {
                    "name": "stderr",
                    "output_type": "stream",
                    "text": [
                        "file ./config.json not found\n",
                        "Special tokens have been added in the vocabulary, make sure the associated word embeddings are fine-tuned or trained.\n"
                    ]
                },
                {
                    "data": {
                        "application/vnd.jupyter.widget-view+json": {
                            "model_id": "d093955480e44c648aa131f8d60073c7",
                            "version_major": 2,
                            "version_minor": 0
                        },
                        "text/plain": [
                            "  0%|          | 0/18431 [00:00<?, ?ex/s]"
                        ]
                    },
                    "metadata": {},
                    "output_type": "display_data"
                },
                {
                    "data": {
                        "application/vnd.jupyter.widget-view+json": {
                            "model_id": "fbb90fe130a24f5988abc5a3691b3717",
                            "version_major": 2,
                            "version_minor": 0
                        },
                        "text/plain": [
                            "  0%|          | 0/4608 [00:00<?, ?ex/s]"
                        ]
                    },
                    "metadata": {},
                    "output_type": "display_data"
                }
            ],
            "source": [
                "from transformers import Wav2Vec2CTCTokenizer\n",
                "from transformers import Wav2Vec2FeatureExtractor\n",
                "from transformers import Wav2Vec2Processor\n",
                "tokenizer = Wav2Vec2CTCTokenizer.from_pretrained(\n",
                "    \"./\", unk_token=\"[UNK]\", pad_token=\"[PAD]\", word_delimiter_token=\"|\")\n",
                "\n",
                "feature_extractor = Wav2Vec2FeatureExtractor(\n",
                "    feature_size=1, sampling_rate=16000, padding_value=0.0, do_normalize=True, return_attention_mask=True)\n",
                "\n",
                "processor = Wav2Vec2Processor(\n",
                "    feature_extractor=feature_extractor, tokenizer=tokenizer)\n",
                "\n",
                "import torch\n",
                "\n",
                "from dataclasses import dataclass, field\n",
                "from typing import Any, Dict, List, Optional, Union\n",
                "\n",
                "@dataclass\n",
                "class DataCollatorCTCWithPadding:\n",
                "    \"\"\"\n",
                "    Data collator that will dynamically pad the inputs received.\n",
                "    Args:\n",
                "        processor (:class:`~transformers.Wav2Vec2Processor`)\n",
                "            The processor used for proccessing the data.\n",
                "        padding (:obj:`bool`, :obj:`str` or :class:`~transformers.tokenization_utils_base.PaddingStrategy`, `optional`, defaults to :obj:`True`):\n",
                "            Select a strategy to pad the returned sequences (according to the model's padding side and padding index)\n",
                "            among:\n",
                "            * :obj:`True` or :obj:`'longest'`: Pad to the longest sequence in the batch (or no padding if only a single\n",
                "              sequence if provided).\n",
                "            * :obj:`'max_length'`: Pad to a maximum length specified with the argument :obj:`max_length` or to the\n",
                "              maximum acceptable input length for the model if that argument is not provided.\n",
                "            * :obj:`False` or :obj:`'do_not_pad'` (default): No padding (i.e., can output a batch with sequences of\n",
                "              different lengths).\n",
                "    \"\"\"\n",
                "\n",
                "    processor: Wav2Vec2Processor\n",
                "    padding: Union[bool, str] = True\n",
                "\n",
                "    def __call__(self, features: List[Dict[str, Union[List[int], torch.Tensor]]]) -> Dict[str, torch.Tensor]:\n",
                "        # split inputs and labels since they have to be of different lenghts and need\n",
                "        # different padding methods\n",
                "        input_features = [{\"input_values\": feature[\"input_values\"]} for feature in features]\n",
                "        label_features = [{\"input_ids\": feature[\"labels\"]} for feature in features]\n",
                "\n",
                "        batch = self.processor.pad(\n",
                "            input_features,\n",
                "            padding=self.padding,\n",
                "            return_tensors=\"pt\",\n",
                "        )\n",
                "        with self.processor.as_target_processor():\n",
                "            labels_batch = self.processor.pad(\n",
                "                label_features,\n",
                "                padding=self.padding,\n",
                "                return_tensors=\"pt\",\n",
                "            )\n",
                "\n",
                "        # replace padding with -100 to ignore loss correctly\n",
                "        labels = labels_batch[\"input_ids\"].masked_fill(labels_batch.attention_mask.ne(1), -100)\n",
                "\n",
                "        batch[\"labels\"] = labels\n",
                "\n",
                "        return batch\n",
                "\n",
                "data_collator = DataCollatorCTCWithPadding(processor=processor, padding=True)\n",
                "\n",
                "\n",
                "\n",
                "\n",
                "\n",
                "\n",
                "\n",
                "\n",
                "from transformers import Trainer\n",
                "from transformers import TrainingArguments\n",
                "from transformers import Wav2Vec2ForCTC\n",
                "from typing import Any, Dict, List, Optional, Union\n",
                "from dataclasses import dataclass, field\n",
                "import torch\n",
                "\n",
                "\n",
                "def prepare_dataset(batch):\n",
                "    audio = batch[\"audio\"]\n",
                "\n",
                "    # batched output is \"un-batched\"\n",
                "    batch[\"input_values\"] = processor(\n",
                "        audio[\"array\"], sampling_rate=audio[\"sampling_rate\"]).input_values[0]\n",
                "    batch[\"input_length\"] = len(batch[\"input_values\"])\n",
                "\n",
                "    with processor.as_target_processor():\n",
                "        batch[\"labels\"] = processor(batch[\"sentence\"]).input_ids\n",
                "    return batch\n",
                "\n",
                "\n",
                "common_voice_train_mapped = common_voice_train_dataset.map(\n",
                "    prepare_dataset, remove_columns=common_voice_train_dataset.column_names)\n",
                "common_voice_test_mapped = common_voice_test_dataset.map(\n",
                "    prepare_dataset, remove_columns=common_voice_test_dataset.column_names)"
            ]
        },
        {
            "cell_type": "code",
            "execution_count": 6,
            "metadata": {},
            "outputs": [
                {
                    "data": {
                        "application/vnd.jupyter.widget-view+json": {
                            "model_id": "e665233f969c4fab819515dc7c67a7a1",
                            "version_major": 2,
                            "version_minor": 0
                        },
                        "text/plain": [
                            "Downloading:   0%|          | 0.00/1.95k [00:00<?, ?B/s]"
                        ]
                    },
                    "metadata": {},
                    "output_type": "display_data"
                },
                {
                    "data": {
                        "application/vnd.jupyter.widget-view+json": {
                            "model_id": "46201652224447adae012210540c124b",
                            "version_major": 2,
                            "version_minor": 0
                        },
                        "text/plain": [
                            "  0%|          | 0/19 [00:00<?, ?ba/s]"
                        ]
                    },
                    "metadata": {},
                    "output_type": "display_data"
                },
                {
                    "name": "stderr",
                    "output_type": "stream",
                    "text": [
                        "Some weights of the model checkpoint at facebook/wav2vec2-xls-r-300m were not used when initializing Wav2Vec2ForCTC: ['quantizer.weight_proj.bias', 'quantizer.codevectors', 'project_q.weight', 'project_hid.bias', 'project_q.bias', 'project_hid.weight', 'quantizer.weight_proj.weight']\n",
                        "- This IS expected if you are initializing Wav2Vec2ForCTC from the checkpoint of a model trained on another task or with another architecture (e.g. initializing a BertForSequenceClassification model from a BertForPreTraining model).\n",
                        "- This IS NOT expected if you are initializing Wav2Vec2ForCTC from the checkpoint of a model that you expect to be exactly identical (initializing a BertForSequenceClassification model from a BertForSequenceClassification model).\n",
                        "Some weights of Wav2Vec2ForCTC were not initialized from the model checkpoint at facebook/wav2vec2-xls-r-300m and are newly initialized: ['lm_head.bias', 'lm_head.weight']\n",
                        "You should probably TRAIN this model on a down-stream task to be able to use it for predictions and inference.\n",
                        "/home/peterr/anaconda3/lib/python3.8/site-packages/setuptools/distutils_patch.py:25: UserWarning: Distutils was imported before Setuptools. This usage is discouraged and may exhibit undesirable behaviors or errors. Please use Setuptools' objects directly or at least import Setuptools first.\n",
                        "  warnings.warn(\n",
                        "Using amp fp16 backend\n",
                        "The following columns in the training set  don't have a corresponding argument in `Wav2Vec2ForCTC.forward` and have been ignored: input_length.\n",
                        "***** Running training *****\n",
                        "  Num examples = 15997\n",
                        "  Num Epochs = 30\n",
                        "  Instantaneous batch size per device = 16\n",
                        "  Total train batch size (w. parallel, distributed & accumulation) = 64\n",
                        "  Gradient Accumulation steps = 4\n",
                        "  Total optimization steps = 7500\n",
                        "Automatic Weights & Biases logging enabled, to disable set os.environ[\"WANDB_DISABLED\"] = \"true\"\n",
                        "Failed to detect the name of this notebook, you can set it manually with the WANDB_NOTEBOOK_NAME environment variable to enable code saving.\n",
                        "\u001b[34m\u001b[1mwandb\u001b[0m: Currently logged in as: \u001b[33m5roop\u001b[0m (use `wandb login --relogin` to force relogin)\n",
                        "\u001b[34m\u001b[1mwandb\u001b[0m: wandb version 0.12.7 is available!  To upgrade, please run:\n",
                        "\u001b[34m\u001b[1mwandb\u001b[0m:  $ pip install wandb --upgrade\n"
                    ]
                },
                {
                    "data": {
                        "text/html": [
                            "\n",
                            "                    Syncing run <strong><a href=\"https://wandb.ai/5roop/huggingface/runs/2g838clv\" target=\"_blank\">6_</a></strong> to <a href=\"https://wandb.ai/5roop/huggingface\" target=\"_blank\">Weights & Biases</a> (<a href=\"https://docs.wandb.com/integrations/jupyter.html\" target=\"_blank\">docs</a>).<br/>\n",
                            "\n",
                            "                "
                        ],
                        "text/plain": [
                            "<IPython.core.display.HTML object>"
                        ]
                    },
                    "metadata": {},
                    "output_type": "display_data"
                },
                {
                    "name": "stderr",
                    "output_type": "stream",
                    "text": [
                        "/home/peterr/anaconda3/lib/python3.8/site-packages/torch/_tensor.py:575: UserWarning: floor_divide is deprecated, and will be removed in a future version of pytorch. It currently rounds toward 0 (like the 'trunc' function NOT 'floor'). This results in incorrect rounding for negative values.\n",
                        "To keep the current behavior, use torch.div(a, b, rounding_mode='trunc'), or for actual floor division, use torch.div(a, b, rounding_mode='floor'). (Triggered internally at  /opt/conda/conda-bld/pytorch_1623448234945/work/aten/src/ATen/native/BinaryOps.cpp:467.)\n",
                        "  return torch.floor_divide(self, other)\n"
                    ]
                },
                {
                    "data": {
                        "text/html": [
                            "\n",
                            "    <div>\n",
                            "      \n",
                            "      <progress value='2668' max='7500' style='width:300px; height:20px; vertical-align: middle;'></progress>\n",
                            "      [2668/7500 7:45:08 < 14:03:03, 0.10 it/s, Epoch 10.67/30]\n",
                            "    </div>\n",
                            "    <table border=\"1\" class=\"dataframe\">\n",
                            "  <thead>\n",
                            "    <tr style=\"text-align: left;\">\n",
                            "      <th>Step</th>\n",
                            "      <th>Training Loss</th>\n",
                            "      <th>Validation Loss</th>\n",
                            "      <th>Wer</th>\n",
                            "    </tr>\n",
                            "  </thead>\n",
                            "  <tbody>\n",
                            "    <tr>\n",
                            "      <td>400</td>\n",
                            "      <td>3.254200</td>\n",
                            "      <td>inf</td>\n",
                            "      <td>0.335134</td>\n",
                            "    </tr>\n",
                            "    <tr>\n",
                            "      <td>800</td>\n",
                            "      <td>0.381700</td>\n",
                            "      <td>inf</td>\n",
                            "      <td>0.203421</td>\n",
                            "    </tr>\n",
                            "    <tr>\n",
                            "      <td>1200</td>\n",
                            "      <td>0.238100</td>\n",
                            "      <td>inf</td>\n",
                            "      <td>0.214364</td>\n",
                            "    </tr>\n",
                            "    <tr>\n",
                            "      <td>1600</td>\n",
                            "      <td>0.183300</td>\n",
                            "      <td>inf</td>\n",
                            "      <td>0.181068</td>\n",
                            "    </tr>\n",
                            "    <tr>\n",
                            "      <td>2000</td>\n",
                            "      <td>0.147100</td>\n",
                            "      <td>inf</td>\n",
                            "      <td>0.177198</td>\n",
                            "    </tr>\n",
                            "    <tr>\n",
                            "      <td>2400</td>\n",
                            "      <td>0.120200</td>\n",
                            "      <td>inf</td>\n",
                            "      <td>0.167918</td>\n",
                            "    </tr>\n",
                            "  </tbody>\n",
                            "</table><p>"
                        ],
                        "text/plain": [
                            "<IPython.core.display.HTML object>"
                        ]
                    },
                    "metadata": {},
                    "output_type": "display_data"
                },
                {
                    "name": "stderr",
                    "output_type": "stream",
                    "text": [
                        "/home/peterr/anaconda3/lib/python3.8/site-packages/transformers/trainer.py:1355: FutureWarning: Non-finite norm encountered in torch.nn.utils.clip_grad_norm_; continuing anyway. Note that the default behavior will change in a future release to error out if a non-finite total norm is encountered. At that point, setting error_if_nonfinite=false will be required to retain the old behavior.\n",
                        "  nn.utils.clip_grad_norm_(\n",
                        "The following columns in the evaluation set  don't have a corresponding argument in `Wav2Vec2ForCTC.forward` and have been ignored: input_length.\n",
                        "***** Running Evaluation *****\n",
                        "  Num examples = 4608\n",
                        "  Batch size = 8\n",
                        "Saving model checkpoint to 6_/checkpoint-400\n",
                        "Configuration saved in 6_/checkpoint-400/config.json\n",
                        "Model weights saved in 6_/checkpoint-400/pytorch_model.bin\n",
                        "Configuration saved in 6_/checkpoint-400/preprocessor_config.json\n",
                        "/home/peterr/anaconda3/lib/python3.8/site-packages/transformers/trainer.py:1355: FutureWarning: Non-finite norm encountered in torch.nn.utils.clip_grad_norm_; continuing anyway. Note that the default behavior will change in a future release to error out if a non-finite total norm is encountered. At that point, setting error_if_nonfinite=false will be required to retain the old behavior.\n",
                        "  nn.utils.clip_grad_norm_(\n",
                        "The following columns in the evaluation set  don't have a corresponding argument in `Wav2Vec2ForCTC.forward` and have been ignored: input_length.\n",
                        "***** Running Evaluation *****\n",
                        "  Num examples = 4608\n",
                        "  Batch size = 8\n",
                        "Saving model checkpoint to 6_/checkpoint-800\n",
                        "Configuration saved in 6_/checkpoint-800/config.json\n",
                        "Model weights saved in 6_/checkpoint-800/pytorch_model.bin\n",
                        "Configuration saved in 6_/checkpoint-800/preprocessor_config.json\n",
                        "Deleting older checkpoint [6_/checkpoint-400] due to args.save_total_limit\n",
                        "/home/peterr/anaconda3/lib/python3.8/site-packages/transformers/trainer.py:1355: FutureWarning: Non-finite norm encountered in torch.nn.utils.clip_grad_norm_; continuing anyway. Note that the default behavior will change in a future release to error out if a non-finite total norm is encountered. At that point, setting error_if_nonfinite=false will be required to retain the old behavior.\n",
                        "  nn.utils.clip_grad_norm_(\n",
                        "The following columns in the evaluation set  don't have a corresponding argument in `Wav2Vec2ForCTC.forward` and have been ignored: input_length.\n",
                        "***** Running Evaluation *****\n",
                        "  Num examples = 4608\n",
                        "  Batch size = 8\n",
                        "Saving model checkpoint to 6_/checkpoint-1200\n",
                        "Configuration saved in 6_/checkpoint-1200/config.json\n",
                        "Model weights saved in 6_/checkpoint-1200/pytorch_model.bin\n",
                        "Configuration saved in 6_/checkpoint-1200/preprocessor_config.json\n",
                        "Deleting older checkpoint [6_/checkpoint-800] due to args.save_total_limit\n",
                        "/home/peterr/anaconda3/lib/python3.8/site-packages/transformers/trainer.py:1355: FutureWarning: Non-finite norm encountered in torch.nn.utils.clip_grad_norm_; continuing anyway. Note that the default behavior will change in a future release to error out if a non-finite total norm is encountered. At that point, setting error_if_nonfinite=false will be required to retain the old behavior.\n",
                        "  nn.utils.clip_grad_norm_(\n",
                        "The following columns in the evaluation set  don't have a corresponding argument in `Wav2Vec2ForCTC.forward` and have been ignored: input_length.\n",
                        "***** Running Evaluation *****\n",
                        "  Num examples = 4608\n",
                        "  Batch size = 8\n",
                        "Saving model checkpoint to 6_/checkpoint-1600\n",
                        "Configuration saved in 6_/checkpoint-1600/config.json\n",
                        "Model weights saved in 6_/checkpoint-1600/pytorch_model.bin\n",
                        "Configuration saved in 6_/checkpoint-1600/preprocessor_config.json\n",
                        "Deleting older checkpoint [6_/checkpoint-1200] due to args.save_total_limit\n",
                        "/home/peterr/anaconda3/lib/python3.8/site-packages/transformers/trainer.py:1355: FutureWarning: Non-finite norm encountered in torch.nn.utils.clip_grad_norm_; continuing anyway. Note that the default behavior will change in a future release to error out if a non-finite total norm is encountered. At that point, setting error_if_nonfinite=false will be required to retain the old behavior.\n",
                        "  nn.utils.clip_grad_norm_(\n",
                        "The following columns in the evaluation set  don't have a corresponding argument in `Wav2Vec2ForCTC.forward` and have been ignored: input_length.\n",
                        "***** Running Evaluation *****\n",
                        "  Num examples = 4608\n",
                        "  Batch size = 8\n",
                        "Saving model checkpoint to 6_/checkpoint-2000\n",
                        "Configuration saved in 6_/checkpoint-2000/config.json\n",
                        "Model weights saved in 6_/checkpoint-2000/pytorch_model.bin\n",
                        "Configuration saved in 6_/checkpoint-2000/preprocessor_config.json\n",
                        "Deleting older checkpoint [6_/checkpoint-1600] due to args.save_total_limit\n",
                        "/home/peterr/anaconda3/lib/python3.8/site-packages/transformers/trainer.py:1355: FutureWarning: Non-finite norm encountered in torch.nn.utils.clip_grad_norm_; continuing anyway. Note that the default behavior will change in a future release to error out if a non-finite total norm is encountered. At that point, setting error_if_nonfinite=false will be required to retain the old behavior.\n",
                        "  nn.utils.clip_grad_norm_(\n",
                        "The following columns in the evaluation set  don't have a corresponding argument in `Wav2Vec2ForCTC.forward` and have been ignored: input_length.\n",
                        "***** Running Evaluation *****\n",
                        "  Num examples = 4608\n",
                        "  Batch size = 8\n",
                        "Saving model checkpoint to 6_/checkpoint-2400\n",
                        "Configuration saved in 6_/checkpoint-2400/config.json\n",
                        "Model weights saved in 6_/checkpoint-2400/pytorch_model.bin\n",
                        "Configuration saved in 6_/checkpoint-2400/preprocessor_config.json\n",
                        "Deleting older checkpoint [6_/checkpoint-2000] due to args.save_total_limit\n"
                    ]
                }
            ],
            "source": [
                "repo_name = \"6_\"\n",
                "wer_metric = load_metric(\"wer\")\n",
                "def compute_metrics(pred):\n",
                "    pred_logits = pred.predictions\n",
                "    pred_ids = np.argmax(pred_logits, axis=-1)\n",
                "\n",
                "    pred.label_ids[pred.label_ids == -100] = processor.tokenizer.pad_token_id\n",
                "\n",
                "    pred_str = processor.batch_decode(pred_ids)\n",
                "    # we do not want to group tokens when computing the metrics\n",
                "    label_str = processor.batch_decode(pred.label_ids, group_tokens=False)\n",
                "\n",
                "    wer = wer_metric.compute(predictions=pred_str, references=label_str)\n",
                "\n",
                "    return {\"wer\": wer}\n",
                "\n",
                "max_input_length_in_sec = 20\n",
                "common_voice_train_mapped = common_voice_train_mapped.filter(lambda x: x < max_input_length_in_sec * processor.feature_extractor.sampling_rate, input_columns=[\"input_length\"])\n",
                "\n",
                "model = Wav2Vec2ForCTC.from_pretrained(\n",
                "    \"facebook/wav2vec2-xls-r-300m\",\n",
                "    attention_dropout=0.0,\n",
                "    hidden_dropout=0.0,\n",
                "    feat_proj_dropout=0.0,\n",
                "    mask_time_prob=0.05,\n",
                "    layerdrop=0.0,\n",
                "    ctc_loss_reduction=\"mean\",\n",
                "    pad_token_id=processor.tokenizer.pad_token_id,\n",
                "    vocab_size=len(processor.tokenizer),\n",
                ")\n",
                "\n",
                "model.freeze_feature_extractor()\n",
                "\n",
                "from transformers import TrainingArguments\n",
                "\n",
                "training_args = TrainingArguments(\n",
                "  output_dir=repo_name,\n",
                "  group_by_length=True,\n",
                "  per_device_train_batch_size=16,\n",
                "  gradient_accumulation_steps=4,\n",
                "  evaluation_strategy=\"steps\",\n",
                "  num_train_epochs=30,\n",
                "  gradient_checkpointing=True,\n",
                "  fp16=True,\n",
                "  save_steps=400,\n",
                "  eval_steps=400,\n",
                "  logging_steps=400,\n",
                "  learning_rate=3e-4,\n",
                "  warmup_steps=500,\n",
                "  save_total_limit=1,\n",
                "  push_to_hub=False,\n",
                ")\n",
                "\n",
                "from transformers import Trainer\n",
                "\n",
                "trainer = Trainer(\n",
                "    model=model,\n",
                "    data_collator=data_collator,\n",
                "    args=training_args,\n",
                "    compute_metrics=compute_metrics,\n",
                "    train_dataset=common_voice_train_mapped,\n",
                "    eval_dataset=common_voice_test_mapped,\n",
                "    tokenizer=processor.feature_extractor,\n",
                ")\n",
                "\n",
                "trainer.train()"
            ]
        },
        {
            "cell_type": "code",
            "execution_count": null,
            "metadata": {},
            "outputs": [],
            "source": [
                "!nvidia-smi"
            ]
        },
        {
            "cell_type": "code",
            "execution_count": null,
            "metadata": {},
            "outputs": [],
            "source": []
        }
    ],
    "metadata": {
        "interpreter": {
            "hash": "7f6f5766036ee03d059e365a942add07f79c17033585e9357ee8157d52fe6bb9"
        },
        "kernelspec": {
            "display_name": "Python 3.8.3 64-bit ('base': conda)",
            "language": "python",
            "name": "python3"
        },
        "language_info": {
            "codemirror_mode": {
                "name": "ipython",
                "version": 3
            },
            "file_extension": ".py",
            "mimetype": "text/x-python",
            "name": "python",
            "nbconvert_exporter": "python",
            "pygments_lexer": "ipython3",
            "version": "3.8.3"
        },
        "orig_nbformat": 4
    },
    "nbformat": 4,
    "nbformat_minor": 2
}
