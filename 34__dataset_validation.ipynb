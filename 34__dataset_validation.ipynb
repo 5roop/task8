{
 "cells": [
  {
   "cell_type": "code",
   "execution_count": 1,
   "metadata": {},
   "outputs": [],
   "source": [
    "import pandas as pd\n",
    "\n",
    "df = pd.read_json(\"ParlaSpeech-HR.v1.0.jsonl\", orient=\"records\", lines=True)\n",
    "df[\"sentence\"] = df.norm_words.apply(\" \".join)\n",
    "df = df.rename(columns={\"path\":\"hashname\"})\n"
   ]
  },
  {
   "cell_type": "code",
   "execution_count": null,
   "metadata": {},
   "outputs": [],
   "source": []
  },
  {
   "cell_type": "code",
   "execution_count": 8,
   "metadata": {},
   "outputs": [],
   "source": [
    "from pydub import AudioSegment\n",
    "import os\n",
    "def test(hashname):\n",
    "    fullpath = f\"/home/rupnik/macocu/task8/data_16000_mono/seg.{hashname}\"\n",
    "    try:\n",
    "        audio = AudioSegment.from_wav(fullpath)\n",
    "        assert len(audio) != 0\n",
    "    except:\n",
    "        return fullpath\n",
    "\n",
    "\n",
    "from concurrent.futures import ProcessPoolExecutor, as_completed\n",
    "with ProcessPoolExecutor(max_workers=60) as executor:\n",
    "    futures = [executor.submit(test, hashname) for hashname in df.hashname]\n",
    "    for future in as_completed(futures):\n",
    "        if future.result():\n",
    "            print(\"Found faulty:\", future.result())\n"
   ]
  },
  {
   "cell_type": "code",
   "execution_count": null,
   "metadata": {},
   "outputs": [],
   "source": []
  },
  {
   "cell_type": "code",
   "execution_count": null,
   "metadata": {},
   "outputs": [],
   "source": []
  }
 ],
 "metadata": {
  "interpreter": {
   "hash": "2d30c88cb7145d662123f76f8c64609bc18e52940d2861adec2407b68f2e334f"
  },
  "kernelspec": {
   "display_name": "Python 3.9.7 ('base')",
   "language": "python",
   "name": "python3"
  },
  "language_info": {
   "codemirror_mode": {
    "name": "ipython",
    "version": 3
   },
   "file_extension": ".py",
   "mimetype": "text/x-python",
   "name": "python",
   "nbconvert_exporter": "python",
   "pygments_lexer": "ipython3",
   "version": "3.9.7"
  },
  "orig_nbformat": 4
 },
 "nbformat": 4,
 "nbformat_minor": 2
}
