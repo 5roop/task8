{
 "cells": [
  {
   "cell_type": "code",
   "execution_count": 3,
   "metadata": {},
   "outputs": [],
   "source": [
    "def process(text:str):\n",
    "    from parse import compile\n",
    "    from string import punctuation\n",
    "    p = compile(\"{hit:d}.\")\n",
    "    in_list = text.split()\n",
    "    out_list = list()\n",
    "    for seg in in_list:\n",
    "        parse_result = p.parse(seg)\n",
    "        if parse_result:\n",
    "            # We got a number with a dot afterward:\n",
    "            out_list.append(seg.lower())\n",
    "        else:\n",
    "            out_list.append(seg.translate(str.maketrans('', '', punctuation)).lower())\n",
    "    return \" \".join(out_list)\n",
    "import os\n",
    "def correct_path(s):\n",
    "    basename = os.path.basename(s)\n",
    "    current_dir = \"/home/peterr/macocu/task8/voxpopuli\"\n",
    "    return os.path.join(current_dir, basename)\n",
    "import pandas as pd\n",
    "test = pd.read_csv(\"vox_populi_test.csv\")\n",
    "dev = pd.read_csv(\"vox_populi_dev.csv\")\n",
    "\n",
    "for df in [dev, test]:\n",
    "    df[\"path\"] = df.wavpath.apply(correct_path)\n",
    "    df[\"raw_text\"] = df.raw_text.apply(process)"
   ]
  },
  {
   "cell_type": "code",
   "execution_count": 4,
   "metadata": {},
   "outputs": [
    {
     "data": {
      "text/html": [
       "<div>\n",
       "<style scoped>\n",
       "    .dataframe tbody tr th:only-of-type {\n",
       "        vertical-align: middle;\n",
       "    }\n",
       "\n",
       "    .dataframe tbody tr th {\n",
       "        vertical-align: top;\n",
       "    }\n",
       "\n",
       "    .dataframe thead th {\n",
       "        text-align: right;\n",
       "    }\n",
       "</style>\n",
       "<table border=\"1\" class=\"dataframe\">\n",
       "  <thead>\n",
       "    <tr style=\"text-align: right;\">\n",
       "      <th></th>\n",
       "      <th>id</th>\n",
       "      <th>raw_text</th>\n",
       "      <th>normalized_text</th>\n",
       "      <th>speaker_id</th>\n",
       "      <th>split</th>\n",
       "      <th>gender</th>\n",
       "      <th>is_gold_transcript</th>\n",
       "      <th>accent</th>\n",
       "      <th>filename</th>\n",
       "      <th>raw_has_diacritics</th>\n",
       "      <th>path</th>\n",
       "      <th>duration</th>\n",
       "      <th>wavpath</th>\n",
       "    </tr>\n",
       "  </thead>\n",
       "  <tbody>\n",
       "    <tr>\n",
       "      <th>0</th>\n",
       "      <td>20180612-0900-PLENARY-13-hr_20180612-16:32:33_0</td>\n",
       "      <td>gospodine predsjedavajući gospođo povjerenice ...</td>\n",
       "      <td>gospodine predsjedavajući gospođo povjerenice ...</td>\n",
       "      <td>124749</td>\n",
       "      <td>test</td>\n",
       "      <td>female</td>\n",
       "      <td>False</td>\n",
       "      <td>None</td>\n",
       "      <td>20180612-0900-PLENARY-13-hr_20180612-16:32:33_...</td>\n",
       "      <td>True</td>\n",
       "      <td>/home/peterr/macocu/task8/voxpopuli/20180612-0...</td>\n",
       "      <td>25.432</td>\n",
       "      <td>/home/rupnik/macocu/task8/voxpopuli/hr/2018/20...</td>\n",
       "    </tr>\n",
       "    <tr>\n",
       "      <th>1</th>\n",
       "      <td>20180612-0900-PLENARY-13-hr_20180612-16:32:33_1</td>\n",
       "      <td>u iranu postoje unutarnji prioriteti na kojima...</td>\n",
       "      <td>u iranu postoje unutarnji prioriteti na kojima...</td>\n",
       "      <td>124749</td>\n",
       "      <td>test</td>\n",
       "      <td>female</td>\n",
       "      <td>False</td>\n",
       "      <td>None</td>\n",
       "      <td>20180612-0900-PLENARY-13-hr_20180612-16:32:33_...</td>\n",
       "      <td>True</td>\n",
       "      <td>/home/peterr/macocu/task8/voxpopuli/20180612-0...</td>\n",
       "      <td>9.784</td>\n",
       "      <td>/home/rupnik/macocu/task8/voxpopuli/hr/2018/20...</td>\n",
       "    </tr>\n",
       "  </tbody>\n",
       "</table>\n",
       "</div>"
      ],
      "text/plain": [
       "                                                id  \\\n",
       "0  20180612-0900-PLENARY-13-hr_20180612-16:32:33_0   \n",
       "1  20180612-0900-PLENARY-13-hr_20180612-16:32:33_1   \n",
       "\n",
       "                                            raw_text  \\\n",
       "0  gospodine predsjedavajući gospođo povjerenice ...   \n",
       "1  u iranu postoje unutarnji prioriteti na kojima...   \n",
       "\n",
       "                                     normalized_text speaker_id split  gender  \\\n",
       "0  gospodine predsjedavajući gospođo povjerenice ...     124749  test  female   \n",
       "1  u iranu postoje unutarnji prioriteti na kojima...     124749  test  female   \n",
       "\n",
       "   is_gold_transcript accent  \\\n",
       "0               False   None   \n",
       "1               False   None   \n",
       "\n",
       "                                            filename  raw_has_diacritics  \\\n",
       "0  20180612-0900-PLENARY-13-hr_20180612-16:32:33_...                True   \n",
       "1  20180612-0900-PLENARY-13-hr_20180612-16:32:33_...                True   \n",
       "\n",
       "                                                path  duration  \\\n",
       "0  /home/peterr/macocu/task8/voxpopuli/20180612-0...    25.432   \n",
       "1  /home/peterr/macocu/task8/voxpopuli/20180612-0...     9.784   \n",
       "\n",
       "                                             wavpath  \n",
       "0  /home/rupnik/macocu/task8/voxpopuli/hr/2018/20...  \n",
       "1  /home/rupnik/macocu/task8/voxpopuli/hr/2018/20...  "
      ]
     },
     "execution_count": 4,
     "metadata": {},
     "output_type": "execute_result"
    }
   ],
   "source": [
    "test.head(2)"
   ]
  },
  {
   "cell_type": "code",
   "execution_count": 6,
   "metadata": {},
   "outputs": [
    {
     "name": "stderr",
     "output_type": "stream",
     "text": [
      "Special tokens have been added in the vocabulary, make sure the associated word embeddings are fine-tuned or trained.\n"
     ]
    }
   ],
   "source": [
    "from datasets import load_metric\n",
    "wer_metric = load_metric(\"wer\")\n",
    "cer_metric = load_metric(\"cer\")\n",
    "\n",
    "import pandas as pd\n",
    "import os\n",
    "import torch\n",
    "from transformers import Wav2Vec2Processor, Wav2Vec2ForCTC\n",
    "from transformers import Wav2Vec2FeatureExtractor\n",
    "from transformers import Wav2Vec2Processor, Wav2Vec2CTCTokenizer\n",
    "import soundfile as sf\n",
    "import os\n",
    "# Use old or new vocab? \n",
    "os.system(\"cp vocab_300.json vocab.json\")\n",
    "\n",
    "\n",
    "\n",
    "tokenizer = Wav2Vec2CTCTokenizer.from_pretrained(\n",
    "        \"/home/peterr/macocu/task8/\", unk_token=\"[UNK]\", \n",
    "        pad_token=\"[PAD]\", word_delimiter_token=\" \")\n",
    "feature_extractor = Wav2Vec2FeatureExtractor(\n",
    "    feature_size=1, sampling_rate=16000, padding_value=0.0, do_normalize=True, return_attention_mask=True)\n",
    "\n",
    "processor = Wav2Vec2Processor(\n",
    "    feature_extractor=feature_extractor, tokenizer=tokenizer)\n",
    "model = Wav2Vec2ForCTC.from_pretrained(\"/home/peterr/macocu/task8/25_normalised_200h/checkpoint-2720\").cuda()\n",
    "\n",
    "def transcribe(path):\n",
    "    speech, sample_rate = sf.read(path)\n",
    "    input_values = processor(speech, sampling_rate=sample_rate, return_tensors=\"pt\").input_values.cuda()\n",
    "\n",
    "    logits = model(input_values).logits\n",
    "\n",
    "    predicted_ids = torch.argmax(logits, dim=-1)\n",
    "    transcription = processor.decode(predicted_ids[0]).lower()\n",
    "    return transcription\n",
    "\n",
    "for df in [test, dev]:\n",
    "    df[\"predicted\"] = df.path.apply(transcribe)"
   ]
  },
  {
   "cell_type": "code",
   "execution_count": 7,
   "metadata": {},
   "outputs": [
    {
     "name": "stdout",
     "output_type": "stream",
     "text": [
      "split: dev, cer=0.0670, wer=0.1445\n",
      "split: test, cer=0.0743, wer=0.1470\n"
     ]
    }
   ],
   "source": [
    "for name, df in zip([\"dev\", \"test\"], [dev, test]):\n",
    "    cer = cer_metric.compute(\n",
    "        references = df.raw_text,\n",
    "        predictions = df.predicted\n",
    "    )\n",
    "    wer = wer_metric.compute(\n",
    "        references = df.raw_text,\n",
    "        predictions = df.predicted\n",
    "    )\n",
    "\n",
    "    print(f\"split: {name}, {cer=:0.4f}, {wer=:0.4f}\")"
   ]
  },
  {
   "cell_type": "code",
   "execution_count": 8,
   "metadata": {},
   "outputs": [],
   "source": [
    "dev.to_csv(\"28_eval_results_dev.csv\", index=False)\n",
    "test.to_csv(\"28_eval_results_test.csv\", index=False)"
   ]
  },
  {
   "cell_type": "code",
   "execution_count": 11,
   "metadata": {},
   "outputs": [
    {
     "data": {
      "text/plain": [
       "'proglašava druga i oseba broa fita za predsjednika republike bez ograničenja trajanja mandata'"
      ]
     },
     "execution_count": 11,
     "metadata": {},
     "output_type": "execute_result"
    }
   ],
   "source": [
    "transcribe(\"sample_mono.wav\")"
   ]
  },
  {
   "cell_type": "code",
   "execution_count": null,
   "metadata": {},
   "outputs": [],
   "source": []
  }
 ],
 "metadata": {
  "interpreter": {
   "hash": "7f6f5766036ee03d059e365a942add07f79c17033585e9357ee8157d52fe6bb9"
  },
  "kernelspec": {
   "display_name": "Python 3.9.7 ('base')",
   "language": "python",
   "name": "python3"
  },
  "language_info": {
   "codemirror_mode": {
    "name": "ipython",
    "version": 3
   },
   "file_extension": ".py",
   "mimetype": "text/x-python",
   "name": "python",
   "nbconvert_exporter": "python",
   "pygments_lexer": "ipython3",
   "version": "3.9.7"
  },
  "orig_nbformat": 4
 },
 "nbformat": 4,
 "nbformat_minor": 2
}
