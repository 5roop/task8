{
 "cells": [
  {
   "cell_type": "code",
   "execution_count": 14,
   "metadata": {},
   "outputs": [
    {
     "name": "stdout",
     "output_type": "stream",
     "text": [
      "Collecting Levenshtein\n",
      "  Downloading Levenshtein-0.18.1-cp39-cp39-manylinux_2_17_x86_64.manylinux2014_x86_64.whl (257 kB)\n",
      "\u001b[K     |████████████████████████████████| 257 kB 3.8 MB/s eta 0:00:01\n",
      "\u001b[?25hCollecting rapidfuzz<3.0.0,>=2.0.1\n",
      "  Downloading rapidfuzz-2.0.7-cp39-cp39-manylinux_2_17_x86_64.manylinux2014_x86_64.whl (1.6 MB)\n",
      "\u001b[K     |████████████████████████████████| 1.6 MB 16.9 MB/s eta 0:00:01\n",
      "\u001b[?25hCollecting jarowinkler<1.1.0,>=1.0.2\n",
      "  Downloading jarowinkler-1.0.2-cp39-cp39-manylinux_2_17_x86_64.manylinux2014_x86_64.whl (103 kB)\n",
      "\u001b[K     |████████████████████████████████| 103 kB 16.9 MB/s eta 0:00:01\n",
      "\u001b[?25hInstalling collected packages: jarowinkler, rapidfuzz, Levenshtein\n",
      "Successfully installed Levenshtein-0.18.1 jarowinkler-1.0.2 rapidfuzz-2.0.7\n",
      "Note: you may need to restart the kernel to use updated packages.\n"
     ]
    }
   ],
   "source": [
    "%pip install Levenshtein"
   ]
  },
  {
   "cell_type": "code",
   "execution_count": 9,
   "metadata": {},
   "outputs": [],
   "source": [
    "links_to_wavs = \"/home/nikola/projects/parlaspeech/wav/\"\n",
    "mappingsfile = \"/home/korzinek/kaldi/exp/ali_all/wav.scp\"\n",
    "segmentsfile = \"/home/korzinek/kaldi/exp/ali_all/asr.json\"\n",
    "\n",
    "from Levenshtein import distance\n",
    "import json\n",
    "contents = []\n",
    "with open(segmentsfile, \"r\") as file:\n",
    "    for line in file.readlines():\n",
    "        contents.append(json.loads(line))\n",
    "import pandas as pd\n",
    "segments = pd.DataFrame(contents)"
   ]
  },
  {
   "cell_type": "code",
   "execution_count": 11,
   "metadata": {},
   "outputs": [],
   "source": [
    "reconame, longname = [],[]\n",
    "with open(mappingsfile) as f:\n",
    "    for line in f.readlines():\n",
    "        reconame.append(line[0:7])\n",
    "        longname.append(line[8:-1])\n",
    "\n",
    "mappings = pd.DataFrame(data={\"reconame\": reconame, \"longname\": longname})"
   ]
  },
  {
   "cell_type": "code",
   "execution_count": 19,
   "metadata": {},
   "outputs": [],
   "source": [
    "import os\n",
    "lookup_dict = {str(f.split()):f for f in os.listdir(links_to_wavs)}\n",
    "\n",
    "def get_correct_filename(s):\n",
    "    return lookup_dict.get(str(s.split()), None)"
   ]
  },
  {
   "cell_type": "code",
   "execution_count": 20,
   "metadata": {},
   "outputs": [],
   "source": [
    "segments[\"true_file\"] = segments.file.apply(get_correct_filename)"
   ]
  },
  {
   "cell_type": "code",
   "execution_count": 21,
   "metadata": {},
   "outputs": [
    {
     "data": {
      "text/plain": [
       "False"
      ]
     },
     "execution_count": 21,
     "metadata": {},
     "output_type": "execute_result"
    }
   ],
   "source": [
    "None in segments.true_file"
   ]
  },
  {
   "cell_type": "code",
   "execution_count": 22,
   "metadata": {},
   "outputs": [
    {
     "data": {
      "text/html": [
       "<div>\n",
       "<style scoped>\n",
       "    .dataframe tbody tr th:only-of-type {\n",
       "        vertical-align: middle;\n",
       "    }\n",
       "\n",
       "    .dataframe tbody tr th {\n",
       "        vertical-align: top;\n",
       "    }\n",
       "\n",
       "    .dataframe thead th {\n",
       "        text-align: right;\n",
       "    }\n",
       "</style>\n",
       "<table border=\"1\" class=\"dataframe\">\n",
       "  <thead>\n",
       "    <tr style=\"text-align: right;\">\n",
       "      <th></th>\n",
       "      <th>file</th>\n",
       "      <th>start</th>\n",
       "      <th>end</th>\n",
       "      <th>words</th>\n",
       "      <th>word_start_times</th>\n",
       "      <th>word_end_times</th>\n",
       "      <th>asr</th>\n",
       "      <th>true_file</th>\n",
       "    </tr>\n",
       "  </thead>\n",
       "  <tbody>\n",
       "    <tr>\n",
       "      <th>0</th>\n",
       "      <td>01 12 2016 - 1. dio, 2. sjednica, 9. saziv [sP...</td>\n",
       "      <td>1853.82</td>\n",
       "      <td>1873.66</td>\n",
       "      <td>[konačni, prijedlog, zakona, o, izmjenama, i, ...</td>\n",
       "      <td>[0, 0.47, 0.8, 1.21, 1.26, 1.79, 1.82, 2.34, 2...</td>\n",
       "      <td>[0.47, 0.8, 1.21, 1.26, 1.79, 1.82, 2.34, 2.78...</td>\n",
       "      <td>[konačni, prijedlog, zakona, o, izmjenama, i, ...</td>\n",
       "      <td>01 12 2016 - 1. dio, 2. sjednica, 9. saziv [sP...</td>\n",
       "    </tr>\n",
       "    <tr>\n",
       "      <th>1</th>\n",
       "      <td>01 12 2016 - 1. dio, 2. sjednica, 9. saziv [sP...</td>\n",
       "      <td>1874.08</td>\n",
       "      <td>1893.99</td>\n",
       "      <td>[u, svezi, sa, člankom, sto, devedeset, poslov...</td>\n",
       "      <td>[0, 0.11, 0.48, 0.66, 1.12, 1.36, 1.94, 2.53, ...</td>\n",
       "      <td>[0.11, 0.48, 0.66, 1.12, 1.36, 1.94, 2.53, 3.0...</td>\n",
       "      <td>[u, svezi, sa, člankom, sto, devedeset, poslov...</td>\n",
       "      <td>01 12 2016 - 1. dio, 2. sjednica, 9. saziv [sP...</td>\n",
       "    </tr>\n",
       "    <tr>\n",
       "      <th>2</th>\n",
       "      <td>01 12 2016 - 1. dio, 2. sjednica, 9. saziv [sP...</td>\n",
       "      <td>1893.99</td>\n",
       "      <td>1909.04</td>\n",
       "      <td>[za, zakonodavstvo, i, odbor, za, financije, i...</td>\n",
       "      <td>[0, 0.17, 1.12, 1.24, 1.49, 1.65, 2.12, 2.15, ...</td>\n",
       "      <td>[0.17, 1.12, 1.24, 1.49, 1.65, 2.12, 2.15, 2.5...</td>\n",
       "      <td>[za, zakonodavstvo, i, odbor, za, financije, d...</td>\n",
       "      <td>01 12 2016 - 1. dio, 2. sjednica, 9. saziv [sP...</td>\n",
       "    </tr>\n",
       "  </tbody>\n",
       "</table>\n",
       "</div>"
      ],
      "text/plain": [
       "                                                file    start      end  \\\n",
       "0  01 12 2016 - 1. dio, 2. sjednica, 9. saziv [sP...  1853.82  1873.66   \n",
       "1  01 12 2016 - 1. dio, 2. sjednica, 9. saziv [sP...  1874.08  1893.99   \n",
       "2  01 12 2016 - 1. dio, 2. sjednica, 9. saziv [sP...  1893.99  1909.04   \n",
       "\n",
       "                                               words  \\\n",
       "0  [konačni, prijedlog, zakona, o, izmjenama, i, ...   \n",
       "1  [u, svezi, sa, člankom, sto, devedeset, poslov...   \n",
       "2  [za, zakonodavstvo, i, odbor, za, financije, i...   \n",
       "\n",
       "                                    word_start_times  \\\n",
       "0  [0, 0.47, 0.8, 1.21, 1.26, 1.79, 1.82, 2.34, 2...   \n",
       "1  [0, 0.11, 0.48, 0.66, 1.12, 1.36, 1.94, 2.53, ...   \n",
       "2  [0, 0.17, 1.12, 1.24, 1.49, 1.65, 2.12, 2.15, ...   \n",
       "\n",
       "                                      word_end_times  \\\n",
       "0  [0.47, 0.8, 1.21, 1.26, 1.79, 1.82, 2.34, 2.78...   \n",
       "1  [0.11, 0.48, 0.66, 1.12, 1.36, 1.94, 2.53, 3.0...   \n",
       "2  [0.17, 1.12, 1.24, 1.49, 1.65, 2.12, 2.15, 2.5...   \n",
       "\n",
       "                                                 asr  \\\n",
       "0  [konačni, prijedlog, zakona, o, izmjenama, i, ...   \n",
       "1  [u, svezi, sa, člankom, sto, devedeset, poslov...   \n",
       "2  [za, zakonodavstvo, i, odbor, za, financije, d...   \n",
       "\n",
       "                                           true_file  \n",
       "0  01 12 2016 - 1. dio, 2. sjednica, 9. saziv [sP...  \n",
       "1  01 12 2016 - 1. dio, 2. sjednica, 9. saziv [sP...  \n",
       "2  01 12 2016 - 1. dio, 2. sjednica, 9. saziv [sP...  "
      ]
     },
     "execution_count": 22,
     "metadata": {},
     "output_type": "execute_result"
    }
   ],
   "source": [
    "segments.head(3)"
   ]
  },
  {
   "cell_type": "code",
   "execution_count": 31,
   "metadata": {},
   "outputs": [
    {
     "name": "stdout",
     "output_type": "stream",
     "text": [
      "segments.shape before: (447542, 8)\n",
      "segments.shape after: (447542, 10)\n"
     ]
    }
   ],
   "source": [
    "print(\"segments.shape before:\", segments.shape)\n",
    "segments = segments.merge(mappings, left_on=\"true_file\", right_on=\"longname\", how=\"left\")\n",
    "print(\"segments.shape after:\", segments.shape)"
   ]
  },
  {
   "cell_type": "code",
   "execution_count": 47,
   "metadata": {},
   "outputs": [],
   "source": [
    "import parse\n",
    "p = parse.compile(\"{start}[{hash}].wav\")\n",
    "def get_hash(s):\n",
    "    return p.parse(s)[\"hash\"]\n"
   ]
  },
  {
   "cell_type": "code",
   "execution_count": 48,
   "metadata": {},
   "outputs": [],
   "source": [
    "segments[\"yt_hash\"] = segments.true_file.apply(get_hash)"
   ]
  },
  {
   "cell_type": "code",
   "execution_count": 59,
   "metadata": {},
   "outputs": [],
   "source": [
    "segments[\"hashname\"] = segments.apply(lambda row: f\"_{row.yt_hash}_{row.start}-{row.end}.wav\", axis=1)\n"
   ]
  },
  {
   "cell_type": "code",
   "execution_count": 60,
   "metadata": {},
   "outputs": [
    {
     "data": {
      "text/html": [
       "<div>\n",
       "<style scoped>\n",
       "    .dataframe tbody tr th:only-of-type {\n",
       "        vertical-align: middle;\n",
       "    }\n",
       "\n",
       "    .dataframe tbody tr th {\n",
       "        vertical-align: top;\n",
       "    }\n",
       "\n",
       "    .dataframe thead th {\n",
       "        text-align: right;\n",
       "    }\n",
       "</style>\n",
       "<table border=\"1\" class=\"dataframe\">\n",
       "  <thead>\n",
       "    <tr style=\"text-align: right;\">\n",
       "      <th></th>\n",
       "      <th>file</th>\n",
       "      <th>start</th>\n",
       "      <th>end</th>\n",
       "      <th>words</th>\n",
       "      <th>word_start_times</th>\n",
       "      <th>word_end_times</th>\n",
       "      <th>asr</th>\n",
       "      <th>true_file</th>\n",
       "      <th>reconame</th>\n",
       "      <th>longname</th>\n",
       "      <th>yt_hash</th>\n",
       "      <th>hashname</th>\n",
       "    </tr>\n",
       "  </thead>\n",
       "  <tbody>\n",
       "    <tr>\n",
       "      <th>0</th>\n",
       "      <td>01 12 2016 - 1. dio, 2. sjednica, 9. saziv [sP...</td>\n",
       "      <td>1853.82</td>\n",
       "      <td>1873.66</td>\n",
       "      <td>[konačni, prijedlog, zakona, o, izmjenama, i, ...</td>\n",
       "      <td>[0, 0.47, 0.8, 1.21, 1.26, 1.79, 1.82, 2.34, 2...</td>\n",
       "      <td>[0.47, 0.8, 1.21, 1.26, 1.79, 1.82, 2.34, 2.78...</td>\n",
       "      <td>[konačni, prijedlog, zakona, o, izmjenama, i, ...</td>\n",
       "      <td>01 12 2016 - 1. dio, 2. sjednica, 9. saziv [sP...</td>\n",
       "      <td>reco723</td>\n",
       "      <td>01 12 2016 - 1. dio, 2. sjednica, 9. saziv [sP...</td>\n",
       "      <td>sPNuDebATRM</td>\n",
       "      <td>sPNuDebATRM_1853.82-1873.66.wav</td>\n",
       "    </tr>\n",
       "  </tbody>\n",
       "</table>\n",
       "</div>"
      ],
      "text/plain": [
       "                                                file    start      end  \\\n",
       "0  01 12 2016 - 1. dio, 2. sjednica, 9. saziv [sP...  1853.82  1873.66   \n",
       "\n",
       "                                               words  \\\n",
       "0  [konačni, prijedlog, zakona, o, izmjenama, i, ...   \n",
       "\n",
       "                                    word_start_times  \\\n",
       "0  [0, 0.47, 0.8, 1.21, 1.26, 1.79, 1.82, 2.34, 2...   \n",
       "\n",
       "                                      word_end_times  \\\n",
       "0  [0.47, 0.8, 1.21, 1.26, 1.79, 1.82, 2.34, 2.78...   \n",
       "\n",
       "                                                 asr  \\\n",
       "0  [konačni, prijedlog, zakona, o, izmjenama, i, ...   \n",
       "\n",
       "                                           true_file reconame  \\\n",
       "0  01 12 2016 - 1. dio, 2. sjednica, 9. saziv [sP...  reco723   \n",
       "\n",
       "                                            longname      yt_hash  \\\n",
       "0  01 12 2016 - 1. dio, 2. sjednica, 9. saziv [sP...  sPNuDebATRM   \n",
       "\n",
       "                          hashname  \n",
       "0  sPNuDebATRM_1853.82-1873.66.wav  "
      ]
     },
     "execution_count": 60,
     "metadata": {},
     "output_type": "execute_result"
    }
   ],
   "source": [
    "segments.head(1)"
   ]
  },
  {
   "cell_type": "code",
   "execution_count": 69,
   "metadata": {},
   "outputs": [],
   "source": [
    "sample = pd.read_csv(\"transcripts.csv\").iloc[0:, 1:]\n",
    "sample[\"key\"] = sample.apply(lambda row: row.file+str(row.start)+str(row.end), axis = 1)\n",
    "segments[\"key\"] = segments.apply(lambda row: row.file+str(row.start)+str(row.end), axis = 1)\n",
    "segments[\"was_in_samples\"] = segments.key.isin(sample.key)\n"
   ]
  },
  {
   "cell_type": "code",
   "execution_count": 70,
   "metadata": {},
   "outputs": [
    {
     "data": {
      "text/html": [
       "<div>\n",
       "<style scoped>\n",
       "    .dataframe tbody tr th:only-of-type {\n",
       "        vertical-align: middle;\n",
       "    }\n",
       "\n",
       "    .dataframe tbody tr th {\n",
       "        vertical-align: top;\n",
       "    }\n",
       "\n",
       "    .dataframe thead th {\n",
       "        text-align: right;\n",
       "    }\n",
       "</style>\n",
       "<table border=\"1\" class=\"dataframe\">\n",
       "  <thead>\n",
       "    <tr style=\"text-align: right;\">\n",
       "      <th></th>\n",
       "      <th>file</th>\n",
       "      <th>start</th>\n",
       "      <th>end</th>\n",
       "      <th>words</th>\n",
       "      <th>word_start_times</th>\n",
       "      <th>word_end_times</th>\n",
       "      <th>asr</th>\n",
       "      <th>true_file</th>\n",
       "      <th>reconame</th>\n",
       "      <th>longname</th>\n",
       "      <th>yt_hash</th>\n",
       "      <th>hashname</th>\n",
       "      <th>key</th>\n",
       "      <th>was_in_samples</th>\n",
       "    </tr>\n",
       "  </thead>\n",
       "  <tbody>\n",
       "    <tr>\n",
       "      <th>0</th>\n",
       "      <td>01 12 2016 - 1. dio, 2. sjednica, 9. saziv [sP...</td>\n",
       "      <td>1853.82</td>\n",
       "      <td>1873.66</td>\n",
       "      <td>[konačni, prijedlog, zakona, o, izmjenama, i, ...</td>\n",
       "      <td>[0, 0.47, 0.8, 1.21, 1.26, 1.79, 1.82, 2.34, 2...</td>\n",
       "      <td>[0.47, 0.8, 1.21, 1.26, 1.79, 1.82, 2.34, 2.78...</td>\n",
       "      <td>[konačni, prijedlog, zakona, o, izmjenama, i, ...</td>\n",
       "      <td>01 12 2016 - 1. dio, 2. sjednica, 9. saziv [sP...</td>\n",
       "      <td>reco723</td>\n",
       "      <td>01 12 2016 - 1. dio, 2. sjednica, 9. saziv [sP...</td>\n",
       "      <td>sPNuDebATRM</td>\n",
       "      <td>sPNuDebATRM_1853.82-1873.66.wav</td>\n",
       "      <td>01 12 2016 - 1. dio, 2. sjednica, 9. saziv [sP...</td>\n",
       "      <td>False</td>\n",
       "    </tr>\n",
       "    <tr>\n",
       "      <th>1</th>\n",
       "      <td>01 12 2016 - 1. dio, 2. sjednica, 9. saziv [sP...</td>\n",
       "      <td>1874.08</td>\n",
       "      <td>1893.99</td>\n",
       "      <td>[u, svezi, sa, člankom, sto, devedeset, poslov...</td>\n",
       "      <td>[0, 0.11, 0.48, 0.66, 1.12, 1.36, 1.94, 2.53, ...</td>\n",
       "      <td>[0.11, 0.48, 0.66, 1.12, 1.36, 1.94, 2.53, 3.0...</td>\n",
       "      <td>[u, svezi, sa, člankom, sto, devedeset, poslov...</td>\n",
       "      <td>01 12 2016 - 1. dio, 2. sjednica, 9. saziv [sP...</td>\n",
       "      <td>reco723</td>\n",
       "      <td>01 12 2016 - 1. dio, 2. sjednica, 9. saziv [sP...</td>\n",
       "      <td>sPNuDebATRM</td>\n",
       "      <td>sPNuDebATRM_1874.08-1893.99.wav</td>\n",
       "      <td>01 12 2016 - 1. dio, 2. sjednica, 9. saziv [sP...</td>\n",
       "      <td>False</td>\n",
       "    </tr>\n",
       "  </tbody>\n",
       "</table>\n",
       "</div>"
      ],
      "text/plain": [
       "                                                file    start      end  \\\n",
       "0  01 12 2016 - 1. dio, 2. sjednica, 9. saziv [sP...  1853.82  1873.66   \n",
       "1  01 12 2016 - 1. dio, 2. sjednica, 9. saziv [sP...  1874.08  1893.99   \n",
       "\n",
       "                                               words  \\\n",
       "0  [konačni, prijedlog, zakona, o, izmjenama, i, ...   \n",
       "1  [u, svezi, sa, člankom, sto, devedeset, poslov...   \n",
       "\n",
       "                                    word_start_times  \\\n",
       "0  [0, 0.47, 0.8, 1.21, 1.26, 1.79, 1.82, 2.34, 2...   \n",
       "1  [0, 0.11, 0.48, 0.66, 1.12, 1.36, 1.94, 2.53, ...   \n",
       "\n",
       "                                      word_end_times  \\\n",
       "0  [0.47, 0.8, 1.21, 1.26, 1.79, 1.82, 2.34, 2.78...   \n",
       "1  [0.11, 0.48, 0.66, 1.12, 1.36, 1.94, 2.53, 3.0...   \n",
       "\n",
       "                                                 asr  \\\n",
       "0  [konačni, prijedlog, zakona, o, izmjenama, i, ...   \n",
       "1  [u, svezi, sa, člankom, sto, devedeset, poslov...   \n",
       "\n",
       "                                           true_file reconame  \\\n",
       "0  01 12 2016 - 1. dio, 2. sjednica, 9. saziv [sP...  reco723   \n",
       "1  01 12 2016 - 1. dio, 2. sjednica, 9. saziv [sP...  reco723   \n",
       "\n",
       "                                            longname      yt_hash  \\\n",
       "0  01 12 2016 - 1. dio, 2. sjednica, 9. saziv [sP...  sPNuDebATRM   \n",
       "1  01 12 2016 - 1. dio, 2. sjednica, 9. saziv [sP...  sPNuDebATRM   \n",
       "\n",
       "                          hashname  \\\n",
       "0  sPNuDebATRM_1853.82-1873.66.wav   \n",
       "1  sPNuDebATRM_1874.08-1893.99.wav   \n",
       "\n",
       "                                                 key  was_in_samples  \n",
       "0  01 12 2016 - 1. dio, 2. sjednica, 9. saziv [sP...           False  \n",
       "1  01 12 2016 - 1. dio, 2. sjednica, 9. saziv [sP...           False  "
      ]
     },
     "execution_count": 70,
     "metadata": {},
     "output_type": "execute_result"
    }
   ],
   "source": [
    "segments.head(2)"
   ]
  },
  {
   "cell_type": "code",
   "execution_count": 73,
   "metadata": {},
   "outputs": [],
   "source": [
    "segments[\"human_transcript\"] = segments.words.str.join(\" \")\n",
    "segments[\"asr_transcript\"] = segments.asr.str.join(\" \")"
   ]
  },
  {
   "cell_type": "code",
   "execution_count": 74,
   "metadata": {},
   "outputs": [],
   "source": [
    "from Levenshtein import distance\n",
    "def sim(a, b):\n",
    "    return 1-(distance(a,b)*2/(len(a)+len(b)))\n",
    "\n",
    "segments[\"sim\"] = segments.apply(lambda row: sim(row.human_transcript, row.asr_transcript), axis=1)"
   ]
  },
  {
   "cell_type": "code",
   "execution_count": 75,
   "metadata": {},
   "outputs": [
    {
     "data": {
      "text/html": [
       "<div>\n",
       "<style scoped>\n",
       "    .dataframe tbody tr th:only-of-type {\n",
       "        vertical-align: middle;\n",
       "    }\n",
       "\n",
       "    .dataframe tbody tr th {\n",
       "        vertical-align: top;\n",
       "    }\n",
       "\n",
       "    .dataframe thead th {\n",
       "        text-align: right;\n",
       "    }\n",
       "</style>\n",
       "<table border=\"1\" class=\"dataframe\">\n",
       "  <thead>\n",
       "    <tr style=\"text-align: right;\">\n",
       "      <th></th>\n",
       "      <th>file</th>\n",
       "      <th>start</th>\n",
       "      <th>end</th>\n",
       "      <th>words</th>\n",
       "      <th>word_start_times</th>\n",
       "      <th>word_end_times</th>\n",
       "      <th>asr</th>\n",
       "      <th>true_file</th>\n",
       "      <th>reconame</th>\n",
       "      <th>longname</th>\n",
       "      <th>yt_hash</th>\n",
       "      <th>hashname</th>\n",
       "      <th>key</th>\n",
       "      <th>was_in_samples</th>\n",
       "      <th>human_transcript</th>\n",
       "      <th>asr_transcript</th>\n",
       "      <th>sim</th>\n",
       "    </tr>\n",
       "  </thead>\n",
       "  <tbody>\n",
       "    <tr>\n",
       "      <th>0</th>\n",
       "      <td>01 12 2016 - 1. dio, 2. sjednica, 9. saziv [sP...</td>\n",
       "      <td>1853.82</td>\n",
       "      <td>1873.66</td>\n",
       "      <td>[konačni, prijedlog, zakona, o, izmjenama, i, ...</td>\n",
       "      <td>[0, 0.47, 0.8, 1.21, 1.26, 1.79, 1.82, 2.34, 2...</td>\n",
       "      <td>[0.47, 0.8, 1.21, 1.26, 1.79, 1.82, 2.34, 2.78...</td>\n",
       "      <td>[konačni, prijedlog, zakona, o, izmjenama, i, ...</td>\n",
       "      <td>01 12 2016 - 1. dio, 2. sjednica, 9. saziv [sP...</td>\n",
       "      <td>reco723</td>\n",
       "      <td>01 12 2016 - 1. dio, 2. sjednica, 9. saziv [sP...</td>\n",
       "      <td>sPNuDebATRM</td>\n",
       "      <td>sPNuDebATRM_1853.82-1873.66.wav</td>\n",
       "      <td>01 12 2016 - 1. dio, 2. sjednica, 9. saziv [sP...</td>\n",
       "      <td>False</td>\n",
       "      <td>konačni prijedlog zakona o izmjenama i dopunam...</td>\n",
       "      <td>konačni prijedlog zakona o izmjenama i dopunam...</td>\n",
       "      <td>0.99665</td>\n",
       "    </tr>\n",
       "    <tr>\n",
       "      <th>1</th>\n",
       "      <td>01 12 2016 - 1. dio, 2. sjednica, 9. saziv [sP...</td>\n",
       "      <td>1874.08</td>\n",
       "      <td>1893.99</td>\n",
       "      <td>[u, svezi, sa, člankom, sto, devedeset, poslov...</td>\n",
       "      <td>[0, 0.11, 0.48, 0.66, 1.12, 1.36, 1.94, 2.53, ...</td>\n",
       "      <td>[0.11, 0.48, 0.66, 1.12, 1.36, 1.94, 2.53, 3.0...</td>\n",
       "      <td>[u, svezi, sa, člankom, sto, devedeset, poslov...</td>\n",
       "      <td>01 12 2016 - 1. dio, 2. sjednica, 9. saziv [sP...</td>\n",
       "      <td>reco723</td>\n",
       "      <td>01 12 2016 - 1. dio, 2. sjednica, 9. saziv [sP...</td>\n",
       "      <td>sPNuDebATRM</td>\n",
       "      <td>sPNuDebATRM_1874.08-1893.99.wav</td>\n",
       "      <td>01 12 2016 - 1. dio, 2. sjednica, 9. saziv [sP...</td>\n",
       "      <td>False</td>\n",
       "      <td>u svezi sa člankom sto devedeset poslovnika hr...</td>\n",
       "      <td>u svezi sa člankom sto devedeset poslovnika hr...</td>\n",
       "      <td>1.00000</td>\n",
       "    </tr>\n",
       "  </tbody>\n",
       "</table>\n",
       "</div>"
      ],
      "text/plain": [
       "                                                file    start      end  \\\n",
       "0  01 12 2016 - 1. dio, 2. sjednica, 9. saziv [sP...  1853.82  1873.66   \n",
       "1  01 12 2016 - 1. dio, 2. sjednica, 9. saziv [sP...  1874.08  1893.99   \n",
       "\n",
       "                                               words  \\\n",
       "0  [konačni, prijedlog, zakona, o, izmjenama, i, ...   \n",
       "1  [u, svezi, sa, člankom, sto, devedeset, poslov...   \n",
       "\n",
       "                                    word_start_times  \\\n",
       "0  [0, 0.47, 0.8, 1.21, 1.26, 1.79, 1.82, 2.34, 2...   \n",
       "1  [0, 0.11, 0.48, 0.66, 1.12, 1.36, 1.94, 2.53, ...   \n",
       "\n",
       "                                      word_end_times  \\\n",
       "0  [0.47, 0.8, 1.21, 1.26, 1.79, 1.82, 2.34, 2.78...   \n",
       "1  [0.11, 0.48, 0.66, 1.12, 1.36, 1.94, 2.53, 3.0...   \n",
       "\n",
       "                                                 asr  \\\n",
       "0  [konačni, prijedlog, zakona, o, izmjenama, i, ...   \n",
       "1  [u, svezi, sa, člankom, sto, devedeset, poslov...   \n",
       "\n",
       "                                           true_file reconame  \\\n",
       "0  01 12 2016 - 1. dio, 2. sjednica, 9. saziv [sP...  reco723   \n",
       "1  01 12 2016 - 1. dio, 2. sjednica, 9. saziv [sP...  reco723   \n",
       "\n",
       "                                            longname      yt_hash  \\\n",
       "0  01 12 2016 - 1. dio, 2. sjednica, 9. saziv [sP...  sPNuDebATRM   \n",
       "1  01 12 2016 - 1. dio, 2. sjednica, 9. saziv [sP...  sPNuDebATRM   \n",
       "\n",
       "                          hashname  \\\n",
       "0  sPNuDebATRM_1853.82-1873.66.wav   \n",
       "1  sPNuDebATRM_1874.08-1893.99.wav   \n",
       "\n",
       "                                                 key  was_in_samples  \\\n",
       "0  01 12 2016 - 1. dio, 2. sjednica, 9. saziv [sP...           False   \n",
       "1  01 12 2016 - 1. dio, 2. sjednica, 9. saziv [sP...           False   \n",
       "\n",
       "                                    human_transcript  \\\n",
       "0  konačni prijedlog zakona o izmjenama i dopunam...   \n",
       "1  u svezi sa člankom sto devedeset poslovnika hr...   \n",
       "\n",
       "                                      asr_transcript      sim  \n",
       "0  konačni prijedlog zakona o izmjenama i dopunam...  0.99665  \n",
       "1  u svezi sa člankom sto devedeset poslovnika hr...  1.00000  "
      ]
     },
     "execution_count": 75,
     "metadata": {},
     "output_type": "execute_result"
    }
   ],
   "source": [
    "segments.head(2)"
   ]
  },
  {
   "cell_type": "code",
   "execution_count": 97,
   "metadata": {},
   "outputs": [
    {
     "data": {
      "image/png": "[encoded data removed]",
      "text/plain": [
       "<Figure size 432x288 with 1 Axes>"
      ]
     },
     "metadata": {
      "needs_background": "light"
     },
     "output_type": "display_data"
    }
   ],
   "source": [
    "import matplotlib.pyplot as plt\n",
    "try:\n",
    "    plt.style.use([\"science\", \"no-latex\"])\n",
    "except OSError:\n",
    "    pass\n",
    "plt.title(\"Distribution of 'sim' metric - normed\")\n",
    "plt.hist(segments.sim, bins=20, density=True)\n",
    "plt.savefig(\"images/3_sim_metric_distribution.png\")\n",
    "plt.show()"
   ]
  },
  {
   "cell_type": "code",
   "execution_count": 98,
   "metadata": {},
   "outputs": [
    {
     "data": {
      "text/plain": [
       "0.9385107989864638"
      ]
     },
     "execution_count": 98,
     "metadata": {},
     "output_type": "execute_result"
    }
   ],
   "source": [
    "sum(segments.sim>0.8)/segments.shape[0]"
   ]
  },
  {
   "cell_type": "code",
   "execution_count": 99,
   "metadata": {},
   "outputs": [
    {
     "data": {
      "text/html": [
       "<div>\n",
       "<style scoped>\n",
       "    .dataframe tbody tr th:only-of-type {\n",
       "        vertical-align: middle;\n",
       "    }\n",
       "\n",
       "    .dataframe tbody tr th {\n",
       "        vertical-align: top;\n",
       "    }\n",
       "\n",
       "    .dataframe thead th {\n",
       "        text-align: right;\n",
       "    }\n",
       "</style>\n",
       "<table border=\"1\" class=\"dataframe\">\n",
       "  <thead>\n",
       "    <tr style=\"text-align: right;\">\n",
       "      <th></th>\n",
       "      <th>file</th>\n",
       "      <th>start</th>\n",
       "      <th>end</th>\n",
       "      <th>words</th>\n",
       "      <th>word_start_times</th>\n",
       "      <th>word_end_times</th>\n",
       "      <th>asr</th>\n",
       "      <th>true_file</th>\n",
       "      <th>reconame</th>\n",
       "      <th>longname</th>\n",
       "      <th>yt_hash</th>\n",
       "      <th>hashname</th>\n",
       "      <th>key</th>\n",
       "      <th>was_in_samples</th>\n",
       "      <th>human_transcript</th>\n",
       "      <th>asr_transcript</th>\n",
       "      <th>sim</th>\n",
       "    </tr>\n",
       "  </thead>\n",
       "  <tbody>\n",
       "    <tr>\n",
       "      <th>0</th>\n",
       "      <td>01 12 2016 - 1. dio, 2. sjednica, 9. saziv [sP...</td>\n",
       "      <td>1853.82</td>\n",
       "      <td>1873.66</td>\n",
       "      <td>[konačni, prijedlog, zakona, o, izmjenama, i, ...</td>\n",
       "      <td>[0, 0.47, 0.8, 1.21, 1.26, 1.79, 1.82, 2.34, 2...</td>\n",
       "      <td>[0.47, 0.8, 1.21, 1.26, 1.79, 1.82, 2.34, 2.78...</td>\n",
       "      <td>[konačni, prijedlog, zakona, o, izmjenama, i, ...</td>\n",
       "      <td>01 12 2016 - 1. dio, 2. sjednica, 9. saziv [sP...</td>\n",
       "      <td>reco723</td>\n",
       "      <td>01 12 2016 - 1. dio, 2. sjednica, 9. saziv [sP...</td>\n",
       "      <td>sPNuDebATRM</td>\n",
       "      <td>sPNuDebATRM_1853.82-1873.66.wav</td>\n",
       "      <td>01 12 2016 - 1. dio, 2. sjednica, 9. saziv [sP...</td>\n",
       "      <td>False</td>\n",
       "      <td>konačni prijedlog zakona o izmjenama i dopunam...</td>\n",
       "      <td>konačni prijedlog zakona o izmjenama i dopunam...</td>\n",
       "      <td>0.99665</td>\n",
       "    </tr>\n",
       "    <tr>\n",
       "      <th>1</th>\n",
       "      <td>01 12 2016 - 1. dio, 2. sjednica, 9. saziv [sP...</td>\n",
       "      <td>1874.08</td>\n",
       "      <td>1893.99</td>\n",
       "      <td>[u, svezi, sa, člankom, sto, devedeset, poslov...</td>\n",
       "      <td>[0, 0.11, 0.48, 0.66, 1.12, 1.36, 1.94, 2.53, ...</td>\n",
       "      <td>[0.11, 0.48, 0.66, 1.12, 1.36, 1.94, 2.53, 3.0...</td>\n",
       "      <td>[u, svezi, sa, člankom, sto, devedeset, poslov...</td>\n",
       "      <td>01 12 2016 - 1. dio, 2. sjednica, 9. saziv [sP...</td>\n",
       "      <td>reco723</td>\n",
       "      <td>01 12 2016 - 1. dio, 2. sjednica, 9. saziv [sP...</td>\n",
       "      <td>sPNuDebATRM</td>\n",
       "      <td>sPNuDebATRM_1874.08-1893.99.wav</td>\n",
       "      <td>01 12 2016 - 1. dio, 2. sjednica, 9. saziv [sP...</td>\n",
       "      <td>False</td>\n",
       "      <td>u svezi sa člankom sto devedeset poslovnika hr...</td>\n",
       "      <td>u svezi sa člankom sto devedeset poslovnika hr...</td>\n",
       "      <td>1.00000</td>\n",
       "    </tr>\n",
       "  </tbody>\n",
       "</table>\n",
       "</div>"
      ],
      "text/plain": [
       "                                                file    start      end  \\\n",
       "0  01 12 2016 - 1. dio, 2. sjednica, 9. saziv [sP...  1853.82  1873.66   \n",
       "1  01 12 2016 - 1. dio, 2. sjednica, 9. saziv [sP...  1874.08  1893.99   \n",
       "\n",
       "                                               words  \\\n",
       "0  [konačni, prijedlog, zakona, o, izmjenama, i, ...   \n",
       "1  [u, svezi, sa, člankom, sto, devedeset, poslov...   \n",
       "\n",
       "                                    word_start_times  \\\n",
       "0  [0, 0.47, 0.8, 1.21, 1.26, 1.79, 1.82, 2.34, 2...   \n",
       "1  [0, 0.11, 0.48, 0.66, 1.12, 1.36, 1.94, 2.53, ...   \n",
       "\n",
       "                                      word_end_times  \\\n",
       "0  [0.47, 0.8, 1.21, 1.26, 1.79, 1.82, 2.34, 2.78...   \n",
       "1  [0.11, 0.48, 0.66, 1.12, 1.36, 1.94, 2.53, 3.0...   \n",
       "\n",
       "                                                 asr  \\\n",
       "0  [konačni, prijedlog, zakona, o, izmjenama, i, ...   \n",
       "1  [u, svezi, sa, člankom, sto, devedeset, poslov...   \n",
       "\n",
       "                                           true_file reconame  \\\n",
       "0  01 12 2016 - 1. dio, 2. sjednica, 9. saziv [sP...  reco723   \n",
       "1  01 12 2016 - 1. dio, 2. sjednica, 9. saziv [sP...  reco723   \n",
       "\n",
       "                                            longname      yt_hash  \\\n",
       "0  01 12 2016 - 1. dio, 2. sjednica, 9. saziv [sP...  sPNuDebATRM   \n",
       "1  01 12 2016 - 1. dio, 2. sjednica, 9. saziv [sP...  sPNuDebATRM   \n",
       "\n",
       "                          hashname  \\\n",
       "0  sPNuDebATRM_1853.82-1873.66.wav   \n",
       "1  sPNuDebATRM_1874.08-1893.99.wav   \n",
       "\n",
       "                                                 key  was_in_samples  \\\n",
       "0  01 12 2016 - 1. dio, 2. sjednica, 9. saziv [sP...           False   \n",
       "1  01 12 2016 - 1. dio, 2. sjednica, 9. saziv [sP...           False   \n",
       "\n",
       "                                    human_transcript  \\\n",
       "0  konačni prijedlog zakona o izmjenama i dopunam...   \n",
       "1  u svezi sa člankom sto devedeset poslovnika hr...   \n",
       "\n",
       "                                      asr_transcript      sim  \n",
       "0  konačni prijedlog zakona o izmjenama i dopunam...  0.99665  \n",
       "1  u svezi sa člankom sto devedeset poslovnika hr...  1.00000  "
      ]
     },
     "execution_count": 99,
     "metadata": {},
     "output_type": "execute_result"
    }
   ],
   "source": [
    "segments.head(2)"
   ]
  },
  {
   "cell_type": "code",
   "execution_count": 100,
   "metadata": {},
   "outputs": [
    {
     "data": {
      "text/plain": [
       "(447542, 17)"
      ]
     },
     "execution_count": 100,
     "metadata": {},
     "output_type": "execute_result"
    }
   ],
   "source": [
    "segments.shape\n"
   ]
  },
  {
   "cell_type": "code",
   "execution_count": 101,
   "metadata": {},
   "outputs": [
    {
     "data": {
      "text/plain": [
       "Index(['file', 'start', 'end', 'words', 'word_start_times', 'word_end_times',\n",
       "       'asr', 'true_file', 'reconame', 'longname', 'yt_hash', 'hashname',\n",
       "       'key', 'was_in_samples', 'human_transcript', 'asr_transcript', 'sim'],\n",
       "      dtype='object')"
      ]
     },
     "execution_count": 101,
     "metadata": {},
     "output_type": "execute_result"
    }
   ],
   "source": [
    "segments.columns"
   ]
  },
  {
   "cell_type": "code",
   "execution_count": 113,
   "metadata": {},
   "outputs": [
    {
     "data": {
      "text/plain": [
       "train    418241\n",
       "test      27301\n",
       "dev        2000\n",
       "Name: split, dtype: int64"
      ]
     },
     "execution_count": 113,
     "metadata": {},
     "output_type": "execute_result"
    }
   ],
   "source": [
    "segments[\"split\"] = \"\"\n",
    "c = segments.sim < 0.8\n",
    "segments.loc[c, \"split\"] = \"test\"\n",
    "segments.loc[segments.loc[~c, :].sample(2000, random_state=42).index, \"split\"] = \"dev\"\n",
    "segments.loc[segments.split == \"\", \"split\"] = \"train\"\n",
    "segments.split.value_counts()\n"
   ]
  },
  {
   "cell_type": "code",
   "execution_count": 114,
   "metadata": {},
   "outputs": [
    {
     "data": {
      "text/plain": [
       "Index(['file', 'start', 'end', 'words', 'word_start_times', 'word_end_times',\n",
       "       'asr', 'true_file', 'reconame', 'longname', 'yt_hash', 'hashname',\n",
       "       'key', 'was_in_samples', 'human_transcript', 'asr_transcript', 'sim',\n",
       "       'split'],\n",
       "      dtype='object')"
      ]
     },
     "execution_count": 114,
     "metadata": {},
     "output_type": "execute_result"
    }
   ],
   "source": [
    "segments.columns"
   ]
  },
  {
   "cell_type": "code",
   "execution_count": 116,
   "metadata": {},
   "outputs": [],
   "source": [
    "segments.to_csv(\"parlaspeech.csv\", index=False)\n",
    "segments.to_json(\"parlaspeech.json\", orient=\"records\", lines=True)"
   ]
  },
  {
   "cell_type": "code",
   "execution_count": 117,
   "metadata": {},
   "outputs": [
    {
     "data": {
      "text/plain": [
       "Index(['file', 'start', 'end', 'words', 'word_start_times', 'word_end_times',\n",
       "       'asr', 'true_file', 'reconame', 'longname', 'yt_hash', 'hashname',\n",
       "       'key', 'was_in_samples', 'human_transcript', 'asr_transcript', 'sim',\n",
       "       'split'],\n",
       "      dtype='object')"
      ]
     },
     "execution_count": 117,
     "metadata": {},
     "output_type": "execute_result"
    }
   ],
   "source": [
    "segments.columns"
   ]
  },
  {
   "cell_type": "code",
   "execution_count": 119,
   "metadata": {},
   "outputs": [
    {
     "name": "stdout",
     "output_type": "stream",
     "text": [
      "000447541 of 000447542\r"
     ]
    }
   ],
   "source": [
    "from pydub import AudioSegment\n",
    "output_dir = \"/home/rupnik/macocu/task8/data\"\n",
    "global_counter = 0\n",
    "\n",
    "for input_filename in segments.true_file.unique():\n",
    "    subset = segments.loc[segments.true_file==input_filename, :]\n",
    "    audio = AudioSegment.from_wav(\n",
    "        os.path.join(\n",
    "            links_to_wavs,\n",
    "            input_filename\n",
    "        )\n",
    "    )\n",
    "\n",
    "    for i, row in subset.iterrows():\n",
    "        print(f\"{global_counter:09} of {segments.shape[0]:09}\", end = \"\\r\")\n",
    "        startms = int(row[\"start\"]*1e3)\n",
    "        endms = int(row[\"end\"]*1e3)\n",
    "        seg = audio[startms:endms]\n",
    "        out_path = os.path.join(\n",
    "            output_dir, row[\"hashname\"]\n",
    "        )\n",
    "        seg.export(out_path, format=\"wav\")\n",
    "        global_counter += 1\n"
   ]
  },
  {
   "cell_type": "code",
   "execution_count": null,
   "metadata": {},
   "outputs": [],
   "source": []
  }
 ],
 "metadata": {
  "interpreter": {
   "hash": "2d30c88cb7145d662123f76f8c64609bc18e52940d2861adec2407b68f2e334f"
  },
  "kernelspec": {
   "display_name": "Python 3.9.7 ('base')",
   "language": "python",
   "name": "python3"
  },
  "language_info": {
   "codemirror_mode": {
    "name": "ipython",
    "version": 3
   },
   "file_extension": ".py",
   "mimetype": "text/x-python",
   "name": "python",
   "nbconvert_exporter": "python",
   "pygments_lexer": "ipython3",
   "version": "3.9.7"
  },
  "orig_nbformat": 4
 },
 "nbformat": 4,
 "nbformat_minor": 2
}
