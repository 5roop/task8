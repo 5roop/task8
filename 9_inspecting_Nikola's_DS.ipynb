{
 "cells": [
  {
   "cell_type": "code",
   "execution_count": 8,
   "metadata": {},
   "outputs": [],
   "source": [
    "f = \"/home/nikola/projects/parlaspeech/ParlaSpeech-HR.v1.0.jsonl\"\n",
    "\n",
    "import pandas as pd\n",
    "n = pd.read_json(f, orient=\"records\", lines=True)"
   ]
  },
  {
   "cell_type": "code",
   "execution_count": 9,
   "metadata": {},
   "outputs": [
    {
     "data": {
      "text/plain": [
       "Index(['path', 'orig_file', 'start', 'end', 'words', 'word_start_times',\n",
       "       'norm_words', 'norm_words_start_times'],\n",
       "      dtype='object')"
      ]
     },
     "execution_count": 9,
     "metadata": {},
     "output_type": "execute_result"
    }
   ],
   "source": [
    "n.columns"
   ]
  },
  {
   "cell_type": "code",
   "execution_count": 10,
   "metadata": {},
   "outputs": [
    {
     "data": {
      "text/html": [
       "<div>\n",
       "<style scoped>\n",
       "    .dataframe tbody tr th:only-of-type {\n",
       "        vertical-align: middle;\n",
       "    }\n",
       "\n",
       "    .dataframe tbody tr th {\n",
       "        vertical-align: top;\n",
       "    }\n",
       "\n",
       "    .dataframe thead th {\n",
       "        text-align: right;\n",
       "    }\n",
       "</style>\n",
       "<table border=\"1\" class=\"dataframe\">\n",
       "  <thead>\n",
       "    <tr style=\"text-align: right;\">\n",
       "      <th></th>\n",
       "      <th>path</th>\n",
       "      <th>orig_file</th>\n",
       "      <th>start</th>\n",
       "      <th>end</th>\n",
       "      <th>words</th>\n",
       "      <th>word_start_times</th>\n",
       "      <th>norm_words</th>\n",
       "      <th>norm_words_start_times</th>\n",
       "    </tr>\n",
       "  </thead>\n",
       "  <tbody>\n",
       "    <tr>\n",
       "      <th>0</th>\n",
       "      <td>j8IDWUzSlX0_3942.4-3958.56.wav</td>\n",
       "      <td>11 7 2018 - 2. dio, 8. sjednica, 9. saziv [j8I...</td>\n",
       "      <td>3942.4</td>\n",
       "      <td>3958.56</td>\n",
       "      <td>[Povrat, koji, se, rade, na, pojedinim, područ...</td>\n",
       "      <td>[0, 0.8300000000000001, 1.08, 2.19, 3.09, 4.31...</td>\n",
       "      <td>[povrat, koji, se, rade, na, pojedinim, područ...</td>\n",
       "      <td>[0, 0.8300000000000001, 1.08, 2.19, 3.09, 4.31...</td>\n",
       "    </tr>\n",
       "    <tr>\n",
       "      <th>1</th>\n",
       "      <td>s7v5eLALCvY_4260.3-4276.1.wav</td>\n",
       "      <td>27 3 2020 - 16. sjednica, 9. saziv [s7v5eLALCv...</td>\n",
       "      <td>4260.3</td>\n",
       "      <td>4276.10</td>\n",
       "      <td>[a, isto, tako, i, izvan, RH, u, zemljama, EU,...</td>\n",
       "      <td>[0, 0.18, 0.39, 0.98, 2.13, 2.41, 3.4, 3.47, 4...</td>\n",
       "      <td>[a, isto, tako, i, izvan, erha, u, zemljama, e...</td>\n",
       "      <td>[0, 0.18, 0.39, 0.98, 2.13, 2.41, 3.4, 3.47, 4...</td>\n",
       "    </tr>\n",
       "  </tbody>\n",
       "</table>\n",
       "</div>"
      ],
      "text/plain": [
       "                             path  \\\n",
       "0  j8IDWUzSlX0_3942.4-3958.56.wav   \n",
       "1   s7v5eLALCvY_4260.3-4276.1.wav   \n",
       "\n",
       "                                           orig_file   start      end  \\\n",
       "0  11 7 2018 - 2. dio, 8. sjednica, 9. saziv [j8I...  3942.4  3958.56   \n",
       "1  27 3 2020 - 16. sjednica, 9. saziv [s7v5eLALCv...  4260.3  4276.10   \n",
       "\n",
       "                                               words  \\\n",
       "0  [Povrat, koji, se, rade, na, pojedinim, područ...   \n",
       "1  [a, isto, tako, i, izvan, RH, u, zemljama, EU,...   \n",
       "\n",
       "                                    word_start_times  \\\n",
       "0  [0, 0.8300000000000001, 1.08, 2.19, 3.09, 4.31...   \n",
       "1  [0, 0.18, 0.39, 0.98, 2.13, 2.41, 3.4, 3.47, 4...   \n",
       "\n",
       "                                          norm_words  \\\n",
       "0  [povrat, koji, se, rade, na, pojedinim, područ...   \n",
       "1  [a, isto, tako, i, izvan, erha, u, zemljama, e...   \n",
       "\n",
       "                              norm_words_start_times  \n",
       "0  [0, 0.8300000000000001, 1.08, 2.19, 3.09, 4.31...  \n",
       "1  [0, 0.18, 0.39, 0.98, 2.13, 2.41, 3.4, 3.47, 4...  "
      ]
     },
     "execution_count": 10,
     "metadata": {},
     "output_type": "execute_result"
    }
   ],
   "source": [
    "n.head(2)"
   ]
  },
  {
   "cell_type": "code",
   "execution_count": 12,
   "metadata": {},
   "outputs": [],
   "source": [
    "ps = pd.read_csv(\"parlaspeech.csv\")"
   ]
  },
  {
   "cell_type": "code",
   "execution_count": 25,
   "metadata": {},
   "outputs": [
    {
     "data": {
      "text/plain": [
       "40463"
      ]
     },
     "execution_count": 25,
     "metadata": {},
     "output_type": "execute_result"
    }
   ],
   "source": [
    "ps_files = set(ps.hashname.values.tolist())\n",
    "n_files = set(n.path.values.tolist())\n",
    "\n",
    "len(ps_files.difference(n_files))"
   ]
  },
  {
   "cell_type": "code",
   "execution_count": 26,
   "metadata": {},
   "outputs": [
    {
     "data": {
      "text/plain": [
       "26428"
      ]
     },
     "execution_count": 26,
     "metadata": {},
     "output_type": "execute_result"
    }
   ],
   "source": [
    "import os\n",
    "actual_files = set(os.listdir(\"selection_16000_mono/\"))\n",
    "len(actual_files.difference(n_files))"
   ]
  },
  {
   "cell_type": "code",
   "execution_count": 18,
   "metadata": {},
   "outputs": [],
   "source": [
    "s = pd.read_csv(\"selection.csv\")"
   ]
  },
  {
   "cell_type": "code",
   "execution_count": 27,
   "metadata": {},
   "outputs": [
    {
     "data": {
      "text/plain": [
       "26428"
      ]
     },
     "execution_count": 27,
     "metadata": {},
     "output_type": "execute_result"
    }
   ],
   "source": [
    "selection_files = set(s.hashname.values.tolist())\n",
    "len(selection_files.difference(n_files))"
   ]
  },
  {
   "cell_type": "code",
   "execution_count": 22,
   "metadata": {},
   "outputs": [
    {
     "data": {
      "text/plain": [
       "26428"
      ]
     },
     "execution_count": 22,
     "metadata": {},
     "output_type": "execute_result"
    }
   ],
   "source": [
    "(s.sim < 0.8).sum()"
   ]
  },
  {
   "cell_type": "code",
   "execution_count": 23,
   "metadata": {},
   "outputs": [
    {
     "data": {
      "text/plain": [
       "(407079, 8)"
      ]
     },
     "execution_count": 23,
     "metadata": {},
     "output_type": "execute_result"
    }
   ],
   "source": [
    "n.shape"
   ]
  },
  {
   "cell_type": "code",
   "execution_count": 24,
   "metadata": {},
   "outputs": [
    {
     "data": {
      "text/plain": [
       "(433507, 22)"
      ]
     },
     "execution_count": 24,
     "metadata": {},
     "output_type": "execute_result"
    }
   ],
   "source": [
    "s.shape"
   ]
  },
  {
   "cell_type": "code",
   "execution_count": 29,
   "metadata": {},
   "outputs": [],
   "source": [
    "s[\"is_in_n\"] = s.hashname.isin(n.path)"
   ]
  },
  {
   "cell_type": "code",
   "execution_count": 30,
   "metadata": {},
   "outputs": [
    {
     "data": {
      "text/plain": [
       "407079"
      ]
     },
     "execution_count": 30,
     "metadata": {},
     "output_type": "execute_result"
    }
   ],
   "source": [
    "s.is_in_n.sum()"
   ]
  },
  {
   "cell_type": "code",
   "execution_count": 36,
   "metadata": {},
   "outputs": [],
   "source": [
    "s.loc[s.is_in_n, :].drop(columns=\"is_in_n\").to_csv(\"selection.csv\", index=False)\n",
    "s.loc[s.is_in_n, :].drop(columns=\"is_in_n\").to_json(\"selection.json\", orient = \"records\", lines=True)"
   ]
  },
  {
   "cell_type": "code",
   "execution_count": 35,
   "metadata": {},
   "outputs": [],
   "source": [
    "\n",
    "\n",
    "from concurrent.futures import ProcessPoolExecutor\n",
    "import os\n",
    "\n",
    "def delete(file):\n",
    "    os.system(f\"rm selection_16000_mono/{file}\")\n",
    "with ProcessPoolExecutor(max_workers=32) as executor:\n",
    "    executor.map(\n",
    "        delete,\n",
    "        s.loc[~s.is_in_n, \"hashname\"])"
   ]
  },
  {
   "cell_type": "code",
   "execution_count": null,
   "metadata": {},
   "outputs": [],
   "source": []
  }
 ],
 "metadata": {
  "interpreter": {
   "hash": "2d30c88cb7145d662123f76f8c64609bc18e52940d2861adec2407b68f2e334f"
  },
  "kernelspec": {
   "display_name": "Python 3.9.7 ('base')",
   "language": "python",
   "name": "python3"
  },
  "language_info": {
   "codemirror_mode": {
    "name": "ipython",
    "version": 3
   },
   "file_extension": ".py",
   "mimetype": "text/x-python",
   "name": "python",
   "nbconvert_exporter": "python",
   "pygments_lexer": "ipython3",
   "version": "3.9.7"
  },
  "orig_nbformat": 4
 },
 "nbformat": 4,
 "nbformat_minor": 2
}
