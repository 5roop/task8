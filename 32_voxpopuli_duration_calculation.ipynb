{
 "cells": [
  {
   "cell_type": "code",
   "execution_count": 3,
   "metadata": {},
   "outputs": [],
   "source": [
    "import pandas as pd\n",
    "import os\n",
    "\n",
    "path = \"/home/rupnik/macocu/task8/voxpopuli/hr/\"\n",
    "all_oggs =  []\n",
    "for root, dirs, files in os.walk(path):\n",
    "    for name in files:\n",
    "        if name.endswith(\".ogg\"):\n",
    "            all_oggs.append(name)\n",
    "\n",
    "\n",
    "\n",
    "def has_diacritics(s):\n",
    "    # import re\n",
    "    # pattern = \"[šđčćž]\"\n",
    "    # p = re.compile(pattern)\n",
    "    # try:\n",
    "    #     return p.search(s.lower()) is not None\n",
    "    # except:\n",
    "    #     return False\n",
    "    return isinstance(s, str)\n",
    "def assign_path(s):\n",
    "    year = s[0:4]\n",
    "    return os.path.join(\n",
    "        path,\n",
    "        year,\n",
    "        s+\".ogg\"\n",
    "    )\n",
    "\n",
    "train = pd.read_csv(\"voxpopuli/hr/asr_train.tsv\", sep=\"\\t\")\n",
    "train[\"filename\"] = train.id + \".ogg\"\n",
    "train[\"raw_has_diacritics\"] = train.raw_text.apply(has_diacritics)\n",
    "train[\"path\"] = train.id.apply(assign_path)\n",
    "\n",
    "test = pd.read_csv(\"voxpopuli/hr/asr_test.tsv\", sep=\"\\t\")\n",
    "test[\"filename\"] = test.id + \".ogg\"\n",
    "test[\"raw_has_diacritics\"] = test.raw_text.apply(has_diacritics)\n",
    "test[\"path\"] = test.id.apply(assign_path)\n",
    "\n",
    "dev = pd.read_csv(\"voxpopuli/hr/asr_dev.tsv\", sep=\"\\t\")\n",
    "dev[\"filename\"] = dev.id + \".ogg\"\n",
    "dev[\"raw_has_diacritics\"] = dev.raw_text.apply(has_diacritics)\n",
    "dev[\"path\"] = dev.id.apply(assign_path)\n",
    "\n",
    "\n",
    "df = pd.concat([train, dev, test], ignore_index=True)\n",
    "df = df[~df.raw_text.isna()]"
   ]
  },
  {
   "cell_type": "code",
   "execution_count": 5,
   "metadata": {},
   "outputs": [],
   "source": [
    "from pydub import AudioSegment\n",
    "def get_duration(path):\n",
    "    segment = AudioSegment.from_ogg(path)\n",
    "    return len(segment)/1000\n",
    "\n",
    "from concurrent.futures import ProcessPoolExecutor\n",
    "with ProcessPoolExecutor(max_workers=60) as executor:\n",
    "    durs = list(executor.map(get_duration, df.path))"
   ]
  },
  {
   "cell_type": "code",
   "execution_count": 6,
   "metadata": {},
   "outputs": [
    {
     "data": {
      "text/plain": [
       "21.542951111111144"
      ]
     },
     "execution_count": 6,
     "metadata": {},
     "output_type": "execute_result"
    }
   ],
   "source": [
    "sum(durs) / 3600"
   ]
  },
  {
   "cell_type": "code",
   "execution_count": null,
   "metadata": {},
   "outputs": [],
   "source": []
  }
 ],
 "metadata": {
  "interpreter": {
   "hash": "2d30c88cb7145d662123f76f8c64609bc18e52940d2861adec2407b68f2e334f"
  },
  "kernelspec": {
   "display_name": "Python 3.9.7 ('base')",
   "language": "python",
   "name": "python3"
  },
  "language_info": {
   "codemirror_mode": {
    "name": "ipython",
    "version": 3
   },
   "file_extension": ".py",
   "mimetype": "text/x-python",
   "name": "python",
   "nbconvert_exporter": "python",
   "pygments_lexer": "ipython3",
   "version": "3.9.7"
  },
  "orig_nbformat": 4
 },
 "nbformat": 4,
 "nbformat_minor": 2
}
