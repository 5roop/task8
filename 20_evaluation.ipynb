{
 "cells": [
  {
   "cell_type": "code",
   "execution_count": 17,
   "metadata": {},
   "outputs": [
    {
     "name": "stdout",
     "output_type": "stream",
     "text": [
      "With normalized model: dev_wer=0.1036 , dev_cer=0.0314 ,\n",
      " (18_normalised)       test_wer=0.1015, test_cer=0.0304,\n"
     ]
    }
   ],
   "source": [
    "from datasets import load_metric\n",
    "wer_metric = load_metric(\"wer\")\n",
    "cer_metric = load_metric(\"cer\")\n",
    "\n",
    "import pandas as pd\n",
    "dev = pd.read_csv(\"17_dev.csv\")\n",
    "test = pd.read_csv(\"17_test.csv\")\n",
    "\n",
    "# Model: 18_normalized:\n",
    "dev_wer = wer_metric.compute(predictions=dev[\"18_normalised_output\"].values,\n",
    "    references=dev.human_transcript)\n",
    "test_wer = wer_metric.compute(predictions=test[\"18_normalised_output\"].values,\n",
    "    references=test.human_transcript)\n",
    "\n",
    "dev_cer = cer_metric.compute(predictions=dev[\"18_normalised_output\"].values,\n",
    "    references=dev.human_transcript)\n",
    "test_cer = cer_metric.compute(predictions=test[\"18_normalised_output\"].values,\n",
    "    references=test.human_transcript)\n",
    "\n",
    "print(f\"With normalized model: {dev_wer=:0.4f} , {dev_cer=:0.4f} ,\")\n",
    "print(f\" (18_normalised)       {test_wer=:0.4f}, {test_cer=:0.4f},\")"
   ]
  },
  {
   "cell_type": "code",
   "execution_count": 31,
   "metadata": {},
   "outputs": [],
   "source": [
    "dev[\"wer\"] = 1\n",
    "dev[\"cer\"] = 1\n",
    "\n",
    "for i, row in dev.iterrows():\n",
    "    wer = wer_metric.compute(predictions=[row[\"18_normalised_output\"]], \n",
    "                            references=[row[\"human_transcript\"]])\n",
    "    cer = cer_metric.compute(predictions=[row[\"18_normalised_output\"]], \n",
    "                            references=[row[\"human_transcript\"]])\n",
    "\n",
    "    dev.loc[i, \"wer\"] = wer\n",
    "    dev.loc[i, \"cer\"] = cer\n",
    "\n",
    "test[\"wer\"] = 1\n",
    "test[\"cer\"] = 1\n",
    "\n",
    "for i, row in test.iterrows():\n",
    "    wer = wer_metric.compute(predictions=[row[\"18_normalised_output\"]], \n",
    "                            references=[row[\"human_transcript\"]])\n",
    "    cer = cer_metric.compute(predictions=[row[\"18_normalised_output\"]], \n",
    "                            references=[row[\"human_transcript\"]])\n",
    "\n",
    "    test.loc[i, \"wer\"] = wer\n",
    "    test.loc[i, \"cer\"] = cer"
   ]
  },
  {
   "cell_type": "code",
   "execution_count": 32,
   "metadata": {},
   "outputs": [
    {
     "data": {
      "text/plain": [
       "(0.10797742667847861, 0.03166968538914991)"
      ]
     },
     "execution_count": 32,
     "metadata": {},
     "output_type": "execute_result"
    }
   ],
   "source": [
    "dev.wer.mean(), dev.cer.mean()"
   ]
  },
  {
   "cell_type": "code",
   "execution_count": 33,
   "metadata": {},
   "outputs": [
    {
     "data": {
      "text/plain": [
       "(0.14598355295575222, 0.05335197999595207)"
      ]
     },
     "execution_count": 33,
     "metadata": {},
     "output_type": "execute_result"
    }
   ],
   "source": [
    "dev.wer.std(), dev.cer.std()"
   ]
  },
  {
   "cell_type": "code",
   "execution_count": 48,
   "metadata": {},
   "outputs": [
    {
     "data": {
      "image/png": "[encoded data removed]",
      "text/plain": [
       "<Figure size 360x288 with 1 Axes>"
      ]
     },
     "metadata": {
      "needs_background": "light"
     },
     "output_type": "display_data"
    }
   ],
   "source": [
    "import matplotlib.pyplot as plt\n",
    "plt.style.use([\"science\", \"no-latex\"])\n",
    "plt.figure(figsize=(5,4))\n",
    "plt.hist(dev.wer, bins=100, histtype=\"step\", label=\"dev - wer\")\n",
    "#plt.hist(dev.cer, bins=100, histtype=\"step\", label=\"dev - cer\")\n",
    "\n",
    "plt.hist(test.wer, bins=100, histtype=\"step\", label=\"test - wer\")\n",
    "#plt.hist(test.cer, bins=100, histtype=\"step\", label=\"test - cer\")\n",
    "plt.legend()\n",
    "plt.xlim((-0.05, 0.8))\n",
    "plt.title(\"WER distribution\")\n",
    "plt.savefig(\"images/20_wer_dev_test.png\")\n",
    "plt.show()"
   ]
  },
  {
   "cell_type": "code",
   "execution_count": 49,
   "metadata": {},
   "outputs": [
    {
     "data": {
      "image/png": "[encoded data removed]",
      "text/plain": [
       "<Figure size 360x288 with 1 Axes>"
      ]
     },
     "metadata": {
      "needs_background": "light"
     },
     "output_type": "display_data"
    }
   ],
   "source": [
    "plt.figure(figsize=(5,4))\n",
    "# plt.hist(dev.wer, bins=100, histtype=\"step\", label=\"dev - wer\")\n",
    "plt.hist(dev.cer, bins=100, histtype=\"step\", label=\"dev - cer\")\n",
    "\n",
    "# plt.hist(test.wer, bins=100, histtype=\"step\", label=\"test - wer\")\n",
    "plt.hist(test.cer, bins=100, histtype=\"step\", label=\"test - cer\")\n",
    "plt.legend()\n",
    "plt.xlim((-0.05, 0.8))\n",
    "plt.title(\"CER distribution\")\n",
    "plt.savefig(\"images/20_cer_dev_test.png\")\n",
    "plt.show()"
   ]
  },
  {
   "cell_type": "code",
   "execution_count": 54,
   "metadata": {},
   "outputs": [
    {
     "name": "stderr",
     "output_type": "stream",
     "text": [
      "<ipython-input-54-47777c8ab885>:2: SettingWithCopyWarning: \n",
      "A value is trying to be set on a copy of a slice from a DataFrame.\n",
      "Try using .loc[row_indexer,col_indexer] = value instead\n",
      "\n",
      "See the caveats in the documentation: https://pandas.pydata.org/pandas-docs/stable/user_guide/indexing.html#returning-a-view-versus-a-copy\n",
      "  d[\"split\"]=\"dev\"\n",
      "<ipython-input-54-47777c8ab885>:3: SettingWithCopyWarning: \n",
      "A value is trying to be set on a copy of a slice from a DataFrame.\n",
      "Try using .loc[row_indexer,col_indexer] = value instead\n",
      "\n",
      "See the caveats in the documentation: https://pandas.pydata.org/pandas-docs/stable/user_guide/indexing.html#returning-a-view-versus-a-copy\n",
      "  d[\"Peter's verdict\"] = \"\"\n"
     ]
    }
   ],
   "source": [
    "d = dev[dev.wer>0.4]\n",
    "d[\"split\"]=\"dev\"\n",
    "d[\"Peter's verdict\"] = \"\""
   ]
  },
  {
   "cell_type": "code",
   "execution_count": 57,
   "metadata": {},
   "outputs": [
    {
     "name": "stdout",
     "output_type": "stream",
     "text": [
      "|     | hashname                          | human_transcript                                                                                                                                                                                                                      | unnormalized_transcript                                                                                                                                                                                         | 18_normalised_output                                                                                                                                                                                                         |      wer |       cer | split   | Peter's verdict   |\n",
      "|----:|:----------------------------------|:--------------------------------------------------------------------------------------------------------------------------------------------------------------------------------------------------------------------------------------|:----------------------------------------------------------------------------------------------------------------------------------------------------------------------------------------------------------------|:-----------------------------------------------------------------------------------------------------------------------------------------------------------------------------------------------------------------------------|---------:|----------:|:--------|:------------------|\n",
      "|  47 | LfkFqOr01h4_1529.55-1530.32.wav   | neznanim                                                                                                                                                                                                                              | neznanim                                                                                                                                                                                                        | ne znanim                                                                                                                                                                                                                    | 2        | 0.125     | dev     |                   |\n",
      "| 125 | 3yuEqtP43QI_5391.01-5392.76.wav   | devedeset tritrinaesteez                                                                                                                                                                                                              | 9313eez                                                                                                                                                                                                         | devedeset tri tu trinaest z                                                                                                                                                                                                  | 2        | 0.25      | dev     |                   |\n",
      "| 310 | VbHdjxinAXk_2490.72-2510.16.wav   | i prezentirati mu ono što bi on možda mogao i realizirati iznimno je važno evo poštovani kolega                                                                                                                                       | i prezentirati mu ono što bi on možda mogao i realizirati iznimno je važno evo poštovani kolega                                                                                                                 | i prezentirati m ono što bi on možda mogao i realizirati iznimno je važno evo puno vam hvala hvala imamo dvije replike prva je uvaženog zastupnika branka hrga hvala lijepa poštovani kolega                                 | 0.941176 | 1         | dev     |                   |\n",
      "| 336 | l_K8z4JMT9k_6360.98-6378.72.wav   | ispod žita nije prodaja na londonskoj burzi hadeze nije prodao ni jednu dionicu molu ni jednu jedinu za razliku od esdepe koji je prodao dvadeset pet posto dionice inae molu hvala lijepa na držanju preciznosti što se vremena tiče | ispod žita nije prodaja na londonskoj burzi hdz nije prodao ni jednu dionicu molu ni jednu jedinu za razliku od sdp koji je prodao 25 dionice inae molu hvala lijepa na držanju preciznosti što se vremena tiče | ispod žita nije prodajana londonskoj burzi hadeze nije prodao nijednu dionicu molu nijednu jedinu za razliku od esdepea koji prodao dvadeset pet posto dionica inemolu hvala lijepa na drženju preciznosti šlosevremena tiće | 0.410256 | 0.0655022 | dev     |                   |\n",
      "| 202 | XDOVoojci5A_23516.14-23516.76.wav | odlaze                                                                                                                                                                                                                                | odlaze                                                                                                                                                                                                          | odnose                                                                                                                                                                                                                       | 1        | 0.5       | nan     | nan               |\n",
      "| 275 | g_7n37_9B_E_7943.1-7944.4.wav     | neizvjesnost dovodi                                                                                                                                                                                                                   | neizvjesnost dovodi                                                                                                                                                                                             | neizvjesnost dovodi do                                                                                                                                                                                                       | 0.5      | 0.157895  | nan     | nan               |\n",
      "| 202 | XDOVoojci5A_23516.14-23516.76.wav | odlaze                                                                                                                                                                                                                                | odlaze                                                                                                                                                                                                          | odnose                                                                                                                                                                                                                       | 1        | 0.5       | nan     | nan               |\n",
      "| 275 | g_7n37_9B_E_7943.1-7944.4.wav     | neizvjesnost dovodi                                                                                                                                                                                                                   | neizvjesnost dovodi                                                                                                                                                                                             | neizvjesnost dovodi do                                                                                                                                                                                                       | 0.5      | 0.157895  | nan     | nan               |\n"
     ]
    }
   ],
   "source": [
    "\n",
    "d = pd.concat([d, test[test.wer>0.4]])\n",
    "\n",
    "print(d.to_markdown())"
   ]
  },
  {
   "cell_type": "code",
   "execution_count": null,
   "metadata": {},
   "outputs": [],
   "source": []
  }
 ],
 "metadata": {
  "interpreter": {
   "hash": "7f6f5766036ee03d059e365a942add07f79c17033585e9357ee8157d52fe6bb9"
  },
  "kernelspec": {
   "display_name": "Python 3.8.3 ('base')",
   "language": "python",
   "name": "python3"
  },
  "language_info": {
   "codemirror_mode": {
    "name": "ipython",
    "version": 3
   },
   "file_extension": ".py",
   "mimetype": "text/x-python",
   "name": "python",
   "nbconvert_exporter": "python",
   "pygments_lexer": "ipython3",
   "version": "3.8.3"
  },
  "orig_nbformat": 4
 },
 "nbformat": 4,
 "nbformat_minor": 2
}
