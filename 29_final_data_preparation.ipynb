{
 "cells": [
  {
   "cell_type": "code",
   "execution_count": 11,
   "metadata": {},
   "outputs": [],
   "source": [
    "import pandas as pd\n",
    "\n",
    "df = pd.read_json(\"ParlaSpeech-HR.v1.0.jsonl\", orient=\"records\", lines=True)"
   ]
  },
  {
   "cell_type": "code",
   "execution_count": 12,
   "metadata": {},
   "outputs": [],
   "source": [
    "dev = df[df.split==\"dev\"]\n",
    "test = df[df.split==\"test\"]\n",
    "\n",
    "needed_files = dev.path.values.tolist() + test.path.values.tolist()\n",
    "needed_files = set(needed_files)"
   ]
  },
  {
   "cell_type": "markdown",
   "metadata": {},
   "source": [
    "Ok, I shall transfer these files to kt-gpu-vm-1Tb"
   ]
  },
  {
   "cell_type": "code",
   "execution_count": 13,
   "metadata": {},
   "outputs": [],
   "source": [
    "for file in needed_files:\n",
    "    os.system(\n",
    "        f'cp data_16000_mono/{file} transfer_10/{file}' \n",
    "    )"
   ]
  },
  {
   "cell_type": "markdown",
   "metadata": {},
   "source": [
    "# 'Full scale' data preparation:\n",
    "\n",
    "I shall prepare a dataset just big enough to fit in remaining disk space on kt-gpu-cm-1TB."
   ]
  },
  {
   "cell_type": "code",
   "execution_count": 2,
   "metadata": {},
   "outputs": [],
   "source": [
    "import pandas as pd\n",
    "\n",
    "df = pd.read_json(\"ParlaSpeech-HR.v1.0.jsonl\", orient=\"records\", lines=True)\n",
    "\n",
    "import os\n",
    "def cp(file):\n",
    "    if os.path.exists(os.path.join(\n",
    "                                    \"/home/rupnik/macocu/task8/transfer_10\",\n",
    "                                    file\n",
    "                                    )):\n",
    "        return\n",
    "    os.system(\n",
    "        f'cp data_16000_mono/{file} transfer_10/{file}' \n",
    "    )\n",
    "from concurrent.futures import ProcessPoolExecutor\n",
    "with ProcessPoolExecutor(max_workers=60) as executor:\n",
    "    executor.map(cp, df.path)\n"
   ]
  },
  {
   "cell_type": "code",
   "execution_count": null,
   "metadata": {},
   "outputs": [],
   "source": []
  }
 ],
 "metadata": {
  "interpreter": {
   "hash": "2d30c88cb7145d662123f76f8c64609bc18e52940d2861adec2407b68f2e334f"
  },
  "kernelspec": {
   "display_name": "Python 3.9.7 ('base')",
   "language": "python",
   "name": "python3"
  },
  "language_info": {
   "codemirror_mode": {
    "name": "ipython",
    "version": 3
   },
   "file_extension": ".py",
   "mimetype": "text/x-python",
   "name": "python",
   "nbconvert_exporter": "python",
   "pygments_lexer": "ipython3",
   "version": "3.9.7"
  },
  "orig_nbformat": 4
 },
 "nbformat": 4,
 "nbformat_minor": 2
}
