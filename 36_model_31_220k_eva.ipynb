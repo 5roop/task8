{
 "cells": [
  {
   "cell_type": "code",
   "execution_count": 1,
   "metadata": {},
   "outputs": [
    {
     "name": "stderr",
     "output_type": "stream",
     "text": [
      "Special tokens have been added in the vocabulary, make sure the associated word embeddings are fine-tuned or trained.\n"
     ]
    }
   ],
   "source": [
    "from datasets import load_metric\n",
    "wer_metric = load_metric(\"wer\")\n",
    "cer_metric = load_metric(\"cer\")\n",
    "\n",
    "import pandas as pd\n",
    "import os\n",
    "import torch\n",
    "from transformers import Wav2Vec2Processor, Wav2Vec2ForCTC\n",
    "from transformers import Wav2Vec2FeatureExtractor\n",
    "from transformers import Wav2Vec2Processor, Wav2Vec2CTCTokenizer\n",
    "import soundfile as sf\n",
    "import os\n",
    "# Use old or new vocab? \n",
    "os.system(\"cp vocab_300_with_numbers.json vocab.json\")\n",
    "\n",
    "\n",
    "\n",
    "tokenizer = Wav2Vec2CTCTokenizer.from_pretrained(\n",
    "        \"/home/peterr/macocu/task8/\", unk_token=\"[UNK]\", \n",
    "        pad_token=\"[PAD]\", word_delimiter_token=\" \")\n",
    "feature_extractor = Wav2Vec2FeatureExtractor(\n",
    "    feature_size=1, sampling_rate=16000, padding_value=0.0, do_normalize=True, return_attention_mask=True)\n",
    "\n",
    "processor = Wav2Vec2Processor(\n",
    "    feature_extractor=feature_extractor, tokenizer=tokenizer)\n",
    "model = Wav2Vec2ForCTC.from_pretrained(\"/home/peterr/macocu/task8/31_normalised_220k/checkpoint-6500\").cuda()\n",
    "\n",
    "def transcribe(path):\n",
    "    speech, sample_rate = sf.read(path)\n",
    "    input_values = processor(speech, sampling_rate=sample_rate, return_tensors=\"pt\").input_values.cuda()\n",
    "\n",
    "    logits = model(input_values).logits\n",
    "\n",
    "    predicted_ids = torch.argmax(logits, dim=-1)\n",
    "    transcription = processor.decode(predicted_ids[0]).lower()\n",
    "    return transcription\n"
   ]
  },
  {
   "cell_type": "code",
   "execution_count": 2,
   "metadata": {},
   "outputs": [
    {
     "data": {
      "text/plain": [
       "Index(['hashname', 'orig_file', 'start', 'end', 'words', 'word_start_times',\n",
       "       'norm_words', 'norm_words_start_times', 'utterance_id_start',\n",
       "       'utterance_id_end', 'speaker_info', 'split', 'norm_words_edited',\n",
       "       'sentence', 'Speaker_role', 'Speaker_type', 'Speaker_party',\n",
       "       'Speaker_party_name', 'Party_status', 'Speaker_name', 'Speaker_gender',\n",
       "       'Speaker_birth'],\n",
       "      dtype='object')"
      ]
     },
     "execution_count": 2,
     "metadata": {},
     "output_type": "execute_result"
    }
   ],
   "source": [
    "import pandas as pd\n",
    "\n",
    "df = pd.read_csv(\"35_eval_split.csv\")\n",
    "df.columns"
   ]
  },
  {
   "cell_type": "code",
   "execution_count": 4,
   "metadata": {},
   "outputs": [],
   "source": [
    "df[\"original_transcript\"] = df.words.apply(\" \".join)"
   ]
  },
  {
   "cell_type": "code",
   "execution_count": 5,
   "metadata": {},
   "outputs": [],
   "source": [
    "import os\n",
    "df[\"path\"] = df.hashname.apply(lambda s: os.path.join(\"/home/peterr/macocu/task8/transfer\", s))\n",
    "df[\"model_transcript\"] = df.path.apply(transcribe)"
   ]
  },
  {
   "cell_type": "code",
   "execution_count": 6,
   "metadata": {},
   "outputs": [],
   "source": [
    "df.to_csv(\"36_eval_split_with_full_data_and_transcription.csv\", index=False)"
   ]
  },
  {
   "cell_type": "code",
   "execution_count": null,
   "metadata": {},
   "outputs": [],
   "source": []
  }
 ],
 "metadata": {
  "interpreter": {
   "hash": "7f6f5766036ee03d059e365a942add07f79c17033585e9357ee8157d52fe6bb9"
  },
  "kernelspec": {
   "display_name": "Python 3.8.3 ('base')",
   "language": "python",
   "name": "python3"
  },
  "language_info": {
   "codemirror_mode": {
    "name": "ipython",
    "version": 3
   },
   "file_extension": ".py",
   "mimetype": "text/x-python",
   "name": "python",
   "nbconvert_exporter": "python",
   "pygments_lexer": "ipython3",
   "version": "3.8.3"
  },
  "orig_nbformat": 4
 },
 "nbformat": 4,
 "nbformat_minor": 2
}
