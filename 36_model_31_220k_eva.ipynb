{
 "cells": [
  {
   "cell_type": "code",
   "execution_count": 26,
   "metadata": {},
   "outputs": [
    {
     "name": "stderr",
     "output_type": "stream",
     "text": [
      "Special tokens have been added in the vocabulary, make sure the associated word embeddings are fine-tuned or trained.\n"
     ]
    }
   ],
   "source": [
    "from datasets import load_metric\n",
    "wer_metric = load_metric(\"wer\")\n",
    "cer_metric = load_metric(\"cer\")\n",
    "\n",
    "import pandas as pd\n",
    "import os\n",
    "import torch\n",
    "from transformers import Wav2Vec2Processor, Wav2Vec2ForCTC\n",
    "from transformers import Wav2Vec2FeatureExtractor\n",
    "from transformers import Wav2Vec2Processor, Wav2Vec2CTCTokenizer\n",
    "import soundfile as sf\n",
    "import os\n",
    "# Use old or new vocab? \n",
    "os.system(\"cp vocab_300_with_numbers.json vocab.json\")\n",
    "\n",
    "\n",
    "\n",
    "tokenizer = Wav2Vec2CTCTokenizer.from_pretrained(\n",
    "        \"/home/peterr/macocu/task8/\", unk_token=\"[UNK]\", \n",
    "        pad_token=\"[PAD]\", word_delimiter_token=\" \")\n",
    "feature_extractor = Wav2Vec2FeatureExtractor(\n",
    "    feature_size=1, sampling_rate=16000, padding_value=0.0, do_normalize=True, return_attention_mask=True)\n",
    "\n",
    "processor = Wav2Vec2Processor(\n",
    "    feature_extractor=feature_extractor, tokenizer=tokenizer)\n",
    "model = Wav2Vec2ForCTC.from_pretrained(\"/home/peterr/macocu/task8/31_normalised_220k/checkpoint-6500\").cuda()\n",
    "\n",
    "def transcribe(path):\n",
    "    speech, sample_rate = sf.read(path)\n",
    "    input_values = processor(speech, sampling_rate=sample_rate, return_tensors=\"pt\").input_values.cuda()\n",
    "\n",
    "    logits = model(input_values).logits\n",
    "\n",
    "    predicted_ids = torch.argmax(logits, dim=-1)\n",
    "    transcription = processor.decode(predicted_ids[0]).lower()\n",
    "    return transcription\n"
   ]
  },
  {
   "cell_type": "code",
   "execution_count": 27,
   "metadata": {},
   "outputs": [
    {
     "data": {
      "text/plain": [
       "Index(['hashname', 'orig_file', 'start', 'end', 'words', 'word_start_times',\n",
       "       'norm_words', 'norm_words_start_times', 'utterance_id_start',\n",
       "       'utterance_id_end', 'speaker_info', 'split', 'norm_words_edited',\n",
       "       'sentence', 'Speaker_role', 'Speaker_type', 'Speaker_party',\n",
       "       'Speaker_party_name', 'Party_status', 'Speaker_name', 'Speaker_gender',\n",
       "       'Speaker_birth'],\n",
       "      dtype='object')"
      ]
     },
     "execution_count": 27,
     "metadata": {},
     "output_type": "execute_result"
    }
   ],
   "source": [
    "import pandas as pd\n",
    "\n",
    "df = pd.read_csv(\"35_eval_split.csv\")\n",
    "df.columns"
   ]
  },
  {
   "cell_type": "code",
   "execution_count": 28,
   "metadata": {},
   "outputs": [],
   "source": [
    "import os\n",
    "df[\"path\"] = df.hashname.apply(lambda s: os.path.join(\"/home/peterr/macocu/task8/transfer\", s))\n",
    "df[\"model_transcript\"] = df.path.apply(transcribe)"
   ]
  },
  {
   "cell_type": "code",
   "execution_count": 29,
   "metadata": {},
   "outputs": [],
   "source": [
    "df.to_csv(\"36_eval_split_with_full_data_and_transcription.csv\", index=False)"
   ]
  },
  {
   "cell_type": "code",
   "execution_count": 30,
   "metadata": {},
   "outputs": [
    {
     "data": {
      "text/html": [
       "<div>\n",
       "<style scoped>\n",
       "    .dataframe tbody tr th:only-of-type {\n",
       "        vertical-align: middle;\n",
       "    }\n",
       "\n",
       "    .dataframe tbody tr th {\n",
       "        vertical-align: top;\n",
       "    }\n",
       "\n",
       "    .dataframe thead th {\n",
       "        text-align: right;\n",
       "    }\n",
       "</style>\n",
       "<table border=\"1\" class=\"dataframe\">\n",
       "  <thead>\n",
       "    <tr style=\"text-align: right;\">\n",
       "      <th></th>\n",
       "      <th>path</th>\n",
       "      <th>sentence</th>\n",
       "      <th>model_transcript</th>\n",
       "    </tr>\n",
       "  </thead>\n",
       "  <tbody>\n",
       "    <tr>\n",
       "      <th>0</th>\n",
       "      <td>/home/peterr/macocu/task8/transfer/Ki_SnDM_EkQ_2917.58-2937.5.wav</td>\n",
       "      <td>izraelska tvrtka prodaje avione hrvatskoj direktni poslovni partner king icta s kojega je došao ministar obrane i direktni poslovni partner airo partner koji je dakle optužen i je sudjelovao u dodijeli novca u kešu dakle mito</td>\n",
       "      <td>iizrelatska tvrtka prodajavione hrvatskoj djirektni posoni parnevi igintcas koji je dakle skoji go je došio ministarobrne i direktni posovani partnje raro partnera koji je dakle optužen i je sudjelovo u dodjeli novca ukešo dakle mitu</td>\n",
       "    </tr>\n",
       "    <tr>\n",
       "      <th>1</th>\n",
       "      <td>/home/peterr/macocu/task8/transfer/XguZsDKdRh4_13797.59-13811.74.wav</td>\n",
       "      <td>jučer trećem sutra ili prekosutra četvrtoj osobi dakle ne samo što samo kao saborski zastupnici uživamo u činjenici da posjedujemo imunitet nego još si dozvoljavamo da na otvorenoj sceni</td>\n",
       "      <td>i u 4će sutalji preksuta4tosbe dakle nekao samo što kao saborski zastupnici uživamo učinici da psjedmo imunitet nego još si dozvoljavamo dana otvrednoj ceni</td>\n",
       "    </tr>\n",
       "    <tr>\n",
       "      <th>2</th>\n",
       "      <td>/home/peterr/macocu/task8/transfer/Ow2zEc4S9Tk_14677.57-14697.13.wav</td>\n",
       "      <td>djeca u dobi od 8 godina i imaju šansu da budu posvojeni ali ova djeca iznad 8 godina nažalost ja to moram relativno grubo reći ali njihova šansa da budu posvojeni su je znatno znatno smanjena mi</td>\n",
       "      <td>djeca u dobi do8 godina i imaju šansu da bud posleni ali ova djeca iznad 8 godina na žalost ja to moram relativno grubo reći ali njihova šansa da bude da budu posvojjeni su je znatno znatno smanjena mi</td>\n",
       "    </tr>\n",
       "    <tr>\n",
       "      <th>3</th>\n",
       "      <td>/home/peterr/macocu/task8/transfer/41IJX-I7KUk_2061.17-2068.47.wav</td>\n",
       "      <td>koja će prekontrolirati što se je dogodilo 22. ožujka i da li su prekršeni zakoni rh</td>\n",
       "      <td>koja će prekontrolirati šta se dogodilo 20 drugog ožujka i dali su prekrišeni zakoni rh</td>\n",
       "    </tr>\n",
       "    <tr>\n",
       "      <th>4</th>\n",
       "      <td>/home/peterr/macocu/task8/transfer/Kt0nJgPw41E_2522.89-2542.02.wav</td>\n",
       "      <td>i donijeli odluku o istražnog povjerenstva govori da smo u okviru zakona spremni podržati osnivanjem istražnog povjerenstva koje bi se bavilo svim aspektima krize u agrokoru što je upravo bio slučaj kada smo tu odluku raspravili i onda je kasnije</td>\n",
       "      <td>i donijeli odluko snivanje stažnog povjerenstva govori da je smo u okviru zakona sprejemni podržati osnivanje istačnog povjerenstva koji bi se bavilo s fim aspektima krizeoagrokorušte upravo bio slučaj kada smo tu odluku raspravili i onda je kasnije</td>\n",
       "    </tr>\n",
       "    <tr>\n",
       "      <th>...</th>\n",
       "      <td>...</td>\n",
       "      <td>...</td>\n",
       "      <td>...</td>\n",
       "    </tr>\n",
       "    <tr>\n",
       "      <th>495</th>\n",
       "      <td>/home/peterr/macocu/task8/transfer/IRBTIpmhJe8_14598.0-14617.44.wav</td>\n",
       "      <td>da se pokušamo razmisliti da se vratimo na jedan upravni postupak i time smo još dalje ubrzali same procedure i zaključno reći ću još jedan prijedlog ukoliko budemo o tome raspravljali naime danas govorimo o važnosti investiranja i brzini ishođenja dokumenata za samo</td>\n",
       "      <td>da se pokušamo razmisliti da se vlatimu najdn uprani postupak i timi smo još dali je ubrzali same procedura i zaključno reće ću još jednu  prijedlog u koliko budemo o tome raspravlji naime da nas govorimo o važnosti investiranja i brzini ishođenja dokumenata za samu</td>\n",
       "    </tr>\n",
       "    <tr>\n",
       "      <th>496</th>\n",
       "      <td>/home/peterr/macocu/task8/transfer/0n_W0iHVhpU_10409.72-10429.27.wav</td>\n",
       "      <td>i prema lokaciji nekretnine a ne prema mjestu prebivališta to je jako dobro i mislim da je to poticajno i za one jedinice lokalne samouprave na čijem prostoru je najviše upravo takvih nekretnina odnosno zgrada koje se iznajmljuju jer mislim da je to i opravdano i pravično premda je to izuzetak u odnosu na plaćanje poreza na dohodak koji se plaća prema mjestu</td>\n",
       "      <td>prema lokaciji nekretnine a neprea mjestu probivališta t je jako dobro ji mislim da je to potecajno i za one jedinicie lokalne samuprave na čm prostore najviše upravu takvih nekretnina koj se odosnog zgrada koji se iznamliui jer mislim da je to io pravdano i pravićno premda je to izruzetaku udnosu na plaćanje porezna dohoda koji se plaća pna mjestu</td>\n",
       "    </tr>\n",
       "    <tr>\n",
       "      <th>497</th>\n",
       "      <td>/home/peterr/macocu/task8/transfer/KnLfswocmwE_3789.82-3803.8.wav</td>\n",
       "      <td>naime nedopustivo je i neprihvatljivo je da se ova govornica koristi kako bi se preko leđa jednog čovjeka koji ima problema sa svojim poslodavcem a o kojem se problemu očitovalo dorh</td>\n",
       "      <td>naime nedopustivoje i neprihvatljivaje da vo govornica koristika koji se prekoleđa jednog čovjeka koji ima problema sa svim posodacim ao kom se problemu očitovalo drž</td>\n",
       "    </tr>\n",
       "    <tr>\n",
       "      <th>498</th>\n",
       "      <td>/home/peterr/macocu/task8/transfer/fBdFnui_Ahs_5404.09-5423.43.wav</td>\n",
       "      <td>i prošle godine iz razloga kako bismo propisali način i utvrdili podatke koje se prikupljaju pri državnoj geodetskoj upravi koja je institucija nacionalna kod nacionalna</td>\n",
       "      <td>i proštegodine iz razloga kako bi smo propisali način i utvrdili podatke koje se prikupljaju p državnoj geveskoj upravi koje koja je institucija načionalna o nacionalna</td>\n",
       "    </tr>\n",
       "    <tr>\n",
       "      <th>499</th>\n",
       "      <td>/home/peterr/macocu/task8/transfer/njma4HsOql4_3536.43-3546.67.wav</td>\n",
       "      <td>ne budu imali više od 40 godina staža prema tome sve zajedno mi ćemo još ovdje u klubu se nekoliko puta osvrnuti na mirovinsku reformu hvala</td>\n",
       "      <td>budo i malije fiše očee godina staža prema tome sve zajedno mićemo ješovdjei u klubu se nekoko puta sundi na na mirovinsku reformu hvala</td>\n",
       "    </tr>\n",
       "  </tbody>\n",
       "</table>\n",
       "<p>500 rows × 3 columns</p>\n",
       "</div>"
      ],
      "text/plain": [
       "                                                                     path  \\\n",
       "0       /home/peterr/macocu/task8/transfer/Ki_SnDM_EkQ_2917.58-2937.5.wav   \n",
       "1    /home/peterr/macocu/task8/transfer/XguZsDKdRh4_13797.59-13811.74.wav   \n",
       "2    /home/peterr/macocu/task8/transfer/Ow2zEc4S9Tk_14677.57-14697.13.wav   \n",
       "3      /home/peterr/macocu/task8/transfer/41IJX-I7KUk_2061.17-2068.47.wav   \n",
       "4      /home/peterr/macocu/task8/transfer/Kt0nJgPw41E_2522.89-2542.02.wav   \n",
       "..                                                                    ...   \n",
       "495   /home/peterr/macocu/task8/transfer/IRBTIpmhJe8_14598.0-14617.44.wav   \n",
       "496  /home/peterr/macocu/task8/transfer/0n_W0iHVhpU_10409.72-10429.27.wav   \n",
       "497     /home/peterr/macocu/task8/transfer/KnLfswocmwE_3789.82-3803.8.wav   \n",
       "498    /home/peterr/macocu/task8/transfer/fBdFnui_Ahs_5404.09-5423.43.wav   \n",
       "499    /home/peterr/macocu/task8/transfer/njma4HsOql4_3536.43-3546.67.wav   \n",
       "\n",
       "                                                                                                                                                                                                                                                                                                                                                                     sentence  \\\n",
       "0                                                                                                                                           izraelska tvrtka prodaje avione hrvatskoj direktni poslovni partner king icta s kojega je došao ministar obrane i direktni poslovni partner airo partner koji je dakle optužen i je sudjelovao u dodijeli novca u kešu dakle mito   \n",
       "1                                                                                                                                                                                  jučer trećem sutra ili prekosutra četvrtoj osobi dakle ne samo što samo kao saborski zastupnici uživamo u činjenici da posjedujemo imunitet nego još si dozvoljavamo da na otvorenoj sceni   \n",
       "2                                                                                                                                                                         djeca u dobi od 8 godina i imaju šansu da budu posvojeni ali ova djeca iznad 8 godina nažalost ja to moram relativno grubo reći ali njihova šansa da budu posvojeni su je znatno znatno smanjena mi   \n",
       "3                                                                                                                                                                                                                                                                                        koja će prekontrolirati što se je dogodilo 22. ožujka i da li su prekršeni zakoni rh   \n",
       "4                                                                                                                      i donijeli odluku o istražnog povjerenstva govori da smo u okviru zakona spremni podržati osnivanjem istražnog povjerenstva koje bi se bavilo svim aspektima krize u agrokoru što je upravo bio slučaj kada smo tu odluku raspravili i onda je kasnije   \n",
       "..                                                                                                                                                                                                                                                                                                                                                                        ...   \n",
       "495                                                                                               da se pokušamo razmisliti da se vratimo na jedan upravni postupak i time smo još dalje ubrzali same procedure i zaključno reći ću još jedan prijedlog ukoliko budemo o tome raspravljali naime danas govorimo o važnosti investiranja i brzini ishođenja dokumenata za samo   \n",
       "496  i prema lokaciji nekretnine a ne prema mjestu prebivališta to je jako dobro i mislim da je to poticajno i za one jedinice lokalne samouprave na čijem prostoru je najviše upravo takvih nekretnina odnosno zgrada koje se iznajmljuju jer mislim da je to i opravdano i pravično premda je to izuzetak u odnosu na plaćanje poreza na dohodak koji se plaća prema mjestu   \n",
       "497                                                                                                                                                                                    naime nedopustivo je i neprihvatljivo je da se ova govornica koristi kako bi se preko leđa jednog čovjeka koji ima problema sa svojim poslodavcem a o kojem se problemu očitovalo dorh   \n",
       "498                                                                                                                                                                                                 i prošle godine iz razloga kako bismo propisali način i utvrdili podatke koje se prikupljaju pri državnoj geodetskoj upravi koja je institucija nacionalna kod nacionalna   \n",
       "499                                                                                                                                                                                                                              ne budu imali više od 40 godina staža prema tome sve zajedno mi ćemo još ovdje u klubu se nekoliko puta osvrnuti na mirovinsku reformu hvala   \n",
       "\n",
       "                                                                                                                                                                                                                                                                                                                                                   model_transcript  \n",
       "0                                                                                                                         iizrelatska tvrtka prodajavione hrvatskoj djirektni posoni parnevi igintcas koji je dakle skoji go je došio ministarobrne i direktni posovani partnje raro partnera koji je dakle optužen i je sudjelovo u dodjeli novca ukešo dakle mitu  \n",
       "1                                                                                                                                                                                                      i u 4će sutalji preksuta4tosbe dakle nekao samo što kao saborski zastupnici uživamo učinici da psjedmo imunitet nego još si dozvoljavamo dana otvrednoj ceni  \n",
       "2                                                                                                                                                         djeca u dobi do8 godina i imaju šansu da bud posleni ali ova djeca iznad 8 godina na žalost ja to moram relativno grubo reći ali njihova šansa da bude da budu posvojjeni su je znatno znatno smanjena mi  \n",
       "3                                                                                                                                                                                                                                                                           koja će prekontrolirati šta se dogodilo 20 drugog ožujka i dali su prekrišeni zakoni rh  \n",
       "4                                                                                                         i donijeli odluko snivanje stažnog povjerenstva govori da je smo u okviru zakona sprejemni podržati osnivanje istačnog povjerenstva koji bi se bavilo s fim aspektima krizeoagrokorušte upravo bio slučaj kada smo tu odluku raspravili i onda je kasnije  \n",
       "..                                                                                                                                                                                                                                                                                                                                                              ...  \n",
       "495                                                                                      da se pokušamo razmisliti da se vlatimu najdn uprani postupak i timi smo još dali je ubrzali same procedura i zaključno reće ću još jednu  prijedlog u koliko budemo o tome raspravlji naime da nas govorimo o važnosti investiranja i brzini ishođenja dokumenata za samu  \n",
       "496  prema lokaciji nekretnine a neprea mjestu probivališta t je jako dobro ji mislim da je to potecajno i za one jedinicie lokalne samuprave na čm prostore najviše upravu takvih nekretnina koj se odosnog zgrada koji se iznamliui jer mislim da je to io pravdano i pravićno premda je to izruzetaku udnosu na plaćanje porezna dohoda koji se plaća pna mjestu  \n",
       "497                                                                                                                                                                                          naime nedopustivoje i neprihvatljivaje da vo govornica koristika koji se prekoleđa jednog čovjeka koji ima problema sa svim posodacim ao kom se problemu očitovalo drž  \n",
       "498                                                                                                                                                                                        i proštegodine iz razloga kako bi smo propisali način i utvrdili podatke koje se prikupljaju p državnoj geveskoj upravi koje koja je institucija načionalna o nacionalna  \n",
       "499                                                                                                                                                                                                                        budo i malije fiše očee godina staža prema tome sve zajedno mićemo ješovdjei u klubu se nekoko puta sundi na na mirovinsku reformu hvala  \n",
       "\n",
       "[500 rows x 3 columns]"
      ]
     },
     "execution_count": 30,
     "metadata": {},
     "output_type": "execute_result"
    }
   ],
   "source": [
    "\n",
    "pd.set_option('display.max_colwidth', None)\n",
    "df[[\"path\",\"sentence\", \"model_transcript\"]]"
   ]
  },
  {
   "cell_type": "code",
   "execution_count": null,
   "metadata": {},
   "outputs": [],
   "source": []
  }
 ],
 "metadata": {
  "interpreter": {
   "hash": "7f6f5766036ee03d059e365a942add07f79c17033585e9357ee8157d52fe6bb9"
  },
  "kernelspec": {
   "display_name": "Python 3.8.3 ('base')",
   "language": "python",
   "name": "python3"
  },
  "language_info": {
   "codemirror_mode": {
    "name": "ipython",
    "version": 3
   },
   "file_extension": ".py",
   "mimetype": "text/x-python",
   "name": "python",
   "nbconvert_exporter": "python",
   "pygments_lexer": "ipython3",
   "version": "3.8.3"
  },
  "orig_nbformat": 4
 },
 "nbformat": 4,
 "nbformat_minor": 2
}
