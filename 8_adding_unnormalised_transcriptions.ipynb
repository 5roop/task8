{
 "cells": [
  {
   "cell_type": "code",
   "execution_count": 2,
   "metadata": {},
   "outputs": [],
   "source": [
    "import pandas as pd\n",
    "unnorm_path = \"/home/korzinek/kaldi/exp/ali_all/unnorm.json\"\n",
    "import json\n",
    "contents = list()\n",
    "with open(unnorm_path, \"r\") as file:\n",
    "    for line in file.readlines():\n",
    "        contents.append(json.loads(line))\n",
    "import pandas as pd\n",
    "unnorm = pd.DataFrame(contents)"
   ]
  },
  {
   "cell_type": "code",
   "execution_count": 4,
   "metadata": {},
   "outputs": [
    {
     "data": {
      "text/html": [
       "<div>\n",
       "<style scoped>\n",
       "    .dataframe tbody tr th:only-of-type {\n",
       "        vertical-align: middle;\n",
       "    }\n",
       "\n",
       "    .dataframe tbody tr th {\n",
       "        vertical-align: top;\n",
       "    }\n",
       "\n",
       "    .dataframe thead th {\n",
       "        text-align: right;\n",
       "    }\n",
       "</style>\n",
       "<table border=\"1\" class=\"dataframe\">\n",
       "  <thead>\n",
       "    <tr style=\"text-align: right;\">\n",
       "      <th></th>\n",
       "      <th>file</th>\n",
       "      <th>start</th>\n",
       "      <th>end</th>\n",
       "      <th>words</th>\n",
       "      <th>word_start_times</th>\n",
       "      <th>word_end_times</th>\n",
       "      <th>asr</th>\n",
       "      <th>true_file</th>\n",
       "      <th>reconame</th>\n",
       "      <th>longname</th>\n",
       "      <th>yt_hash</th>\n",
       "      <th>hashname</th>\n",
       "      <th>key</th>\n",
       "      <th>was_in_samples</th>\n",
       "      <th>human_transcript</th>\n",
       "      <th>asr_transcript</th>\n",
       "      <th>sim</th>\n",
       "      <th>split</th>\n",
       "    </tr>\n",
       "  </thead>\n",
       "  <tbody>\n",
       "    <tr>\n",
       "      <th>0</th>\n",
       "      <td>01 12 2016 - 1. dio, 2. sjednica, 9. saziv [sP...</td>\n",
       "      <td>1853.82</td>\n",
       "      <td>1873.66</td>\n",
       "      <td>['konačni', 'prijedlog', 'zakona', 'o', 'izmje...</td>\n",
       "      <td>[0, 0.47, 0.8, 1.21, 1.26, 1.79, 1.82, 2.34, 2...</td>\n",
       "      <td>[0.47, 0.8, 1.21, 1.26, 1.79, 1.82, 2.34, 2.78...</td>\n",
       "      <td>['konačni', 'prijedlog', 'zakona', 'o', 'izmje...</td>\n",
       "      <td>01 12 2016 - 1. dio, 2. sjednica, 9. saziv [sP...</td>\n",
       "      <td>reco723</td>\n",
       "      <td>01 12 2016 - 1. dio, 2. sjednica, 9. saziv [sP...</td>\n",
       "      <td>sPNuDebATRM</td>\n",
       "      <td>sPNuDebATRM_1853.82-1873.66.wav</td>\n",
       "      <td>01 12 2016 - 1. dio, 2. sjednica, 9. saziv [sP...</td>\n",
       "      <td>False</td>\n",
       "      <td>konačni prijedlog zakona o izmjenama i dopunam...</td>\n",
       "      <td>konačni prijedlog zakona o izmjenama i dopunam...</td>\n",
       "      <td>0.99665</td>\n",
       "      <td>train</td>\n",
       "    </tr>\n",
       "    <tr>\n",
       "      <th>1</th>\n",
       "      <td>01 12 2016 - 1. dio, 2. sjednica, 9. saziv [sP...</td>\n",
       "      <td>1874.08</td>\n",
       "      <td>1893.99</td>\n",
       "      <td>['u', 'svezi', 'sa', 'člankom', 'sto', 'devede...</td>\n",
       "      <td>[0, 0.11, 0.48, 0.66, 1.12, 1.36, 1.94, 2.53, ...</td>\n",
       "      <td>[0.11, 0.48, 0.66, 1.12, 1.36, 1.94, 2.53, 3.0...</td>\n",
       "      <td>['u', 'svezi', 'sa', 'člankom', 'sto', 'devede...</td>\n",
       "      <td>01 12 2016 - 1. dio, 2. sjednica, 9. saziv [sP...</td>\n",
       "      <td>reco723</td>\n",
       "      <td>01 12 2016 - 1. dio, 2. sjednica, 9. saziv [sP...</td>\n",
       "      <td>sPNuDebATRM</td>\n",
       "      <td>sPNuDebATRM_1874.08-1893.99.wav</td>\n",
       "      <td>01 12 2016 - 1. dio, 2. sjednica, 9. saziv [sP...</td>\n",
       "      <td>False</td>\n",
       "      <td>u svezi sa člankom sto devedeset poslovnika hr...</td>\n",
       "      <td>u svezi sa člankom sto devedeset poslovnika hr...</td>\n",
       "      <td>1.00000</td>\n",
       "      <td>train</td>\n",
       "    </tr>\n",
       "  </tbody>\n",
       "</table>\n",
       "</div>"
      ],
      "text/plain": [
       "                                                file    start      end  \\\n",
       "0  01 12 2016 - 1. dio, 2. sjednica, 9. saziv [sP...  1853.82  1873.66   \n",
       "1  01 12 2016 - 1. dio, 2. sjednica, 9. saziv [sP...  1874.08  1893.99   \n",
       "\n",
       "                                               words  \\\n",
       "0  ['konačni', 'prijedlog', 'zakona', 'o', 'izmje...   \n",
       "1  ['u', 'svezi', 'sa', 'člankom', 'sto', 'devede...   \n",
       "\n",
       "                                    word_start_times  \\\n",
       "0  [0, 0.47, 0.8, 1.21, 1.26, 1.79, 1.82, 2.34, 2...   \n",
       "1  [0, 0.11, 0.48, 0.66, 1.12, 1.36, 1.94, 2.53, ...   \n",
       "\n",
       "                                      word_end_times  \\\n",
       "0  [0.47, 0.8, 1.21, 1.26, 1.79, 1.82, 2.34, 2.78...   \n",
       "1  [0.11, 0.48, 0.66, 1.12, 1.36, 1.94, 2.53, 3.0...   \n",
       "\n",
       "                                                 asr  \\\n",
       "0  ['konačni', 'prijedlog', 'zakona', 'o', 'izmje...   \n",
       "1  ['u', 'svezi', 'sa', 'člankom', 'sto', 'devede...   \n",
       "\n",
       "                                           true_file reconame  \\\n",
       "0  01 12 2016 - 1. dio, 2. sjednica, 9. saziv [sP...  reco723   \n",
       "1  01 12 2016 - 1. dio, 2. sjednica, 9. saziv [sP...  reco723   \n",
       "\n",
       "                                            longname      yt_hash  \\\n",
       "0  01 12 2016 - 1. dio, 2. sjednica, 9. saziv [sP...  sPNuDebATRM   \n",
       "1  01 12 2016 - 1. dio, 2. sjednica, 9. saziv [sP...  sPNuDebATRM   \n",
       "\n",
       "                          hashname  \\\n",
       "0  sPNuDebATRM_1853.82-1873.66.wav   \n",
       "1  sPNuDebATRM_1874.08-1893.99.wav   \n",
       "\n",
       "                                                 key  was_in_samples  \\\n",
       "0  01 12 2016 - 1. dio, 2. sjednica, 9. saziv [sP...           False   \n",
       "1  01 12 2016 - 1. dio, 2. sjednica, 9. saziv [sP...           False   \n",
       "\n",
       "                                    human_transcript  \\\n",
       "0  konačni prijedlog zakona o izmjenama i dopunam...   \n",
       "1  u svezi sa člankom sto devedeset poslovnika hr...   \n",
       "\n",
       "                                      asr_transcript      sim  split  \n",
       "0  konačni prijedlog zakona o izmjenama i dopunam...  0.99665  train  \n",
       "1  u svezi sa člankom sto devedeset poslovnika hr...  1.00000  train  "
      ]
     },
     "execution_count": 4,
     "metadata": {},
     "output_type": "execute_result"
    }
   ],
   "source": [
    "df = pd.read_csv(\"parlaspeech.csv\")\n",
    "df.head(2)"
   ]
  },
  {
   "cell_type": "code",
   "execution_count": 11,
   "metadata": {},
   "outputs": [
    {
     "data": {
      "text/html": [
       "<div>\n",
       "<style scoped>\n",
       "    .dataframe tbody tr th:only-of-type {\n",
       "        vertical-align: middle;\n",
       "    }\n",
       "\n",
       "    .dataframe tbody tr th {\n",
       "        vertical-align: top;\n",
       "    }\n",
       "\n",
       "    .dataframe thead th {\n",
       "        text-align: right;\n",
       "    }\n",
       "</style>\n",
       "<table border=\"1\" class=\"dataframe\">\n",
       "  <thead>\n",
       "    <tr style=\"text-align: right;\">\n",
       "      <th></th>\n",
       "      <th>file</th>\n",
       "      <th>start</th>\n",
       "      <th>end</th>\n",
       "      <th>words_unnormalized</th>\n",
       "      <th>word_start_times_unnormalized</th>\n",
       "      <th>word_end_times_unnormalized</th>\n",
       "      <th>key</th>\n",
       "    </tr>\n",
       "  </thead>\n",
       "  <tbody>\n",
       "    <tr>\n",
       "      <th>0</th>\n",
       "      <td>01 12 2016 - 1. dio, 2. sjednica, 9. saziv [sP...</td>\n",
       "      <td>1853.82</td>\n",
       "      <td>1873.66</td>\n",
       "      <td>[konačni, prijedlog, Zakona, o, izmjenama, i, ...</td>\n",
       "      <td>[0, 0.47, 0.8, 1.21, 1.26, 1.79, 1.82, 2.34, 2...</td>\n",
       "      <td>[0.47, 0.8, 1.21, 1.26, 1.79, 1.82, 2.34, 2.78...</td>\n",
       "      <td>01 12 2016 - 1. dio, 2. sjednica, 9. saziv [sP...</td>\n",
       "    </tr>\n",
       "    <tr>\n",
       "      <th>1</th>\n",
       "      <td>01 12 2016 - 1. dio, 2. sjednica, 9. saziv [sP...</td>\n",
       "      <td>1874.08</td>\n",
       "      <td>1893.99</td>\n",
       "      <td>[u, svezi, sa, člankom, 190., Poslovnika, Hrva...</td>\n",
       "      <td>[0, 0.11, 0.48, 0.66, 1.12, 1.94, 2.53, 3.0, 4...</td>\n",
       "      <td>[0.11, 0.48, 0.66, 1.12, 1.94, 2.53, 3.0, 3.46...</td>\n",
       "      <td>01 12 2016 - 1. dio, 2. sjednica, 9. saziv [sP...</td>\n",
       "    </tr>\n",
       "  </tbody>\n",
       "</table>\n",
       "</div>"
      ],
      "text/plain": [
       "                                                file    start      end  \\\n",
       "0  01 12 2016 - 1. dio, 2. sjednica, 9. saziv [sP...  1853.82  1873.66   \n",
       "1  01 12 2016 - 1. dio, 2. sjednica, 9. saziv [sP...  1874.08  1893.99   \n",
       "\n",
       "                                  words_unnormalized  \\\n",
       "0  [konačni, prijedlog, Zakona, o, izmjenama, i, ...   \n",
       "1  [u, svezi, sa, člankom, 190., Poslovnika, Hrva...   \n",
       "\n",
       "                       word_start_times_unnormalized  \\\n",
       "0  [0, 0.47, 0.8, 1.21, 1.26, 1.79, 1.82, 2.34, 2...   \n",
       "1  [0, 0.11, 0.48, 0.66, 1.12, 1.94, 2.53, 3.0, 4...   \n",
       "\n",
       "                         word_end_times_unnormalized  \\\n",
       "0  [0.47, 0.8, 1.21, 1.26, 1.79, 1.82, 2.34, 2.78...   \n",
       "1  [0.11, 0.48, 0.66, 1.12, 1.94, 2.53, 3.0, 3.46...   \n",
       "\n",
       "                                                 key  \n",
       "0  01 12 2016 - 1. dio, 2. sjednica, 9. saziv [sP...  \n",
       "1  01 12 2016 - 1. dio, 2. sjednica, 9. saziv [sP...  "
      ]
     },
     "execution_count": 11,
     "metadata": {},
     "output_type": "execute_result"
    }
   ],
   "source": [
    "unnorm = unnorm.rename(columns={\n",
    "    \"words\": \"words_unnormalized\",\n",
    "    \"word_start_times\": \"word_start_times_unnormalized\",\n",
    "    \"word_end_times\": \"word_end_times_unnormalized\"\n",
    "})\n",
    "unnorm.head(2)"
   ]
  },
  {
   "cell_type": "code",
   "execution_count": 8,
   "metadata": {},
   "outputs": [
    {
     "data": {
      "text/plain": [
       "((447542, 18), (442709, 6))"
      ]
     },
     "execution_count": 8,
     "metadata": {},
     "output_type": "execute_result"
    }
   ],
   "source": [
    "df.shape, unnorm.shape"
   ]
  },
  {
   "cell_type": "code",
   "execution_count": 6,
   "metadata": {},
   "outputs": [
    {
     "data": {
      "text/plain": [
       "Index(['file', 'start', 'end', 'words', 'word_start_times', 'word_end_times',\n",
       "       'asr', 'true_file', 'reconame', 'longname', 'yt_hash', 'hashname',\n",
       "       'key', 'was_in_samples', 'human_transcript', 'asr_transcript', 'sim',\n",
       "       'split'],\n",
       "      dtype='object')"
      ]
     },
     "execution_count": 6,
     "metadata": {},
     "output_type": "execute_result"
    }
   ],
   "source": [
    "df.columns"
   ]
  },
  {
   "cell_type": "code",
   "execution_count": 7,
   "metadata": {},
   "outputs": [],
   "source": [
    "unnorm[\"key\"] = unnorm.apply(lambda row: row.file+str(row.start)+str(row.end), axis = 1)"
   ]
  },
  {
   "cell_type": "code",
   "execution_count": 9,
   "metadata": {},
   "outputs": [
    {
     "data": {
      "text/plain": [
       "0.968639814810677"
      ]
     },
     "execution_count": 9,
     "metadata": {},
     "output_type": "execute_result"
    }
   ],
   "source": [
    "unnorm.key[unnorm.key.isin(df.key.unique())].shape[0] / df.shape[0]"
   ]
  },
  {
   "cell_type": "markdown",
   "metadata": {},
   "source": [
    "We cover 97% of the instances. Let's merge the two resources."
   ]
  },
  {
   "cell_type": "code",
   "execution_count": 12,
   "metadata": {},
   "outputs": [
    {
     "data": {
      "text/plain": [
       "Index(['file', 'start', 'end', 'words_unnormalized',\n",
       "       'word_start_times_unnormalized', 'word_end_times_unnormalized', 'key'],\n",
       "      dtype='object')"
      ]
     },
     "execution_count": 12,
     "metadata": {},
     "output_type": "execute_result"
    }
   ],
   "source": [
    "unnorm.columns"
   ]
  },
  {
   "cell_type": "code",
   "execution_count": 15,
   "metadata": {},
   "outputs": [],
   "source": [
    "merged = df.merge(unnorm.loc[:, ['words_unnormalized',\n",
    "       'word_start_times_unnormalized', 'word_end_times_unnormalized', 'key']], left_on=\"key\", right_on=\"key\", how=\"left\")"
   ]
  },
  {
   "cell_type": "code",
   "execution_count": 16,
   "metadata": {},
   "outputs": [
    {
     "data": {
      "text/html": [
       "<div>\n",
       "<style scoped>\n",
       "    .dataframe tbody tr th:only-of-type {\n",
       "        vertical-align: middle;\n",
       "    }\n",
       "\n",
       "    .dataframe tbody tr th {\n",
       "        vertical-align: top;\n",
       "    }\n",
       "\n",
       "    .dataframe thead th {\n",
       "        text-align: right;\n",
       "    }\n",
       "</style>\n",
       "<table border=\"1\" class=\"dataframe\">\n",
       "  <thead>\n",
       "    <tr style=\"text-align: right;\">\n",
       "      <th></th>\n",
       "      <th>file</th>\n",
       "      <th>start</th>\n",
       "      <th>end</th>\n",
       "      <th>words</th>\n",
       "      <th>word_start_times</th>\n",
       "      <th>word_end_times</th>\n",
       "      <th>asr</th>\n",
       "      <th>true_file</th>\n",
       "      <th>reconame</th>\n",
       "      <th>longname</th>\n",
       "      <th>...</th>\n",
       "      <th>hashname</th>\n",
       "      <th>key</th>\n",
       "      <th>was_in_samples</th>\n",
       "      <th>human_transcript</th>\n",
       "      <th>asr_transcript</th>\n",
       "      <th>sim</th>\n",
       "      <th>split</th>\n",
       "      <th>words_unnormalized</th>\n",
       "      <th>word_start_times_unnormalized</th>\n",
       "      <th>word_end_times_unnormalized</th>\n",
       "    </tr>\n",
       "  </thead>\n",
       "  <tbody>\n",
       "    <tr>\n",
       "      <th>0</th>\n",
       "      <td>01 12 2016 - 1. dio, 2. sjednica, 9. saziv [sP...</td>\n",
       "      <td>1853.82</td>\n",
       "      <td>1873.66</td>\n",
       "      <td>['konačni', 'prijedlog', 'zakona', 'o', 'izmje...</td>\n",
       "      <td>[0, 0.47, 0.8, 1.21, 1.26, 1.79, 1.82, 2.34, 2...</td>\n",
       "      <td>[0.47, 0.8, 1.21, 1.26, 1.79, 1.82, 2.34, 2.78...</td>\n",
       "      <td>['konačni', 'prijedlog', 'zakona', 'o', 'izmje...</td>\n",
       "      <td>01 12 2016 - 1. dio, 2. sjednica, 9. saziv [sP...</td>\n",
       "      <td>reco723</td>\n",
       "      <td>01 12 2016 - 1. dio, 2. sjednica, 9. saziv [sP...</td>\n",
       "      <td>...</td>\n",
       "      <td>sPNuDebATRM_1853.82-1873.66.wav</td>\n",
       "      <td>01 12 2016 - 1. dio, 2. sjednica, 9. saziv [sP...</td>\n",
       "      <td>False</td>\n",
       "      <td>konačni prijedlog zakona o izmjenama i dopunam...</td>\n",
       "      <td>konačni prijedlog zakona o izmjenama i dopunam...</td>\n",
       "      <td>0.99665</td>\n",
       "      <td>train</td>\n",
       "      <td>[konačni, prijedlog, Zakona, o, izmjenama, i, ...</td>\n",
       "      <td>[0, 0.47, 0.8, 1.21, 1.26, 1.79, 1.82, 2.34, 2...</td>\n",
       "      <td>[0.47, 0.8, 1.21, 1.26, 1.79, 1.82, 2.34, 2.78...</td>\n",
       "    </tr>\n",
       "    <tr>\n",
       "      <th>1</th>\n",
       "      <td>01 12 2016 - 1. dio, 2. sjednica, 9. saziv [sP...</td>\n",
       "      <td>1874.08</td>\n",
       "      <td>1893.99</td>\n",
       "      <td>['u', 'svezi', 'sa', 'člankom', 'sto', 'devede...</td>\n",
       "      <td>[0, 0.11, 0.48, 0.66, 1.12, 1.36, 1.94, 2.53, ...</td>\n",
       "      <td>[0.11, 0.48, 0.66, 1.12, 1.36, 1.94, 2.53, 3.0...</td>\n",
       "      <td>['u', 'svezi', 'sa', 'člankom', 'sto', 'devede...</td>\n",
       "      <td>01 12 2016 - 1. dio, 2. sjednica, 9. saziv [sP...</td>\n",
       "      <td>reco723</td>\n",
       "      <td>01 12 2016 - 1. dio, 2. sjednica, 9. saziv [sP...</td>\n",
       "      <td>...</td>\n",
       "      <td>sPNuDebATRM_1874.08-1893.99.wav</td>\n",
       "      <td>01 12 2016 - 1. dio, 2. sjednica, 9. saziv [sP...</td>\n",
       "      <td>False</td>\n",
       "      <td>u svezi sa člankom sto devedeset poslovnika hr...</td>\n",
       "      <td>u svezi sa člankom sto devedeset poslovnika hr...</td>\n",
       "      <td>1.00000</td>\n",
       "      <td>train</td>\n",
       "      <td>[u, svezi, sa, člankom, 190., Poslovnika, Hrva...</td>\n",
       "      <td>[0, 0.11, 0.48, 0.66, 1.12, 1.94, 2.53, 3.0, 4...</td>\n",
       "      <td>[0.11, 0.48, 0.66, 1.12, 1.94, 2.53, 3.0, 3.46...</td>\n",
       "    </tr>\n",
       "  </tbody>\n",
       "</table>\n",
       "<p>2 rows × 21 columns</p>\n",
       "</div>"
      ],
      "text/plain": [
       "                                                file    start      end  \\\n",
       "0  01 12 2016 - 1. dio, 2. sjednica, 9. saziv [sP...  1853.82  1873.66   \n",
       "1  01 12 2016 - 1. dio, 2. sjednica, 9. saziv [sP...  1874.08  1893.99   \n",
       "\n",
       "                                               words  \\\n",
       "0  ['konačni', 'prijedlog', 'zakona', 'o', 'izmje...   \n",
       "1  ['u', 'svezi', 'sa', 'člankom', 'sto', 'devede...   \n",
       "\n",
       "                                    word_start_times  \\\n",
       "0  [0, 0.47, 0.8, 1.21, 1.26, 1.79, 1.82, 2.34, 2...   \n",
       "1  [0, 0.11, 0.48, 0.66, 1.12, 1.36, 1.94, 2.53, ...   \n",
       "\n",
       "                                      word_end_times  \\\n",
       "0  [0.47, 0.8, 1.21, 1.26, 1.79, 1.82, 2.34, 2.78...   \n",
       "1  [0.11, 0.48, 0.66, 1.12, 1.36, 1.94, 2.53, 3.0...   \n",
       "\n",
       "                                                 asr  \\\n",
       "0  ['konačni', 'prijedlog', 'zakona', 'o', 'izmje...   \n",
       "1  ['u', 'svezi', 'sa', 'člankom', 'sto', 'devede...   \n",
       "\n",
       "                                           true_file reconame  \\\n",
       "0  01 12 2016 - 1. dio, 2. sjednica, 9. saziv [sP...  reco723   \n",
       "1  01 12 2016 - 1. dio, 2. sjednica, 9. saziv [sP...  reco723   \n",
       "\n",
       "                                            longname  ...  \\\n",
       "0  01 12 2016 - 1. dio, 2. sjednica, 9. saziv [sP...  ...   \n",
       "1  01 12 2016 - 1. dio, 2. sjednica, 9. saziv [sP...  ...   \n",
       "\n",
       "                          hashname  \\\n",
       "0  sPNuDebATRM_1853.82-1873.66.wav   \n",
       "1  sPNuDebATRM_1874.08-1893.99.wav   \n",
       "\n",
       "                                                 key was_in_samples  \\\n",
       "0  01 12 2016 - 1. dio, 2. sjednica, 9. saziv [sP...          False   \n",
       "1  01 12 2016 - 1. dio, 2. sjednica, 9. saziv [sP...          False   \n",
       "\n",
       "                                    human_transcript  \\\n",
       "0  konačni prijedlog zakona o izmjenama i dopunam...   \n",
       "1  u svezi sa člankom sto devedeset poslovnika hr...   \n",
       "\n",
       "                                      asr_transcript      sim  split  \\\n",
       "0  konačni prijedlog zakona o izmjenama i dopunam...  0.99665  train   \n",
       "1  u svezi sa člankom sto devedeset poslovnika hr...  1.00000  train   \n",
       "\n",
       "                                  words_unnormalized  \\\n",
       "0  [konačni, prijedlog, Zakona, o, izmjenama, i, ...   \n",
       "1  [u, svezi, sa, člankom, 190., Poslovnika, Hrva...   \n",
       "\n",
       "                       word_start_times_unnormalized  \\\n",
       "0  [0, 0.47, 0.8, 1.21, 1.26, 1.79, 1.82, 2.34, 2...   \n",
       "1  [0, 0.11, 0.48, 0.66, 1.12, 1.94, 2.53, 3.0, 4...   \n",
       "\n",
       "                         word_end_times_unnormalized  \n",
       "0  [0.47, 0.8, 1.21, 1.26, 1.79, 1.82, 2.34, 2.78...  \n",
       "1  [0.11, 0.48, 0.66, 1.12, 1.94, 2.53, 3.0, 3.46...  \n",
       "\n",
       "[2 rows x 21 columns]"
      ]
     },
     "execution_count": 16,
     "metadata": {},
     "output_type": "execute_result"
    }
   ],
   "source": [
    "merged.head(2)"
   ]
  },
  {
   "cell_type": "code",
   "execution_count": 17,
   "metadata": {},
   "outputs": [
    {
     "data": {
      "text/plain": [
       "Index(['file', 'start', 'end', 'words', 'word_start_times', 'word_end_times',\n",
       "       'asr', 'true_file', 'reconame', 'longname', 'yt_hash', 'hashname',\n",
       "       'key', 'was_in_samples', 'human_transcript', 'asr_transcript', 'sim',\n",
       "       'split', 'words_unnormalized', 'word_start_times_unnormalized',\n",
       "       'word_end_times_unnormalized'],\n",
       "      dtype='object')"
      ]
     },
     "execution_count": 17,
     "metadata": {},
     "output_type": "execute_result"
    }
   ],
   "source": [
    "merged.columns"
   ]
  },
  {
   "cell_type": "code",
   "execution_count": 21,
   "metadata": {},
   "outputs": [],
   "source": [
    "merged[\"unnormalized_transcript\"] = merged.words_unnormalized.str.join(\" \")"
   ]
  },
  {
   "cell_type": "code",
   "execution_count": 22,
   "metadata": {},
   "outputs": [
    {
     "data": {
      "text/html": [
       "<div>\n",
       "<style scoped>\n",
       "    .dataframe tbody tr th:only-of-type {\n",
       "        vertical-align: middle;\n",
       "    }\n",
       "\n",
       "    .dataframe tbody tr th {\n",
       "        vertical-align: top;\n",
       "    }\n",
       "\n",
       "    .dataframe thead th {\n",
       "        text-align: right;\n",
       "    }\n",
       "</style>\n",
       "<table border=\"1\" class=\"dataframe\">\n",
       "  <thead>\n",
       "    <tr style=\"text-align: right;\">\n",
       "      <th></th>\n",
       "      <th>file</th>\n",
       "      <th>start</th>\n",
       "      <th>end</th>\n",
       "      <th>words</th>\n",
       "      <th>word_start_times</th>\n",
       "      <th>word_end_times</th>\n",
       "      <th>asr</th>\n",
       "      <th>true_file</th>\n",
       "      <th>reconame</th>\n",
       "      <th>longname</th>\n",
       "      <th>...</th>\n",
       "      <th>key</th>\n",
       "      <th>was_in_samples</th>\n",
       "      <th>human_transcript</th>\n",
       "      <th>asr_transcript</th>\n",
       "      <th>sim</th>\n",
       "      <th>split</th>\n",
       "      <th>words_unnormalized</th>\n",
       "      <th>word_start_times_unnormalized</th>\n",
       "      <th>word_end_times_unnormalized</th>\n",
       "      <th>unnormalized_transcript</th>\n",
       "    </tr>\n",
       "  </thead>\n",
       "  <tbody>\n",
       "    <tr>\n",
       "      <th>0</th>\n",
       "      <td>01 12 2016 - 1. dio, 2. sjednica, 9. saziv [sP...</td>\n",
       "      <td>1853.82</td>\n",
       "      <td>1873.66</td>\n",
       "      <td>['konačni', 'prijedlog', 'zakona', 'o', 'izmje...</td>\n",
       "      <td>[0, 0.47, 0.8, 1.21, 1.26, 1.79, 1.82, 2.34, 2...</td>\n",
       "      <td>[0.47, 0.8, 1.21, 1.26, 1.79, 1.82, 2.34, 2.78...</td>\n",
       "      <td>['konačni', 'prijedlog', 'zakona', 'o', 'izmje...</td>\n",
       "      <td>01 12 2016 - 1. dio, 2. sjednica, 9. saziv [sP...</td>\n",
       "      <td>reco723</td>\n",
       "      <td>01 12 2016 - 1. dio, 2. sjednica, 9. saziv [sP...</td>\n",
       "      <td>...</td>\n",
       "      <td>01 12 2016 - 1. dio, 2. sjednica, 9. saziv [sP...</td>\n",
       "      <td>False</td>\n",
       "      <td>konačni prijedlog zakona o izmjenama i dopunam...</td>\n",
       "      <td>konačni prijedlog zakona o izmjenama i dopunam...</td>\n",
       "      <td>0.99665</td>\n",
       "      <td>train</td>\n",
       "      <td>[konačni, prijedlog, Zakona, o, izmjenama, i, ...</td>\n",
       "      <td>[0, 0.47, 0.8, 1.21, 1.26, 1.79, 1.82, 2.34, 2...</td>\n",
       "      <td>[0.47, 0.8, 1.21, 1.26, 1.79, 1.82, 2.34, 2.78...</td>\n",
       "      <td>konačni prijedlog Zakona o izmjenama i dopunam...</td>\n",
       "    </tr>\n",
       "    <tr>\n",
       "      <th>1</th>\n",
       "      <td>01 12 2016 - 1. dio, 2. sjednica, 9. saziv [sP...</td>\n",
       "      <td>1874.08</td>\n",
       "      <td>1893.99</td>\n",
       "      <td>['u', 'svezi', 'sa', 'člankom', 'sto', 'devede...</td>\n",
       "      <td>[0, 0.11, 0.48, 0.66, 1.12, 1.36, 1.94, 2.53, ...</td>\n",
       "      <td>[0.11, 0.48, 0.66, 1.12, 1.36, 1.94, 2.53, 3.0...</td>\n",
       "      <td>['u', 'svezi', 'sa', 'člankom', 'sto', 'devede...</td>\n",
       "      <td>01 12 2016 - 1. dio, 2. sjednica, 9. saziv [sP...</td>\n",
       "      <td>reco723</td>\n",
       "      <td>01 12 2016 - 1. dio, 2. sjednica, 9. saziv [sP...</td>\n",
       "      <td>...</td>\n",
       "      <td>01 12 2016 - 1. dio, 2. sjednica, 9. saziv [sP...</td>\n",
       "      <td>False</td>\n",
       "      <td>u svezi sa člankom sto devedeset poslovnika hr...</td>\n",
       "      <td>u svezi sa člankom sto devedeset poslovnika hr...</td>\n",
       "      <td>1.00000</td>\n",
       "      <td>train</td>\n",
       "      <td>[u, svezi, sa, člankom, 190., Poslovnika, Hrva...</td>\n",
       "      <td>[0, 0.11, 0.48, 0.66, 1.12, 1.94, 2.53, 3.0, 4...</td>\n",
       "      <td>[0.11, 0.48, 0.66, 1.12, 1.94, 2.53, 3.0, 3.46...</td>\n",
       "      <td>u svezi sa člankom 190. Poslovnika Hrvatskog s...</td>\n",
       "    </tr>\n",
       "  </tbody>\n",
       "</table>\n",
       "<p>2 rows × 22 columns</p>\n",
       "</div>"
      ],
      "text/plain": [
       "                                                file    start      end  \\\n",
       "0  01 12 2016 - 1. dio, 2. sjednica, 9. saziv [sP...  1853.82  1873.66   \n",
       "1  01 12 2016 - 1. dio, 2. sjednica, 9. saziv [sP...  1874.08  1893.99   \n",
       "\n",
       "                                               words  \\\n",
       "0  ['konačni', 'prijedlog', 'zakona', 'o', 'izmje...   \n",
       "1  ['u', 'svezi', 'sa', 'člankom', 'sto', 'devede...   \n",
       "\n",
       "                                    word_start_times  \\\n",
       "0  [0, 0.47, 0.8, 1.21, 1.26, 1.79, 1.82, 2.34, 2...   \n",
       "1  [0, 0.11, 0.48, 0.66, 1.12, 1.36, 1.94, 2.53, ...   \n",
       "\n",
       "                                      word_end_times  \\\n",
       "0  [0.47, 0.8, 1.21, 1.26, 1.79, 1.82, 2.34, 2.78...   \n",
       "1  [0.11, 0.48, 0.66, 1.12, 1.36, 1.94, 2.53, 3.0...   \n",
       "\n",
       "                                                 asr  \\\n",
       "0  ['konačni', 'prijedlog', 'zakona', 'o', 'izmje...   \n",
       "1  ['u', 'svezi', 'sa', 'člankom', 'sto', 'devede...   \n",
       "\n",
       "                                           true_file reconame  \\\n",
       "0  01 12 2016 - 1. dio, 2. sjednica, 9. saziv [sP...  reco723   \n",
       "1  01 12 2016 - 1. dio, 2. sjednica, 9. saziv [sP...  reco723   \n",
       "\n",
       "                                            longname  ...  \\\n",
       "0  01 12 2016 - 1. dio, 2. sjednica, 9. saziv [sP...  ...   \n",
       "1  01 12 2016 - 1. dio, 2. sjednica, 9. saziv [sP...  ...   \n",
       "\n",
       "                                                 key was_in_samples  \\\n",
       "0  01 12 2016 - 1. dio, 2. sjednica, 9. saziv [sP...          False   \n",
       "1  01 12 2016 - 1. dio, 2. sjednica, 9. saziv [sP...          False   \n",
       "\n",
       "                                    human_transcript  \\\n",
       "0  konačni prijedlog zakona o izmjenama i dopunam...   \n",
       "1  u svezi sa člankom sto devedeset poslovnika hr...   \n",
       "\n",
       "                                      asr_transcript      sim  split  \\\n",
       "0  konačni prijedlog zakona o izmjenama i dopunam...  0.99665  train   \n",
       "1  u svezi sa člankom sto devedeset poslovnika hr...  1.00000  train   \n",
       "\n",
       "                                  words_unnormalized  \\\n",
       "0  [konačni, prijedlog, Zakona, o, izmjenama, i, ...   \n",
       "1  [u, svezi, sa, člankom, 190., Poslovnika, Hrva...   \n",
       "\n",
       "                       word_start_times_unnormalized  \\\n",
       "0  [0, 0.47, 0.8, 1.21, 1.26, 1.79, 1.82, 2.34, 2...   \n",
       "1  [0, 0.11, 0.48, 0.66, 1.12, 1.94, 2.53, 3.0, 4...   \n",
       "\n",
       "                         word_end_times_unnormalized  \\\n",
       "0  [0.47, 0.8, 1.21, 1.26, 1.79, 1.82, 2.34, 2.78...   \n",
       "1  [0.11, 0.48, 0.66, 1.12, 1.94, 2.53, 3.0, 3.46...   \n",
       "\n",
       "                             unnormalized_transcript  \n",
       "0  konačni prijedlog Zakona o izmjenama i dopunam...  \n",
       "1  u svezi sa člankom 190. Poslovnika Hrvatskog s...  \n",
       "\n",
       "[2 rows x 22 columns]"
      ]
     },
     "execution_count": 22,
     "metadata": {},
     "output_type": "execute_result"
    }
   ],
   "source": [
    "merged.head(2)"
   ]
  },
  {
   "cell_type": "code",
   "execution_count": 24,
   "metadata": {},
   "outputs": [
    {
     "data": {
      "text/plain": [
       "14035"
      ]
     },
     "execution_count": 24,
     "metadata": {},
     "output_type": "execute_result"
    }
   ],
   "source": [
    "merged.words_unnormalized.isna().sum()"
   ]
  },
  {
   "cell_type": "code",
   "execution_count": 25,
   "metadata": {},
   "outputs": [],
   "source": [
    "merged.to_csv(\"parlaspeech.csv\", index=False)\n",
    "merged.to_json(\"parlaspeech.json\", orient=\"records\", lines=True)"
   ]
  },
  {
   "cell_type": "code",
   "execution_count": null,
   "metadata": {},
   "outputs": [],
   "source": []
  }
 ],
 "metadata": {
  "interpreter": {
   "hash": "2d30c88cb7145d662123f76f8c64609bc18e52940d2861adec2407b68f2e334f"
  },
  "kernelspec": {
   "display_name": "Python 3.9.7 ('base')",
   "language": "python",
   "name": "python3"
  },
  "language_info": {
   "codemirror_mode": {
    "name": "ipython",
    "version": 3
   },
   "file_extension": ".py",
   "mimetype": "text/x-python",
   "name": "python",
   "nbconvert_exporter": "python",
   "pygments_lexer": "ipython3",
   "version": "3.9.7"
  },
  "orig_nbformat": 4
 },
 "nbformat": 4,
 "nbformat_minor": 2
}
