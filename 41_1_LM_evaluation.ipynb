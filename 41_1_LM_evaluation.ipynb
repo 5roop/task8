{
 "cells": [
  {
   "cell_type": "code",
   "execution_count": 1,
   "metadata": {},
   "outputs": [
    {
     "name": "stderr",
     "output_type": "stream",
     "text": [
      "Special tokens have been added in the vocabulary, make sure the associated word embeddings are fine-tuned or trained.\n"
     ]
    }
   ],
   "source": [
    "modelname = \"40_unnormalised/checkpoint-6700/\"\n",
    "\n",
    "from transformers import Wav2Vec2Processor, Wav2Vec2ForCTC\n",
    "\n",
    "processor = Wav2Vec2Processor.from_pretrained(modelname)\n",
    "model = Wav2Vec2ForCTC.from_pretrained(modelname)\n"
   ]
  },
  {
   "cell_type": "code",
   "execution_count": 2,
   "metadata": {},
   "outputs": [],
   "source": [
    "vocab_dict = processor.tokenizer.get_vocab()\n",
    "sorted_vocab_dict = {k: v for k, v in sorted(vocab_dict.items(), key=lambda item: item[1]) if k != \"<pad>\"}"
   ]
  },
  {
   "cell_type": "code",
   "execution_count": 3,
   "metadata": {},
   "outputs": [
    {
     "name": "stderr",
     "output_type": "stream",
     "text": [
      "Unigrams not provided and cannot be automatically determined from LM file (only arpa format). Decoding accuracy might be reduced.\n",
      "Found entries of length > 1 in alphabet. This is unusual unless style is BPE, but the alphabet was not recognized as BPE type. Is this correct?\n",
      "No known unigrams provided, decoding results might be a lot worse.\n"
     ]
    }
   ],
   "source": [
    "from pyctcdecode import build_ctcdecoder\n",
    "\n",
    "decoder = build_ctcdecoder(\n",
    "    labels=list(sorted_vocab_dict.keys()),\n",
    "    kenlm_model_path=\"5gram.bin\",\n",
    ")"
   ]
  },
  {
   "cell_type": "code",
   "execution_count": 4,
   "metadata": {},
   "outputs": [],
   "source": [
    "from transformers import Wav2Vec2ProcessorWithLM\n",
    "\n",
    "processor = Wav2Vec2ProcessorWithLM(\n",
    "    feature_extractor=processor.feature_extractor,\n",
    "    tokenizer=processor.tokenizer,\n",
    "    decoder=decoder,\n",
    ")"
   ]
  },
  {
   "cell_type": "code",
   "execution_count": 12,
   "metadata": {},
   "outputs": [],
   "source": [
    "processor.save_pretrained(\"40_with_lm/wav2vec2-xls-r-parlaspeech-hr\",\n",
    ")"
   ]
  },
  {
   "cell_type": "code",
   "execution_count": 13,
   "metadata": {},
   "outputs": [],
   "source": [
    "model.save_pretrained(\"40_with_lm/wav2vec2-xls-r-parlaspeech-hr\",)"
   ]
  },
  {
   "cell_type": "code",
   "execution_count": 5,
   "metadata": {},
   "outputs": [
    {
     "data": {
      "application/vnd.jupyter.widget-view+json": {
       "model_id": "aeb32f7ede0f430cbf30c94386151e5d",
       "version_major": 2,
       "version_minor": 0
      },
      "text/plain": [
       "  0%|          | 0/1013 [00:00<?, ?it/s]"
      ]
     },
     "metadata": {},
     "output_type": "display_data"
    },
    {
     "name": "stdout",
     "output_type": "stream",
     "text": [
      "Evaluating on  dev\n",
      "wer=0.0556, cer=0.0253\n",
      "Evaluating on  test\n",
      "wer=0.0430, cer=0.0188\n"
     ]
    }
   ],
   "source": [
    "\n",
    "import pandas as pd\n",
    "import numpy as np\n",
    "import os\n",
    "\n",
    "transferdir = \"transfer/\"\n",
    "\n",
    "def process(text: str):\n",
    "    from parse import compile\n",
    "    from string import punctuation\n",
    "\n",
    "    p = compile(\"{hit:d}.\")\n",
    "    in_list = text.split()\n",
    "    out_list = list()\n",
    "    for seg in in_list:\n",
    "        parse_result = p.parse(seg)\n",
    "        if parse_result:\n",
    "            # We got a number with a dot afterward:\n",
    "            out_list.append(seg.lower())\n",
    "        else:\n",
    "            out_list.append(seg.translate(str.maketrans(\"\", \"\", punctuation)).lower())\n",
    "    return \" \".join(out_list)\n",
    "\n",
    "df = pd.read_json(\"ParlaSpeech-HR.v1.0.jsonl\", orient=\"records\", lines=True)\n",
    "df = df.rename(columns={\"path\":\"hashname\"})\n",
    "df = df.loc[df.split.isin(\"test,dev\".split(\",\")), :]\n",
    "\n",
    "df[\"sentence\"] = df.words.apply(\" \".join).apply(process)\n",
    "df[\"path\"] = df.hashname.apply(lambda s: os.path.join(transferdir, s))\n",
    "\n",
    "\n",
    "def get_transcript(audio_filepath:str):\n",
    "    import soundfile as sf\n",
    "    import torch\n",
    "\n",
    "    speech, sample_rate = sf.read(audio_filepath)\n",
    "    input_values = processor(speech, sampling_rate=sample_rate, return_tensors=\"pt\").input_values.cuda()\n",
    "    inputs = processor(speech, sampling_rate=sample_rate, return_tensors=\"pt\")\n",
    "    with torch.no_grad():\n",
    "      logits = model(**inputs).logits\n",
    "    transcription = processor.batch_decode(logits.numpy()).text\n",
    "\n",
    "    return transcription[0]\n",
    "\n",
    "from datasets import load_metric\n",
    "wer_metric = load_metric(\"wer\")\n",
    "cer_metric = load_metric(\"cer\")\n",
    "from tqdm.auto import tqdm\n",
    "df[\"predictions\"] = [get_transcript(path) for path in tqdm(df.path.values)]\n",
    "for splt in [\"dev\", \"test\"]:\n",
    "    print(\"Evaluating on \", splt)\n",
    "    wer = wer_metric.compute(\n",
    "        references=df.loc[df.split==splt, \"sentence\"],\n",
    "        predictions=df.loc[df.split==splt, \"predictions\"]\n",
    "    )\n",
    "\n",
    "    cer = cer_metric.compute(\n",
    "        references=df.loc[df.split==splt, \"sentence\"],\n",
    "        predictions=df.loc[df.split==splt, \"predictions\"]\n",
    "    )\n",
    "\n",
    "    print(f\"{wer=:0.4f}, {cer=:0.4f}\")"
   ]
  },
  {
   "cell_type": "code",
   "execution_count": 6,
   "metadata": {},
   "outputs": [],
   "source": [
    "df[[\"sentence\", \"predictions\", \"split\", \"hashname\"]].to_csv(\n",
    "    \"41_model_with_LM_output_for_evaluation.csv\", \n",
    "    index=False\n",
    "    )"
   ]
  },
  {
   "cell_type": "code",
   "execution_count": 7,
   "metadata": {},
   "outputs": [
    {
     "data": {
      "text/html": [
       "<div>\n",
       "<style scoped>\n",
       "    .dataframe tbody tr th:only-of-type {\n",
       "        vertical-align: middle;\n",
       "    }\n",
       "\n",
       "    .dataframe tbody tr th {\n",
       "        vertical-align: top;\n",
       "    }\n",
       "\n",
       "    .dataframe thead th {\n",
       "        text-align: right;\n",
       "    }\n",
       "</style>\n",
       "<table border=\"1\" class=\"dataframe\">\n",
       "  <thead>\n",
       "    <tr style=\"text-align: right;\">\n",
       "      <th></th>\n",
       "      <th>sentence</th>\n",
       "      <th>predictions</th>\n",
       "      <th>cer</th>\n",
       "    </tr>\n",
       "  </thead>\n",
       "  <tbody>\n",
       "    <tr>\n",
       "      <th>1545</th>\n",
       "      <td>iznio stav kluba hrvatske demokratske zajednice to ću kad budem imao prigode reći što mislim reći o</td>\n",
       "      <td>iznio stav kluba hdza to ću kad bude imao prigode reći što mislim o</td>\n",
       "      <td>0.323232</td>\n",
       "    </tr>\n",
       "    <tr>\n",
       "      <th>259786</th>\n",
       "      <td>predsjednika dr franje tuđmana</td>\n",
       "      <td>predsjednika doktora franjeto tuđmana</td>\n",
       "      <td>0.233333</td>\n",
       "    </tr>\n",
       "    <tr>\n",
       "      <th>70625</th>\n",
       "      <td>predsjednika republike f tuđmana</td>\n",
       "      <td>predsjednika republike franje tuđmana</td>\n",
       "      <td>0.156250</td>\n",
       "    </tr>\n",
       "    <tr>\n",
       "      <th>2094</th>\n",
       "      <td>subvencioniranju stambenih kredita je osmišljen 2011g doduše tada je uz subvenciju išla i pratilo ju je državno jamstvo i</td>\n",
       "      <td>subvencionranju stambenih kredita je osmišljen 2011. godine do duše tada je uz njega uz subvenciju išla i pratilo ju je državno jamstvo i</td>\n",
       "      <td>0.148760</td>\n",
       "    </tr>\n",
       "    <tr>\n",
       "      <th>121872</th>\n",
       "      <td>evo ja bih samo htio napomenuti da</td>\n",
       "      <td>ja bi samo htio napomenuti da</td>\n",
       "      <td>0.147059</td>\n",
       "    </tr>\n",
       "    <tr>\n",
       "      <th>2200</th>\n",
       "      <td>krava je li vi znate da mi danas da ne uvozimo hranu mi bi bili glasni mi bi bili gladni u hrvatskoj koja ima ¾ plodne zemlje savršenu klimu koja je nekada hranila 5 država mi bi gladovali</td>\n",
       "      <td>krava jer vi znate da mi danas da ne uvozimo hranu mi bi bili gladni mi bi bili gladni u rh koja ima 34vtineplodne zemlje savršenu klimu ne znam koja je nekada hranila 5 država mi bi gladovali</td>\n",
       "      <td>0.143617</td>\n",
       "    </tr>\n",
       "    <tr>\n",
       "      <th>121858</th>\n",
       "      <td>tzv profesionalnim žaliteljima kao što sam rekla a to smo u jednom dijelu i referirali se na to izvješće za 2018 ukazali smo znači da postoji</td>\n",
       "      <td>tzv profesionalnim žaliteljima kao što sam rekla to smo u jednom dijelu i referirali se na to u izvješću za 2018. godinu ukazali smo da postoje</td>\n",
       "      <td>0.141844</td>\n",
       "    </tr>\n",
       "    <tr>\n",
       "      <th>196052</th>\n",
       "      <td>primjer eu odnosno istaknuto je da 18 država članica bilježilo je porast broja stanovnika međutim povećan porast broja stanovnika zabilježen je prije svega zbog migracija u europu je 18g doselilo nekih 3 milijuna i 225 tisuća stanovnika ali istovremeno je od</td>\n",
       "      <td>primjer europske unije odnosno istaknuto je da 18 država članica bilježilo je porast broja stanovnika međutim uz porast broja stanovnika zabilježen je prije svega zbog migracija u europu 18 godine doselilo nekih 3 milijuna i 225 000 stanovnika ali istovremeno je</td>\n",
       "      <td>0.139535</td>\n",
       "    </tr>\n",
       "    <tr>\n",
       "      <th>1354</th>\n",
       "      <td>kada se samo sjetimo onih tužnih brojki od prije tri četiri godine oni su za ove brojke sada dobre na žalost bile su ružne ali šta se sada dešava</td>\n",
       "      <td>kada se samo sjetimo onih tužnih brojki od prije 3 4 godine oni su za ove brojke sada izgledaju dobro na žalost bile su ružne ali šta se sada dešava</td>\n",
       "      <td>0.137931</td>\n",
       "    </tr>\n",
       "    <tr>\n",
       "      <th>1851</th>\n",
       "      <td>ponekad banke naplaćuju promjenu</td>\n",
       "      <td>ponekad banke nam naplaćuju promjenu</td>\n",
       "      <td>0.125000</td>\n",
       "    </tr>\n",
       "  </tbody>\n",
       "</table>\n",
       "</div>"
      ],
      "text/plain": [
       "                                                                                                                                                                                                                                                                  sentence  \\\n",
       "1545                                                                                                                                                                   iznio stav kluba hrvatske demokratske zajednice to ću kad budem imao prigode reći što mislim reći o   \n",
       "259786                                                                                                                                                                                                                                      predsjednika dr franje tuđmana   \n",
       "70625                                                                                                                                                                                                                                     predsjednika republike f tuđmana   \n",
       "2094                                                                                                                                             subvencioniranju stambenih kredita je osmišljen 2011g doduše tada je uz subvenciju išla i pratilo ju je državno jamstvo i   \n",
       "121872                                                                                                                                                                                                                                  evo ja bih samo htio napomenuti da   \n",
       "2200                                                                          krava je li vi znate da mi danas da ne uvozimo hranu mi bi bili glasni mi bi bili gladni u hrvatskoj koja ima ¾ plodne zemlje savršenu klimu koja je nekada hranila 5 država mi bi gladovali   \n",
       "121858                                                                                                                       tzv profesionalnim žaliteljima kao što sam rekla a to smo u jednom dijelu i referirali se na to izvješće za 2018 ukazali smo znači da postoji   \n",
       "196052  primjer eu odnosno istaknuto je da 18 država članica bilježilo je porast broja stanovnika međutim povećan porast broja stanovnika zabilježen je prije svega zbog migracija u europu je 18g doselilo nekih 3 milijuna i 225 tisuća stanovnika ali istovremeno je od   \n",
       "1354                                                                                                                     kada se samo sjetimo onih tužnih brojki od prije tri četiri godine oni su za ove brojke sada dobre na žalost bile su ružne ali šta se sada dešava   \n",
       "1851                                                                                                                                                                                                                                      ponekad banke naplaćuju promjenu   \n",
       "\n",
       "                                                                                                                                                                                                                                                                   predictions  \\\n",
       "1545                                                                                                                                                                                                       iznio stav kluba hdza to ću kad bude imao prigode reći što mislim o   \n",
       "259786                                                                                                                                                                                                                                   predsjednika doktora franjeto tuđmana   \n",
       "70625                                                                                                                                                                                                                                    predsjednika republike franje tuđmana   \n",
       "2094                                                                                                                                 subvencionranju stambenih kredita je osmišljen 2011. godine do duše tada je uz njega uz subvenciju išla i pratilo ju je državno jamstvo i   \n",
       "121872                                                                                                                                                                                                                                           ja bi samo htio napomenuti da   \n",
       "2200                                                                          krava jer vi znate da mi danas da ne uvozimo hranu mi bi bili gladni mi bi bili gladni u rh koja ima 34vtineplodne zemlje savršenu klimu ne znam koja je nekada hranila 5 država mi bi gladovali   \n",
       "121858                                                                                                                         tzv profesionalnim žaliteljima kao što sam rekla to smo u jednom dijelu i referirali se na to u izvješću za 2018. godinu ukazali smo da postoje   \n",
       "196052  primjer europske unije odnosno istaknuto je da 18 država članica bilježilo je porast broja stanovnika međutim uz porast broja stanovnika zabilježen je prije svega zbog migracija u europu 18 godine doselilo nekih 3 milijuna i 225 000 stanovnika ali istovremeno je   \n",
       "1354                                                                                                                      kada se samo sjetimo onih tužnih brojki od prije 3 4 godine oni su za ove brojke sada izgledaju dobro na žalost bile su ružne ali šta se sada dešava   \n",
       "1851                                                                                                                                                                                                                                      ponekad banke nam naplaćuju promjenu   \n",
       "\n",
       "             cer  \n",
       "1545    0.323232  \n",
       "259786  0.233333  \n",
       "70625   0.156250  \n",
       "2094    0.148760  \n",
       "121872  0.147059  \n",
       "2200    0.143617  \n",
       "121858  0.141844  \n",
       "196052  0.139535  \n",
       "1354    0.137931  \n",
       "1851    0.125000  "
      ]
     },
     "execution_count": 7,
     "metadata": {},
     "output_type": "execute_result"
    }
   ],
   "source": [
    "pd.set_option('display.max_colwidth', None)\n",
    "df[\"wer\"] = df.apply(\n",
    "    lambda row: wer_metric.compute(\n",
    "        references = [row[\"sentence\"]],\n",
    "        predictions= [row[\"predictions\"]]),\n",
    "        axis=1\n",
    ")\n",
    "\n",
    "df[\"cer\"] = df.apply(\n",
    "    lambda row: cer_metric.compute(\n",
    "        references = [row[\"sentence\"]],\n",
    "        predictions= [row[\"predictions\"]]),\n",
    "        axis=1\n",
    ")\n",
    "df.sort_values(by=\"cer\", ascending=False)[[\"sentence\", \"predictions\", \"cer\"]].head(10)"
   ]
  },
  {
   "cell_type": "code",
   "execution_count": null,
   "metadata": {},
   "outputs": [],
   "source": []
  }
 ],
 "metadata": {
  "interpreter": {
   "hash": "7f6f5766036ee03d059e365a942add07f79c17033585e9357ee8157d52fe6bb9"
  },
  "kernelspec": {
   "display_name": "Python 3.8.3 ('base')",
   "language": "python",
   "name": "python3"
  },
  "language_info": {
   "codemirror_mode": {
    "name": "ipython",
    "version": 3
   },
   "file_extension": ".py",
   "mimetype": "text/x-python",
   "name": "python",
   "nbconvert_exporter": "python",
   "pygments_lexer": "ipython3",
   "version": "3.8.3"
  },
  "orig_nbformat": 4
 },
 "nbformat": 4,
 "nbformat_minor": 2
}
