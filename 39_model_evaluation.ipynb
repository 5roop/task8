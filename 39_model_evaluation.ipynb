{
 "cells": [
  {
   "cell_type": "code",
   "execution_count": 14,
   "metadata": {},
   "outputs": [
    {
     "data": {
      "text/html": [
       "<div>\n",
       "<style scoped>\n",
       "    .dataframe tbody tr th:only-of-type {\n",
       "        vertical-align: middle;\n",
       "    }\n",
       "\n",
       "    .dataframe tbody tr th {\n",
       "        vertical-align: top;\n",
       "    }\n",
       "\n",
       "    .dataframe thead th {\n",
       "        text-align: right;\n",
       "    }\n",
       "</style>\n",
       "<table border=\"1\" class=\"dataframe\">\n",
       "  <thead>\n",
       "    <tr style=\"text-align: right;\">\n",
       "      <th></th>\n",
       "      <th>hashname</th>\n",
       "      <th>orig_file</th>\n",
       "      <th>start</th>\n",
       "      <th>end</th>\n",
       "      <th>words</th>\n",
       "      <th>word_start_times</th>\n",
       "      <th>norm_words</th>\n",
       "      <th>norm_words_start_times</th>\n",
       "      <th>utterance_id_start</th>\n",
       "      <th>utterance_id_end</th>\n",
       "      <th>speaker_info</th>\n",
       "      <th>split</th>\n",
       "      <th>norm_words_edited</th>\n",
       "      <th>sentence</th>\n",
       "      <th>path</th>\n",
       "    </tr>\n",
       "  </thead>\n",
       "  <tbody>\n",
       "    <tr>\n",
       "      <th>1</th>\n",
       "      <td>Ki_SnDM_EkQ_2917.58-2937.5.wav</td>\n",
       "      <td>18 10 2018 - 9. sjednica, 9. saziv [Ki_SnDM_Ek...</td>\n",
       "      <td>2917.58</td>\n",
       "      <td>2937.50</td>\n",
       "      <td>[izraelska, tvrtka, prodaje, avione, Hrvatskoj...</td>\n",
       "      <td>[0, 0.65, 1.04, 1.54, 1.92, 2.51, 3.11, 3.5700...</td>\n",
       "      <td>[izraelska, tvrtka, prodaje, avione, hrvatskoj...</td>\n",
       "      <td>[0, 0.65, 1.04, 1.54, 1.92, 2.51, 3.11, 3.5700...</td>\n",
       "      <td>ParlaMint-HR_S09.u4267</td>\n",
       "      <td>ParlaMint-HR_S09.u4267</td>\n",
       "      <td>{'Speaker_role': 'Regular', 'Speaker_type': 'M...</td>\n",
       "      <td>dev</td>\n",
       "      <td>NaN</td>\n",
       "      <td>izraelska tvrtka prodaje avione hrvatskoj dire...</td>\n",
       "      <td>transfer/Ki_SnDM_EkQ_2917.58-2937.5.wav</td>\n",
       "    </tr>\n",
       "    <tr>\n",
       "      <th>2</th>\n",
       "      <td>XguZsDKdRh4_13797.59-13811.74.wav</td>\n",
       "      <td>20 1 2017 - 3. sjednica, 9. saziv [XguZsDKdRh4...</td>\n",
       "      <td>13797.59</td>\n",
       "      <td>13811.74</td>\n",
       "      <td>[jučer, trećem,, sutra, ili, prekosutra, četvr...</td>\n",
       "      <td>[0, 0.43, 1.0, 1.4, 1.52, 2.01, 2.55, 3.12, 3....</td>\n",
       "      <td>[jučer, trećem, sutra, ili, prekosutra, četvrt...</td>\n",
       "      <td>[0, 0.43, 1.0, 1.4, 1.52, 2.01, 2.55, 3.12, 3....</td>\n",
       "      <td>ParlaMint-HR_S03.u9702</td>\n",
       "      <td>ParlaMint-HR_S03.u9702</td>\n",
       "      <td>{'Speaker_role': 'Regular', 'Speaker_type': 'M...</td>\n",
       "      <td>dev</td>\n",
       "      <td>NaN</td>\n",
       "      <td>jučer trećem sutra ili prekosutra četvrtoj oso...</td>\n",
       "      <td>transfer/XguZsDKdRh4_13797.59-13811.74.wav</td>\n",
       "    </tr>\n",
       "  </tbody>\n",
       "</table>\n",
       "</div>"
      ],
      "text/plain": [
       "                            hashname  \\\n",
       "1     Ki_SnDM_EkQ_2917.58-2937.5.wav   \n",
       "2  XguZsDKdRh4_13797.59-13811.74.wav   \n",
       "\n",
       "                                           orig_file     start       end  \\\n",
       "1  18 10 2018 - 9. sjednica, 9. saziv [Ki_SnDM_Ek...   2917.58   2937.50   \n",
       "2  20 1 2017 - 3. sjednica, 9. saziv [XguZsDKdRh4...  13797.59  13811.74   \n",
       "\n",
       "                                               words  \\\n",
       "1  [izraelska, tvrtka, prodaje, avione, Hrvatskoj...   \n",
       "2  [jučer, trećem,, sutra, ili, prekosutra, četvr...   \n",
       "\n",
       "                                    word_start_times  \\\n",
       "1  [0, 0.65, 1.04, 1.54, 1.92, 2.51, 3.11, 3.5700...   \n",
       "2  [0, 0.43, 1.0, 1.4, 1.52, 2.01, 2.55, 3.12, 3....   \n",
       "\n",
       "                                          norm_words  \\\n",
       "1  [izraelska, tvrtka, prodaje, avione, hrvatskoj...   \n",
       "2  [jučer, trećem, sutra, ili, prekosutra, četvrt...   \n",
       "\n",
       "                              norm_words_start_times      utterance_id_start  \\\n",
       "1  [0, 0.65, 1.04, 1.54, 1.92, 2.51, 3.11, 3.5700...  ParlaMint-HR_S09.u4267   \n",
       "2  [0, 0.43, 1.0, 1.4, 1.52, 2.01, 2.55, 3.12, 3....  ParlaMint-HR_S03.u9702   \n",
       "\n",
       "         utterance_id_end                                       speaker_info  \\\n",
       "1  ParlaMint-HR_S09.u4267  {'Speaker_role': 'Regular', 'Speaker_type': 'M...   \n",
       "2  ParlaMint-HR_S03.u9702  {'Speaker_role': 'Regular', 'Speaker_type': 'M...   \n",
       "\n",
       "  split norm_words_edited                                           sentence  \\\n",
       "1   dev               NaN  izraelska tvrtka prodaje avione hrvatskoj dire...   \n",
       "2   dev               NaN  jučer trećem sutra ili prekosutra četvrtoj oso...   \n",
       "\n",
       "                                         path  \n",
       "1     transfer/Ki_SnDM_EkQ_2917.58-2937.5.wav  \n",
       "2  transfer/XguZsDKdRh4_13797.59-13811.74.wav  "
      ]
     },
     "execution_count": 14,
     "metadata": {},
     "output_type": "execute_result"
    }
   ],
   "source": [
    "import pandas as pd\n",
    "import numpy as np\n",
    "import os\n",
    "\n",
    "\n",
    "def process(text: str):\n",
    "    from parse import compile\n",
    "    from string import punctuation\n",
    "\n",
    "    p = compile(\"{hit:d}.\")\n",
    "    in_list = text.split()\n",
    "    out_list = list()\n",
    "    for seg in in_list:\n",
    "        parse_result = p.parse(seg)\n",
    "        if parse_result:\n",
    "            # We got a number with a dot afterward:\n",
    "            out_list.append(seg.lower())\n",
    "        else:\n",
    "            out_list.append(seg.translate(str.maketrans(\"\", \"\", punctuation)).lower())\n",
    "    return \" \".join(out_list)\n",
    "\n",
    "df = pd.read_json(\"ParlaSpeech-HR.v1.0.jsonl\", orient=\"records\", lines=True)\n",
    "df = df.rename(columns={\"path\":\"hashname\"})\n",
    "df = df.loc[df.split.isin(\"test,dev\".split(\",\")), :]\n",
    "\n",
    "df[\"sentence\"] = df.words.apply(\" \".join).apply(process)\n",
    "df[\"path\"] = df.hashname.apply(lambda s: os.path.join(transferdir, s))\n",
    "df.head(2)"
   ]
  },
  {
   "cell_type": "code",
   "execution_count": 15,
   "metadata": {},
   "outputs": [
    {
     "data": {
      "application/vnd.jupyter.widget-view+json": {
       "model_id": "f00befe3989442cfb7af382208cd7740",
       "version_major": 2,
       "version_minor": 0
      },
      "text/plain": [
       "  0%|          | 0/1013 [00:00<?, ?it/s]"
      ]
     },
     "metadata": {},
     "output_type": "display_data"
    },
    {
     "name": "stdout",
     "output_type": "stream",
     "text": [
      "All files exist!\n"
     ]
    }
   ],
   "source": [
    "import os\n",
    "from tqdm.auto import tqdm\n",
    "transferdir = \"transfer/\"\n",
    "\n",
    "if all([os.path.exists(\n",
    "                        os.path.join(\n",
    "                            transferdir,\n",
    "                            hashname\n",
    "                        )\n",
    "                    )  for hashname in tqdm(df.hashname) ]):\n",
    "    print(\"All files exist!\")\n",
    "else:\n",
    "    for hashname in tqdm(df.hashname):\n",
    "        path = os.path.join(transferdir, hashname)\n",
    "        if not os.path.exists(path):\n",
    "            print(f\"File {hashname} doesn't exist!\")"
   ]
  },
  {
   "cell_type": "code",
   "execution_count": 16,
   "metadata": {},
   "outputs": [
    {
     "name": "stderr",
     "output_type": "stream",
     "text": [
      "Special tokens have been added in the vocabulary, make sure the associated word embeddings are fine-tuned or trained.\n"
     ]
    },
    {
     "data": {
      "application/vnd.jupyter.widget-view+json": {
       "model_id": "c5acb1e40f6a41398e8d656e9899de07",
       "version_major": 2,
       "version_minor": 0
      },
      "text/plain": [
       "  0%|          | 0/1013 [00:00<?, ?it/s]"
      ]
     },
     "metadata": {},
     "output_type": "display_data"
    }
   ],
   "source": [
    "\n",
    "from itertools import groupby\n",
    "import torch\n",
    "from transformers import Wav2Vec2Processor, Wav2Vec2ForCTC\n",
    "from transformers import Wav2Vec2FeatureExtractor\n",
    "from transformers import Wav2Vec2Processor, Wav2Vec2CTCTokenizer\n",
    "import soundfile as sf\n",
    "\n",
    "##############\n",
    "# load model & audio and run audio through model\n",
    "##############\n",
    "import os\n",
    "# Use old or new vocab?\n",
    "# os.system(\"cp vocab_december.json vocab.json\")\n",
    "os.system(\"cp vocab_300_witn_numbers.json vocab.json\")\n",
    "\n",
    "tokenizer = Wav2Vec2CTCTokenizer.from_pretrained(\n",
    "    \"/home/peterr/macocu/task8/\", unk_token=\"[UNK]\", \n",
    "    pad_token=\"[PAD]\", word_delimiter_token=\" \")\n",
    "\n",
    "feature_extractor = Wav2Vec2FeatureExtractor(\n",
    "    feature_size=1, sampling_rate=16000, padding_value=0.0, do_normalize=True, return_attention_mask=True)\n",
    "\n",
    "processor = Wav2Vec2Processor(\n",
    "    feature_extractor=feature_extractor, tokenizer=tokenizer)\n",
    "\n",
    "\n",
    "model_name = '/home/peterr/macocu/task8/38_unnormalised/checkpoint-5360'\n",
    "\n",
    "model = Wav2Vec2ForCTC.from_pretrained(model_name).cuda()\n",
    "\n",
    "def get_transcript(audio_filepath:str):\n",
    "    speech, sample_rate = sf.read(audio_filepath)\n",
    "    input_values = processor(speech, sampling_rate=sample_rate, return_tensors=\"pt\").input_values.cuda()\n",
    "\n",
    "    logits = model(input_values).logits\n",
    "\n",
    "    predicted_ids = torch.argmax(logits, dim=-1)\n",
    "    transcription = processor.decode(predicted_ids[0]).lower()\n",
    "\n",
    "    ##############\n",
    "    # this is where the logic starts to get the start and end timestamp for each word\n",
    "    ##############\n",
    "    words = [w for w in transcription.split(' ') if len(w) > 0]\n",
    "    predicted_ids = predicted_ids[0].tolist()\n",
    "    duration_sec = input_values.shape[1] / sample_rate\n",
    "\n",
    "\n",
    "    ids_w_time = [(i / len(predicted_ids) * duration_sec, _id) for i, _id in enumerate(predicted_ids)]\n",
    "    # remove entries which are just \"padding\" (i.e. no characers are recognized)\n",
    "    ids_w_time = [i for i in ids_w_time if i[1] != processor.tokenizer.pad_token_id]\n",
    "    # now split the ids into groups of ids where each group represents a word\n",
    "    split_ids_w_time = [list(group) for k, group\n",
    "                        in groupby(ids_w_time, lambda x: x[1] == processor.tokenizer.word_delimiter_token_id)\n",
    "                        if not k]\n",
    "    assert len(split_ids_w_time) == len(words)  # make sure that there are the same number of id-groups as words. Otherwise something is wrong\n",
    "\n",
    "    word_start_times = []\n",
    "    word_end_times = []\n",
    "    for cur_ids_w_time, cur_word in zip(split_ids_w_time, words):\n",
    "        _times = [_time for _time, _id in cur_ids_w_time]\n",
    "        word_start_times.append(min(_times))\n",
    "        word_end_times.append(max(_times))\n",
    "\n",
    "    return \" \".join(words)\n",
    "\n",
    "from tqdm.auto import tqdm\n",
    "df[\"predictions\"] = [get_transcript(path) for path in tqdm(df.path.values)]\n",
    "\n"
   ]
  },
  {
   "cell_type": "code",
   "execution_count": 17,
   "metadata": {},
   "outputs": [
    {
     "name": "stdout",
     "output_type": "stream",
     "text": [
      "Evaluating on  dev\n",
      "wer=0.1046, cer=0.0335\n",
      "Evaluating on  test\n",
      "wer=0.0761, cer=0.0234\n"
     ]
    }
   ],
   "source": [
    "from datasets import load_metric\n",
    "wer_metric = load_metric(\"wer\")\n",
    "cer_metric = load_metric(\"cer\")\n",
    "\n",
    "for splt in [\"dev\", \"test\"]:\n",
    "    print(\"Evaluating on \", splt)\n",
    "    wer = wer_metric.compute(\n",
    "        references=df.loc[df.split==splt, \"sentence\"],\n",
    "        predictions=df.loc[df.split==splt, \"predictions\"]\n",
    "    )\n",
    "\n",
    "    cer = cer_metric.compute(\n",
    "        references=df.loc[df.split==splt, \"sentence\"],\n",
    "        predictions=df.loc[df.split==splt, \"predictions\"]\n",
    "    )\n",
    "\n",
    "    print(f\"{wer=:0.4f}, {cer=:0.4f}\")"
   ]
  },
  {
   "cell_type": "code",
   "execution_count": null,
   "metadata": {},
   "outputs": [],
   "source": [
    "df[[\"sentence\", \"predictions\", \"split\", \"hashname\"]].to_csv(\n",
    "    \"38_model_output_for_evaluation.csv\", \n",
    "    index=False\n",
    "    )"
   ]
  },
  {
   "cell_type": "code",
   "execution_count": null,
   "metadata": {},
   "outputs": [],
   "source": []
  }
 ],
 "metadata": {
  "interpreter": {
   "hash": "7f6f5766036ee03d059e365a942add07f79c17033585e9357ee8157d52fe6bb9"
  },
  "kernelspec": {
   "display_name": "Python 3.8.3 ('base')",
   "language": "python",
   "name": "python3"
  },
  "language_info": {
   "codemirror_mode": {
    "name": "ipython",
    "version": 3
   },
   "file_extension": ".py",
   "mimetype": "text/x-python",
   "name": "python",
   "nbconvert_exporter": "python",
   "pygments_lexer": "ipython3",
   "version": "3.8.3"
  },
  "orig_nbformat": 4
 },
 "nbformat": 4,
 "nbformat_minor": 2
}
