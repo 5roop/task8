{
 "cells": [
  {
   "cell_type": "code",
   "execution_count": 1,
   "metadata": {},
   "outputs": [
    {
     "data": {
      "text/html": [
       "<div>\n",
       "<style scoped>\n",
       "    .dataframe tbody tr th:only-of-type {\n",
       "        vertical-align: middle;\n",
       "    }\n",
       "\n",
       "    .dataframe tbody tr th {\n",
       "        vertical-align: top;\n",
       "    }\n",
       "\n",
       "    .dataframe thead th {\n",
       "        text-align: right;\n",
       "    }\n",
       "</style>\n",
       "<table border=\"1\" class=\"dataframe\">\n",
       "  <thead>\n",
       "    <tr style=\"text-align: right;\">\n",
       "      <th></th>\n",
       "      <th>hashname</th>\n",
       "      <th>orig_file</th>\n",
       "      <th>start</th>\n",
       "      <th>end</th>\n",
       "      <th>words</th>\n",
       "      <th>word_start_times</th>\n",
       "      <th>norm_words</th>\n",
       "      <th>norm_words_start_times</th>\n",
       "      <th>utterance_id_start</th>\n",
       "      <th>utterance_id_end</th>\n",
       "      <th>speaker_info</th>\n",
       "      <th>split</th>\n",
       "      <th>norm_words_edited</th>\n",
       "      <th>sentence</th>\n",
       "      <th>path</th>\n",
       "    </tr>\n",
       "  </thead>\n",
       "  <tbody>\n",
       "    <tr>\n",
       "      <th>1</th>\n",
       "      <td>Ki_SnDM_EkQ_2917.58-2937.5.wav</td>\n",
       "      <td>18 10 2018 - 9. sjednica, 9. saziv [Ki_SnDM_Ek...</td>\n",
       "      <td>2917.58</td>\n",
       "      <td>2937.50</td>\n",
       "      <td>[izraelska, tvrtka, prodaje, avione, Hrvatskoj...</td>\n",
       "      <td>[0, 0.65, 1.04, 1.54, 1.92, 2.51, 3.11, 3.5700...</td>\n",
       "      <td>[izraelska, tvrtka, prodaje, avione, hrvatskoj...</td>\n",
       "      <td>[0, 0.65, 1.04, 1.54, 1.92, 2.51, 3.11, 3.5700...</td>\n",
       "      <td>ParlaMint-HR_S09.u4267</td>\n",
       "      <td>ParlaMint-HR_S09.u4267</td>\n",
       "      <td>{'Speaker_role': 'Regular', 'Speaker_type': 'M...</td>\n",
       "      <td>dev</td>\n",
       "      <td>NaN</td>\n",
       "      <td>izraelska tvrtka prodaje avione hrvatskoj dire...</td>\n",
       "      <td>transfer/Ki_SnDM_EkQ_2917.58-2937.5.wav</td>\n",
       "    </tr>\n",
       "    <tr>\n",
       "      <th>2</th>\n",
       "      <td>XguZsDKdRh4_13797.59-13811.74.wav</td>\n",
       "      <td>20 1 2017 - 3. sjednica, 9. saziv [XguZsDKdRh4...</td>\n",
       "      <td>13797.59</td>\n",
       "      <td>13811.74</td>\n",
       "      <td>[jučer, trećem,, sutra, ili, prekosutra, četvr...</td>\n",
       "      <td>[0, 0.43, 1.0, 1.4, 1.52, 2.01, 2.55, 3.12, 3....</td>\n",
       "      <td>[jučer, trećem, sutra, ili, prekosutra, četvrt...</td>\n",
       "      <td>[0, 0.43, 1.0, 1.4, 1.52, 2.01, 2.55, 3.12, 3....</td>\n",
       "      <td>ParlaMint-HR_S03.u9702</td>\n",
       "      <td>ParlaMint-HR_S03.u9702</td>\n",
       "      <td>{'Speaker_role': 'Regular', 'Speaker_type': 'M...</td>\n",
       "      <td>dev</td>\n",
       "      <td>NaN</td>\n",
       "      <td>jučer trećem sutra ili prekosutra četvrtoj oso...</td>\n",
       "      <td>transfer/XguZsDKdRh4_13797.59-13811.74.wav</td>\n",
       "    </tr>\n",
       "  </tbody>\n",
       "</table>\n",
       "</div>"
      ],
      "text/plain": [
       "                            hashname  \\\n",
       "1     Ki_SnDM_EkQ_2917.58-2937.5.wav   \n",
       "2  XguZsDKdRh4_13797.59-13811.74.wav   \n",
       "\n",
       "                                           orig_file     start       end  \\\n",
       "1  18 10 2018 - 9. sjednica, 9. saziv [Ki_SnDM_Ek...   2917.58   2937.50   \n",
       "2  20 1 2017 - 3. sjednica, 9. saziv [XguZsDKdRh4...  13797.59  13811.74   \n",
       "\n",
       "                                               words  \\\n",
       "1  [izraelska, tvrtka, prodaje, avione, Hrvatskoj...   \n",
       "2  [jučer, trećem,, sutra, ili, prekosutra, četvr...   \n",
       "\n",
       "                                    word_start_times  \\\n",
       "1  [0, 0.65, 1.04, 1.54, 1.92, 2.51, 3.11, 3.5700...   \n",
       "2  [0, 0.43, 1.0, 1.4, 1.52, 2.01, 2.55, 3.12, 3....   \n",
       "\n",
       "                                          norm_words  \\\n",
       "1  [izraelska, tvrtka, prodaje, avione, hrvatskoj...   \n",
       "2  [jučer, trećem, sutra, ili, prekosutra, četvrt...   \n",
       "\n",
       "                              norm_words_start_times      utterance_id_start  \\\n",
       "1  [0, 0.65, 1.04, 1.54, 1.92, 2.51, 3.11, 3.5700...  ParlaMint-HR_S09.u4267   \n",
       "2  [0, 0.43, 1.0, 1.4, 1.52, 2.01, 2.55, 3.12, 3....  ParlaMint-HR_S03.u9702   \n",
       "\n",
       "         utterance_id_end                                       speaker_info  \\\n",
       "1  ParlaMint-HR_S09.u4267  {'Speaker_role': 'Regular', 'Speaker_type': 'M...   \n",
       "2  ParlaMint-HR_S03.u9702  {'Speaker_role': 'Regular', 'Speaker_type': 'M...   \n",
       "\n",
       "  split norm_words_edited                                           sentence  \\\n",
       "1   dev               NaN  izraelska tvrtka prodaje avione hrvatskoj dire...   \n",
       "2   dev               NaN  jučer trećem sutra ili prekosutra četvrtoj oso...   \n",
       "\n",
       "                                         path  \n",
       "1     transfer/Ki_SnDM_EkQ_2917.58-2937.5.wav  \n",
       "2  transfer/XguZsDKdRh4_13797.59-13811.74.wav  "
      ]
     },
     "execution_count": 1,
     "metadata": {},
     "output_type": "execute_result"
    }
   ],
   "source": [
    "import pandas as pd\n",
    "import numpy as np\n",
    "import os\n",
    "\n",
    "transferdir = \"transfer/\"\n",
    "\n",
    "def process(text: str):\n",
    "    from parse import compile\n",
    "    from string import punctuation\n",
    "\n",
    "    p = compile(\"{hit:d}.\")\n",
    "    in_list = text.split()\n",
    "    out_list = list()\n",
    "    for seg in in_list:\n",
    "        parse_result = p.parse(seg)\n",
    "        if parse_result:\n",
    "            # We got a number with a dot afterward:\n",
    "            out_list.append(seg.lower())\n",
    "        else:\n",
    "            out_list.append(seg.translate(str.maketrans(\"\", \"\", punctuation)).lower())\n",
    "    return \" \".join(out_list)\n",
    "\n",
    "df = pd.read_json(\"ParlaSpeech-HR.v1.0.jsonl\", orient=\"records\", lines=True)\n",
    "df = df.rename(columns={\"path\":\"hashname\"})\n",
    "df = df.loc[df.split.isin(\"test,dev\".split(\",\")), :]\n",
    "\n",
    "df[\"sentence\"] = df.words.apply(\" \".join).apply(process)\n",
    "df[\"path\"] = df.hashname.apply(lambda s: os.path.join(transferdir, s))\n",
    "df.head(2)"
   ]
  },
  {
   "cell_type": "code",
   "execution_count": 15,
   "metadata": {},
   "outputs": [
    {
     "data": {
      "application/vnd.jupyter.widget-view+json": {
       "model_id": "f00befe3989442cfb7af382208cd7740",
       "version_major": 2,
       "version_minor": 0
      },
      "text/plain": [
       "  0%|          | 0/1013 [00:00<?, ?it/s]"
      ]
     },
     "metadata": {},
     "output_type": "display_data"
    },
    {
     "name": "stdout",
     "output_type": "stream",
     "text": [
      "All files exist!\n"
     ]
    }
   ],
   "source": [
    "import os\n",
    "from tqdm.auto import tqdm\n",
    "transferdir = \"transfer/\"\n",
    "\n",
    "if all([os.path.exists(\n",
    "                        os.path.join(\n",
    "                            transferdir,\n",
    "                            hashname\n",
    "                        )\n",
    "                    )  for hashname in tqdm(df.hashname) ]):\n",
    "    print(\"All files exist!\")\n",
    "else:\n",
    "    for hashname in tqdm(df.hashname):\n",
    "        path = os.path.join(transferdir, hashname)\n",
    "        if not os.path.exists(path):\n",
    "            print(f\"File {hashname} doesn't exist!\")"
   ]
  },
  {
   "cell_type": "code",
   "execution_count": 3,
   "metadata": {},
   "outputs": [
    {
     "name": "stderr",
     "output_type": "stream",
     "text": [
      "Special tokens have been added in the vocabulary, make sure the associated word embeddings are fine-tuned or trained.\n"
     ]
    },
    {
     "data": {
      "application/vnd.jupyter.widget-view+json": {
       "model_id": "a19122ec94474b1d8d85ea5dc1d20995",
       "version_major": 2,
       "version_minor": 0
      },
      "text/plain": [
       "  0%|          | 0/1013 [00:00<?, ?it/s]"
      ]
     },
     "metadata": {},
     "output_type": "display_data"
    }
   ],
   "source": [
    "\n",
    "from itertools import groupby\n",
    "import torch\n",
    "from transformers import Wav2Vec2Processor, Wav2Vec2ForCTC\n",
    "from transformers import Wav2Vec2FeatureExtractor\n",
    "from transformers import Wav2Vec2Processor, Wav2Vec2CTCTokenizer\n",
    "import soundfile as sf\n",
    "\n",
    "##############\n",
    "# load model & audio and run audio through model\n",
    "##############\n",
    "import os\n",
    "# Use old or new vocab?\n",
    "# os.system(\"cp vocab_december.json vocab.json\")\n",
    "os.system(\"cp vocab_300_witn_numbers.json vocab.json\")\n",
    "\n",
    "tokenizer = Wav2Vec2CTCTokenizer.from_pretrained(\n",
    "    \"/home/peterr/macocu/task8/\", unk_token=\"[UNK]\", \n",
    "    pad_token=\"[PAD]\", word_delimiter_token=\" \")\n",
    "\n",
    "feature_extractor = Wav2Vec2FeatureExtractor(\n",
    "    feature_size=1, sampling_rate=16000, padding_value=0.0, do_normalize=True, return_attention_mask=True)\n",
    "\n",
    "processor = Wav2Vec2Processor(\n",
    "    feature_extractor=feature_extractor, tokenizer=tokenizer)\n",
    "\n",
    "\n",
    "model_name = '/home/peterr/macocu/task8/40_unnormalised/checkpoint-6700'\n",
    "\n",
    "model = Wav2Vec2ForCTC.from_pretrained(model_name).cuda()\n",
    "\n",
    "def get_transcript(audio_filepath:str, model):\n",
    "    speech, sample_rate = sf.read(audio_filepath)\n",
    "    input_values = processor(speech, sampling_rate=sample_rate, return_tensors=\"pt\").input_values.cuda()\n",
    "\n",
    "    logits = model(input_values).logits\n",
    "\n",
    "    predicted_ids = torch.argmax(logits, dim=-1)\n",
    "    transcription = processor.decode(predicted_ids[0]).lower()\n",
    "\n",
    "    ##############\n",
    "    # this is where the logic starts to get the start and end timestamp for each word\n",
    "    ##############\n",
    "    words = [w for w in transcription.split(' ') if len(w) > 0]\n",
    "    predicted_ids = predicted_ids[0].tolist()\n",
    "    duration_sec = input_values.shape[1] / sample_rate\n",
    "\n",
    "\n",
    "    ids_w_time = [(i / len(predicted_ids) * duration_sec, _id) for i, _id in enumerate(predicted_ids)]\n",
    "    # remove entries which are just \"padding\" (i.e. no characers are recognized)\n",
    "    ids_w_time = [i for i in ids_w_time if i[1] != processor.tokenizer.pad_token_id]\n",
    "    # now split the ids into groups of ids where each group represents a word\n",
    "    split_ids_w_time = [list(group) for k, group\n",
    "                        in groupby(ids_w_time, lambda x: x[1] == processor.tokenizer.word_delimiter_token_id)\n",
    "                        if not k]\n",
    "    assert len(split_ids_w_time) == len(words)  # make sure that there are the same number of id-groups as words. Otherwise something is wrong\n",
    "\n",
    "    word_start_times = []\n",
    "    word_end_times = []\n",
    "    for cur_ids_w_time, cur_word in zip(split_ids_w_time, words):\n",
    "        _times = [_time for _time, _id in cur_ids_w_time]\n",
    "        word_start_times.append(min(_times))\n",
    "        word_end_times.append(max(_times))\n",
    "\n",
    "    return \" \".join(words)\n",
    "\n",
    "from tqdm.auto import tqdm\n",
    "df[\"predictions\"] = [get_transcript(path, model) for path in tqdm(df.path.values)]\n",
    "\n"
   ]
  },
  {
   "cell_type": "code",
   "execution_count": 4,
   "metadata": {},
   "outputs": [
    {
     "name": "stdout",
     "output_type": "stream",
     "text": [
      "Evaluating model 38, checkpoint 1340 on  dev\n"
     ]
    },
    {
     "data": {
      "application/vnd.jupyter.widget-view+json": {
       "model_id": "d4855558fe974bde900f12fa2813d575",
       "version_major": 2,
       "version_minor": 0
      },
      "text/plain": [
       "  0%|          | 0/500 [00:00<?, ?it/s]"
      ]
     },
     "metadata": {},
     "output_type": "display_data"
    },
    {
     "name": "stdout",
     "output_type": "stream",
     "text": [
      "wer=0.1383, cer=0.0408\n",
      "Evaluating model 38, checkpoint 1340 on  test\n"
     ]
    },
    {
     "data": {
      "application/vnd.jupyter.widget-view+json": {
       "model_id": "f587ceeaa44340a4b9e565d761762069",
       "version_major": 2,
       "version_minor": 0
      },
      "text/plain": [
       "  0%|          | 0/513 [00:00<?, ?it/s]"
      ]
     },
     "metadata": {},
     "output_type": "display_data"
    },
    {
     "name": "stdout",
     "output_type": "stream",
     "text": [
      "wer=0.1056, cer=0.0289\n",
      "Evaluating model 38, checkpoint 2680 on  dev\n"
     ]
    },
    {
     "data": {
      "application/vnd.jupyter.widget-view+json": {
       "model_id": "145e72c79b614ab29c0cb14934171025",
       "version_major": 2,
       "version_minor": 0
      },
      "text/plain": [
       "  0%|          | 0/500 [00:00<?, ?it/s]"
      ]
     },
     "metadata": {},
     "output_type": "display_data"
    },
    {
     "name": "stdout",
     "output_type": "stream",
     "text": [
      "wer=0.1218, cer=0.0366\n",
      "Evaluating model 38, checkpoint 2680 on  test\n"
     ]
    },
    {
     "data": {
      "application/vnd.jupyter.widget-view+json": {
       "model_id": "a0fd902f1dbf424895d121c7fb32b59a",
       "version_major": 2,
       "version_minor": 0
      },
      "text/plain": [
       "  0%|          | 0/513 [00:00<?, ?it/s]"
      ]
     },
     "metadata": {},
     "output_type": "display_data"
    },
    {
     "name": "stdout",
     "output_type": "stream",
     "text": [
      "wer=0.0854, cer=0.0249\n",
      "Evaluating model 38, checkpoint 4020 on  dev\n"
     ]
    },
    {
     "data": {
      "application/vnd.jupyter.widget-view+json": {
       "model_id": "b56de6ca0cff49b39bb30d9af2de6f37",
       "version_major": 2,
       "version_minor": 0
      },
      "text/plain": [
       "  0%|          | 0/500 [00:00<?, ?it/s]"
      ]
     },
     "metadata": {},
     "output_type": "display_data"
    },
    {
     "name": "stdout",
     "output_type": "stream",
     "text": [
      "wer=0.1118, cer=0.0349\n",
      "Evaluating model 38, checkpoint 4020 on  test\n"
     ]
    },
    {
     "data": {
      "application/vnd.jupyter.widget-view+json": {
       "model_id": "5b4bdc52f4fc45109221e3d3048998c8",
       "version_major": 2,
       "version_minor": 0
      },
      "text/plain": [
       "  0%|          | 0/513 [00:00<?, ?it/s]"
      ]
     },
     "metadata": {},
     "output_type": "display_data"
    },
    {
     "name": "stdout",
     "output_type": "stream",
     "text": [
      "wer=0.0813, cer=0.0246\n",
      "Evaluating model 38, checkpoint 5360 on  dev\n"
     ]
    },
    {
     "data": {
      "application/vnd.jupyter.widget-view+json": {
       "model_id": "72629da5e7e04097abc3c311b5d301f6",
       "version_major": 2,
       "version_minor": 0
      },
      "text/plain": [
       "  0%|          | 0/500 [00:00<?, ?it/s]"
      ]
     },
     "metadata": {},
     "output_type": "display_data"
    },
    {
     "name": "stdout",
     "output_type": "stream",
     "text": [
      "wer=0.1046, cer=0.0335\n",
      "Evaluating model 38, checkpoint 5360 on  test\n"
     ]
    },
    {
     "data": {
      "application/vnd.jupyter.widget-view+json": {
       "model_id": "8b6b487d88fd43e987bf1c2dccb2a7a5",
       "version_major": 2,
       "version_minor": 0
      },
      "text/plain": [
       "  0%|          | 0/513 [00:00<?, ?it/s]"
      ]
     },
     "metadata": {},
     "output_type": "display_data"
    },
    {
     "name": "stdout",
     "output_type": "stream",
     "text": [
      "wer=0.0761, cer=0.0234\n",
      "Evaluating model 38, checkpoint 6700 on  dev\n"
     ]
    },
    {
     "data": {
      "application/vnd.jupyter.widget-view+json": {
       "model_id": "f3b341fc7f7b4bf0b22a6570f955d481",
       "version_major": 2,
       "version_minor": 0
      },
      "text/plain": [
       "  0%|          | 0/500 [00:00<?, ?it/s]"
      ]
     },
     "metadata": {},
     "output_type": "display_data"
    },
    {
     "name": "stdout",
     "output_type": "stream",
     "text": [
      "wer=0.1023, cer=0.0323\n",
      "Evaluating model 38, checkpoint 6700 on  test\n"
     ]
    },
    {
     "data": {
      "application/vnd.jupyter.widget-view+json": {
       "model_id": "29cf4c8976c74f72a4e2040acd91b4f6",
       "version_major": 2,
       "version_minor": 0
      },
      "text/plain": [
       "  0%|          | 0/513 [00:00<?, ?it/s]"
      ]
     },
     "metadata": {},
     "output_type": "display_data"
    },
    {
     "name": "stdout",
     "output_type": "stream",
     "text": [
      "wer=0.0740, cer=0.0232\n",
      "Evaluating model 40, checkpoint 1340 on  dev\n"
     ]
    },
    {
     "data": {
      "application/vnd.jupyter.widget-view+json": {
       "model_id": "26804cc27ae14b32862b2cf46305c3e9",
       "version_major": 2,
       "version_minor": 0
      },
      "text/plain": [
       "  0%|          | 0/500 [00:00<?, ?it/s]"
      ]
     },
     "metadata": {},
     "output_type": "display_data"
    },
    {
     "name": "stdout",
     "output_type": "stream",
     "text": [
      "wer=0.1100, cer=0.0341\n",
      "Evaluating model 40, checkpoint 1340 on  test\n"
     ]
    },
    {
     "data": {
      "application/vnd.jupyter.widget-view+json": {
       "model_id": "abf121490af94f7799a9f2a296c4ff36",
       "version_major": 2,
       "version_minor": 0
      },
      "text/plain": [
       "  0%|          | 0/513 [00:00<?, ?it/s]"
      ]
     },
     "metadata": {},
     "output_type": "display_data"
    },
    {
     "name": "stdout",
     "output_type": "stream",
     "text": [
      "wer=0.0815, cer=0.0242\n",
      "Evaluating model 40, checkpoint 2680 on  dev\n"
     ]
    },
    {
     "data": {
      "application/vnd.jupyter.widget-view+json": {
       "model_id": "798c400159494a0ca23164d98190f935",
       "version_major": 2,
       "version_minor": 0
      },
      "text/plain": [
       "  0%|          | 0/500 [00:00<?, ?it/s]"
      ]
     },
     "metadata": {},
     "output_type": "display_data"
    },
    {
     "name": "stdout",
     "output_type": "stream",
     "text": [
      "wer=0.0952, cer=0.0305\n",
      "Evaluating model 40, checkpoint 2680 on  test\n"
     ]
    },
    {
     "data": {
      "application/vnd.jupyter.widget-view+json": {
       "model_id": "8ccb11be424345fe9c13ea110a8be407",
       "version_major": 2,
       "version_minor": 0
      },
      "text/plain": [
       "  0%|          | 0/513 [00:00<?, ?it/s]"
      ]
     },
     "metadata": {},
     "output_type": "display_data"
    },
    {
     "name": "stdout",
     "output_type": "stream",
     "text": [
      "wer=0.0702, cer=0.0221\n",
      "Evaluating model 40, checkpoint 4020 on  dev\n"
     ]
    },
    {
     "data": {
      "application/vnd.jupyter.widget-view+json": {
       "model_id": "65d289d7ddfe40cdbf868fb09ba1c0e0",
       "version_major": 2,
       "version_minor": 0
      },
      "text/plain": [
       "  0%|          | 0/500 [00:00<?, ?it/s]"
      ]
     },
     "metadata": {},
     "output_type": "display_data"
    },
    {
     "name": "stdout",
     "output_type": "stream",
     "text": [
      "wer=0.0932, cer=0.0314\n",
      "Evaluating model 40, checkpoint 4020 on  test\n"
     ]
    },
    {
     "data": {
      "application/vnd.jupyter.widget-view+json": {
       "model_id": "f40180e494514d72883f0b02d82094d4",
       "version_major": 2,
       "version_minor": 0
      },
      "text/plain": [
       "  0%|          | 0/513 [00:00<?, ?it/s]"
      ]
     },
     "metadata": {},
     "output_type": "display_data"
    },
    {
     "name": "stdout",
     "output_type": "stream",
     "text": [
      "wer=0.0701, cer=0.0224\n",
      "Evaluating model 40, checkpoint 5360 on  dev\n"
     ]
    },
    {
     "data": {
      "application/vnd.jupyter.widget-view+json": {
       "model_id": "0467d7eef20b40848a3d751873fde740",
       "version_major": 2,
       "version_minor": 0
      },
      "text/plain": [
       "  0%|          | 0/500 [00:00<?, ?it/s]"
      ]
     },
     "metadata": {},
     "output_type": "display_data"
    },
    {
     "name": "stdout",
     "output_type": "stream",
     "text": [
      "wer=0.0928, cer=0.0312\n",
      "Evaluating model 40, checkpoint 5360 on  test\n"
     ]
    },
    {
     "data": {
      "application/vnd.jupyter.widget-view+json": {
       "model_id": "3504949e13304acdb4b50bde2fec6b1e",
       "version_major": 2,
       "version_minor": 0
      },
      "text/plain": [
       "  0%|          | 0/513 [00:00<?, ?it/s]"
      ]
     },
     "metadata": {},
     "output_type": "display_data"
    },
    {
     "name": "stdout",
     "output_type": "stream",
     "text": [
      "wer=0.0666, cer=0.0222\n",
      "Evaluating model 40, checkpoint 6700 on  dev\n"
     ]
    },
    {
     "data": {
      "application/vnd.jupyter.widget-view+json": {
       "model_id": "35a3a08895904266ac8a7e578e5b76e6",
       "version_major": 2,
       "version_minor": 0
      },
      "text/plain": [
       "  0%|          | 0/500 [00:00<?, ?it/s]"
      ]
     },
     "metadata": {},
     "output_type": "display_data"
    },
    {
     "name": "stdout",
     "output_type": "stream",
     "text": [
      "wer=0.0921, cer=0.0311\n",
      "Evaluating model 40, checkpoint 6700 on  test\n"
     ]
    },
    {
     "data": {
      "application/vnd.jupyter.widget-view+json": {
       "model_id": "739876d237cc428b9892316323fe120f",
       "version_major": 2,
       "version_minor": 0
      },
      "text/plain": [
       "  0%|          | 0/513 [00:00<?, ?it/s]"
      ]
     },
     "metadata": {},
     "output_type": "display_data"
    },
    {
     "name": "stdout",
     "output_type": "stream",
     "text": [
      "wer=0.0679, cer=0.0222\n"
     ]
    }
   ],
   "source": [
    "from datasets import load_metric\n",
    "wer_metric = load_metric(\"wer\")\n",
    "cer_metric = load_metric(\"cer\")\n",
    "model_name = '/home/peterr/macocu/task8/40_unnormalised/checkpoint-6700'\n",
    "results = []\n",
    "for model_number in (38, 40):\n",
    "    for checkpoint in (1340, 2680, 4020, 5360, 6700):\n",
    "        model_name = f'/home/peterr/macocu/task8/{model_number}_unnormalised/checkpoint-{checkpoint}'\n",
    "        model = Wav2Vec2ForCTC.from_pretrained(model_name).cuda()\n",
    "        for splt in [\"dev\", \"test\"]:\n",
    "            print(f\"Evaluating model {model_number}, checkpoint {checkpoint} on \", splt)\n",
    "\n",
    "            predictions = [get_transcript(path, model) for path in tqdm(df.loc[df.split==splt, \"path\"].values)]\n",
    "            wer = wer_metric.compute(\n",
    "                references=df.loc[df.split==splt, \"sentence\"],\n",
    "                predictions=predictions\n",
    "            )\n",
    "\n",
    "            cer = cer_metric.compute(\n",
    "                references=df.loc[df.split==splt, \"sentence\"],\n",
    "                predictions=predictions\n",
    "            )\n",
    "\n",
    "            print(f\"{wer=:0.4f}, {cer=:0.4f}\")\n",
    "            results.append({\n",
    "                \"model_nr\": model_number,\n",
    "                \"checkpoint\": checkpoint,\n",
    "                \"wer\":wer,\n",
    "                \"cer\": cer,\n",
    "                \"split\": splt\n",
    "            })"
   ]
  },
  {
   "cell_type": "code",
   "execution_count": 8,
   "metadata": {},
   "outputs": [
    {
     "data": {
      "text/html": [
       "<div>\n",
       "<style scoped>\n",
       "    .dataframe tbody tr th:only-of-type {\n",
       "        vertical-align: middle;\n",
       "    }\n",
       "\n",
       "    .dataframe tbody tr th {\n",
       "        vertical-align: top;\n",
       "    }\n",
       "\n",
       "    .dataframe thead th {\n",
       "        text-align: right;\n",
       "    }\n",
       "</style>\n",
       "<table border=\"1\" class=\"dataframe\">\n",
       "  <thead>\n",
       "    <tr style=\"text-align: right;\">\n",
       "      <th></th>\n",
       "      <th>model_nr</th>\n",
       "      <th>checkpoint</th>\n",
       "      <th>wer</th>\n",
       "      <th>cer</th>\n",
       "      <th>split</th>\n",
       "      <th>epoch</th>\n",
       "    </tr>\n",
       "  </thead>\n",
       "  <tbody>\n",
       "    <tr>\n",
       "      <th>4</th>\n",
       "      <td>38</td>\n",
       "      <td>4020</td>\n",
       "      <td>0.111820</td>\n",
       "      <td>0.034887</td>\n",
       "      <td>dev</td>\n",
       "      <td>4.8</td>\n",
       "    </tr>\n",
       "    <tr>\n",
       "      <th>5</th>\n",
       "      <td>38</td>\n",
       "      <td>4020</td>\n",
       "      <td>0.081251</td>\n",
       "      <td>0.024590</td>\n",
       "      <td>test</td>\n",
       "      <td>4.8</td>\n",
       "    </tr>\n",
       "    <tr>\n",
       "      <th>8</th>\n",
       "      <td>38</td>\n",
       "      <td>6700</td>\n",
       "      <td>0.102332</td>\n",
       "      <td>0.032324</td>\n",
       "      <td>dev</td>\n",
       "      <td>8.0</td>\n",
       "    </tr>\n",
       "    <tr>\n",
       "      <th>9</th>\n",
       "      <td>38</td>\n",
       "      <td>6700</td>\n",
       "      <td>0.073984</td>\n",
       "      <td>0.023217</td>\n",
       "      <td>test</td>\n",
       "      <td>8.0</td>\n",
       "    </tr>\n",
       "    <tr>\n",
       "      <th>14</th>\n",
       "      <td>40</td>\n",
       "      <td>4020</td>\n",
       "      <td>0.093240</td>\n",
       "      <td>0.031436</td>\n",
       "      <td>dev</td>\n",
       "      <td>4.8</td>\n",
       "    </tr>\n",
       "    <tr>\n",
       "      <th>15</th>\n",
       "      <td>40</td>\n",
       "      <td>4020</td>\n",
       "      <td>0.070076</td>\n",
       "      <td>0.022351</td>\n",
       "      <td>test</td>\n",
       "      <td>4.8</td>\n",
       "    </tr>\n",
       "    <tr>\n",
       "      <th>18</th>\n",
       "      <td>40</td>\n",
       "      <td>6700</td>\n",
       "      <td>0.092054</td>\n",
       "      <td>0.031101</td>\n",
       "      <td>dev</td>\n",
       "      <td>8.0</td>\n",
       "    </tr>\n",
       "    <tr>\n",
       "      <th>19</th>\n",
       "      <td>40</td>\n",
       "      <td>6700</td>\n",
       "      <td>0.067874</td>\n",
       "      <td>0.022248</td>\n",
       "      <td>test</td>\n",
       "      <td>8.0</td>\n",
       "    </tr>\n",
       "  </tbody>\n",
       "</table>\n",
       "</div>"
      ],
      "text/plain": [
       "    model_nr  checkpoint       wer       cer split  epoch\n",
       "4         38        4020  0.111820  0.034887   dev    4.8\n",
       "5         38        4020  0.081251  0.024590  test    4.8\n",
       "8         38        6700  0.102332  0.032324   dev    8.0\n",
       "9         38        6700  0.073984  0.023217  test    8.0\n",
       "14        40        4020  0.093240  0.031436   dev    4.8\n",
       "15        40        4020  0.070076  0.022351  test    4.8\n",
       "18        40        6700  0.092054  0.031101   dev    8.0\n",
       "19        40        6700  0.067874  0.022248  test    8.0"
      ]
     },
     "execution_count": 8,
     "metadata": {},
     "output_type": "execute_result"
    }
   ],
   "source": [
    "rezdf = pd.DataFrame(data=results)\n",
    "rezdf[\"epoch\"] = rezdf[\"checkpoint\"] * 8 / 6700\n",
    "rezdf.to_json(\"38_and_40_per_checkpoint_eval.json\", orient=\"records\", lines=True)\n",
    "rezdf[rezdf.checkpoint.isin([6700, 4020])]"
   ]
  },
  {
   "cell_type": "code",
   "execution_count": 21,
   "metadata": {},
   "outputs": [],
   "source": [
    "df[[\"sentence\", \"predictions\", \"split\", \"hashname\"]].to_csv(\n",
    "    \"38_model_output_for_evaluation.csv\", \n",
    "    index=False\n",
    "    )"
   ]
  },
  {
   "cell_type": "code",
   "execution_count": null,
   "metadata": {},
   "outputs": [],
   "source": []
  }
 ],
 "metadata": {
  "interpreter": {
   "hash": "7f6f5766036ee03d059e365a942add07f79c17033585e9357ee8157d52fe6bb9"
  },
  "kernelspec": {
   "display_name": "Python 3.8.3 ('base')",
   "language": "python",
   "name": "python3"
  },
  "language_info": {
   "codemirror_mode": {
    "name": "ipython",
    "version": 3
   },
   "file_extension": ".py",
   "mimetype": "text/x-python",
   "name": "python",
   "nbconvert_exporter": "python",
   "pygments_lexer": "ipython3",
   "version": "3.8.3"
  },
  "orig_nbformat": 4
 },
 "nbformat": 4,
 "nbformat_minor": 2
}
