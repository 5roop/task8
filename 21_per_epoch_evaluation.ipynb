{
 "cells": [
  {
   "cell_type": "code",
   "execution_count": 17,
   "metadata": {},
   "outputs": [
    {
     "name": "stderr",
     "output_type": "stream",
     "text": [
      "Special tokens have been added in the vocabulary, make sure the associated word embeddings are fine-tuned or trained.\n"
     ]
    },
    {
     "name": "stdout",
     "output_type": "stream",
     "text": [
      "Preparing the following vocabulary: vocab_300.json\n",
      "{'modelname': '18_normalised', 'vocabulary_file': 'vocab_300.json', 'checkpoint': 'checkpoint-757', 'checkpoint_path': '18_normalised/checkpoint-757', 'df_name': 'dev', 'col': 'human_transcript', 'steps': 757, 'epochs': 1.9973614775725594}\n"
     ]
    },
    {
     "name": "stderr",
     "output_type": "stream",
     "text": [
      "Special tokens have been added in the vocabulary, make sure the associated word embeddings are fine-tuned or trained.\n"
     ]
    },
    {
     "name": "stdout",
     "output_type": "stream",
     "text": [
      "{'modelname': '18_normalised', 'vocabulary_file': 'vocab_300.json', 'checkpoint': 'checkpoint-757', 'checkpoint_path': '18_normalised/checkpoint-757', 'df_name': 'test', 'col': 'human_transcript', 'steps': 757, 'epochs': 1.9973614775725594}\n"
     ]
    },
    {
     "name": "stderr",
     "output_type": "stream",
     "text": [
      "Special tokens have been added in the vocabulary, make sure the associated word embeddings are fine-tuned or trained.\n"
     ]
    },
    {
     "name": "stdout",
     "output_type": "stream",
     "text": [
      "{'modelname': '18_normalised', 'vocabulary_file': 'vocab_300.json', 'checkpoint': 'checkpoint-1514', 'checkpoint_path': '18_normalised/checkpoint-1514', 'df_name': 'dev', 'col': 'human_transcript', 'steps': 1514, 'epochs': 3.994722955145119}\n"
     ]
    },
    {
     "name": "stderr",
     "output_type": "stream",
     "text": [
      "Special tokens have been added in the vocabulary, make sure the associated word embeddings are fine-tuned or trained.\n"
     ]
    },
    {
     "name": "stdout",
     "output_type": "stream",
     "text": [
      "{'modelname': '18_normalised', 'vocabulary_file': 'vocab_300.json', 'checkpoint': 'checkpoint-1514', 'checkpoint_path': '18_normalised/checkpoint-1514', 'df_name': 'test', 'col': 'human_transcript', 'steps': 1514, 'epochs': 3.994722955145119}\n"
     ]
    },
    {
     "name": "stderr",
     "output_type": "stream",
     "text": [
      "Special tokens have been added in the vocabulary, make sure the associated word embeddings are fine-tuned or trained.\n"
     ]
    },
    {
     "name": "stdout",
     "output_type": "stream",
     "text": [
      "{'modelname': '18_normalised', 'vocabulary_file': 'vocab_300.json', 'checkpoint': 'checkpoint-2271', 'checkpoint_path': '18_normalised/checkpoint-2271', 'df_name': 'dev', 'col': 'human_transcript', 'steps': 2271, 'epochs': 5.992084432717678}\n"
     ]
    },
    {
     "name": "stderr",
     "output_type": "stream",
     "text": [
      "Special tokens have been added in the vocabulary, make sure the associated word embeddings are fine-tuned or trained.\n"
     ]
    },
    {
     "name": "stdout",
     "output_type": "stream",
     "text": [
      "{'modelname': '18_normalised', 'vocabulary_file': 'vocab_300.json', 'checkpoint': 'checkpoint-2271', 'checkpoint_path': '18_normalised/checkpoint-2271', 'df_name': 'test', 'col': 'human_transcript', 'steps': 2271, 'epochs': 5.992084432717678}\n"
     ]
    },
    {
     "name": "stderr",
     "output_type": "stream",
     "text": [
      "Special tokens have been added in the vocabulary, make sure the associated word embeddings are fine-tuned or trained.\n"
     ]
    },
    {
     "name": "stdout",
     "output_type": "stream",
     "text": [
      "{'modelname': '18_normalised', 'vocabulary_file': 'vocab_300.json', 'checkpoint': 'checkpoint-3028', 'checkpoint_path': '18_normalised/checkpoint-3028', 'df_name': 'dev', 'col': 'human_transcript', 'steps': 3028, 'epochs': 7.989445910290238}\n"
     ]
    },
    {
     "name": "stderr",
     "output_type": "stream",
     "text": [
      "Special tokens have been added in the vocabulary, make sure the associated word embeddings are fine-tuned or trained.\n"
     ]
    },
    {
     "name": "stdout",
     "output_type": "stream",
     "text": [
      "{'modelname': '18_normalised', 'vocabulary_file': 'vocab_300.json', 'checkpoint': 'checkpoint-3028', 'checkpoint_path': '18_normalised/checkpoint-3028', 'df_name': 'test', 'col': 'human_transcript', 'steps': 3028, 'epochs': 7.989445910290238}\n"
     ]
    },
    {
     "name": "stderr",
     "output_type": "stream",
     "text": [
      "Special tokens have been added in the vocabulary, make sure the associated word embeddings are fine-tuned or trained.\n"
     ]
    },
    {
     "name": "stdout",
     "output_type": "stream",
     "text": [
      "Preparing the following vocabulary: vocab_300_with_numbers.json\n",
      "{'modelname': '19_unnormalised', 'vocabulary_file': 'vocab_300_with_numbers.json', 'checkpoint': 'checkpoint-757', 'checkpoint_path': '19_unnormalised/checkpoint-757', 'df_name': 'dev', 'col': 'unnormalized_transcript', 'steps': 757, 'epochs': 1.9973614775725594}\n"
     ]
    },
    {
     "name": "stderr",
     "output_type": "stream",
     "text": [
      "Special tokens have been added in the vocabulary, make sure the associated word embeddings are fine-tuned or trained.\n"
     ]
    },
    {
     "name": "stdout",
     "output_type": "stream",
     "text": [
      "{'modelname': '19_unnormalised', 'vocabulary_file': 'vocab_300_with_numbers.json', 'checkpoint': 'checkpoint-757', 'checkpoint_path': '19_unnormalised/checkpoint-757', 'df_name': 'test', 'col': 'unnormalized_transcript', 'steps': 757, 'epochs': 1.9973614775725594}\n"
     ]
    },
    {
     "name": "stderr",
     "output_type": "stream",
     "text": [
      "Special tokens have been added in the vocabulary, make sure the associated word embeddings are fine-tuned or trained.\n"
     ]
    },
    {
     "name": "stdout",
     "output_type": "stream",
     "text": [
      "{'modelname': '19_unnormalised', 'vocabulary_file': 'vocab_300_with_numbers.json', 'checkpoint': 'checkpoint-1514', 'checkpoint_path': '19_unnormalised/checkpoint-1514', 'df_name': 'dev', 'col': 'unnormalized_transcript', 'steps': 1514, 'epochs': 3.994722955145119}\n"
     ]
    },
    {
     "name": "stderr",
     "output_type": "stream",
     "text": [
      "Special tokens have been added in the vocabulary, make sure the associated word embeddings are fine-tuned or trained.\n"
     ]
    },
    {
     "name": "stdout",
     "output_type": "stream",
     "text": [
      "{'modelname': '19_unnormalised', 'vocabulary_file': 'vocab_300_with_numbers.json', 'checkpoint': 'checkpoint-1514', 'checkpoint_path': '19_unnormalised/checkpoint-1514', 'df_name': 'test', 'col': 'unnormalized_transcript', 'steps': 1514, 'epochs': 3.994722955145119}\n"
     ]
    },
    {
     "name": "stderr",
     "output_type": "stream",
     "text": [
      "Special tokens have been added in the vocabulary, make sure the associated word embeddings are fine-tuned or trained.\n"
     ]
    },
    {
     "name": "stdout",
     "output_type": "stream",
     "text": [
      "{'modelname': '19_unnormalised', 'vocabulary_file': 'vocab_300_with_numbers.json', 'checkpoint': 'checkpoint-2271', 'checkpoint_path': '19_unnormalised/checkpoint-2271', 'df_name': 'dev', 'col': 'unnormalized_transcript', 'steps': 2271, 'epochs': 5.992084432717678}\n"
     ]
    },
    {
     "name": "stderr",
     "output_type": "stream",
     "text": [
      "Special tokens have been added in the vocabulary, make sure the associated word embeddings are fine-tuned or trained.\n"
     ]
    },
    {
     "name": "stdout",
     "output_type": "stream",
     "text": [
      "{'modelname': '19_unnormalised', 'vocabulary_file': 'vocab_300_with_numbers.json', 'checkpoint': 'checkpoint-2271', 'checkpoint_path': '19_unnormalised/checkpoint-2271', 'df_name': 'test', 'col': 'unnormalized_transcript', 'steps': 2271, 'epochs': 5.992084432717678}\n"
     ]
    },
    {
     "name": "stderr",
     "output_type": "stream",
     "text": [
      "Special tokens have been added in the vocabulary, make sure the associated word embeddings are fine-tuned or trained.\n"
     ]
    },
    {
     "name": "stdout",
     "output_type": "stream",
     "text": [
      "{'modelname': '19_unnormalised', 'vocabulary_file': 'vocab_300_with_numbers.json', 'checkpoint': 'checkpoint-3028', 'checkpoint_path': '19_unnormalised/checkpoint-3028', 'df_name': 'dev', 'col': 'unnormalized_transcript', 'steps': 3028, 'epochs': 7.989445910290238}\n"
     ]
    },
    {
     "name": "stderr",
     "output_type": "stream",
     "text": [
      "Special tokens have been added in the vocabulary, make sure the associated word embeddings are fine-tuned or trained.\n"
     ]
    },
    {
     "name": "stdout",
     "output_type": "stream",
     "text": [
      "{'modelname': '19_unnormalised', 'vocabulary_file': 'vocab_300_with_numbers.json', 'checkpoint': 'checkpoint-3028', 'checkpoint_path': '19_unnormalised/checkpoint-3028', 'df_name': 'test', 'col': 'unnormalized_transcript', 'steps': 3028, 'epochs': 7.989445910290238}\n"
     ]
    }
   ],
   "source": [
    "import pandas as pd\n",
    "import os\n",
    "import torch\n",
    "from transformers import Wav2Vec2Processor, Wav2Vec2ForCTC\n",
    "from transformers import Wav2Vec2FeatureExtractor\n",
    "from transformers import Wav2Vec2Processor, Wav2Vec2CTCTokenizer\n",
    "import soundfile as sf\n",
    "\n",
    "\n",
    "MAXSTEP = 3032\n",
    "MODELNAMES = [\n",
    "    \"18_normalised\",\n",
    "    \"19_unnormalised\",\n",
    "    ]\n",
    "VOCABS = {\n",
    "\"18_normalised\": \"vocab_300.json\",\n",
    "\"19_unnormalised\": \"vocab_300_with_numbers.json\"\n",
    "}\n",
    "COLS = {\n",
    "\"18_normalised\": \"human_transcript\",\n",
    "\"19_unnormalised\": \"unnormalized_transcript\"\n",
    "}\n",
    "CHECKPOINTS = [\n",
    "    \"checkpoint-757\",\n",
    "    \"checkpoint-1514\",  \n",
    "    \"checkpoint-2271\", \n",
    "    \"checkpoint-3028\", \n",
    "]\n",
    "dev = pd.read_csv(\"17_dev.csv\")\n",
    "test = pd.read_csv(\"17_test.csv\")\n",
    "\n",
    "from datasets import load_metric\n",
    "wer_metric = load_metric(\"wer\")\n",
    "cer_metric = load_metric(\"cer\")\n",
    "\n",
    "def get_transcript(setup: dict):\n",
    "    tokenizer = Wav2Vec2CTCTokenizer.from_pretrained(\n",
    "            \"/home/peterr/macocu/task8/\", unk_token=\"[UNK]\", \n",
    "            pad_token=\"[PAD]\", word_delimiter_token=\" \")\n",
    "    feature_extractor = Wav2Vec2FeatureExtractor(\n",
    "        feature_size=1, sampling_rate=16000, padding_value=0.0, do_normalize=True, return_attention_mask=True)\n",
    "\n",
    "    processor = Wav2Vec2Processor(\n",
    "        feature_extractor=feature_extractor, tokenizer=tokenizer)\n",
    "    model = Wav2Vec2ForCTC.from_pretrained(setup.get(\"checkpoint_path\")).cuda()\n",
    "\n",
    "    def transcribe(path):\n",
    "        speech, sample_rate = sf.read(os.path.join(\"/home/peterr/macocu/task8/transfer_10/\", path))\n",
    "        input_values = processor(speech, sampling_rate=sample_rate, return_tensors=\"pt\").input_values.cuda()\n",
    "\n",
    "        logits = model(input_values).logits\n",
    "\n",
    "        predicted_ids = torch.argmax(logits, dim=-1)\n",
    "        transcription = processor.decode(predicted_ids[0]).lower()\n",
    "        return transcription\n",
    "    predictions = [transcribe(path) for path in setup.get(\"paths\")]\n",
    "    return predictions\n",
    "\n",
    "\n",
    "\n",
    "\n",
    "\n",
    "results = list()\n",
    "for modelname in MODELNAMES:\n",
    "    vocabulary_file = VOCABS.get(modelname)\n",
    "    print(\"Preparing the following vocabulary:\", vocabulary_file)\n",
    "    os.system(f\"cp {vocabulary_file} vocab.json\")\n",
    "    for i, checkpoint in enumerate(CHECKPOINTS):\n",
    "        steps = (i+1) * 757\n",
    "        epochs = steps * 8 / MAXSTEP\n",
    "        checkpoint_path = os.path.join(modelname, checkpoint)\n",
    "        \n",
    "        for df_name, df in zip([\"dev\", \"test\"], [dev, test]):\n",
    "            col = COLS.get(modelname)\n",
    "            references = df[col]\n",
    "            paths = df[\"hashname\"]\n",
    "            SETUP =  dict(\n",
    "                        modelname=modelname,\n",
    "                        vocabulary_file=vocabulary_file,\n",
    "                        checkpoint=checkpoint,\n",
    "                        checkpoint_path=checkpoint_path,\n",
    "                        df_name=df_name,\n",
    "                        col=col,\n",
    "                        steps=steps,\n",
    "                        epochs=epochs,\n",
    "                        paths=paths\n",
    "                        )\n",
    "            print({key: value for key, value in SETUP.items() if key != \"paths\"})\n",
    "            predictions = get_transcript(SETUP)\n",
    "            del SETUP[\"paths\"]\n",
    "\n",
    "            cer = cer_metric.compute(predictions=predictions, references=references)\n",
    "            wer = wer_metric.compute(predictions=predictions, references=references)\n",
    "\n",
    "            SETUP[\"wer\"] = wer\n",
    "            SETUP[\"cer\"] = cer\n",
    "\n",
    "            results.append(SETUP)\n",
    "\n",
    "\n"
   ]
  },
  {
   "cell_type": "code",
   "execution_count": 22,
   "metadata": {},
   "outputs": [
    {
     "data": {
      "text/html": [
       "<div>\n",
       "<style scoped>\n",
       "    .dataframe tbody tr th:only-of-type {\n",
       "        vertical-align: middle;\n",
       "    }\n",
       "\n",
       "    .dataframe tbody tr th {\n",
       "        vertical-align: top;\n",
       "    }\n",
       "\n",
       "    .dataframe thead th {\n",
       "        text-align: right;\n",
       "    }\n",
       "</style>\n",
       "<table border=\"1\" class=\"dataframe\">\n",
       "  <thead>\n",
       "    <tr style=\"text-align: right;\">\n",
       "      <th></th>\n",
       "      <th>modelname</th>\n",
       "      <th>vocabulary_file</th>\n",
       "      <th>checkpoint</th>\n",
       "      <th>checkpoint_path</th>\n",
       "      <th>df_name</th>\n",
       "      <th>col</th>\n",
       "      <th>steps</th>\n",
       "      <th>epochs</th>\n",
       "      <th>wer</th>\n",
       "      <th>cer</th>\n",
       "    </tr>\n",
       "  </thead>\n",
       "  <tbody>\n",
       "    <tr>\n",
       "      <th>0</th>\n",
       "      <td>18_normalised</td>\n",
       "      <td>vocab_300.json</td>\n",
       "      <td>checkpoint-757</td>\n",
       "      <td>18_normalised/checkpoint-757</td>\n",
       "      <td>dev</td>\n",
       "      <td>human_transcript</td>\n",
       "      <td>757</td>\n",
       "      <td>1.997361</td>\n",
       "      <td>0.197634</td>\n",
       "      <td>0.055039</td>\n",
       "    </tr>\n",
       "    <tr>\n",
       "      <th>1</th>\n",
       "      <td>18_normalised</td>\n",
       "      <td>vocab_300.json</td>\n",
       "      <td>checkpoint-757</td>\n",
       "      <td>18_normalised/checkpoint-757</td>\n",
       "      <td>test</td>\n",
       "      <td>human_transcript</td>\n",
       "      <td>757</td>\n",
       "      <td>1.997361</td>\n",
       "      <td>0.196416</td>\n",
       "      <td>0.054619</td>\n",
       "    </tr>\n",
       "  </tbody>\n",
       "</table>\n",
       "</div>"
      ],
      "text/plain": [
       "       modelname vocabulary_file      checkpoint  \\\n",
       "0  18_normalised  vocab_300.json  checkpoint-757   \n",
       "1  18_normalised  vocab_300.json  checkpoint-757   \n",
       "\n",
       "                checkpoint_path df_name               col  steps    epochs  \\\n",
       "0  18_normalised/checkpoint-757     dev  human_transcript    757  1.997361   \n",
       "1  18_normalised/checkpoint-757    test  human_transcript    757  1.997361   \n",
       "\n",
       "        wer       cer  \n",
       "0  0.197634  0.055039  \n",
       "1  0.196416  0.054619  "
      ]
     },
     "execution_count": 22,
     "metadata": {},
     "output_type": "execute_result"
    }
   ],
   "source": [
    "df = pd.DataFrame(data=results)\n",
    "df.head(2)"
   ]
  },
  {
   "cell_type": "code",
   "execution_count": 23,
   "metadata": {},
   "outputs": [
    {
     "data": {
      "text/plain": [
       "Index(['modelname', 'vocabulary_file', 'checkpoint', 'checkpoint_path',\n",
       "       'df_name', 'col', 'steps', 'epochs', 'wer', 'cer'],\n",
       "      dtype='object')"
      ]
     },
     "execution_count": 23,
     "metadata": {},
     "output_type": "execute_result"
    }
   ],
   "source": [
    "df.columns"
   ]
  },
  {
   "cell_type": "code",
   "execution_count": 25,
   "metadata": {},
   "outputs": [
    {
     "data": {
      "text/html": [
       "<div>\n",
       "<style scoped>\n",
       "    .dataframe tbody tr th:only-of-type {\n",
       "        vertical-align: middle;\n",
       "    }\n",
       "\n",
       "    .dataframe tbody tr th {\n",
       "        vertical-align: top;\n",
       "    }\n",
       "\n",
       "    .dataframe thead th {\n",
       "        text-align: right;\n",
       "    }\n",
       "</style>\n",
       "<table border=\"1\" class=\"dataframe\">\n",
       "  <thead>\n",
       "    <tr style=\"text-align: right;\">\n",
       "      <th></th>\n",
       "      <th>modelname</th>\n",
       "      <th>df_name</th>\n",
       "      <th>steps</th>\n",
       "      <th>wer</th>\n",
       "      <th>cer</th>\n",
       "      <th>checkpoint</th>\n",
       "      <th>checkpoint_path</th>\n",
       "      <th>col</th>\n",
       "      <th>epochs</th>\n",
       "      <th>vocabulary_file</th>\n",
       "    </tr>\n",
       "  </thead>\n",
       "  <tbody>\n",
       "    <tr>\n",
       "      <th>0</th>\n",
       "      <td>18_normalised</td>\n",
       "      <td>dev</td>\n",
       "      <td>757</td>\n",
       "      <td>0.197634</td>\n",
       "      <td>0.055039</td>\n",
       "      <td>checkpoint-757</td>\n",
       "      <td>18_normalised/checkpoint-757</td>\n",
       "      <td>human_transcript</td>\n",
       "      <td>1.997361</td>\n",
       "      <td>vocab_300.json</td>\n",
       "    </tr>\n",
       "    <tr>\n",
       "      <th>1</th>\n",
       "      <td>18_normalised</td>\n",
       "      <td>test</td>\n",
       "      <td>757</td>\n",
       "      <td>0.196416</td>\n",
       "      <td>0.054619</td>\n",
       "      <td>checkpoint-757</td>\n",
       "      <td>18_normalised/checkpoint-757</td>\n",
       "      <td>human_transcript</td>\n",
       "      <td>1.997361</td>\n",
       "      <td>vocab_300.json</td>\n",
       "    </tr>\n",
       "  </tbody>\n",
       "</table>\n",
       "</div>"
      ],
      "text/plain": [
       "       modelname df_name  steps       wer       cer      checkpoint  \\\n",
       "0  18_normalised     dev    757  0.197634  0.055039  checkpoint-757   \n",
       "1  18_normalised    test    757  0.196416  0.054619  checkpoint-757   \n",
       "\n",
       "                checkpoint_path               col    epochs vocabulary_file  \n",
       "0  18_normalised/checkpoint-757  human_transcript  1.997361  vocab_300.json  \n",
       "1  18_normalised/checkpoint-757  human_transcript  1.997361  vocab_300.json  "
      ]
     },
     "execution_count": 25,
     "metadata": {},
     "output_type": "execute_result"
    }
   ],
   "source": [
    "df = df.loc[:, [\n",
    "            'modelname', \n",
    "            'df_name', \n",
    "            'steps', \n",
    "            'wer', \n",
    "            'cer',\n",
    "            'checkpoint', \n",
    "            'checkpoint_path',\n",
    "            'col', \n",
    "            'epochs', \n",
    "            'vocabulary_file',\n",
    "                ]]\n",
    "df.head(2)"
   ]
  },
  {
   "cell_type": "code",
   "execution_count": 26,
   "metadata": {},
   "outputs": [],
   "source": [
    "df = df.rename(columns={\"df_name\": \"split\"})"
   ]
  },
  {
   "cell_type": "code",
   "execution_count": 27,
   "metadata": {},
   "outputs": [
    {
     "data": {
      "text/html": [
       "<div>\n",
       "<style scoped>\n",
       "    .dataframe tbody tr th:only-of-type {\n",
       "        vertical-align: middle;\n",
       "    }\n",
       "\n",
       "    .dataframe tbody tr th {\n",
       "        vertical-align: top;\n",
       "    }\n",
       "\n",
       "    .dataframe thead th {\n",
       "        text-align: right;\n",
       "    }\n",
       "</style>\n",
       "<table border=\"1\" class=\"dataframe\">\n",
       "  <thead>\n",
       "    <tr style=\"text-align: right;\">\n",
       "      <th></th>\n",
       "      <th>modelname</th>\n",
       "      <th>split</th>\n",
       "      <th>steps</th>\n",
       "      <th>wer</th>\n",
       "      <th>cer</th>\n",
       "      <th>checkpoint</th>\n",
       "      <th>checkpoint_path</th>\n",
       "      <th>col</th>\n",
       "      <th>epochs</th>\n",
       "      <th>vocabulary_file</th>\n",
       "    </tr>\n",
       "  </thead>\n",
       "  <tbody>\n",
       "    <tr>\n",
       "      <th>0</th>\n",
       "      <td>18_normalised</td>\n",
       "      <td>dev</td>\n",
       "      <td>757</td>\n",
       "      <td>0.197634</td>\n",
       "      <td>0.055039</td>\n",
       "      <td>checkpoint-757</td>\n",
       "      <td>18_normalised/checkpoint-757</td>\n",
       "      <td>human_transcript</td>\n",
       "      <td>1.997361</td>\n",
       "      <td>vocab_300.json</td>\n",
       "    </tr>\n",
       "    <tr>\n",
       "      <th>1</th>\n",
       "      <td>18_normalised</td>\n",
       "      <td>test</td>\n",
       "      <td>757</td>\n",
       "      <td>0.196416</td>\n",
       "      <td>0.054619</td>\n",
       "      <td>checkpoint-757</td>\n",
       "      <td>18_normalised/checkpoint-757</td>\n",
       "      <td>human_transcript</td>\n",
       "      <td>1.997361</td>\n",
       "      <td>vocab_300.json</td>\n",
       "    </tr>\n",
       "  </tbody>\n",
       "</table>\n",
       "</div>"
      ],
      "text/plain": [
       "       modelname split  steps       wer       cer      checkpoint  \\\n",
       "0  18_normalised   dev    757  0.197634  0.055039  checkpoint-757   \n",
       "1  18_normalised  test    757  0.196416  0.054619  checkpoint-757   \n",
       "\n",
       "                checkpoint_path               col    epochs vocabulary_file  \n",
       "0  18_normalised/checkpoint-757  human_transcript  1.997361  vocab_300.json  \n",
       "1  18_normalised/checkpoint-757  human_transcript  1.997361  vocab_300.json  "
      ]
     },
     "execution_count": 27,
     "metadata": {},
     "output_type": "execute_result"
    }
   ],
   "source": [
    "df.head(2)"
   ]
  },
  {
   "cell_type": "code",
   "execution_count": 29,
   "metadata": {},
   "outputs": [],
   "source": [
    "df.to_json(\"21_results.jsonl\", orient=\"records\", lines=True)\n",
    "df.to_csv(\"21_results.csv\", index=False)"
   ]
  },
  {
   "cell_type": "code",
   "execution_count": 92,
   "metadata": {},
   "outputs": [
    {
     "data": {
      "image/png": "[encoded data removed]",
      "text/plain": [
       "<Figure size 288x360 with 1 Axes>"
      ]
     },
     "metadata": {
      "needs_background": "light"
     },
     "output_type": "display_data"
    },
    {
     "data": {
      "image/png": "[encoded data removed]",
      "text/plain": [
       "<Figure size 288x360 with 1 Axes>"
      ]
     },
     "metadata": {
      "needs_background": "light"
     },
     "output_type": "display_data"
    }
   ],
   "source": [
    "import matplotlib.pyplot as plt\n",
    "plt.style.use(\"science,no-latex\".split(\",\"))\n",
    "import numpy as np\n",
    "import matplotlib as mpl\n",
    "#plt.rcParams[\"axes.prop_cycle\"] = plt.cycler(\"color\", plt.cm.Oranges(np.linspace(0.1,1,N//2)))\n",
    "#plt.rcParams[\"axes.prop_cycle\"] = plt.cycler(\"color\", plt.cm.tab20c.colors)\n",
    "plt.rcParams['axes.prop_cycle'] = plt.cycler(\"color\", [\"#c6177a\",\n",
    "\"#8ead1c\",\n",
    "\"#52afff\",\n",
    "\"#b54f00\"])\n",
    "for metric in [\"cer\", \"wer\"]:\n",
    "    plt.figure(figsize=(4,5))  \n",
    "    for modelname in df.modelname.unique():\n",
    "        for split in df.split.unique():\n",
    "            c1 = df.modelname == modelname\n",
    "            c2 = df.split == split\n",
    "            subset = df.loc[c1&c2, :]\n",
    "\n",
    "            plt.plot(subset.epochs, subset[metric], f\"{'-.' if split == 'test' else '-'}{'*' if '19' in modelname else '^'}\", label = modelname[3:]+f\", {split} split\",)\n",
    "    plt.title(f\"Metric: {metric.upper()}\")\n",
    "    #plt.ylim((0, None))\n",
    "    plt.legend()\n",
    "    plt.savefig(f\"images/21_{metric}.pdf\")\n",
    "    plt.savefig(f\"images/21_{metric}.png\", dpi=200)\n",
    "    plt.show()\n",
    "    "
   ]
  },
  {
   "cell_type": "code",
   "execution_count": 44,
   "metadata": {},
   "outputs": [
    {
     "data": {
      "text/html": [
       "<div>\n",
       "<style scoped>\n",
       "    .dataframe tbody tr th:only-of-type {\n",
       "        vertical-align: middle;\n",
       "    }\n",
       "\n",
       "    .dataframe tbody tr th {\n",
       "        vertical-align: top;\n",
       "    }\n",
       "\n",
       "    .dataframe thead th {\n",
       "        text-align: right;\n",
       "    }\n",
       "</style>\n",
       "<table border=\"1\" class=\"dataframe\">\n",
       "  <thead>\n",
       "    <tr style=\"text-align: right;\">\n",
       "      <th></th>\n",
       "      <th>modelname</th>\n",
       "      <th>split</th>\n",
       "      <th>steps</th>\n",
       "      <th>wer</th>\n",
       "      <th>cer</th>\n",
       "      <th>checkpoint</th>\n",
       "      <th>checkpoint_path</th>\n",
       "      <th>col</th>\n",
       "      <th>epochs</th>\n",
       "      <th>vocabulary_file</th>\n",
       "    </tr>\n",
       "  </thead>\n",
       "  <tbody>\n",
       "    <tr>\n",
       "      <th>9</th>\n",
       "      <td>19_unnormalised</td>\n",
       "      <td>test</td>\n",
       "      <td>757</td>\n",
       "      <td>0.199268</td>\n",
       "      <td>0.057449</td>\n",
       "      <td>checkpoint-757</td>\n",
       "      <td>19_unnormalised/checkpoint-757</td>\n",
       "      <td>unnormalized_transcript</td>\n",
       "      <td>1.997361</td>\n",
       "      <td>vocab_300_with_numbers.json</td>\n",
       "    </tr>\n",
       "    <tr>\n",
       "      <th>11</th>\n",
       "      <td>19_unnormalised</td>\n",
       "      <td>test</td>\n",
       "      <td>1514</td>\n",
       "      <td>0.118496</td>\n",
       "      <td>0.035354</td>\n",
       "      <td>checkpoint-1514</td>\n",
       "      <td>19_unnormalised/checkpoint-1514</td>\n",
       "      <td>unnormalized_transcript</td>\n",
       "      <td>3.994723</td>\n",
       "      <td>vocab_300_with_numbers.json</td>\n",
       "    </tr>\n",
       "    <tr>\n",
       "      <th>13</th>\n",
       "      <td>19_unnormalised</td>\n",
       "      <td>test</td>\n",
       "      <td>2271</td>\n",
       "      <td>0.108399</td>\n",
       "      <td>0.032860</td>\n",
       "      <td>checkpoint-2271</td>\n",
       "      <td>19_unnormalised/checkpoint-2271</td>\n",
       "      <td>unnormalized_transcript</td>\n",
       "      <td>5.992084</td>\n",
       "      <td>vocab_300_with_numbers.json</td>\n",
       "    </tr>\n",
       "    <tr>\n",
       "      <th>15</th>\n",
       "      <td>19_unnormalised</td>\n",
       "      <td>test</td>\n",
       "      <td>3028</td>\n",
       "      <td>0.105681</td>\n",
       "      <td>0.032303</td>\n",
       "      <td>checkpoint-3028</td>\n",
       "      <td>19_unnormalised/checkpoint-3028</td>\n",
       "      <td>unnormalized_transcript</td>\n",
       "      <td>7.989446</td>\n",
       "      <td>vocab_300_with_numbers.json</td>\n",
       "    </tr>\n",
       "  </tbody>\n",
       "</table>\n",
       "</div>"
      ],
      "text/plain": [
       "          modelname split  steps       wer       cer       checkpoint  \\\n",
       "9   19_unnormalised  test    757  0.199268  0.057449   checkpoint-757   \n",
       "11  19_unnormalised  test   1514  0.118496  0.035354  checkpoint-1514   \n",
       "13  19_unnormalised  test   2271  0.108399  0.032860  checkpoint-2271   \n",
       "15  19_unnormalised  test   3028  0.105681  0.032303  checkpoint-3028   \n",
       "\n",
       "                    checkpoint_path                      col    epochs  \\\n",
       "9    19_unnormalised/checkpoint-757  unnormalized_transcript  1.997361   \n",
       "11  19_unnormalised/checkpoint-1514  unnormalized_transcript  3.994723   \n",
       "13  19_unnormalised/checkpoint-2271  unnormalized_transcript  5.992084   \n",
       "15  19_unnormalised/checkpoint-3028  unnormalized_transcript  7.989446   \n",
       "\n",
       "                vocabulary_file  \n",
       "9   vocab_300_with_numbers.json  \n",
       "11  vocab_300_with_numbers.json  \n",
       "13  vocab_300_with_numbers.json  \n",
       "15  vocab_300_with_numbers.json  "
      ]
     },
     "execution_count": 44,
     "metadata": {},
     "output_type": "execute_result"
    }
   ],
   "source": [
    "subset"
   ]
  },
  {
   "cell_type": "code",
   "execution_count": 85,
   "metadata": {},
   "outputs": [
    {
     "data": {
      "text/plain": [
       "Index(['hashname', 'human_transcript', 'unnormalized_transcript',\n",
       "       '18_normalised_output', '19_unnormalised_output'],\n",
       "      dtype='object')"
      ]
     },
     "execution_count": 85,
     "metadata": {},
     "output_type": "execute_result"
    }
   ],
   "source": [
    "dev.columns"
   ]
  },
  {
   "cell_type": "code",
   "execution_count": 89,
   "metadata": {},
   "outputs": [
    {
     "data": {
      "text/html": [
       "<div>\n",
       "<style scoped>\n",
       "    .dataframe tbody tr th:only-of-type {\n",
       "        vertical-align: middle;\n",
       "    }\n",
       "\n",
       "    .dataframe tbody tr th {\n",
       "        vertical-align: top;\n",
       "    }\n",
       "\n",
       "    .dataframe thead th {\n",
       "        text-align: right;\n",
       "    }\n",
       "</style>\n",
       "<table border=\"1\" class=\"dataframe\">\n",
       "  <thead>\n",
       "    <tr style=\"text-align: right;\">\n",
       "      <th></th>\n",
       "      <th>unnormalized_transcript</th>\n",
       "      <th>19_unnormalised_output</th>\n",
       "    </tr>\n",
       "  </thead>\n",
       "  <tbody>\n",
       "    <tr>\n",
       "      <th>19</th>\n",
       "      <td>utvrditi da je zaklada tijekom te godine finan...</td>\n",
       "      <td>utvrditi da je zaklada tijekom te godine finan...</td>\n",
       "    </tr>\n",
       "    <tr>\n",
       "      <th>67</th>\n",
       "      <td>prema tome tako nešto je po zakonu o obveznim ...</td>\n",
       "      <td>prema tome tako nešto je po zazakonu o obvezni...</td>\n",
       "    </tr>\n",
       "    <tr>\n",
       "      <th>88</th>\n",
       "      <td>kolega panenić nigdje ne kaže da smo mi 93 stv...</td>\n",
       "      <td>kolega panenić nigdje ne kaže da smo mi 93 stv...</td>\n",
       "    </tr>\n",
       "    <tr>\n",
       "      <th>125</th>\n",
       "      <td>9313eez</td>\n",
       "      <td>93 13 ez</td>\n",
       "    </tr>\n",
       "    <tr>\n",
       "      <th>165</th>\n",
       "      <td>90 znači cijene a 10svih ostalih kriterija koj...</td>\n",
       "      <td>90 znači cijene a 10o svih ostalih kriterija k...</td>\n",
       "    </tr>\n",
       "    <tr>\n",
       "      <th>246</th>\n",
       "      <td>direktor uprave gospodin kovačev poslije njega...</td>\n",
       "      <td>direktor uprave gospodin kovačev poslije njega...</td>\n",
       "    </tr>\n",
       "    <tr>\n",
       "      <th>273</th>\n",
       "      <td>obrasce pa onda ne možete jednostavno to uspor...</td>\n",
       "      <td>obrasce pa onda ne možete jednostavno to uspor...</td>\n",
       "    </tr>\n",
       "    <tr>\n",
       "      <th>274</th>\n",
       "      <td>poštovani potpredsjedniče poštovani ministre z...</td>\n",
       "      <td>poštovani potpredsjedniče poštovani ministre j...</td>\n",
       "    </tr>\n",
       "    <tr>\n",
       "      <th>292</th>\n",
       "      <td>zakon ide u dva čitanja što je prilika za mogu...</td>\n",
       "      <td>zakon ide u dva čitanja što je oprilika za mog...</td>\n",
       "    </tr>\n",
       "    <tr>\n",
       "      <th>334</th>\n",
       "      <td>branitelja iz domovinskog rata izjednačavanje ...</td>\n",
       "      <td>branitelja iz domovinskog rata izjednačavanje ...</td>\n",
       "    </tr>\n",
       "    <tr>\n",
       "      <th>388</th>\n",
       "      <td>svake tri godine počevši od 2019. godine što s...</td>\n",
       "      <td>svake tri godine počevši od 2019. godine što s...</td>\n",
       "    </tr>\n",
       "    <tr>\n",
       "      <th>392</th>\n",
       "      <td>ali su u međuvremenu prešli na mirovinu premin...</td>\n",
       "      <td>ali su u međuvremenu prešli na mirovinu premin...</td>\n",
       "    </tr>\n",
       "    <tr>\n",
       "      <th>413</th>\n",
       "      <td>na isti sličan način kao što je bio 92 godine ...</td>\n",
       "      <td>na isti sličan način kao što je bio 92 godine ...</td>\n",
       "    </tr>\n",
       "    <tr>\n",
       "      <th>424</th>\n",
       "      <td>40 lipa prema tome manjak tekućih prihoda nad ...</td>\n",
       "      <td>40 lipa prema tome manjak tehućih prihoda nad ...</td>\n",
       "    </tr>\n",
       "    <tr>\n",
       "      <th>425</th>\n",
       "      <td>prva je omogućavanje slobodnog pristupa svim o...</td>\n",
       "      <td>prva je omogućavanje slobodnog pristupa svim o...</td>\n",
       "    </tr>\n",
       "    <tr>\n",
       "      <th>474</th>\n",
       "      <td>989. godine po podacima zavoda za mirovinsko o...</td>\n",
       "      <td>989. godine po podacima zavode za mirovinsko o...</td>\n",
       "    </tr>\n",
       "    <tr>\n",
       "      <th>487</th>\n",
       "      <td>između 1970. godine i 2003. godine švicarski f...</td>\n",
       "      <td>između 1970. godine i 2003. godine švicarski f...</td>\n",
       "    </tr>\n",
       "    <tr>\n",
       "      <th>490</th>\n",
       "      <td>nećete to biti u stanju i onda su te županije ...</td>\n",
       "      <td>nećete to biti u stanju i onda su te županije ...</td>\n",
       "    </tr>\n",
       "    <tr>\n",
       "      <th>491</th>\n",
       "      <td>i kolege zastupnici nastavljamo s radom sljede...</td>\n",
       "      <td>kolegice kolege zastupnici nastavljamo s radom...</td>\n",
       "    </tr>\n",
       "  </tbody>\n",
       "</table>\n",
       "</div>"
      ],
      "text/plain": [
       "                               unnormalized_transcript  \\\n",
       "19   utvrditi da je zaklada tijekom te godine finan...   \n",
       "67   prema tome tako nešto je po zakonu o obveznim ...   \n",
       "88   kolega panenić nigdje ne kaže da smo mi 93 stv...   \n",
       "125                                            9313eez   \n",
       "165  90 znači cijene a 10svih ostalih kriterija koj...   \n",
       "246  direktor uprave gospodin kovačev poslije njega...   \n",
       "273  obrasce pa onda ne možete jednostavno to uspor...   \n",
       "274  poštovani potpredsjedniče poštovani ministre z...   \n",
       "292  zakon ide u dva čitanja što je prilika za mogu...   \n",
       "334  branitelja iz domovinskog rata izjednačavanje ...   \n",
       "388  svake tri godine počevši od 2019. godine što s...   \n",
       "392  ali su u međuvremenu prešli na mirovinu premin...   \n",
       "413  na isti sličan način kao što je bio 92 godine ...   \n",
       "424  40 lipa prema tome manjak tekućih prihoda nad ...   \n",
       "425  prva je omogućavanje slobodnog pristupa svim o...   \n",
       "474  989. godine po podacima zavoda za mirovinsko o...   \n",
       "487  između 1970. godine i 2003. godine švicarski f...   \n",
       "490  nećete to biti u stanju i onda su te županije ...   \n",
       "491  i kolege zastupnici nastavljamo s radom sljede...   \n",
       "\n",
       "                                19_unnormalised_output  \n",
       "19   utvrditi da je zaklada tijekom te godine finan...  \n",
       "67   prema tome tako nešto je po zazakonu o obvezni...  \n",
       "88   kolega panenić nigdje ne kaže da smo mi 93 stv...  \n",
       "125                                           93 13 ez  \n",
       "165  90 znači cijene a 10o svih ostalih kriterija k...  \n",
       "246  direktor uprave gospodin kovačev poslije njega...  \n",
       "273  obrasce pa onda ne možete jednostavno to uspor...  \n",
       "274  poštovani potpredsjedniče poštovani ministre j...  \n",
       "292  zakon ide u dva čitanja što je oprilika za mog...  \n",
       "334  branitelja iz domovinskog rata izjednačavanje ...  \n",
       "388  svake tri godine počevši od 2019. godine što s...  \n",
       "392  ali su u međuvremenu prešli na mirovinu premin...  \n",
       "413  na isti sličan način kao što je bio 92 godine ...  \n",
       "424  40 lipa prema tome manjak tehućih prihoda nad ...  \n",
       "425  prva je omogućavanje slobodnog pristupa svim o...  \n",
       "474  989. godine po podacima zavode za mirovinsko o...  \n",
       "487  između 1970. godine i 2003. godine švicarski f...  \n",
       "490  nećete to biti u stanju i onda su te županije ...  \n",
       "491  kolegice kolege zastupnici nastavljamo s radom...  "
      ]
     },
     "execution_count": 89,
     "metadata": {},
     "output_type": "execute_result"
    }
   ],
   "source": [
    "col = dev[\"unnormalized_transcript\"]\n",
    "dev.loc[col.str.contains(\"9\"), [\"unnormalized_transcript\", \"19_unnormalised_output\"]]"
   ]
  },
  {
   "cell_type": "code",
   "execution_count": 88,
   "metadata": {},
   "outputs": [],
   "source": [
    "dev = pd.read_csv(\"17_dev.csv\")\n",
    "test = pd.read_csv(\"17_test.csv\")"
   ]
  },
  {
   "cell_type": "code",
   "execution_count": null,
   "metadata": {},
   "outputs": [],
   "source": []
  }
 ],
 "metadata": {
  "interpreter": {
   "hash": "7f6f5766036ee03d059e365a942add07f79c17033585e9357ee8157d52fe6bb9"
  },
  "kernelspec": {
   "display_name": "Python 3.8.3 ('base')",
   "language": "python",
   "name": "python3"
  },
  "language_info": {
   "codemirror_mode": {
    "name": "ipython",
    "version": 3
   },
   "file_extension": ".py",
   "mimetype": "text/x-python",
   "name": "python",
   "nbconvert_exporter": "python",
   "pygments_lexer": "ipython3",
   "version": "3.8.3"
  },
  "orig_nbformat": 4
 },
 "nbformat": 4,
 "nbformat_minor": 2
}
