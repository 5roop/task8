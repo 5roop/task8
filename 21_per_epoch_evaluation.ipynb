{
 "cells": [
  {
   "cell_type": "code",
   "execution_count": 13,
   "metadata": {},
   "outputs": [
    {
     "name": "stdout",
     "output_type": "stream",
     "text": [
      "This will prepare the following vocabulary: vocab_300.json\n",
      "{'modelname': '18_normalised', 'vocabulary_file': 'vocab_300.json', 'checkpoint': 'checkpoint-757', 'checkpoint_path': '18_normalised/checkpoint-757', 'df_name': 'dev', 'col': 'human_transcript', 'steps': 757, 'epochs': 1.9973614775725594}\n",
      "{'modelname': '18_normalised', 'vocabulary_file': 'vocab_300.json', 'checkpoint': 'checkpoint-757', 'checkpoint_path': '18_normalised/checkpoint-757', 'df_name': 'test', 'col': 'human_transcript', 'steps': 757, 'epochs': 1.9973614775725594}\n",
      "{'modelname': '18_normalised', 'vocabulary_file': 'vocab_300.json', 'checkpoint': 'checkpoint-1514', 'checkpoint_path': '18_normalised/checkpoint-1514', 'df_name': 'dev', 'col': 'human_transcript', 'steps': 1514, 'epochs': 3.994722955145119}\n",
      "{'modelname': '18_normalised', 'vocabulary_file': 'vocab_300.json', 'checkpoint': 'checkpoint-1514', 'checkpoint_path': '18_normalised/checkpoint-1514', 'df_name': 'test', 'col': 'human_transcript', 'steps': 1514, 'epochs': 3.994722955145119}\n",
      "{'modelname': '18_normalised', 'vocabulary_file': 'vocab_300.json', 'checkpoint': 'checkpoint-2271', 'checkpoint_path': '18_normalised/checkpoint-2271', 'df_name': 'dev', 'col': 'human_transcript', 'steps': 2271, 'epochs': 5.992084432717678}\n",
      "{'modelname': '18_normalised', 'vocabulary_file': 'vocab_300.json', 'checkpoint': 'checkpoint-2271', 'checkpoint_path': '18_normalised/checkpoint-2271', 'df_name': 'test', 'col': 'human_transcript', 'steps': 2271, 'epochs': 5.992084432717678}\n",
      "{'modelname': '18_normalised', 'vocabulary_file': 'vocab_300.json', 'checkpoint': 'checkpoint-3028', 'checkpoint_path': '18_normalised/checkpoint-3028', 'df_name': 'dev', 'col': 'human_transcript', 'steps': 3028, 'epochs': 7.989445910290238}\n",
      "{'modelname': '18_normalised', 'vocabulary_file': 'vocab_300.json', 'checkpoint': 'checkpoint-3028', 'checkpoint_path': '18_normalised/checkpoint-3028', 'df_name': 'test', 'col': 'human_transcript', 'steps': 3028, 'epochs': 7.989445910290238}\n",
      "This will prepare the following vocabulary: vocab_300_with_numbers.json\n",
      "{'modelname': '19_unnormalised', 'vocabulary_file': 'vocab_300_with_numbers.json', 'checkpoint': 'checkpoint-757', 'checkpoint_path': '19_unnormalised/checkpoint-757', 'df_name': 'dev', 'col': 'unnormalized_transcript', 'steps': 757, 'epochs': 1.9973614775725594}\n",
      "{'modelname': '19_unnormalised', 'vocabulary_file': 'vocab_300_with_numbers.json', 'checkpoint': 'checkpoint-757', 'checkpoint_path': '19_unnormalised/checkpoint-757', 'df_name': 'test', 'col': 'unnormalized_transcript', 'steps': 757, 'epochs': 1.9973614775725594}\n",
      "{'modelname': '19_unnormalised', 'vocabulary_file': 'vocab_300_with_numbers.json', 'checkpoint': 'checkpoint-1514', 'checkpoint_path': '19_unnormalised/checkpoint-1514', 'df_name': 'dev', 'col': 'unnormalized_transcript', 'steps': 1514, 'epochs': 3.994722955145119}\n",
      "{'modelname': '19_unnormalised', 'vocabulary_file': 'vocab_300_with_numbers.json', 'checkpoint': 'checkpoint-1514', 'checkpoint_path': '19_unnormalised/checkpoint-1514', 'df_name': 'test', 'col': 'unnormalized_transcript', 'steps': 1514, 'epochs': 3.994722955145119}\n",
      "{'modelname': '19_unnormalised', 'vocabulary_file': 'vocab_300_with_numbers.json', 'checkpoint': 'checkpoint-2271', 'checkpoint_path': '19_unnormalised/checkpoint-2271', 'df_name': 'dev', 'col': 'unnormalized_transcript', 'steps': 2271, 'epochs': 5.992084432717678}\n",
      "{'modelname': '19_unnormalised', 'vocabulary_file': 'vocab_300_with_numbers.json', 'checkpoint': 'checkpoint-2271', 'checkpoint_path': '19_unnormalised/checkpoint-2271', 'df_name': 'test', 'col': 'unnormalized_transcript', 'steps': 2271, 'epochs': 5.992084432717678}\n",
      "{'modelname': '19_unnormalised', 'vocabulary_file': 'vocab_300_with_numbers.json', 'checkpoint': 'checkpoint-3028', 'checkpoint_path': '19_unnormalised/checkpoint-3028', 'df_name': 'dev', 'col': 'unnormalized_transcript', 'steps': 3028, 'epochs': 7.989445910290238}\n",
      "{'modelname': '19_unnormalised', 'vocabulary_file': 'vocab_300_with_numbers.json', 'checkpoint': 'checkpoint-3028', 'checkpoint_path': '19_unnormalised/checkpoint-3028', 'df_name': 'test', 'col': 'unnormalized_transcript', 'steps': 3028, 'epochs': 7.989445910290238}\n"
     ]
    }
   ],
   "source": [
    "import pandas as pd\n",
    "import os\n",
    "MAXSTEP = 3032\n",
    "MODELNAMES = [\n",
    "    \"18_normalised\",\n",
    "    \"19_unnormalised\",\n",
    "    ]\n",
    "VOCABS = {\n",
    "\"18_normalised\": \"vocab_300.json\",\n",
    "\"19_unnormalised\": \"vocab_300_with_numbers.json\"\n",
    "}\n",
    "COLS = {\n",
    "\"18_normalised\": \"human_transcript\",\n",
    "\"19_unnormalised\": \"unnormalized_transcript\"\n",
    "}\n",
    "CHECKPOINTS = [\n",
    "    \"checkpoint-757\",\n",
    "    \"checkpoint-1514\",  \n",
    "    \"checkpoint-2271\", \n",
    "    \"checkpoint-3028\", \n",
    "]\n",
    "dev = pd.read_csv(\"17_dev.csv\")\n",
    "test = pd.read_csv(\"17_test.csv\")\n",
    "\n",
    "from datasets import load_metric\n",
    "wer_metric = load_metric(\"wer\")\n",
    "cer_metric = load_metric(\"cer\")\n",
    "\n",
    "results = list()\n",
    "for modelname in MODELNAMES:\n",
    "    vocabulary_file = VOCABS.get(modelname)\n",
    "    print(\"This will prepare the following vocabulary:\", vocabulary_file)#os.system(f\"cp {vocabulary_file} vocab.json\")\n",
    "    for i, checkpoint in enumerate(CHECKPOINTS):\n",
    "        steps = (i+1) * 757\n",
    "        epochs = steps * 8 / MAXSTEP\n",
    "        checkpoint_path = os.path.join(modelname, checkpoint)\n",
    "        \n",
    "        for df_name, df in zip([\"dev\", \"test\"], [dev, test]):\n",
    "            col = COLS.get(modelname)\n",
    "            references = df[col]\n",
    "            SETUP =  dict(\n",
    "                        modelname=modelname,\n",
    "                        vocabulary_file=vocabulary_file,\n",
    "                        checkpoint=checkpoint,\n",
    "                        checkpoint_path=checkpoint_path,\n",
    "                        df_name=df_name,\n",
    "                        col=col,\n",
    "                        steps=steps,\n",
    "                        epochs=epochs\n",
    "                        )\n",
    "            print(SETUP)\n",
    "\n",
    "\n"
   ]
  },
  {
   "cell_type": "code",
   "execution_count": 1,
   "metadata": {},
   "outputs": [
    {
     "name": "stdout",
     "output_type": "stream",
     "text": [
      "checkpoint-1514  checkpoint-2271  checkpoint-3028  checkpoint-757  runs\n"
     ]
    }
   ],
   "source": []
  },
  {
   "cell_type": "code",
   "execution_count": null,
   "metadata": {},
   "outputs": [],
   "source": []
  }
 ],
 "metadata": {
  "interpreter": {
   "hash": "7f6f5766036ee03d059e365a942add07f79c17033585e9357ee8157d52fe6bb9"
  },
  "kernelspec": {
   "display_name": "Python 3.8.3 ('base')",
   "language": "python",
   "name": "python3"
  },
  "language_info": {
   "codemirror_mode": {
    "name": "ipython",
    "version": 3
   },
   "file_extension": ".py",
   "mimetype": "text/x-python",
   "name": "python",
   "nbconvert_exporter": "python",
   "pygments_lexer": "ipython3",
   "version": "3.8.3"
  },
  "orig_nbformat": 4
 },
 "nbformat": 4,
 "nbformat_minor": 2
}
