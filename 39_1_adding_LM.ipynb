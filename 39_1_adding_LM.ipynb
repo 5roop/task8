{
 "cells": [
  {
   "cell_type": "code",
   "execution_count": 1,
   "metadata": {},
   "outputs": [
    {
     "name": "stderr",
     "output_type": "stream",
     "text": [
      "Special tokens have been added in the vocabulary, make sure the associated word embeddings are fine-tuned or trained.\n"
     ]
    }
   ],
   "source": [
    "modelname = \"38_unnormalised/checkpoint-6700/\"\n",
    "\n",
    "from transformers import Wav2Vec2Processor, Wav2Vec2ForCTC\n",
    "\n",
    "processor = Wav2Vec2Processor.from_pretrained(modelname)\n",
    "model = Wav2Vec2ForCTC.from_pretrained(modelname)"
   ]
  },
  {
   "cell_type": "code",
   "execution_count": null,
   "metadata": {},
   "outputs": [],
   "source": [
    "!pip install https://github.com/kpu/kenlm/archive/master.zip pyctcdecode"
   ]
  },
  {
   "cell_type": "code",
   "execution_count": null,
   "metadata": {},
   "outputs": [],
   "source": [
    "# with open(\"5gram.arpa\", \"r\") as read_file, open(\"5gram_correct.arpa\", \"w\") as write_file:\n",
    "#   has_added_eos = False\n",
    "#   from tqdm.auto import tqdm\n",
    "#   for line in tqdm(read_file):\n",
    "#     if not has_added_eos and \"ngram 1=\" in line:\n",
    "#       count=line.strip().split(\"=\")[-1]\n",
    "#       write_file.write(line.replace(f\"{count}\", f\"{int(count)+1}\"))\n",
    "#     elif not has_added_eos and \"<s>\" in line:\n",
    "#       write_file.write(line)\n",
    "#       write_file.write(line.replace(\"<s>\", \"</s>\"))\n",
    "#       has_added_eos = True\n",
    "#     else:\n",
    "#       write_file.write(line)"
   ]
  },
  {
   "cell_type": "code",
   "execution_count": 2,
   "metadata": {},
   "outputs": [
    {
     "name": "stderr",
     "output_type": "stream",
     "text": [
      "Special tokens have been added in the vocabulary, make sure the associated word embeddings are fine-tuned or trained.\n"
     ]
    }
   ],
   "source": [
    "from transformers import AutoProcessor\n",
    "\n",
    "processor = AutoProcessor.from_pretrained(modelname,    eos_token=\"</s>\", bos_token=\"<s>\")"
   ]
  },
  {
   "cell_type": "code",
   "execution_count": 11,
   "metadata": {},
   "outputs": [],
   "source": [
    "vocab_dict = processor.tokenizer.get_vocab()\n",
    "sorted_vocab_dict = {k: v for k, v in sorted(vocab_dict.items(), key=lambda item: item[1]) if k != \"<pad>\"}"
   ]
  },
  {
   "cell_type": "code",
   "execution_count": 12,
   "metadata": {},
   "outputs": [
    {
     "data": {
      "text/plain": [
       "dict_keys([' ', '[PAD]', '[UNK]', 'a', 'b', 'c', 'd', 'e', 'f', 'g', 'h', 'i', 'j', 'k', 'l', 'm', 'n', 'o', 'p', 'q', 'r', 's', 't', 'u', 'v', 'w', 'x', 'y', 'z', 'ä', 'ü', 'ć', 'č', 'đ', 'š', 'ž', 'ӧ', '1', '2', '3', '4', '5', '6', '7', '8', '9', '0', '.', '<s>', '</s>'])"
      ]
     },
     "execution_count": 12,
     "metadata": {},
     "output_type": "execute_result"
    }
   ],
   "source": [
    "sorted_vocab_dict.keys()"
   ]
  },
  {
   "cell_type": "code",
   "execution_count": 14,
   "metadata": {},
   "outputs": [
    {
     "name": "stderr",
     "output_type": "stream",
     "text": [
      "Unigrams not provided and cannot be automatically determined from LM file (only arpa format). Decoding accuracy might be reduced.\n",
      "Found entries of length > 1 in alphabet. This is unusual unless style is BPE, but the alphabet was not recognized as BPE type. Is this correct?\n",
      "No known unigrams provided, decoding results might be a lot worse.\n"
     ]
    }
   ],
   "source": [
    "from pyctcdecode import build_ctcdecoder\n",
    "\n",
    "decoder = build_ctcdecoder(\n",
    "    labels=list(sorted_vocab_dict.keys()),\n",
    "    kenlm_model_path=\"5gram.bin\",\n",
    ")"
   ]
  },
  {
   "cell_type": "code",
   "execution_count": 15,
   "metadata": {},
   "outputs": [],
   "source": [
    "from transformers import Wav2Vec2ProcessorWithLM\n",
    "\n",
    "processor_with_lm = Wav2Vec2ProcessorWithLM(\n",
    "    feature_extractor=processor.feature_extractor,\n",
    "    tokenizer=processor.tokenizer,\n",
    "    decoder=decoder,\n",
    ")"
   ]
  },
  {
   "cell_type": "code",
   "execution_count": 18,
   "metadata": {},
   "outputs": [],
   "source": [
    "processor_with_lm.save_pretrained(\"38_with_lm/wav2vec2-xls-r-parlaspeech-hr\",\n",
    ")"
   ]
  },
  {
   "cell_type": "code",
   "execution_count": 19,
   "metadata": {},
   "outputs": [],
   "source": [
    "model.save_pretrained(\"38_with_lm/wav2vec2-xls-r-parlaspeech-hr\",)"
   ]
  },
  {
   "cell_type": "markdown",
   "metadata": {},
   "source": [
    "# Reevaluating"
   ]
  },
  {
   "cell_type": "code",
   "execution_count": null,
   "metadata": {},
   "outputs": [],
   "source": [
    "import pandas as pd\n",
    "import numpy as np\n",
    "import os\n",
    "\n",
    "transferdir = \"transfer/\"\n",
    "\n",
    "def process(text: str):\n",
    "    from parse import compile\n",
    "    from string import punctuation\n",
    "\n",
    "    p = compile(\"{hit:d}.\")\n",
    "    in_list = text.split()\n",
    "    out_list = list()\n",
    "    for seg in in_list:\n",
    "        parse_result = p.parse(seg)\n",
    "        if parse_result:\n",
    "            # We got a number with a dot afterward:\n",
    "            out_list.append(seg.lower())\n",
    "        else:\n",
    "            out_list.append(seg.translate(str.maketrans(\"\", \"\", punctuation)).lower())\n",
    "    return \" \".join(out_list)\n",
    "\n",
    "df = pd.read_json(\"ParlaSpeech-HR.v1.0.jsonl\", orient=\"records\", lines=True)\n",
    "df = df.rename(columns={\"path\":\"hashname\"})\n",
    "df = df.loc[df.split.isin(\"test,dev\".split(\",\")), :]\n",
    "\n",
    "df[\"sentence\"] = df.words.apply(\" \".join).apply(process)\n",
    "df[\"path\"] = df.hashname.apply(lambda s: os.path.join(transferdir, s))"
   ]
  },
  {
   "cell_type": "code",
   "execution_count": null,
   "metadata": {},
   "outputs": [],
   "source": [
    "from tqdm.auto import tqdm\n",
    "\n",
    "\n",
    "from itertools import groupby\n",
    "import torch\n",
    "from transformers import Wav2Vec2Processor, Wav2Vec2ForCTC\n",
    "from transformers import Wav2Vec2FeatureExtractor\n",
    "from transformers import Wav2Vec2Processor, Wav2Vec2CTCTokenizer\n",
    "import soundfile as sf\n",
    "\n",
    "import os\n",
    "\n",
    "model = Wav2Vec2ForCTC.from_pretrained(modelname).cuda()\n",
    "\n",
    "def get_transcript(audio_filepath:str):\n",
    "    speech, sample_rate = sf.read(audio_filepath)\n",
    "    input_values = processor_with_lm(speech, sampling_rate=sample_rate, return_tensors=\"pt\").input_values.cuda()\n",
    "\n",
    "    logits = model(input_values).logits\n",
    "\n",
    "    predicted_ids = torch.argmax(logits, dim=-1)\n",
    "    transcription = processor_with_lm.decode(predicted_ids[0]).lower()\n",
    "\n",
    "\n",
    "    words = [w for w in transcription.split(' ') if len(w) > 0]\n",
    "\n",
    "    return \" \".join(words)\n",
    "\n",
    "from tqdm.auto import tqdm\n",
    "df[\"predictions\"] = [get_transcript(path) for path in tqdm(df.path.values)]\n"
   ]
  },
  {
   "cell_type": "code",
   "execution_count": null,
   "metadata": {},
   "outputs": [],
   "source": [
    "from datasets import load_metric\n",
    "wer_metric = load_metric(\"wer\")\n",
    "cer_metric = load_metric(\"cer\")\n",
    "\n",
    "for splt in [\"dev\", \"test\"]:\n",
    "    print(\"Evaluating on \", splt)\n",
    "    wer = wer_metric.compute(\n",
    "        references=df.loc[df.split==splt, \"sentence\"],\n",
    "        predictions=df.loc[df.split==splt, \"predictions\"]\n",
    "    )\n",
    "\n",
    "    cer = cer_metric.compute(\n",
    "        references=df.loc[df.split==splt, \"sentence\"],\n",
    "        predictions=df.loc[df.split==splt, \"predictions\"]\n",
    "    )\n",
    "\n",
    "    print(f\"{wer=:0.4f}, {cer=:0.4f}\")"
   ]
  },
  {
   "cell_type": "code",
   "execution_count": null,
   "metadata": {},
   "outputs": [],
   "source": [
    "processor.tokenizer.get_vocab()"
   ]
  },
  {
   "cell_type": "code",
   "execution_count": null,
   "metadata": {},
   "outputs": [],
   "source": [
    "audio_filepath = df.path.values[2]\n",
    "speech, sample_rate = sf.read(audio_filepath)\n",
    "input_values = processor_with_lm(speech, sampling_rate=sample_rate, return_tensors=\"pt\").input_values.cuda()\n",
    "\n",
    "logits = model(input_values).logits\n",
    "\n",
    "predicted_ids = torch.argmax(logits, dim=-1)\n",
    "transcription = processor_with_lm.batch_decode(predicted_ids[0])\n",
    "transcription\n"
   ]
  },
  {
   "cell_type": "code",
   "execution_count": null,
   "metadata": {},
   "outputs": [],
   "source": [
    "input_values = processor(speech, sampling_rate=sample_rate, return_tensors=\"pt\").input_values.cuda()\n",
    "\n",
    "logits = model(input_values).logits\n",
    "predicted_ids = torch.argmax(logits, dim=-1)\n",
    "transcription = processor.decode(predicted_ids[0]).lower()\n",
    "logits.shape"
   ]
  },
  {
   "cell_type": "code",
   "execution_count": null,
   "metadata": {},
   "outputs": [],
   "source": [
    "input_values = processor_with_lm(speech, sampling_rate=sample_rate, return_tensors=\"pt\").input_values.cuda()\n",
    "\n",
    "logits = model(input_values).logits\n",
    "predicted_ids = torch.argmax(logits, dim=-1)\n",
    "#transcription = processor_with_lm.decode(predicted_ids[0]).lower()\n",
    "logits"
   ]
  },
  {
   "cell_type": "code",
   "execution_count": null,
   "metadata": {},
   "outputs": [],
   "source": [
    "predicted_ids[0]"
   ]
  },
  {
   "cell_type": "code",
   "execution_count": null,
   "metadata": {},
   "outputs": [],
   "source": []
  }
 ],
 "metadata": {
  "interpreter": {
   "hash": "7f6f5766036ee03d059e365a942add07f79c17033585e9357ee8157d52fe6bb9"
  },
  "kernelspec": {
   "display_name": "Python 3.8.3 ('base')",
   "language": "python",
   "name": "python3"
  },
  "language_info": {
   "codemirror_mode": {
    "name": "ipython",
    "version": 3
   },
   "file_extension": ".py",
   "mimetype": "text/x-python",
   "name": "python",
   "nbconvert_exporter": "python",
   "pygments_lexer": "ipython3",
   "version": "3.8.3"
  },
  "orig_nbformat": 4
 },
 "nbformat": 4,
 "nbformat_minor": 2
}
