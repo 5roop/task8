{
 "cells": [
  {
   "cell_type": "code",
   "execution_count": 1,
   "metadata": {},
   "outputs": [],
   "source": [
    "import pandas as pd\n",
    "\n",
    "train = pd.read_csv(\"17_train.csv\")\n",
    "test = pd.read_csv(\"17_test.csv\")\n",
    "dev = pd.read_csv(\"17_dev.csv\")"
   ]
  },
  {
   "cell_type": "code",
   "execution_count": 2,
   "metadata": {},
   "outputs": [
    {
     "data": {
      "text/html": [
       "<div>\n",
       "<style scoped>\n",
       "    .dataframe tbody tr th:only-of-type {\n",
       "        vertical-align: middle;\n",
       "    }\n",
       "\n",
       "    .dataframe tbody tr th {\n",
       "        vertical-align: top;\n",
       "    }\n",
       "\n",
       "    .dataframe thead th {\n",
       "        text-align: right;\n",
       "    }\n",
       "</style>\n",
       "<table border=\"1\" class=\"dataframe\">\n",
       "  <thead>\n",
       "    <tr style=\"text-align: right;\">\n",
       "      <th></th>\n",
       "      <th>hashname</th>\n",
       "      <th>human_transcript</th>\n",
       "      <th>unnormalized_transcript</th>\n",
       "    </tr>\n",
       "  </thead>\n",
       "  <tbody>\n",
       "    <tr>\n",
       "      <th>24495</th>\n",
       "      <td>XDOVoojci5A_14362.26-14382.23.wav</td>\n",
       "      <td>kandidacijskih lista grupa birača kandidiraju ...</td>\n",
       "      <td>kandidacijskih lista grupa birača kandidiraju ...</td>\n",
       "    </tr>\n",
       "    <tr>\n",
       "      <th>24496</th>\n",
       "      <td>MLWXje95pCk_4737.9-4751.46.wav</td>\n",
       "      <td>nema ga ovdje gubi pravo na govor i onda bi sm...</td>\n",
       "      <td>nema ga ovdje gubi pravo na govor i onda bi sm...</td>\n",
       "    </tr>\n",
       "    <tr>\n",
       "      <th>24497</th>\n",
       "      <td>iQoZMemua98_7027.22-7037.28.wav</td>\n",
       "      <td>s nekime obračuna ovo o čem ste vi govorili ja...</td>\n",
       "      <td>s nekime obračuna ovo o čem ste vi govorili ja...</td>\n",
       "    </tr>\n",
       "    <tr>\n",
       "      <th>24498</th>\n",
       "      <td>GVHBmUTMROo_12817.11-12836.48.wav</td>\n",
       "      <td>ćemo se kroz raspravu i amandmane pa makar i u...</td>\n",
       "      <td>ćemo se kroz raspravu i amandmane pa makar i u...</td>\n",
       "    </tr>\n",
       "    <tr>\n",
       "      <th>24499</th>\n",
       "      <td>5T4HXO1WsDU_3680.65-3700.58.wav</td>\n",
       "      <td>potez je pošteno platiti radnika za njegov rad...</td>\n",
       "      <td>potez je pošteno platiti radnika za njegov rad...</td>\n",
       "    </tr>\n",
       "  </tbody>\n",
       "</table>\n",
       "</div>"
      ],
      "text/plain": [
       "                                hashname  \\\n",
       "24495  XDOVoojci5A_14362.26-14382.23.wav   \n",
       "24496     MLWXje95pCk_4737.9-4751.46.wav   \n",
       "24497    iQoZMemua98_7027.22-7037.28.wav   \n",
       "24498  GVHBmUTMROo_12817.11-12836.48.wav   \n",
       "24499    5T4HXO1WsDU_3680.65-3700.58.wav   \n",
       "\n",
       "                                        human_transcript  \\\n",
       "24495  kandidacijskih lista grupa birača kandidiraju ...   \n",
       "24496  nema ga ovdje gubi pravo na govor i onda bi sm...   \n",
       "24497  s nekime obračuna ovo o čem ste vi govorili ja...   \n",
       "24498  ćemo se kroz raspravu i amandmane pa makar i u...   \n",
       "24499  potez je pošteno platiti radnika za njegov rad...   \n",
       "\n",
       "                                 unnormalized_transcript  \n",
       "24495  kandidacijskih lista grupa birača kandidiraju ...  \n",
       "24496  nema ga ovdje gubi pravo na govor i onda bi sm...  \n",
       "24497  s nekime obračuna ovo o čem ste vi govorili ja...  \n",
       "24498  ćemo se kroz raspravu i amandmane pa makar i u...  \n",
       "24499  potez je pošteno platiti radnika za njegov rad...  "
      ]
     },
     "execution_count": 2,
     "metadata": {},
     "output_type": "execute_result"
    }
   ],
   "source": [
    "train.tail()"
   ]
  },
  {
   "cell_type": "code",
   "execution_count": 4,
   "metadata": {},
   "outputs": [
    {
     "data": {
      "text/plain": [
       "136.11111111111111"
      ]
     },
     "execution_count": 4,
     "metadata": {},
     "output_type": "execute_result"
    }
   ],
   "source": [
    "24500*20/3600"
   ]
  },
  {
   "cell_type": "code",
   "execution_count": 15,
   "metadata": {},
   "outputs": [
    {
     "data": {
      "text/html": [
       "<div>\n",
       "<style scoped>\n",
       "    .dataframe tbody tr th:only-of-type {\n",
       "        vertical-align: middle;\n",
       "    }\n",
       "\n",
       "    .dataframe tbody tr th {\n",
       "        vertical-align: top;\n",
       "    }\n",
       "\n",
       "    .dataframe thead th {\n",
       "        text-align: right;\n",
       "    }\n",
       "</style>\n",
       "<table border=\"1\" class=\"dataframe\">\n",
       "  <thead>\n",
       "    <tr style=\"text-align: right;\">\n",
       "      <th></th>\n",
       "      <th>modelname</th>\n",
       "      <th>split</th>\n",
       "      <th>steps</th>\n",
       "      <th>wer</th>\n",
       "      <th>cer</th>\n",
       "      <th>checkpoint</th>\n",
       "      <th>checkpoint_path</th>\n",
       "      <th>col</th>\n",
       "      <th>epochs</th>\n",
       "      <th>vocabulary_file</th>\n",
       "    </tr>\n",
       "  </thead>\n",
       "  <tbody>\n",
       "    <tr>\n",
       "      <th>14</th>\n",
       "      <td>19_unnormalised</td>\n",
       "      <td>dev</td>\n",
       "      <td>3028</td>\n",
       "      <td>10.88\\%</td>\n",
       "      <td>3.46\\%</td>\n",
       "      <td>checkpoint-3028</td>\n",
       "      <td>19_unnormalised/checkpoint-3028</td>\n",
       "      <td>unnormalized_transcript</td>\n",
       "      <td>7.989446</td>\n",
       "      <td>vocab_300_with_numbers.json</td>\n",
       "    </tr>\n",
       "    <tr>\n",
       "      <th>15</th>\n",
       "      <td>19_unnormalised</td>\n",
       "      <td>test</td>\n",
       "      <td>3028</td>\n",
       "      <td>10.57\\%</td>\n",
       "      <td>3.23\\%</td>\n",
       "      <td>checkpoint-3028</td>\n",
       "      <td>19_unnormalised/checkpoint-3028</td>\n",
       "      <td>unnormalized_transcript</td>\n",
       "      <td>7.989446</td>\n",
       "      <td>vocab_300_with_numbers.json</td>\n",
       "    </tr>\n",
       "  </tbody>\n",
       "</table>\n",
       "</div>"
      ],
      "text/plain": [
       "          modelname split  steps      wer     cer       checkpoint  \\\n",
       "14  19_unnormalised   dev   3028  10.88\\%  3.46\\%  checkpoint-3028   \n",
       "15  19_unnormalised  test   3028  10.57\\%  3.23\\%  checkpoint-3028   \n",
       "\n",
       "                    checkpoint_path                      col    epochs  \\\n",
       "14  19_unnormalised/checkpoint-3028  unnormalized_transcript  7.989446   \n",
       "15  19_unnormalised/checkpoint-3028  unnormalized_transcript  7.989446   \n",
       "\n",
       "                vocabulary_file  \n",
       "14  vocab_300_with_numbers.json  \n",
       "15  vocab_300_with_numbers.json  "
      ]
     },
     "execution_count": 15,
     "metadata": {},
     "output_type": "execute_result"
    }
   ],
   "source": [
    "rez = pd.read_csv(\"21_results.csv\")\n",
    "rez[\"wer\"] = rez.wer.apply(lambda x: f\"{100*x:0.2f}\\%\")\n",
    "rez[\"cer\"] = rez.cer.apply(lambda x: f\"{100*x:0.2f}\\%\")\n",
    "c1 = rez.modelname.str.startswith(\"19\")\n",
    "c2 = rez.steps == 3028\n",
    "\n",
    "rez.loc[c1&c2, :]"
   ]
  },
  {
   "cell_type": "code",
   "execution_count": 16,
   "metadata": {},
   "outputs": [],
   "source": [
    "\n",
    "from datasets import load_metric\n",
    "wer_metric = load_metric(\"wer\")\n",
    "cer_metric = load_metric(\"cer\")"
   ]
  },
  {
   "cell_type": "code",
   "execution_count": 20,
   "metadata": {},
   "outputs": [
    {
     "data": {
      "text/plain": [
       "0.5555555555555556"
      ]
     },
     "execution_count": 20,
     "metadata": {},
     "output_type": "execute_result"
    }
   ],
   "source": [
    "cer_metric.compute(predictions = [\"Hello\", \"Palestine\"],\n",
    "           references = [\"Hello\",  \"Ponce de Leon\"]\n",
    "        )"
   ]
  },
  {
   "cell_type": "code",
   "execution_count": 17,
   "metadata": {},
   "outputs": [],
   "source": [
    "import datasets"
   ]
  },
  {
   "cell_type": "code",
   "execution_count": 18,
   "metadata": {},
   "outputs": [
    {
     "data": {
      "text/plain": [
       "'2.0.0'"
      ]
     },
     "execution_count": 18,
     "metadata": {},
     "output_type": "execute_result"
    }
   ],
   "source": [
    "datasets.__version__"
   ]
  },
  {
   "cell_type": "code",
   "execution_count": 21,
   "metadata": {},
   "outputs": [
    {
     "name": "stdout",
     "output_type": "stream",
     "text": [
      "The Zen of Python, by Tim Peters\n",
      "\n",
      "Beautiful is better than ugly.\n",
      "Explicit is better than implicit.\n",
      "Simple is better than complex.\n",
      "Complex is better than complicated.\n",
      "Flat is better than nested.\n",
      "Sparse is better than dense.\n",
      "Readability counts.\n",
      "Special cases aren't special enough to break the rules.\n",
      "Although practicality beats purity.\n",
      "Errors should never pass silently.\n",
      "Unless explicitly silenced.\n",
      "In the face of ambiguity, refuse the temptation to guess.\n",
      "There should be one-- and preferably only one --obvious way to do it.\n",
      "Although that way may not be obvious at first unless you're Dutch.\n",
      "Now is better than never.\n",
      "Although never is often better than *right* now.\n",
      "If the implementation is hard to explain, it's a bad idea.\n",
      "If the implementation is easy to explain, it may be a good idea.\n",
      "Namespaces are one honking great idea -- let's do more of those!\n"
     ]
    }
   ],
   "source": [
    "import this"
   ]
  },
  {
   "cell_type": "code",
   "execution_count": null,
   "metadata": {},
   "outputs": [],
   "source": []
  }
 ],
 "metadata": {
  "interpreter": {
   "hash": "7f6f5766036ee03d059e365a942add07f79c17033585e9357ee8157d52fe6bb9"
  },
  "kernelspec": {
   "display_name": "Python 3.8.3 ('base')",
   "language": "python",
   "name": "python3"
  },
  "language_info": {
   "codemirror_mode": {
    "name": "ipython",
    "version": 3
   },
   "file_extension": ".py",
   "mimetype": "text/x-python",
   "name": "python",
   "nbconvert_exporter": "python",
   "pygments_lexer": "ipython3",
   "version": "3.8.3"
  },
  "orig_nbformat": 4
 },
 "nbformat": 4,
 "nbformat_minor": 2
}
