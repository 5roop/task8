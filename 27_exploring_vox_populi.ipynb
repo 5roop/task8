{
 "cells": [
  {
   "cell_type": "code",
   "execution_count": 47,
   "metadata": {},
   "outputs": [
    {
     "data": {
      "text/html": [
       "<div>\n",
       "<style scoped>\n",
       "    .dataframe tbody tr th:only-of-type {\n",
       "        vertical-align: middle;\n",
       "    }\n",
       "\n",
       "    .dataframe tbody tr th {\n",
       "        vertical-align: top;\n",
       "    }\n",
       "\n",
       "    .dataframe thead th {\n",
       "        text-align: right;\n",
       "    }\n",
       "</style>\n",
       "<table border=\"1\" class=\"dataframe\">\n",
       "  <thead>\n",
       "    <tr style=\"text-align: right;\">\n",
       "      <th></th>\n",
       "      <th>id</th>\n",
       "      <th>raw_text</th>\n",
       "      <th>normalized_text</th>\n",
       "      <th>speaker_id</th>\n",
       "      <th>split</th>\n",
       "      <th>gender</th>\n",
       "      <th>is_gold_transcript</th>\n",
       "      <th>accent</th>\n",
       "      <th>filename</th>\n",
       "      <th>raw_has_diacritics</th>\n",
       "      <th>path</th>\n",
       "    </tr>\n",
       "  </thead>\n",
       "  <tbody>\n",
       "    <tr>\n",
       "      <th>0</th>\n",
       "      <td>20181004-0900-PLENARY-hr_20181004-11:56:22_4</td>\n",
       "      <td>NaN</td>\n",
       "      <td>mislim kad bi se radilo o nekoj drugoj zemlji o milijun ljudi koji su zatoeni itekako bi se svi ...</td>\n",
       "      <td>119434</td>\n",
       "      <td>train</td>\n",
       "      <td>female</td>\n",
       "      <td>False</td>\n",
       "      <td>None</td>\n",
       "      <td>20181004-0900-PLENARY-hr_20181004-11:56:22_4.ogg</td>\n",
       "      <td>False</td>\n",
       "      <td>/home/rupnik/macocu/task8/voxpopuli/hr/2018/20181004-0900-PLENARY-hr_20181004-11:56:22_4.ogg</td>\n",
       "    </tr>\n",
       "    <tr>\n",
       "      <th>1</th>\n",
       "      <td>20181004-0900-PLENARY-hr_20181004-11:56:22_5</td>\n",
       "      <td>NaN</td>\n",
       "      <td>pozdravljam rezoluciju i nadam se da e ona bar malo doprinijeti da se ti jadni ljudi oslobode.</td>\n",
       "      <td>119434</td>\n",
       "      <td>train</td>\n",
       "      <td>female</td>\n",
       "      <td>False</td>\n",
       "      <td>None</td>\n",
       "      <td>20181004-0900-PLENARY-hr_20181004-11:56:22_5.ogg</td>\n",
       "      <td>False</td>\n",
       "      <td>/home/rupnik/macocu/task8/voxpopuli/hr/2018/20181004-0900-PLENARY-hr_20181004-11:56:22_5.ogg</td>\n",
       "    </tr>\n",
       "    <tr>\n",
       "      <th>2</th>\n",
       "      <td>20131120-0900-PLENARY-3-hr_20131120-10:48:47_0</td>\n",
       "      <td>NaN</td>\n",
       "      <td>poljoprivreda je grana od iznimne vanosti za sve drave lanice pa tako i za hrvatsku.</td>\n",
       "      <td>119431</td>\n",
       "      <td>train</td>\n",
       "      <td>female</td>\n",
       "      <td>False</td>\n",
       "      <td>None</td>\n",
       "      <td>20131120-0900-PLENARY-3-hr_20131120-10:48:47_0.ogg</td>\n",
       "      <td>False</td>\n",
       "      <td>/home/rupnik/macocu/task8/voxpopuli/hr/2013/20131120-0900-PLENARY-3-hr_20131120-10:48:47_0.ogg</td>\n",
       "    </tr>\n",
       "    <tr>\n",
       "      <th>3</th>\n",
       "      <td>20131120-0900-PLENARY-3-hr_20131120-10:48:47_1</td>\n",
       "      <td>NaN</td>\n",
       "      <td>od dana pristupanja europskoj uniji tradicionalni nazivi nekoliko hrvatskih vina dovedeni su u p...</td>\n",
       "      <td>119431</td>\n",
       "      <td>train</td>\n",
       "      <td>female</td>\n",
       "      <td>False</td>\n",
       "      <td>None</td>\n",
       "      <td>20131120-0900-PLENARY-3-hr_20131120-10:48:47_1.ogg</td>\n",
       "      <td>False</td>\n",
       "      <td>/home/rupnik/macocu/task8/voxpopuli/hr/2013/20131120-0900-PLENARY-3-hr_20131120-10:48:47_1.ogg</td>\n",
       "    </tr>\n",
       "    <tr>\n",
       "      <th>4</th>\n",
       "      <td>20131120-0900-PLENARY-3-hr_20131120-10:48:47_2</td>\n",
       "      <td>naglasiti da hrvatska vina imaju dugu tradiciju, jedinstvena su okusom i dio su hrvatskog nacion...</td>\n",
       "      <td>elim naglasiti da hrvatska vina imaju dugu tradiciju jedinstvena su okusom i dio su hrvatskog na...</td>\n",
       "      <td>119431</td>\n",
       "      <td>train</td>\n",
       "      <td>male</td>\n",
       "      <td>False</td>\n",
       "      <td>None</td>\n",
       "      <td>20131120-0900-PLENARY-3-hr_20131120-10:48:47_2.ogg</td>\n",
       "      <td>False</td>\n",
       "      <td>/home/rupnik/macocu/task8/voxpopuli/hr/2013/20131120-0900-PLENARY-3-hr_20131120-10:48:47_2.ogg</td>\n",
       "    </tr>\n",
       "  </tbody>\n",
       "</table>\n",
       "</div>"
      ],
      "text/plain": [
       "                                               id  \\\n",
       "0    20181004-0900-PLENARY-hr_20181004-11:56:22_4   \n",
       "1    20181004-0900-PLENARY-hr_20181004-11:56:22_5   \n",
       "2  20131120-0900-PLENARY-3-hr_20131120-10:48:47_0   \n",
       "3  20131120-0900-PLENARY-3-hr_20131120-10:48:47_1   \n",
       "4  20131120-0900-PLENARY-3-hr_20131120-10:48:47_2   \n",
       "\n",
       "                                                                                              raw_text  \\\n",
       "0                                                                                                  NaN   \n",
       "1                                                                                                  NaN   \n",
       "2                                                                                                  NaN   \n",
       "3                                                                                                  NaN   \n",
       "4  naglasiti da hrvatska vina imaju dugu tradiciju, jedinstvena su okusom i dio su hrvatskog nacion...   \n",
       "\n",
       "                                                                                       normalized_text  \\\n",
       "0  mislim kad bi se radilo o nekoj drugoj zemlji o milijun ljudi koji su zatoeni itekako bi se svi ...   \n",
       "1       pozdravljam rezoluciju i nadam se da e ona bar malo doprinijeti da se ti jadni ljudi oslobode.   \n",
       "2                 poljoprivreda je grana od iznimne vanosti za sve drave lanice pa tako i za hrvatsku.   \n",
       "3  od dana pristupanja europskoj uniji tradicionalni nazivi nekoliko hrvatskih vina dovedeni su u p...   \n",
       "4  elim naglasiti da hrvatska vina imaju dugu tradiciju jedinstvena su okusom i dio su hrvatskog na...   \n",
       "\n",
       "  speaker_id  split  gender  is_gold_transcript accent  \\\n",
       "0     119434  train  female               False   None   \n",
       "1     119434  train  female               False   None   \n",
       "2     119431  train  female               False   None   \n",
       "3     119431  train  female               False   None   \n",
       "4     119431  train    male               False   None   \n",
       "\n",
       "                                             filename  raw_has_diacritics  \\\n",
       "0    20181004-0900-PLENARY-hr_20181004-11:56:22_4.ogg               False   \n",
       "1    20181004-0900-PLENARY-hr_20181004-11:56:22_5.ogg               False   \n",
       "2  20131120-0900-PLENARY-3-hr_20131120-10:48:47_0.ogg               False   \n",
       "3  20131120-0900-PLENARY-3-hr_20131120-10:48:47_1.ogg               False   \n",
       "4  20131120-0900-PLENARY-3-hr_20131120-10:48:47_2.ogg               False   \n",
       "\n",
       "                                                                                             path  \n",
       "0    /home/rupnik/macocu/task8/voxpopuli/hr/2018/20181004-0900-PLENARY-hr_20181004-11:56:22_4.ogg  \n",
       "1    /home/rupnik/macocu/task8/voxpopuli/hr/2018/20181004-0900-PLENARY-hr_20181004-11:56:22_5.ogg  \n",
       "2  /home/rupnik/macocu/task8/voxpopuli/hr/2013/20131120-0900-PLENARY-3-hr_20131120-10:48:47_0.ogg  \n",
       "3  /home/rupnik/macocu/task8/voxpopuli/hr/2013/20131120-0900-PLENARY-3-hr_20131120-10:48:47_1.ogg  \n",
       "4  /home/rupnik/macocu/task8/voxpopuli/hr/2013/20131120-0900-PLENARY-3-hr_20131120-10:48:47_2.ogg  "
      ]
     },
     "execution_count": 47,
     "metadata": {},
     "output_type": "execute_result"
    }
   ],
   "source": [
    "import pandas as pd\n",
    "import os\n",
    "\n",
    "path = \"/home/rupnik/macocu/task8/voxpopuli/hr/\"\n",
    "all_oggs =  []\n",
    "for root, dirs, files in os.walk(path):\n",
    "    for name in files:\n",
    "        if name.endswith(\".ogg\"):\n",
    "            all_oggs.append(name)\n",
    "\n",
    "\n",
    "\n",
    "def has_diacritics(s):\n",
    "    import re\n",
    "    pattern = \"[šđčćž]\"\n",
    "    p = re.compile(pattern)\n",
    "    try:\n",
    "        return p.search(s.lower()) is not None\n",
    "    except:\n",
    "        return False\n",
    "def assign_path(s):\n",
    "    year = s[0:4]\n",
    "    return os.path.join(\n",
    "        path,\n",
    "        year,\n",
    "        s+\".ogg\"\n",
    "    )\n",
    "\n",
    "train = pd.read_csv(\"voxpopuli/hr/asr_train.tsv\", sep=\"\\t\")\n",
    "train[\"filename\"] = train.id + \".ogg\"\n",
    "train[\"raw_has_diacritics\"] = train.raw_text.apply(has_diacritics)\n",
    "train[\"path\"] = train.id.apply(assign_path)\n",
    "\n",
    "test = pd.read_csv(\"voxpopuli/hr/asr_test.tsv\", sep=\"\\t\")\n",
    "test[\"filename\"] = test.id + \".ogg\"\n",
    "test[\"raw_has_diacritics\"] = test.raw_text.apply(has_diacritics)\n",
    "test[\"path\"] = test.id.apply(assign_path)\n",
    "\n",
    "dev = pd.read_csv(\"voxpopuli/hr/asr_dev.tsv\", sep=\"\\t\")\n",
    "dev[\"filename\"] = dev.id + \".ogg\"\n",
    "dev[\"raw_has_diacritics\"] = dev.raw_text.apply(has_diacritics)\n",
    "dev[\"path\"] = dev.id.apply(assign_path)\n",
    "\n",
    "\n",
    "train.head()"
   ]
  },
  {
   "cell_type": "code",
   "execution_count": 48,
   "metadata": {},
   "outputs": [
    {
     "data": {
      "text/plain": [
       "(10987, 1285, 666)"
      ]
     },
     "execution_count": 48,
     "metadata": {},
     "output_type": "execute_result"
    }
   ],
   "source": [
    "train.shape[0], dev.shape[0], test.shape[0]"
   ]
  },
  {
   "cell_type": "code",
   "execution_count": 49,
   "metadata": {},
   "outputs": [
    {
     "data": {
      "text/plain": [
       "(True, True, True)"
      ]
     },
     "execution_count": 49,
     "metadata": {},
     "output_type": "execute_result"
    }
   ],
   "source": [
    "all(train.filename.isin(all_oggs)), all(test.filename.isin(all_oggs)), all(dev.filename.isin(all_oggs))"
   ]
  },
  {
   "cell_type": "markdown",
   "metadata": {},
   "source": [
    "All instances have the files present. How many of the instances do not have raw_text?:"
   ]
  },
  {
   "cell_type": "code",
   "execution_count": 50,
   "metadata": {},
   "outputs": [
    {
     "data": {
      "text/plain": [
       "(5803, 789, 334)"
      ]
     },
     "execution_count": 50,
     "metadata": {},
     "output_type": "execute_result"
    }
   ],
   "source": [
    "train.dropna().shape[0],dev.dropna().shape[0], test.dropna().shape[0]"
   ]
  },
  {
   "cell_type": "markdown",
   "metadata": {},
   "source": [
    "And even stricter: how many instances satisfy the diacritics test on raw text?"
   ]
  },
  {
   "cell_type": "code",
   "execution_count": 51,
   "metadata": {},
   "outputs": [
    {
     "data": {
      "text/plain": [
       "(5224, 740, 305)"
      ]
     },
     "execution_count": 51,
     "metadata": {},
     "output_type": "execute_result"
    }
   ],
   "source": [
    "train[train.raw_has_diacritics].shape[0], dev[dev.raw_has_diacritics].shape[0], test[test.raw_has_diacritics].shape[0]"
   ]
  },
  {
   "cell_type": "code",
   "execution_count": 52,
   "metadata": {},
   "outputs": [
    {
     "data": {
      "text/plain": [
       "4        elim naglasiti da hrvatska vina imaju dugu tradiciju jedinstvena su okusom i dio su hrvatskog na...\n",
       "14                                                                       jer ih je upravo toliko izlovljeno.\n",
       "21       gospođo predsjednice nekad su učitelji bili jedan od glavnih stupova društva cijenjeni zbog svoj...\n",
       "22       danas ih sustav javnog obrazovanja nažalost prečesto tretira kao obične birokratske ispostave i ...\n",
       "23       nekim je državama članicama uključujući hrvatsku prioritet zadovoljiti formu pa i nauštrb kvalit...\n",
       "                                                        ...                                                 \n",
       "10982                                   naravno moguće je reći da u tom smislu ovo izvješće dolazi prekasno.\n",
       "10983    vanjska politika europske unije i njena trgovinska politika trebaju služiti ostvarenju njezinih ...\n",
       "10984    ako je to tako a jest onda tomu pogotovo treba služiti politika izvoza oružja zemalja članica eu...\n",
       "10985    ali i na tom području kao na području standardizacije oružja zajedničkih nabavki i proizvodnje o...\n",
       "10986    europa mora postaviti visoke standarde prodaje oružja kako bi na takav način i kod onih drugih z...\n",
       "Name: normalized_text, Length: 5803, dtype: object"
      ]
     },
     "execution_count": 52,
     "metadata": {},
     "output_type": "execute_result"
    }
   ],
   "source": [
    "pd.set_option('max_colwidth', 100)\n",
    "\n",
    "train.dropna()[\"normalized_text\"]"
   ]
  },
  {
   "cell_type": "code",
   "execution_count": 62,
   "metadata": {},
   "outputs": [],
   "source": [
    "\n",
    "from pydub import AudioSegment\n",
    "\n",
    "audio = AudioSegment.from_ogg(train.path[0])\n",
    "len(audio)/1000\n",
    "def get_duration_and_convert(path):\n",
    "    from pydub import AudioSegment\n",
    "    aseg = AudioSegment.from_ogg(path)\n",
    "    aseg.export(path.replace(\".ogg\", \".wav\"), format=\"wav\", parameters = \"-ac 1 -ar 16000\".split())\n",
    "    return len(aseg)/1000\n",
    "def get_durations(series):\n",
    "    from concurrent.futures import ProcessPoolExecutor\n",
    "    with ProcessPoolExecutor(max_workers=60) as executor:\n",
    "        results = list(executor.map(get_duration_and_convert, series))\n",
    "    return results\n",
    "\n",
    "train[\"duration\"] = get_durations(train.path)\n",
    "dev[\"duration\"] = get_durations(dev.path)\n",
    "test[\"duration\"] = get_durations(test.path)"
   ]
  },
  {
   "cell_type": "code",
   "execution_count": 80,
   "metadata": {},
   "outputs": [
    {
     "data": {
      "image/png": "[encoded data removed]",
      "text/plain": [
       "<Figure size 360x216 with 1 Axes>"
      ]
     },
     "metadata": {
      "needs_background": "light"
     },
     "output_type": "display_data"
    }
   ],
   "source": [
    "import matplotlib.pyplot as plt\n",
    "plt.style.use(\"science,no-latex\".split(\",\"))\n",
    "plt.figure(figsize=(5,3))\n",
    "plt.hist(train.duration, bins=[0, 20, 70], density=True, label=\"train\", histtype=\"step\", cumulative=True)\n",
    "plt.hist(test.duration, bins=[0, 20, 70], density=True, label=\"test\", histtype=\"step\", cumulative=True)\n",
    "plt.hist(dev.duration, bins=[0, 20, 70], density=True, label=\"dev\", histtype=\"step\", cumulative=True)\n",
    "plt.legend()\n",
    "plt.title(\"Cumulative histogram of durations\")\n",
    "plt.savefig(\"images/27_cumulative_hist_of_durations.png\")\n",
    "plt.show()\n"
   ]
  },
  {
   "cell_type": "code",
   "execution_count": 79,
   "metadata": {},
   "outputs": [
    {
     "data": {
      "image/png": "[encoded data removed]",
      "text/plain": [
       "<Figure size 360x216 with 1 Axes>"
      ]
     },
     "metadata": {
      "needs_background": "light"
     },
     "output_type": "display_data"
    }
   ],
   "source": [
    "import matplotlib.pyplot as plt\n",
    "plt.style.use(\"science,no-latex\".split(\",\"))\n",
    "plt.figure(figsize=(5,3))\n",
    "plt.hist(train.duration[train.raw_has_diacritics], bins=[0, 20, 70], density=True, label=\"train\", histtype=\"step\", cumulative=True)\n",
    "plt.hist(test.duration[test.raw_has_diacritics], bins=[0, 20, 70], density=True, label=\"test\", histtype=\"step\", cumulative=True)\n",
    "plt.hist(dev.duration[dev.raw_has_diacritics], bins=[0, 20, 70], density=True, label=\"dev\", histtype=\"step\", cumulative=True)\n",
    "plt.legend()\n",
    "plt.title(\"Cumulative histogram of durations\\non subset where raw has diacritis\")\n",
    "plt.savefig(\"images/27_cumulative_hist_of_durations_where_raw_has_diacritics.png\")\n",
    "plt.show()"
   ]
  },
  {
   "cell_type": "code",
   "execution_count": 76,
   "metadata": {},
   "outputs": [
    {
     "data": {
      "text/plain": [
       "41.31133777777779"
      ]
     },
     "execution_count": 76,
     "metadata": {},
     "output_type": "execute_result"
    }
   ],
   "source": [
    "duration = train.duration.sum()+test.duration.sum()+dev.duration.sum()\n",
    "duration/3600"
   ]
  },
  {
   "cell_type": "code",
   "execution_count": 78,
   "metadata": {},
   "outputs": [
    {
     "name": "stderr",
     "output_type": "stream",
     "text": [
      "/tmp/ipykernel_1717877/3012997713.py:2: FutureWarning: The default value of regex will change from True to False in a future version.\n",
      "  df[\"wavpath\"] = df.path.str.replace(\".ogg\", \".wav\")\n"
     ]
    }
   ],
   "source": [
    "for df in [train, dev, test]:\n",
    "    df[\"wavpath\"] = df.path.str.replace(\".ogg\", \".wav\")"
   ]
  },
  {
   "cell_type": "code",
   "execution_count": 81,
   "metadata": {},
   "outputs": [
    {
     "data": {
      "text/plain": [
       "20.67472888888889"
      ]
     },
     "execution_count": 81,
     "metadata": {},
     "output_type": "execute_result"
    }
   ],
   "source": [
    "duration = train[train.raw_has_diacritics].duration.sum()+test[test.raw_has_diacritics].duration.sum()+dev[dev.raw_has_diacritics].duration.sum()\n",
    "duration/3600"
   ]
  },
  {
   "cell_type": "code",
   "execution_count": 82,
   "metadata": {},
   "outputs": [
    {
     "data": {
      "text/html": [
       "<div>\n",
       "<style scoped>\n",
       "    .dataframe tbody tr th:only-of-type {\n",
       "        vertical-align: middle;\n",
       "    }\n",
       "\n",
       "    .dataframe tbody tr th {\n",
       "        vertical-align: top;\n",
       "    }\n",
       "\n",
       "    .dataframe thead th {\n",
       "        text-align: right;\n",
       "    }\n",
       "</style>\n",
       "<table border=\"1\" class=\"dataframe\">\n",
       "  <thead>\n",
       "    <tr style=\"text-align: right;\">\n",
       "      <th></th>\n",
       "      <th>id</th>\n",
       "      <th>raw_text</th>\n",
       "      <th>normalized_text</th>\n",
       "      <th>speaker_id</th>\n",
       "      <th>split</th>\n",
       "      <th>gender</th>\n",
       "      <th>is_gold_transcript</th>\n",
       "      <th>accent</th>\n",
       "      <th>filename</th>\n",
       "      <th>raw_has_diacritics</th>\n",
       "      <th>path</th>\n",
       "      <th>duration</th>\n",
       "      <th>wavpath</th>\n",
       "    </tr>\n",
       "  </thead>\n",
       "  <tbody>\n",
       "    <tr>\n",
       "      <th>0</th>\n",
       "      <td>20181004-0900-PLENARY-hr_20181004-11:56:22_4</td>\n",
       "      <td>NaN</td>\n",
       "      <td>mislim kad bi se radilo o nekoj drugoj zemlji o milijun ljudi koji su zatoeni itekako bi se svi ...</td>\n",
       "      <td>119434</td>\n",
       "      <td>train</td>\n",
       "      <td>female</td>\n",
       "      <td>False</td>\n",
       "      <td>None</td>\n",
       "      <td>20181004-0900-PLENARY-hr_20181004-11:56:22_4.ogg</td>\n",
       "      <td>False</td>\n",
       "      <td>/home/rupnik/macocu/task8/voxpopuli/hr/2018/20181004-0900-PLENARY-hr_20181004-11:56:22_4.ogg</td>\n",
       "      <td>19.984</td>\n",
       "      <td>/home/rupnik/macocu/task8/voxpopuli/hr/2018/20181004-0900-PLENARY-hr_20181004-11:56:22_4.wav</td>\n",
       "    </tr>\n",
       "    <tr>\n",
       "      <th>1</th>\n",
       "      <td>20181004-0900-PLENARY-hr_20181004-11:56:22_5</td>\n",
       "      <td>NaN</td>\n",
       "      <td>pozdravljam rezoluciju i nadam se da e ona bar malo doprinijeti da se ti jadni ljudi oslobode.</td>\n",
       "      <td>119434</td>\n",
       "      <td>train</td>\n",
       "      <td>female</td>\n",
       "      <td>False</td>\n",
       "      <td>None</td>\n",
       "      <td>20181004-0900-PLENARY-hr_20181004-11:56:22_5.ogg</td>\n",
       "      <td>False</td>\n",
       "      <td>/home/rupnik/macocu/task8/voxpopuli/hr/2018/20181004-0900-PLENARY-hr_20181004-11:56:22_5.ogg</td>\n",
       "      <td>6.520</td>\n",
       "      <td>/home/rupnik/macocu/task8/voxpopuli/hr/2018/20181004-0900-PLENARY-hr_20181004-11:56:22_5.wav</td>\n",
       "    </tr>\n",
       "    <tr>\n",
       "      <th>2</th>\n",
       "      <td>20131120-0900-PLENARY-3-hr_20131120-10:48:47_0</td>\n",
       "      <td>NaN</td>\n",
       "      <td>poljoprivreda je grana od iznimne vanosti za sve drave lanice pa tako i za hrvatsku.</td>\n",
       "      <td>119431</td>\n",
       "      <td>train</td>\n",
       "      <td>female</td>\n",
       "      <td>False</td>\n",
       "      <td>None</td>\n",
       "      <td>20131120-0900-PLENARY-3-hr_20131120-10:48:47_0.ogg</td>\n",
       "      <td>False</td>\n",
       "      <td>/home/rupnik/macocu/task8/voxpopuli/hr/2013/20131120-0900-PLENARY-3-hr_20131120-10:48:47_0.ogg</td>\n",
       "      <td>4.760</td>\n",
       "      <td>/home/rupnik/macocu/task8/voxpopuli/hr/2013/20131120-0900-PLENARY-3-hr_20131120-10:48:47_0.wav</td>\n",
       "    </tr>\n",
       "    <tr>\n",
       "      <th>3</th>\n",
       "      <td>20131120-0900-PLENARY-3-hr_20131120-10:48:47_1</td>\n",
       "      <td>NaN</td>\n",
       "      <td>od dana pristupanja europskoj uniji tradicionalni nazivi nekoliko hrvatskih vina dovedeni su u p...</td>\n",
       "      <td>119431</td>\n",
       "      <td>train</td>\n",
       "      <td>female</td>\n",
       "      <td>False</td>\n",
       "      <td>None</td>\n",
       "      <td>20131120-0900-PLENARY-3-hr_20131120-10:48:47_1.ogg</td>\n",
       "      <td>False</td>\n",
       "      <td>/home/rupnik/macocu/task8/voxpopuli/hr/2013/20131120-0900-PLENARY-3-hr_20131120-10:48:47_1.ogg</td>\n",
       "      <td>7.800</td>\n",
       "      <td>/home/rupnik/macocu/task8/voxpopuli/hr/2013/20131120-0900-PLENARY-3-hr_20131120-10:48:47_1.wav</td>\n",
       "    </tr>\n",
       "  </tbody>\n",
       "</table>\n",
       "</div>"
      ],
      "text/plain": [
       "                                               id raw_text  \\\n",
       "0    20181004-0900-PLENARY-hr_20181004-11:56:22_4      NaN   \n",
       "1    20181004-0900-PLENARY-hr_20181004-11:56:22_5      NaN   \n",
       "2  20131120-0900-PLENARY-3-hr_20131120-10:48:47_0      NaN   \n",
       "3  20131120-0900-PLENARY-3-hr_20131120-10:48:47_1      NaN   \n",
       "\n",
       "                                                                                       normalized_text  \\\n",
       "0  mislim kad bi se radilo o nekoj drugoj zemlji o milijun ljudi koji su zatoeni itekako bi se svi ...   \n",
       "1       pozdravljam rezoluciju i nadam se da e ona bar malo doprinijeti da se ti jadni ljudi oslobode.   \n",
       "2                 poljoprivreda je grana od iznimne vanosti za sve drave lanice pa tako i za hrvatsku.   \n",
       "3  od dana pristupanja europskoj uniji tradicionalni nazivi nekoliko hrvatskih vina dovedeni su u p...   \n",
       "\n",
       "  speaker_id  split  gender  is_gold_transcript accent  \\\n",
       "0     119434  train  female               False   None   \n",
       "1     119434  train  female               False   None   \n",
       "2     119431  train  female               False   None   \n",
       "3     119431  train  female               False   None   \n",
       "\n",
       "                                             filename  raw_has_diacritics  \\\n",
       "0    20181004-0900-PLENARY-hr_20181004-11:56:22_4.ogg               False   \n",
       "1    20181004-0900-PLENARY-hr_20181004-11:56:22_5.ogg               False   \n",
       "2  20131120-0900-PLENARY-3-hr_20131120-10:48:47_0.ogg               False   \n",
       "3  20131120-0900-PLENARY-3-hr_20131120-10:48:47_1.ogg               False   \n",
       "\n",
       "                                                                                             path  \\\n",
       "0    /home/rupnik/macocu/task8/voxpopuli/hr/2018/20181004-0900-PLENARY-hr_20181004-11:56:22_4.ogg   \n",
       "1    /home/rupnik/macocu/task8/voxpopuli/hr/2018/20181004-0900-PLENARY-hr_20181004-11:56:22_5.ogg   \n",
       "2  /home/rupnik/macocu/task8/voxpopuli/hr/2013/20131120-0900-PLENARY-3-hr_20131120-10:48:47_0.ogg   \n",
       "3  /home/rupnik/macocu/task8/voxpopuli/hr/2013/20131120-0900-PLENARY-3-hr_20131120-10:48:47_1.ogg   \n",
       "\n",
       "   duration  \\\n",
       "0    19.984   \n",
       "1     6.520   \n",
       "2     4.760   \n",
       "3     7.800   \n",
       "\n",
       "                                                                                          wavpath  \n",
       "0    /home/rupnik/macocu/task8/voxpopuli/hr/2018/20181004-0900-PLENARY-hr_20181004-11:56:22_4.wav  \n",
       "1    /home/rupnik/macocu/task8/voxpopuli/hr/2018/20181004-0900-PLENARY-hr_20181004-11:56:22_5.wav  \n",
       "2  /home/rupnik/macocu/task8/voxpopuli/hr/2013/20131120-0900-PLENARY-3-hr_20131120-10:48:47_0.wav  \n",
       "3  /home/rupnik/macocu/task8/voxpopuli/hr/2013/20131120-0900-PLENARY-3-hr_20131120-10:48:47_1.wav  "
      ]
     },
     "execution_count": 82,
     "metadata": {},
     "output_type": "execute_result"
    }
   ],
   "source": [
    "train.head(4)"
   ]
  },
  {
   "cell_type": "code",
   "execution_count": null,
   "metadata": {},
   "outputs": [],
   "source": []
  },
  {
   "cell_type": "code",
   "execution_count": 86,
   "metadata": {},
   "outputs": [],
   "source": [
    "tr = set(train[train.raw_has_diacritics].speaker_id.unique())\n",
    "de = set(dev[dev.raw_has_diacritics].speaker_id.unique())\n",
    "te = set(test[test.raw_has_diacritics].speaker_id.unique())"
   ]
  },
  {
   "cell_type": "code",
   "execution_count": 87,
   "metadata": {},
   "outputs": [
    {
     "data": {
      "text/plain": [
       "(set(),\n",
       " {'112744',\n",
       "  '112748',\n",
       "  '112753',\n",
       "  '112755',\n",
       "  '112760',\n",
       "  '119431',\n",
       "  '119434',\n",
       "  '119435',\n",
       "  '119436',\n",
       "  '119439',\n",
       "  '124749',\n",
       "  '124754',\n",
       "  '124756',\n",
       "  '185341'})"
      ]
     },
     "execution_count": 87,
     "metadata": {},
     "output_type": "execute_result"
    }
   ],
   "source": [
    "tr.intersection(de), tr.intersection(te)"
   ]
  },
  {
   "cell_type": "code",
   "execution_count": 102,
   "metadata": {},
   "outputs": [],
   "source": [
    "os.mkdir(\"vox_populi_dev\")\n",
    "def copydev(path):\n",
    "    basename = os.path.basename(path)\n",
    "    os.system(f\"cp {path} vox_populi_dev/{basename}\")\n",
    "\n",
    "\n",
    "os.mkdir(\"vox_populi_test\")\n",
    "def copytest(path):\n",
    "    basename = os.path.basename(path)\n",
    "    os.system(f\"cp {path} vox_populi_test/{basename}\")\n",
    "\n",
    "\n",
    "from concurrent.futures import ProcessPoolExecutor\n",
    "with ProcessPoolExecutor(max_workers=60) as executor:\n",
    "    executor.map(copydev, dev[dev.raw_has_diacritics].wavpath.values.tolist())\n",
    "    executor.map(copytest, test[test.raw_has_diacritics].wavpath.values.tolist())\n",
    "\n",
    "\n"
   ]
  },
  {
   "cell_type": "code",
   "execution_count": 100,
   "metadata": {},
   "outputs": [
    {
     "data": {
      "text/plain": [
       "'/home/rupnik/macocu/task8/voxpopuli/hr/2017/20170704-0900-PLENARY-22-hr_20170704-23:04:39_1.wav'"
      ]
     },
     "execution_count": 100,
     "metadata": {},
     "output_type": "execute_result"
    }
   ],
   "source": [
    "dev[dev.raw_has_diacritics].wavpath[0]"
   ]
  },
  {
   "cell_type": "code",
   "execution_count": 101,
   "metadata": {},
   "outputs": [
    {
     "data": {
      "text/plain": [
       "'20170704-0900-PLENARY-22-hr_20170704-23:04:39_1.wav'"
      ]
     },
     "execution_count": 101,
     "metadata": {},
     "output_type": "execute_result"
    }
   ],
   "source": [
    "os.path.basename(_)"
   ]
  },
  {
   "cell_type": "code",
   "execution_count": null,
   "metadata": {},
   "outputs": [],
   "source": []
  }
 ],
 "metadata": {
  "interpreter": {
   "hash": "2d30c88cb7145d662123f76f8c64609bc18e52940d2861adec2407b68f2e334f"
  },
  "kernelspec": {
   "display_name": "Python 3.9.7 ('base')",
   "language": "python",
   "name": "python3"
  },
  "language_info": {
   "codemirror_mode": {
    "name": "ipython",
    "version": 3
   },
   "file_extension": ".py",
   "mimetype": "text/x-python",
   "name": "python",
   "nbconvert_exporter": "python",
   "pygments_lexer": "ipython3",
   "version": "3.9.7"
  },
  "orig_nbformat": 4
 },
 "nbformat": 4,
 "nbformat_minor": 2
}
