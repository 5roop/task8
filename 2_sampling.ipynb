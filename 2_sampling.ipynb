{
 "cells": [
  {
   "cell_type": "markdown",
   "metadata": {},
   "source": [
    "# Objective:\n",
    "\n",
    "```\n",
    "Produce a random selection of 1000 20sec segment pairs (text,mp3) from the data below, to check their quality. Important is 1. these are random from the whose sample, 2. it is easy to inspect the transcript and find the corresponding mp3 file, I suggest you just use the “alphabet ordering” trick, so mp3 files called “samplexxx”, xxx ranging from 000 to 999. One text file can have these file names and transcripts in file-name-alphabetical order.\n",
    "\n",
    "20sec segments\n",
    "/home/korzinek/kaldi/exp/ali_all/ali.json\n",
    "\n",
    "Mapping of recoXXXX ids to actual file wav names\n",
    "/home/korzinek/kaldi/exp/ali_all/wav.scp\n",
    "\n",
    "Symbolic links to wavs\n",
    "/home/nikola/projects/parlaspeech/wav/\n",
    "```\n"
   ]
  },
  {
   "cell_type": "markdown",
   "metadata": {},
   "source": [
    "# File management"
   ]
  },
  {
   "cell_type": "code",
   "execution_count": 50,
   "metadata": {},
   "outputs": [],
   "source": [
    "links_to_wavs = \"/home/nikola/projects/parlaspeech/wav/\"\n",
    "mappingsfile = \"/home/korzinek/kaldi/exp/ali_all/wav.scp\"\n",
    "segmentsfile = \"/home/korzinek/kaldi/exp/ali_all/asr.json\"\n",
    "\n",
    "import json\n",
    "with open(segmentsfile, \"r\") as file:\n",
    "    contents = []\n",
    "    for line in file.readlines():\n",
    "        contents.append(json.loads(line))\n"
   ]
  },
  {
   "cell_type": "code",
   "execution_count": 51,
   "metadata": {},
   "outputs": [
    {
     "data": {
      "text/html": [
       "<div>\n",
       "<style scoped>\n",
       "    .dataframe tbody tr th:only-of-type {\n",
       "        vertical-align: middle;\n",
       "    }\n",
       "\n",
       "    .dataframe tbody tr th {\n",
       "        vertical-align: top;\n",
       "    }\n",
       "\n",
       "    .dataframe thead th {\n",
       "        text-align: right;\n",
       "    }\n",
       "</style>\n",
       "<table border=\"1\" class=\"dataframe\">\n",
       "  <thead>\n",
       "    <tr style=\"text-align: right;\">\n",
       "      <th></th>\n",
       "      <th>file</th>\n",
       "      <th>start</th>\n",
       "      <th>end</th>\n",
       "      <th>words</th>\n",
       "      <th>word_start_times</th>\n",
       "      <th>word_end_times</th>\n",
       "      <th>asr</th>\n",
       "    </tr>\n",
       "  </thead>\n",
       "  <tbody>\n",
       "    <tr>\n",
       "      <th>0</th>\n",
       "      <td>01 12 2016 - 1. dio, 2. sjednica, 9. saziv [sP...</td>\n",
       "      <td>1853.82</td>\n",
       "      <td>1873.66</td>\n",
       "      <td>[konačni, prijedlog, zakona, o, izmjenama, i, ...</td>\n",
       "      <td>[0, 0.47, 0.8, 1.21, 1.26, 1.79, 1.82, 2.34, 2...</td>\n",
       "      <td>[0.47, 0.8, 1.21, 1.26, 1.79, 1.82, 2.34, 2.78...</td>\n",
       "      <td>[konačni, prijedlog, zakona, o, izmjenama, i, ...</td>\n",
       "    </tr>\n",
       "    <tr>\n",
       "      <th>1</th>\n",
       "      <td>01 12 2016 - 1. dio, 2. sjednica, 9. saziv [sP...</td>\n",
       "      <td>1874.08</td>\n",
       "      <td>1893.99</td>\n",
       "      <td>[u, svezi, sa, člankom, sto, devedeset, poslov...</td>\n",
       "      <td>[0, 0.11, 0.48, 0.66, 1.12, 1.36, 1.94, 2.53, ...</td>\n",
       "      <td>[0.11, 0.48, 0.66, 1.12, 1.36, 1.94, 2.53, 3.0...</td>\n",
       "      <td>[u, svezi, sa, člankom, sto, devedeset, poslov...</td>\n",
       "    </tr>\n",
       "    <tr>\n",
       "      <th>2</th>\n",
       "      <td>01 12 2016 - 1. dio, 2. sjednica, 9. saziv [sP...</td>\n",
       "      <td>1893.99</td>\n",
       "      <td>1909.04</td>\n",
       "      <td>[za, zakonodavstvo, i, odbor, za, financije, i...</td>\n",
       "      <td>[0, 0.17, 1.12, 1.24, 1.49, 1.65, 2.12, 2.15, ...</td>\n",
       "      <td>[0.17, 1.12, 1.24, 1.49, 1.65, 2.12, 2.15, 2.5...</td>\n",
       "      <td>[za, zakonodavstvo, i, odbor, za, financije, d...</td>\n",
       "    </tr>\n",
       "    <tr>\n",
       "      <th>3</th>\n",
       "      <td>01 12 2016 - 1. dio, 2. sjednica, 9. saziv [sP...</td>\n",
       "      <td>1912.94</td>\n",
       "      <td>1919.47</td>\n",
       "      <td>[hvala, lijepo, gospodine, potpredsjedniče, hr...</td>\n",
       "      <td>[0, 0.15, 0.37, 0.74, 1.52, 1.9, 2.35, 2.67, 2...</td>\n",
       "      <td>[0.15, 0.37, 0.74, 1.52, 1.9, 2.35, 2.67, 2.93...</td>\n",
       "      <td>[hval, lijepo, gospodine, potpredsjedniče, hrv...</td>\n",
       "    </tr>\n",
       "    <tr>\n",
       "      <th>4</th>\n",
       "      <td>01 12 2016 - 1. dio, 2. sjednica, 9. saziv [sP...</td>\n",
       "      <td>1920.52</td>\n",
       "      <td>1940.34</td>\n",
       "      <td>[zakona, o, izmjenama, i, dopunama, zakona, o,...</td>\n",
       "      <td>[0, 0.39, 0.44, 0.75, 0.79, 1.26, 1.65, 1.7, 2...</td>\n",
       "      <td>[0.39, 0.44, 0.75, 0.79, 1.26, 1.65, 1.7, 2.79...</td>\n",
       "      <td>[zakona, o, izmjenama, i, dopunama, zakona, o,...</td>\n",
       "    </tr>\n",
       "  </tbody>\n",
       "</table>\n",
       "</div>"
      ],
      "text/plain": [
       "                                                file    start      end  \\\n",
       "0  01 12 2016 - 1. dio, 2. sjednica, 9. saziv [sP...  1853.82  1873.66   \n",
       "1  01 12 2016 - 1. dio, 2. sjednica, 9. saziv [sP...  1874.08  1893.99   \n",
       "2  01 12 2016 - 1. dio, 2. sjednica, 9. saziv [sP...  1893.99  1909.04   \n",
       "3  01 12 2016 - 1. dio, 2. sjednica, 9. saziv [sP...  1912.94  1919.47   \n",
       "4  01 12 2016 - 1. dio, 2. sjednica, 9. saziv [sP...  1920.52  1940.34   \n",
       "\n",
       "                                               words  \\\n",
       "0  [konačni, prijedlog, zakona, o, izmjenama, i, ...   \n",
       "1  [u, svezi, sa, člankom, sto, devedeset, poslov...   \n",
       "2  [za, zakonodavstvo, i, odbor, za, financije, i...   \n",
       "3  [hvala, lijepo, gospodine, potpredsjedniče, hr...   \n",
       "4  [zakona, o, izmjenama, i, dopunama, zakona, o,...   \n",
       "\n",
       "                                    word_start_times  \\\n",
       "0  [0, 0.47, 0.8, 1.21, 1.26, 1.79, 1.82, 2.34, 2...   \n",
       "1  [0, 0.11, 0.48, 0.66, 1.12, 1.36, 1.94, 2.53, ...   \n",
       "2  [0, 0.17, 1.12, 1.24, 1.49, 1.65, 2.12, 2.15, ...   \n",
       "3  [0, 0.15, 0.37, 0.74, 1.52, 1.9, 2.35, 2.67, 2...   \n",
       "4  [0, 0.39, 0.44, 0.75, 0.79, 1.26, 1.65, 1.7, 2...   \n",
       "\n",
       "                                      word_end_times  \\\n",
       "0  [0.47, 0.8, 1.21, 1.26, 1.79, 1.82, 2.34, 2.78...   \n",
       "1  [0.11, 0.48, 0.66, 1.12, 1.36, 1.94, 2.53, 3.0...   \n",
       "2  [0.17, 1.12, 1.24, 1.49, 1.65, 2.12, 2.15, 2.5...   \n",
       "3  [0.15, 0.37, 0.74, 1.52, 1.9, 2.35, 2.67, 2.93...   \n",
       "4  [0.39, 0.44, 0.75, 0.79, 1.26, 1.65, 1.7, 2.79...   \n",
       "\n",
       "                                                 asr  \n",
       "0  [konačni, prijedlog, zakona, o, izmjenama, i, ...  \n",
       "1  [u, svezi, sa, člankom, sto, devedeset, poslov...  \n",
       "2  [za, zakonodavstvo, i, odbor, za, financije, d...  \n",
       "3  [hval, lijepo, gospodine, potpredsjedniče, hrv...  \n",
       "4  [zakona, o, izmjenama, i, dopunama, zakona, o,...  "
      ]
     },
     "execution_count": 51,
     "metadata": {},
     "output_type": "execute_result"
    }
   ],
   "source": [
    "import pandas as pd\n",
    "segments = pd.DataFrame(contents)\n",
    "segments.head()"
   ]
  },
  {
   "cell_type": "code",
   "execution_count": 26,
   "metadata": {},
   "outputs": [
    {
     "data": {
      "text/plain": [
       "(742, 2)"
      ]
     },
     "execution_count": 26,
     "metadata": {},
     "output_type": "execute_result"
    }
   ],
   "source": [
    "reconame, longname = [],[]\n",
    "with open(mappingsfile) as f:\n",
    "    for line in f.readlines():\n",
    "        reconame.append(line[0:7])\n",
    "        longname.append(line[8:-1])\n",
    "\n",
    "mappings = pd.DataFrame(data={\"reconame\": reconame, \"longname\": longname})\n",
    "mappings.shape"
   ]
  },
  {
   "cell_type": "code",
   "execution_count": 52,
   "metadata": {},
   "outputs": [
    {
     "data": {
      "text/html": [
       "<div>\n",
       "<style scoped>\n",
       "    .dataframe tbody tr th:only-of-type {\n",
       "        vertical-align: middle;\n",
       "    }\n",
       "\n",
       "    .dataframe tbody tr th {\n",
       "        vertical-align: top;\n",
       "    }\n",
       "\n",
       "    .dataframe thead th {\n",
       "        text-align: right;\n",
       "    }\n",
       "</style>\n",
       "<table border=\"1\" class=\"dataframe\">\n",
       "  <thead>\n",
       "    <tr style=\"text-align: right;\">\n",
       "      <th></th>\n",
       "      <th>file</th>\n",
       "      <th>start</th>\n",
       "      <th>end</th>\n",
       "      <th>words</th>\n",
       "      <th>word_start_times</th>\n",
       "      <th>word_end_times</th>\n",
       "      <th>asr</th>\n",
       "      <th>reconame</th>\n",
       "    </tr>\n",
       "  </thead>\n",
       "  <tbody>\n",
       "    <tr>\n",
       "      <th>0</th>\n",
       "      <td>01 12 2016 - 1. dio, 2. sjednica, 9. saziv [sP...</td>\n",
       "      <td>1853.82</td>\n",
       "      <td>1873.66</td>\n",
       "      <td>[konačni, prijedlog, zakona, o, izmjenama, i, ...</td>\n",
       "      <td>[0, 0.47, 0.8, 1.21, 1.26, 1.79, 1.82, 2.34, 2...</td>\n",
       "      <td>[0.47, 0.8, 1.21, 1.26, 1.79, 1.82, 2.34, 2.78...</td>\n",
       "      <td>[konačni, prijedlog, zakona, o, izmjenama, i, ...</td>\n",
       "      <td>reco723</td>\n",
       "    </tr>\n",
       "    <tr>\n",
       "      <th>1</th>\n",
       "      <td>01 12 2016 - 1. dio, 2. sjednica, 9. saziv [sP...</td>\n",
       "      <td>1874.08</td>\n",
       "      <td>1893.99</td>\n",
       "      <td>[u, svezi, sa, člankom, sto, devedeset, poslov...</td>\n",
       "      <td>[0, 0.11, 0.48, 0.66, 1.12, 1.36, 1.94, 2.53, ...</td>\n",
       "      <td>[0.11, 0.48, 0.66, 1.12, 1.36, 1.94, 2.53, 3.0...</td>\n",
       "      <td>[u, svezi, sa, člankom, sto, devedeset, poslov...</td>\n",
       "      <td>reco723</td>\n",
       "    </tr>\n",
       "    <tr>\n",
       "      <th>2</th>\n",
       "      <td>01 12 2016 - 1. dio, 2. sjednica, 9. saziv [sP...</td>\n",
       "      <td>1893.99</td>\n",
       "      <td>1909.04</td>\n",
       "      <td>[za, zakonodavstvo, i, odbor, za, financije, i...</td>\n",
       "      <td>[0, 0.17, 1.12, 1.24, 1.49, 1.65, 2.12, 2.15, ...</td>\n",
       "      <td>[0.17, 1.12, 1.24, 1.49, 1.65, 2.12, 2.15, 2.5...</td>\n",
       "      <td>[za, zakonodavstvo, i, odbor, za, financije, d...</td>\n",
       "      <td>reco723</td>\n",
       "    </tr>\n",
       "  </tbody>\n",
       "</table>\n",
       "</div>"
      ],
      "text/plain": [
       "                                                file    start      end  \\\n",
       "0  01 12 2016 - 1. dio, 2. sjednica, 9. saziv [sP...  1853.82  1873.66   \n",
       "1  01 12 2016 - 1. dio, 2. sjednica, 9. saziv [sP...  1874.08  1893.99   \n",
       "2  01 12 2016 - 1. dio, 2. sjednica, 9. saziv [sP...  1893.99  1909.04   \n",
       "\n",
       "                                               words  \\\n",
       "0  [konačni, prijedlog, zakona, o, izmjenama, i, ...   \n",
       "1  [u, svezi, sa, člankom, sto, devedeset, poslov...   \n",
       "2  [za, zakonodavstvo, i, odbor, za, financije, i...   \n",
       "\n",
       "                                    word_start_times  \\\n",
       "0  [0, 0.47, 0.8, 1.21, 1.26, 1.79, 1.82, 2.34, 2...   \n",
       "1  [0, 0.11, 0.48, 0.66, 1.12, 1.36, 1.94, 2.53, ...   \n",
       "2  [0, 0.17, 1.12, 1.24, 1.49, 1.65, 2.12, 2.15, ...   \n",
       "\n",
       "                                      word_end_times  \\\n",
       "0  [0.47, 0.8, 1.21, 1.26, 1.79, 1.82, 2.34, 2.78...   \n",
       "1  [0.11, 0.48, 0.66, 1.12, 1.36, 1.94, 2.53, 3.0...   \n",
       "2  [0.17, 1.12, 1.24, 1.49, 1.65, 2.12, 2.15, 2.5...   \n",
       "\n",
       "                                                 asr reconame  \n",
       "0  [konačni, prijedlog, zakona, o, izmjenama, i, ...  reco723  \n",
       "1  [u, svezi, sa, člankom, sto, devedeset, poslov...  reco723  \n",
       "2  [za, zakonodavstvo, i, odbor, za, financije, d...  reco723  "
      ]
     },
     "execution_count": 52,
     "metadata": {},
     "output_type": "execute_result"
    }
   ],
   "source": [
    "merged = segments.merge(mappings, how=\"left\", left_on=\"file\", right_on=\"longname\").drop(columns=\"longname\")\n",
    "merged.head(3)"
   ]
  },
  {
   "cell_type": "markdown",
   "metadata": {},
   "source": [
    "Remarks:\n",
    "* I have the long filename and the recoNNN mapping merged. Not sure why I need the latter tho.\n",
    "* Wav files are present at `links_to_wavs + long filename`.\n",
    "\n",
    "Plan:\n",
    "* Generate a sample of 1000 rows from the merged DF.\n",
    "* Based on the info I have in the merged dataframe I will generate transcript from `words` column\n",
    "* I will trim the audio file to the segment borders.\n",
    "* Save the transcript, save the audio."
   ]
  },
  {
   "cell_type": "code",
   "execution_count": 95,
   "metadata": {},
   "outputs": [],
   "source": [
    "sampledf = merged.sample(1000).reset_index(drop=True)\n",
    "sampledf[\"transcript\"] = sampledf.words.str.join(\" \")\n",
    "sampledf[\"asr_transcript\"] = sampledf.asr.str.join(\" \")\n",
    "sampledf[\"samplename\"] = \"\"\n",
    "sampledf[\"samplepath\"] = \"\""
   ]
  },
  {
   "cell_type": "code",
   "execution_count": 59,
   "metadata": {},
   "outputs": [
    {
     "data": {
      "text/plain": [
       "'14 2 2019 - 3. dio, 11. sjednica, 9. saziv [KMGKU5I8aUQ].wav'"
      ]
     },
     "execution_count": 59,
     "metadata": {},
     "output_type": "execute_result"
    }
   ],
   "source": [
    "sampledf.file[0]"
   ]
  },
  {
   "cell_type": "code",
   "execution_count": 128,
   "metadata": {},
   "outputs": [
    {
     "name": "stdout",
     "output_type": "stream",
     "text": [
      "i: 0546\r"
     ]
    }
   ],
   "source": [
    "from pydub import AudioSegment\n",
    "import os\n",
    "output_dir = \"/home/rupnik/macocu/task8/sample\"\n",
    "for i, row in sampledf.iterrows():\n",
    "    print(f\"i: {i:0004}\", end=\"\\r\")\n",
    "    wavfile = row[\"file\"]\n",
    "    transcript = row[\"transcript\"]\n",
    "    reconame = row[\"reconame\"]\n",
    "    segment_start_ms = int(row[\"start\"] * 1000)\n",
    "    segment_end_ms = int(row[\"end\"] * 1000)\n",
    "    try:\n",
    "        audio = AudioSegment.from_wav(\n",
    "            links_to_wavs  + wavfile\n",
    "            )\n",
    "        segment = audio[segment_start_ms:segment_end_ms]\n",
    "        outpath = os.path.join(\n",
    "                output_dir, \n",
    "                f\"sample{i:003}.mp3\")\n",
    "        segment.export(\n",
    "            outpath, \n",
    "            format=\"mp3\")\n",
    "        sampledf.loc[i, \"samplepath\"] = outpath\n",
    "        sampledf.loc[i, \"samplename\"] = f\"sample{i:003}.mp3\"\n",
    "    except FileNotFoundError:\n",
    "        continue\n",
    "\n"
   ]
  },
  {
   "cell_type": "code",
   "execution_count": null,
   "metadata": {},
   "outputs": [],
   "source": [
    "sampledf.to_excel(\"transcripts.xls\")"
   ]
  }
 ],
 "metadata": {
  "interpreter": {
   "hash": "916dbcbb3f70747c44a77c7bcd40155683ae19c65e1c03b4aa3499c5328201f1"
  },
  "kernelspec": {
   "display_name": "Python 3.8.10 64-bit",
   "language": "python",
   "name": "python3"
  },
  "language_info": {
   "codemirror_mode": {
    "name": "ipython",
    "version": 3
   },
   "file_extension": ".py",
   "mimetype": "text/x-python",
   "name": "python",
   "nbconvert_exporter": "python",
   "pygments_lexer": "ipython3",
   "version": "3.9.7"
  },
  "orig_nbformat": 4
 },
 "nbformat": 4,
 "nbformat_minor": 2
}
