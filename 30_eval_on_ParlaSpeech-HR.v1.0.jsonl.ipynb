{
 "cells": [
  {
   "cell_type": "code",
   "execution_count": 3,
   "metadata": {},
   "outputs": [],
   "source": [
    "def process(text:str):\n",
    "    from parse import compile\n",
    "    from string import punctuation\n",
    "    p = compile(\"{hit:d}.\")\n",
    "    in_list = text.split()\n",
    "    out_list = list()\n",
    "    for seg in in_list:\n",
    "        parse_result = p.parse(seg)\n",
    "        if parse_result:\n",
    "            # We got a number with a dot afterward:\n",
    "            out_list.append(seg.lower())\n",
    "        else:\n",
    "            out_list.append(seg.translate(str.maketrans('', '', punctuation)).lower())\n",
    "    return \" \".join(out_list)\n",
    "\n",
    "\n",
    "import os\n",
    "def correct_path(s):\n",
    "    basename = os.path.basename(s)\n",
    "    current_dir = \"/home/peterr/macocu/task8/transfer_10/\"\n",
    "    return os.path.join(current_dir, basename)\n",
    "import pandas as pd\n",
    "df = pd.read_json(\"ParlaSpeech-HR.v1.0.jsonl\", orient=\"records\", lines=True)\n",
    "dev = df[df.split==\"dev\"]\n",
    "test = df[df.split==\"test\"]\n",
    "\n",
    "for df in [dev, test]:\n",
    "    df[\"path\"] = df.path.apply(correct_path)\n",
    "    df[\"norm_text\"] = df.norm_words.apply(\" \".join)"
   ]
  },
  {
   "cell_type": "code",
   "execution_count": 4,
   "metadata": {},
   "outputs": [
    {
     "data": {
      "text/html": [
       "<div>\n",
       "<style scoped>\n",
       "    .dataframe tbody tr th:only-of-type {\n",
       "        vertical-align: middle;\n",
       "    }\n",
       "\n",
       "    .dataframe tbody tr th {\n",
       "        vertical-align: top;\n",
       "    }\n",
       "\n",
       "    .dataframe thead th {\n",
       "        text-align: right;\n",
       "    }\n",
       "</style>\n",
       "<table border=\"1\" class=\"dataframe\">\n",
       "  <thead>\n",
       "    <tr style=\"text-align: right;\">\n",
       "      <th></th>\n",
       "      <th>path</th>\n",
       "      <th>orig_file</th>\n",
       "      <th>start</th>\n",
       "      <th>end</th>\n",
       "      <th>words</th>\n",
       "      <th>word_start_times</th>\n",
       "      <th>norm_words</th>\n",
       "      <th>norm_words_start_times</th>\n",
       "      <th>utterance_id_start</th>\n",
       "      <th>utterance_id_end</th>\n",
       "      <th>speaker_info</th>\n",
       "      <th>split</th>\n",
       "      <th>norm_words_edited</th>\n",
       "      <th>norm_text</th>\n",
       "    </tr>\n",
       "  </thead>\n",
       "  <tbody>\n",
       "    <tr>\n",
       "      <th>841</th>\n",
       "      <td>/home/peterr/macocu/task8/transfer_10/dpKsbH3S...</td>\n",
       "      <td>12 07 2017 - 1. dio, 4. sjednica, 9. saziv [dp...</td>\n",
       "      <td>4637.60</td>\n",
       "      <td>4644.80</td>\n",
       "      <td>[koncem, godine, je, imalo, 44, zaposlenih, u,...</td>\n",
       "      <td>[0, 0.43, 0.91, 0.97, 1.35, 2.99, 4.78, 4.99, ...</td>\n",
       "      <td>[koncem, godine, je, imalo, četrdeset, četiri,...</td>\n",
       "      <td>[0, 0.43, 0.91, 0.97, 1.35, 2.51, 2.99, 4.78, ...</td>\n",
       "      <td>ParlaMint-HR_S04.u5878</td>\n",
       "      <td>ParlaMint-HR_S04.u5878</td>\n",
       "      <td>{'Speaker_role': 'Regular', 'Speaker_type': 'n...</td>\n",
       "      <td>test</td>\n",
       "      <td>NaN</td>\n",
       "      <td>koncem godine je imalo četrdeset četiri zaposl...</td>\n",
       "    </tr>\n",
       "    <tr>\n",
       "      <th>1745</th>\n",
       "      <td>/home/peterr/macocu/task8/transfer_10/Y2U1PJH4...</td>\n",
       "      <td>4 3 2020 - 16. sjednica, 9. saziv [Y2U1PJH4kNs...</td>\n",
       "      <td>20386.54</td>\n",
       "      <td>20406.15</td>\n",
       "      <td>[Primjer, EU, odnosno, istaknuto, je, da, 18, ...</td>\n",
       "      <td>[0, 1.12, 2.26, 3.15, 3.66, 3.7199999999999998...</td>\n",
       "      <td>[primjer, eu, odnosno, istaknuto, je, da, osam...</td>\n",
       "      <td>[0, 1.12, 2.26, 3.15, 3.66, 3.7199999999999998...</td>\n",
       "      <td>ParlaMint-HR_S16.u5604</td>\n",
       "      <td>ParlaMint-HR_S16.u5604</td>\n",
       "      <td>{'Speaker_role': 'Regular', 'Speaker_type': 'n...</td>\n",
       "      <td>test</td>\n",
       "      <td>NaN</td>\n",
       "      <td>primjer eu odnosno istaknuto je da osamnaest d...</td>\n",
       "    </tr>\n",
       "  </tbody>\n",
       "</table>\n",
       "</div>"
      ],
      "text/plain": [
       "                                                   path  \\\n",
       "841   /home/peterr/macocu/task8/transfer_10/dpKsbH3S...   \n",
       "1745  /home/peterr/macocu/task8/transfer_10/Y2U1PJH4...   \n",
       "\n",
       "                                              orig_file     start       end  \\\n",
       "841   12 07 2017 - 1. dio, 4. sjednica, 9. saziv [dp...   4637.60   4644.80   \n",
       "1745  4 3 2020 - 16. sjednica, 9. saziv [Y2U1PJH4kNs...  20386.54  20406.15   \n",
       "\n",
       "                                                  words  \\\n",
       "841   [koncem, godine, je, imalo, 44, zaposlenih, u,...   \n",
       "1745  [Primjer, EU, odnosno, istaknuto, je, da, 18, ...   \n",
       "\n",
       "                                       word_start_times  \\\n",
       "841   [0, 0.43, 0.91, 0.97, 1.35, 2.99, 4.78, 4.99, ...   \n",
       "1745  [0, 1.12, 2.26, 3.15, 3.66, 3.7199999999999998...   \n",
       "\n",
       "                                             norm_words  \\\n",
       "841   [koncem, godine, je, imalo, četrdeset, četiri,...   \n",
       "1745  [primjer, eu, odnosno, istaknuto, je, da, osam...   \n",
       "\n",
       "                                 norm_words_start_times  \\\n",
       "841   [0, 0.43, 0.91, 0.97, 1.35, 2.51, 2.99, 4.78, ...   \n",
       "1745  [0, 1.12, 2.26, 3.15, 3.66, 3.7199999999999998...   \n",
       "\n",
       "          utterance_id_start        utterance_id_end  \\\n",
       "841   ParlaMint-HR_S04.u5878  ParlaMint-HR_S04.u5878   \n",
       "1745  ParlaMint-HR_S16.u5604  ParlaMint-HR_S16.u5604   \n",
       "\n",
       "                                           speaker_info split  \\\n",
       "841   {'Speaker_role': 'Regular', 'Speaker_type': 'n...  test   \n",
       "1745  {'Speaker_role': 'Regular', 'Speaker_type': 'n...  test   \n",
       "\n",
       "     norm_words_edited                                          norm_text  \n",
       "841                NaN  koncem godine je imalo četrdeset četiri zaposl...  \n",
       "1745               NaN  primjer eu odnosno istaknuto je da osamnaest d...  "
      ]
     },
     "execution_count": 4,
     "metadata": {},
     "output_type": "execute_result"
    }
   ],
   "source": [
    "test.head(2)"
   ]
  },
  {
   "cell_type": "code",
   "execution_count": 6,
   "metadata": {},
   "outputs": [
    {
     "name": "stderr",
     "output_type": "stream",
     "text": [
      "Special tokens have been added in the vocabulary, make sure the associated word embeddings are fine-tuned or trained.\n"
     ]
    }
   ],
   "source": [
    "from datasets import load_metric\n",
    "wer_metric = load_metric(\"wer\")\n",
    "cer_metric = load_metric(\"cer\")\n",
    "\n",
    "import pandas as pd\n",
    "import os\n",
    "import torch\n",
    "from transformers import Wav2Vec2Processor, Wav2Vec2ForCTC\n",
    "from transformers import Wav2Vec2FeatureExtractor\n",
    "from transformers import Wav2Vec2Processor, Wav2Vec2CTCTokenizer\n",
    "import soundfile as sf\n",
    "import os\n",
    "# Use old or new vocab? \n",
    "os.system(\"cp vocab_300.json vocab.json\")\n",
    "\n",
    "\n",
    "\n",
    "tokenizer = Wav2Vec2CTCTokenizer.from_pretrained(\n",
    "        \"/home/peterr/macocu/task8/\", unk_token=\"[UNK]\", \n",
    "        pad_token=\"[PAD]\", word_delimiter_token=\" \")\n",
    "feature_extractor = Wav2Vec2FeatureExtractor(\n",
    "    feature_size=1, sampling_rate=16000, padding_value=0.0, do_normalize=True, return_attention_mask=True)\n",
    "\n",
    "processor = Wav2Vec2Processor(\n",
    "    feature_extractor=feature_extractor, tokenizer=tokenizer)\n",
    "model = Wav2Vec2ForCTC.from_pretrained(\"/home/peterr/macocu/task8/25_normalised_200h/checkpoint-2720\").cuda()\n",
    "\n",
    "def transcribe(path):\n",
    "    speech, sample_rate = sf.read(path)\n",
    "    input_values = processor(speech, sampling_rate=sample_rate, return_tensors=\"pt\").input_values.cuda()\n",
    "\n",
    "    logits = model(input_values).logits\n",
    "\n",
    "    predicted_ids = torch.argmax(logits, dim=-1)\n",
    "    transcription = processor.decode(predicted_ids[0]).lower()\n",
    "    return transcription\n",
    "\n",
    "for df in [test, dev]:\n",
    "    df[\"predicted\"] = df.path.apply(transcribe)"
   ]
  },
  {
   "cell_type": "code",
   "execution_count": 7,
   "metadata": {},
   "outputs": [
    {
     "name": "stdout",
     "output_type": "stream",
     "text": [
      "split: dev, cer=0.0315, wer=0.1010\n",
      "split: test, cer=0.0234, wer=0.0845\n"
     ]
    }
   ],
   "source": [
    "for name, df in zip([\"dev\", \"test\"], [dev, test]):\n",
    "    cer = cer_metric.compute(\n",
    "        references = df.norm_text,\n",
    "        predictions = df.predicted\n",
    "    )\n",
    "    wer = wer_metric.compute(\n",
    "        references = df.norm_text,\n",
    "        predictions = df.predicted\n",
    "    )\n",
    "\n",
    "    print(f\"split: {name}, {cer=:0.4f}, {wer=:0.4f}\")"
   ]
  },
  {
   "cell_type": "code",
   "execution_count": 8,
   "metadata": {},
   "outputs": [],
   "source": [
    "dev.to_csv(\"30_eval_results_dev.csv\", index=False)\n",
    "test.to_csv(\"30_eval_results_test.csv\", index=False)"
   ]
  },
  {
   "cell_type": "code",
   "execution_count": 9,
   "metadata": {},
   "outputs": [
    {
     "data": {
      "text/plain": [
       "'proglašava druga i oseba broa fita za predsjednika republike bez ograničenja trajanja mandata'"
      ]
     },
     "execution_count": 9,
     "metadata": {},
     "output_type": "execute_result"
    }
   ],
   "source": [
    "transcribe(\"sample_mono.wav\")"
   ]
  },
  {
   "cell_type": "code",
   "execution_count": null,
   "metadata": {},
   "outputs": [],
   "source": []
  }
 ],
 "metadata": {
  "interpreter": {
   "hash": "7f6f5766036ee03d059e365a942add07f79c17033585e9357ee8157d52fe6bb9"
  },
  "kernelspec": {
   "display_name": "Python 3.9.7 ('base')",
   "language": "python",
   "name": "python3"
  },
  "language_info": {
   "codemirror_mode": {
    "name": "ipython",
    "version": 3
   },
   "file_extension": ".py",
   "mimetype": "text/x-python",
   "name": "python",
   "nbconvert_exporter": "python",
   "pygments_lexer": "ipython3",
   "version": "3.8.3"
  },
  "orig_nbformat": 4
 },
 "nbformat": 4,
 "nbformat_minor": 2
}
