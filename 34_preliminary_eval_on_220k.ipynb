{
 "cells": [
  {
   "cell_type": "code",
   "execution_count": 8,
   "metadata": {},
   "outputs": [
    {
     "name": "stderr",
     "output_type": "stream",
     "text": [
      "Special tokens have been added in the vocabulary, make sure the associated word embeddings are fine-tuned or trained.\n"
     ]
    }
   ],
   "source": [
    "from datasets import load_metric\n",
    "wer_metric = load_metric(\"wer\")\n",
    "cer_metric = load_metric(\"cer\")\n",
    "\n",
    "import pandas as pd\n",
    "import os\n",
    "import torch\n",
    "from transformers import Wav2Vec2Processor, Wav2Vec2ForCTC\n",
    "from transformers import Wav2Vec2FeatureExtractor\n",
    "from transformers import Wav2Vec2Processor, Wav2Vec2CTCTokenizer\n",
    "import soundfile as sf\n",
    "import os\n",
    "# Use old or new vocab? \n",
    "#os.system(\"cp vocab_300_with_numbers.json vocab.json\")\n",
    "\n",
    "\n",
    "\n",
    "tokenizer = Wav2Vec2CTCTokenizer.from_pretrained(\n",
    "        \"/home/peterr/macocu/task8/\", unk_token=\"[UNK]\", \n",
    "        pad_token=\"[PAD]\", word_delimiter_token=\" \")\n",
    "feature_extractor = Wav2Vec2FeatureExtractor(\n",
    "    feature_size=1, sampling_rate=16000, padding_value=0.0, do_normalize=True, return_attention_mask=True)\n",
    "\n",
    "processor = Wav2Vec2Processor(\n",
    "    feature_extractor=feature_extractor, tokenizer=tokenizer)\n",
    "model = Wav2Vec2ForCTC.from_pretrained(\"/home/peterr/macocu/task8/31_normalised_220k/checkpoint-6500\").cuda()\n",
    "\n",
    "def transcribe(path):\n",
    "    speech, sample_rate = sf.read(path)\n",
    "    input_values = processor(speech, sampling_rate=sample_rate, return_tensors=\"pt\").input_values.cuda()\n",
    "\n",
    "    logits = model(input_values).logits\n",
    "\n",
    "    predicted_ids = torch.argmax(logits, dim=-1)\n",
    "    transcription = processor.decode(predicted_ids[0]).lower()\n",
    "    return transcription\n"
   ]
  },
  {
   "cell_type": "code",
   "execution_count": 9,
   "metadata": {},
   "outputs": [],
   "source": [
    "import datasets\n",
    "from datasets import load_dataset, load_metric, Audio, load_from_disk\n",
    "test = load_from_disk(\"test_mapped\")"
   ]
  },
  {
   "cell_type": "code",
   "execution_count": 10,
   "metadata": {},
   "outputs": [
    {
     "data": {
      "text/plain": [
       "'zahtjevima europske komisije u odnosu na direkdirektivu europskog parlamenta i vijeća od 5 srpnja 206 godine zahvaljujem se na podršci svima koji su raspravljali i na samomekraju vezano uz ratifikaciju istambolske konvencije'"
      ]
     },
     "execution_count": 10,
     "metadata": {},
     "output_type": "execute_result"
    }
   ],
   "source": [
    "speech, sample_rate = test[0][\"input_values\"], 16000\n",
    "input_values = processor(speech, sampling_rate=sample_rate, return_tensors=\"pt\").input_values.cuda()\n",
    "\n",
    "logits = model(input_values).logits\n",
    "\n",
    "predicted_ids = torch.argmax(logits, dim=-1)\n",
    "transcription = processor.decode(predicted_ids[0]).lower()\n",
    "transcription"
   ]
  },
  {
   "cell_type": "code",
   "execution_count": 11,
   "metadata": {},
   "outputs": [
    {
     "data": {
      "text/plain": [
       "'zahtjevima europske komisije u odnosu na direktivu europskog parlamenta i vijeća od 5. srpnja 206. godine zahvaljujem se na podršci svima koji su raspravljali i na samome kraju vezano uz ratifikaciju istambulske konvencije'"
      ]
     },
     "execution_count": 11,
     "metadata": {},
     "output_type": "execute_result"
    }
   ],
   "source": [
    "labs = test[0][\"labels\"]\n",
    "processor.decode(labs).lower()"
   ]
  },
  {
   "cell_type": "code",
   "execution_count": 17,
   "metadata": {},
   "outputs": [],
   "source": [
    "def decode_labels(labels):\n",
    "    return processor.decode(labels).lower()\n",
    "def transcribe(inputs):\n",
    "    speech = inputs\n",
    "    input_values = processor(speech, sampling_rate=16000, return_tensors=\"pt\").input_values.cuda()\n",
    "\n",
    "    logits = model(input_values).logits\n",
    "\n",
    "    predicted_ids = torch.argmax(logits, dim=-1)\n",
    "    transcription = processor.decode(predicted_ids[0]).lower()\n",
    "    return transcription\n",
    "\n",
    "transcriptions = list(map(transcribe, test[\"input_values\"]))\n",
    "labels = list(map(decode_labels, test[\"labels\"]))"
   ]
  },
  {
   "cell_type": "code",
   "execution_count": 21,
   "metadata": {},
   "outputs": [
    {
     "data": {
      "text/plain": [
       "('transparentnosti cijelog sustava javne nabave tijekom 2018. godina držav na ko misija ob obilježilaje 1.u odišnjih surada koja je obilježena međunarnom konferencijom koja je okupila renomirane stručnjeke na području javne nabave iz rh tinozemstva kao i predstavnike akadems',\n",
       " 'transparentnosti cijelog sustava javne nabave tijekom 2018g državna komisija obilježila je 15tu godišnjicu rada koja je obilježena međunarodnom konferencijom koja je okupila renomirane stručnjake na području javne nabave iz rh te inozemstva kao i predstavnike akademske')"
      ]
     },
     "execution_count": 21,
     "metadata": {},
     "output_type": "execute_result"
    }
   ],
   "source": [
    "transcriptions[2],labels[2]"
   ]
  },
  {
   "cell_type": "code",
   "execution_count": 22,
   "metadata": {},
   "outputs": [],
   "source": [
    "import pandas as pd\n",
    "pd.DataFrame(data={\n",
    "    \"machine_generated_transcripts\": transcriptions,\n",
    "    \"original_transcript\": labels\n",
    "}).to_csv(\"34_model31_220k_performance.csv\", index=False)"
   ]
  },
  {
   "cell_type": "code",
   "execution_count": null,
   "metadata": {},
   "outputs": [],
   "source": []
  }
 ],
 "metadata": {
  "interpreter": {
   "hash": "7f6f5766036ee03d059e365a942add07f79c17033585e9357ee8157d52fe6bb9"
  },
  "kernelspec": {
   "display_name": "Python 3.9.7 ('base')",
   "language": "python",
   "name": "python3"
  },
  "language_info": {
   "codemirror_mode": {
    "name": "ipython",
    "version": 3
   },
   "file_extension": ".py",
   "mimetype": "text/x-python",
   "name": "python",
   "nbconvert_exporter": "python",
   "pygments_lexer": "ipython3",
   "version": "3.8.3"
  },
  "orig_nbformat": 4
 },
 "nbformat": 4,
 "nbformat_minor": 2
}
