{
 "cells": [
  {
   "cell_type": "code",
   "execution_count": 1,
   "metadata": {},
   "outputs": [
    {
     "name": "stderr",
     "output_type": "stream",
     "text": [
      "Special tokens have been added in the vocabulary, make sure the associated word embeddings are fine-tuned or trained.\n"
     ]
    }
   ],
   "source": [
    "from datasets import load_metric\n",
    "wer_metric = load_metric(\"wer\")\n",
    "cer_metric = load_metric(\"cer\")\n",
    "\n",
    "import pandas as pd\n",
    "import os\n",
    "import torch\n",
    "from transformers import Wav2Vec2Processor, Wav2Vec2ForCTC\n",
    "from transformers import Wav2Vec2FeatureExtractor\n",
    "from transformers import Wav2Vec2Processor, Wav2Vec2CTCTokenizer\n",
    "import soundfile as sf\n",
    "import os\n",
    "# Use old or new vocab? \n",
    "#os.system(\"cp vocab_300_with_numbers.json vocab.json\")\n",
    "\n",
    "\n",
    "\n",
    "tokenizer = Wav2Vec2CTCTokenizer.from_pretrained(\n",
    "        \"/home/peterr/macocu/task8/\", unk_token=\"[UNK]\", \n",
    "        pad_token=\"[PAD]\", word_delimiter_token=\" \")\n",
    "feature_extractor = Wav2Vec2FeatureExtractor(\n",
    "    feature_size=1, sampling_rate=16000, padding_value=0.0, do_normalize=True, return_attention_mask=True)\n",
    "\n",
    "processor = Wav2Vec2Processor(\n",
    "    feature_extractor=feature_extractor, tokenizer=tokenizer)\n",
    "model = Wav2Vec2ForCTC.from_pretrained(\"/home/peterr/macocu/task8/31_normalised_220k/checkpoint-6500\").cuda()\n",
    "\n",
    "def transcribe(path):\n",
    "    speech, sample_rate = sf.read(path)\n",
    "    input_values = processor(speech, sampling_rate=sample_rate, return_tensors=\"pt\").input_values.cuda()\n",
    "\n",
    "    logits = model(input_values).logits\n",
    "\n",
    "    predicted_ids = torch.argmax(logits, dim=-1)\n",
    "    transcription = processor.decode(predicted_ids[0]).lower()\n",
    "    return transcription\n"
   ]
  },
  {
   "cell_type": "code",
   "execution_count": 2,
   "metadata": {},
   "outputs": [],
   "source": [
    "import datasets\n",
    "from datasets import load_dataset, load_metric, Audio, load_from_disk\n",
    "test = load_from_disk(\"test_mapped\")\n",
    "train = load_from_disk(\"train220k_mapped\")"
   ]
  },
  {
   "cell_type": "code",
   "execution_count": 3,
   "metadata": {},
   "outputs": [
    {
     "data": {
      "text/plain": [
       "'zahtjevima europske komisije u odnosu na direkdirektivu europskog parlamenta i vijeća od 5 srpnja 206 godine zahvaljujem se na podršci svima koji su raspravljali i na samomekraju vezano uz ratifikaciju istambolske konvencije'"
      ]
     },
     "execution_count": 3,
     "metadata": {},
     "output_type": "execute_result"
    }
   ],
   "source": [
    "speech, sample_rate = test[0][\"input_values\"], 16000\n",
    "input_values = processor(speech, sampling_rate=sample_rate, return_tensors=\"pt\").input_values.cuda()\n",
    "\n",
    "logits = model(input_values).logits\n",
    "\n",
    "predicted_ids = torch.argmax(logits, dim=-1)\n",
    "transcription = processor.decode(predicted_ids[0]).lower()\n",
    "transcription"
   ]
  },
  {
   "cell_type": "code",
   "execution_count": 4,
   "metadata": {},
   "outputs": [
    {
     "data": {
      "text/plain": [
       "'zahtjevima europske komisije u odnosu na direktivu europskog parlamenta i vijeća od 5. srpnja 206. godine zahvaljujem se na podršci svima koji su raspravljali i na samome kraju vezano uz ratifikaciju istambulske konvencije'"
      ]
     },
     "execution_count": 4,
     "metadata": {},
     "output_type": "execute_result"
    }
   ],
   "source": [
    "labs = test[0][\"labels\"]\n",
    "processor.decode(labs).lower()"
   ]
  },
  {
   "cell_type": "code",
   "execution_count": 10,
   "metadata": {},
   "outputs": [],
   "source": [
    "def decode_labels(labels):\n",
    "    return processor.decode(labels).lower()\n",
    "def transcribe(inputs):\n",
    "    speech = inputs\n",
    "    input_values = processor(speech, sampling_rate=16000, return_tensors=\"pt\").input_values.cuda()\n",
    "\n",
    "    logits = model(input_values).logits\n",
    "\n",
    "    predicted_ids = torch.argmax(logits, dim=-1)\n",
    "    transcription = processor.decode(predicted_ids[0]).lower()\n",
    "    return transcription\n",
    "# Transcribing train data:\n",
    "transcriptions = list(map(transcribe, [train[i][\"input_values\"] for i in range(1000, 1010)]))\n",
    "labels = list(map(decode_labels, [train[i][\"labels\"] for i in range(1000, 1010)]))"
   ]
  },
  {
   "cell_type": "code",
   "execution_count": 11,
   "metadata": {},
   "outputs": [
    {
     "name": "stdout",
     "output_type": "stream",
     "text": [
      "s druge strane činjenicu da su nam djeca sve više podložna pretilosti i izložena sve većim rizicima a s druge strane onda gledamo što radimo zapravo da bismo im omogućili kvalitetniji i zdraviji život od malih nogu i vidimo da tu \n",
      "labels: s druge strane činjenicu da su nam djeca sve više podložna pretilosti i izložena sve većim rizicima a s druge strane onda gledamo što radimo zapravo da bismo im omogućili kvalitetniji i zdraviji život od malih nogu i vidimo da tu\n",
      "nam mladi u predadolescentskom i adolescentskom razdoblju najviše ranjivi i najviše dakle izloženi vanjskim utjecajima pa tako i opojnim drogama i naravno ova vaša ideja je svakako dobro došla i više porazmisliti o strukturiranju slobodnog vremena \n",
      "labels: nam mladi u predadolescentskom i adolescentskom razdoblju najviše ranjivi i najviše dakle izloženi vanjskim utjecajima pa tako i opojnim drogama i naravno ova vaša ideja je svakako dobro došla i više porazmisliti o strukturiranju slobodnog vremena\n",
      "za vrijeme pet šest godina unatrag za vrijeme provedbe ovog zakona dok je bio ministar kolega bačić preko dvije tisuće stanova je ušlo u ovaj program a samo pet ih je ovršeno samo puno je i tih pet ali evo to ipak govori o nekakvim skoro pa promilima da je to ipak jedna dobra stvar i nisu se dogodile te ovrhe i \n",
      "labels: za vrijeme pet šest godina unatrag za vrijeme provedbe ovog zakona dok je bio ministar kolega bačić preko dvije tisuće stanova je ušlo u ovaj program a samo pet ih je ovršeno samo puno je i tih pet ali evo to ipak govori o nekakvim skoro pa promilima da je to ipak jedna dobra stvar i nisu se dogodile te ovrhe i\n",
      "upravo je u čl 101. propisano da upravno vijeće donosi odluku o zanimanjima za koje poslodavac ne treba tražiti provedbu testa tržišta rada a vi ste rekli da bi bilo dobro da rade svaka tri mjeseca u st 3. toga \n",
      "labels: upravo je u čl 101. propisano da upravno vijeće donosi odluku o zanimanjima za koje poslodavac ne treba tražiti provedbu testa tržišta rada a vi ste rekli da bi bilo dobro da rade svaka tri mjeseca u st 3. toga\n",
      "i smatram da ovi prijedlozi izmjena i dopuna koji su stavljeni u proceduru uistinu ne sadržavaju ni onaj minimum potrebnih podataka niti problema koji su dosad zapaženi u ovim zakonima koji su na snazi da bi se to moglo smatrati prvim čitanjem \n",
      "labels: i smatram da ovi prijedlozi izmjena i dopuna koji su stavljeni u proceduru uistinu ne sadržavaju ni onaj minimum potrebnih podataka niti problema koji su dosad zapaženi u ovim zakonima koji su na snazi da bi se to moglo smatrati prvim čitanjem\n",
      "toga da se obijesni i bahati vozači koji opetovano ponavljaju najteža kaznena djela zapravo \n",
      "labels: toga da se obijesni i bahati vozači koji opetovano ponavljaju najteža kaznena djela zapravo\n",
      "cilj predmetnog zakona jest da se uslugom pružanja informacija o putovanjima može krajnjim korisnicima ponuditi više mogućnosti putovanja s različitim prijevoznicima što je neophodno za potrebe informiranja i planiranja prije putovanja ovim zakonom određuje se da ministarstvo mora prometa i infrastrukture uspostavlja nacionalnu pristupnu točku vlada rh \n",
      "labels: cilj predmetnog zakona jest da se uslugom pružanja informacija o putovanjima može krajnjim korisnicima ponuditi više mogućnosti putovanja s različitim prijevoznicima što je neophodno za potrebe informiranja i planiranja prije putovanja ovim zakonom određuje se da ministarstvo mora prometa i infrastrukture uspostavlja nacionalnu pristupnu točku vlada rh\n",
      "mnogo računa o tome što je hrvatski interes a što ne slijedeći zastupnik koji se javio za riječ je zastupnik miro kovač \n",
      "labels: mnogo računa o tome što je hrvatski interes a što ne slijedeći zastupnik koji se javio za riječ je zastupnik miro kovač\n",
      "stvarno unaprijeđeno a sada za edukaciju za iduću godinu prva tura koja je išla edukacija je išla za svaku školu i 96 škola je obuhvaćeno već 4 u eksperimentalnom programu pa nije potrebno također smo veći naglasak stavili da kombinacija bude i edukacije uživo i edukacije \n",
      "labels: stvarno unaprijeđeno a sada za edukaciju za iduću godinu prva tura koja je išla edukacija je išla za svaku školu i 96 škola je obuhvaćeno već 4 u eksperimentalnom programu pa nije potrebno također smo veći naglasak stavili da kombinacija bude i edukacije uživo i edukacije\n",
      "pokazat ću i ukazat ću kroz jednu jednostavnu računicu da to se mora korigirati ukoliko želimo da rh odnosno da ishodi izbornih procesa u rh budu korektni i u skladu s voljom naroda imamo 4 milijuna i 141 tisuću \n",
      "labels: pokazat ću i ukazat ću kroz jednu jednostavnu računicu da to se mora korigirati ukoliko želimo da rh odnosno da ishodi izbornih procesa u rh budu korektni i u skladu s voljom naroda imamo 4 milijuna i 141 tisuću\n"
     ]
    }
   ],
   "source": [
    "for t, l in zip(transcriptions, labels):\n",
    "    print(t, \"\\nlabels:\", l)"
   ]
  },
  {
   "cell_type": "code",
   "execution_count": 7,
   "metadata": {},
   "outputs": [],
   "source": [
    "transcriptions = list(map(transcribe, test[\"input_values\"]))\n",
    "labels = list(map(decode_labels, test[\"labels\"]))\n",
    "\n",
    "import pandas as pd\n",
    "pd.DataFrame(data={\n",
    "    \"machine_generated_transcripts\": transcriptions,\n",
    "    \"original_transcript\": labels\n",
    "}).to_csv(\"34_model31_220k_performance.csv\", index=False)"
   ]
  },
  {
   "cell_type": "code",
   "execution_count": null,
   "metadata": {},
   "outputs": [],
   "source": []
  }
 ],
 "metadata": {
  "interpreter": {
   "hash": "7f6f5766036ee03d059e365a942add07f79c17033585e9357ee8157d52fe6bb9"
  },
  "kernelspec": {
   "display_name": "Python 3.9.7 ('base')",
   "language": "python",
   "name": "python3"
  },
  "language_info": {
   "codemirror_mode": {
    "name": "ipython",
    "version": 3
   },
   "file_extension": ".py",
   "mimetype": "text/x-python",
   "name": "python",
   "nbconvert_exporter": "python",
   "pygments_lexer": "ipython3",
   "version": "3.8.3"
  },
  "orig_nbformat": 4
 },
 "nbformat": 4,
 "nbformat_minor": 2
}
