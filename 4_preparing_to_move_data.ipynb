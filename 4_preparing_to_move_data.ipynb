{
 "cells": [
  {
   "cell_type": "code",
   "execution_count": 22,
   "metadata": {},
   "outputs": [
    {
     "data": {
      "text/plain": [
       "Index(['file', 'start', 'end', 'words', 'word_start_times', 'word_end_times',\n",
       "       'asr', 'true_file', 'reconame', 'longname', 'yt_hash', 'hashname',\n",
       "       'key', 'was_in_samples', 'human_transcript', 'asr_transcript', 'sim',\n",
       "       'split'],\n",
       "      dtype='object')"
      ]
     },
     "execution_count": 22,
     "metadata": {},
     "output_type": "execute_result"
    }
   ],
   "source": [
    "import pandas as pd\n",
    "df = pd.read_csv(\"parlaspeech.csv\")\n",
    "df.columns"
   ]
  },
  {
   "cell_type": "code",
   "execution_count": 23,
   "metadata": {},
   "outputs": [],
   "source": [
    "df_pruned = df.loc[:, ['file', 'start', 'end',\n",
    "     'true_file', 'reconame', 'yt_hash', 'hashname',\n",
    "     'was_in_samples', 'human_transcript', 'asr_transcript', 'sim',]]"
   ]
  },
  {
   "cell_type": "code",
   "execution_count": 24,
   "metadata": {},
   "outputs": [],
   "source": [
    "df_pruned.to_csv(\"parlaspeech_pruned.csv\", index=False)"
   ]
  },
  {
   "cell_type": "code",
   "execution_count": 25,
   "metadata": {},
   "outputs": [],
   "source": [
    "df_pruned.to_json(\"parlaspeech_pruned.json\", orient=\"records\", lines=True)"
   ]
  },
  {
   "cell_type": "code",
   "execution_count": 26,
   "metadata": {},
   "outputs": [
    {
     "data": {
      "text/plain": [
       "0.17014261643359388"
      ]
     },
     "execution_count": 26,
     "metadata": {},
     "output_type": "execute_result"
    }
   ],
   "source": [
    "c_to_drop = df_pruned.was_in_samples | df_pruned.sim<0.8\n",
    "df_pruned = df_pruned.drop(index=df_pruned.index[c_to_drop])\n",
    "available = 224031104 \n",
    "corpus_size = 1316725396\n",
    "\n",
    "train_fraction = available/corpus_size\n",
    "train_fraction"
   ]
  },
  {
   "cell_type": "markdown",
   "metadata": {},
   "source": [
    "Zaokrožim na 0.15"
   ]
  },
  {
   "cell_type": "code",
   "execution_count": 27,
   "metadata": {},
   "outputs": [],
   "source": [
    "keep_df = df_pruned.sample(frac=0.15, random_state=42)\n",
    "keep_df.to_csv(\"keep_pruned.csv\", index=False)"
   ]
  },
  {
   "cell_type": "code",
   "execution_count": null,
   "metadata": {},
   "outputs": [],
   "source": [
    "from shutil import copyfile\n",
    "import os\n",
    "for file in keep_df.hashname:\n",
    "    if os.path.exists(os.path.join(\"/home/rupnik/macocu/task8/transfer\", file)):\n",
    "        continue\n",
    "    copyfile(os.path.join(\"/home/rupnik/macocu/task8/data\", file),\n",
    "            os.path.join(\"/home/rupnik/macocu/task8/transfer\", file)\n",
    "            )"
   ]
  },
  {
   "cell_type": "code",
   "execution_count": 30,
   "metadata": {},
   "outputs": [],
   "source": [
    "from concurrent.futures import ProcessPoolExecutor\n",
    "\n",
    "def copy(file):\n",
    "    if os.path.exists(os.path.join(\"/home/rupnik/macocu/task8/transfer\", file)):\n",
    "        return\n",
    "    copyfile(os.path.join(\"/home/rupnik/macocu/task8/data\", file),\n",
    "            os.path.join(\"/home/rupnik/macocu/task8/transfer\", file)\n",
    "            )\n",
    "\n",
    "with ProcessPoolExecutor(max_workers=10) as executor:\n",
    "    executor.map(copy, keep_df.hashname.values)"
   ]
  },
  {
   "cell_type": "code",
   "execution_count": null,
   "metadata": {},
   "outputs": [],
   "source": []
  }
 ],
 "metadata": {
  "interpreter": {
   "hash": "2d30c88cb7145d662123f76f8c64609bc18e52940d2861adec2407b68f2e334f"
  },
  "kernelspec": {
   "display_name": "Python 3.9.7 ('base')",
   "language": "python",
   "name": "python3"
  },
  "language_info": {
   "codemirror_mode": {
    "name": "ipython",
    "version": 3
   },
   "file_extension": ".py",
   "mimetype": "text/x-python",
   "name": "python",
   "nbconvert_exporter": "python",
   "pygments_lexer": "ipython3",
   "version": "3.9.7"
  },
  "orig_nbformat": 4
 },
 "nbformat": 4,
 "nbformat_minor": 2
}
