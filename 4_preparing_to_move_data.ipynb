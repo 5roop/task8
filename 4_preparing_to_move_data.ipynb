{
 "cells": [
  {
   "cell_type": "code",
   "execution_count": 2,
   "metadata": {},
   "outputs": [
    {
     "data": {
      "text/plain": [
       "Index(['file', 'start', 'end', 'words', 'word_start_times', 'word_end_times',\n",
       "       'asr', 'true_file', 'reconame', 'longname', 'yt_hash', 'hashname',\n",
       "       'key', 'was_in_samples', 'human_transcript', 'asr_transcript', 'sim',\n",
       "       'split'],\n",
       "      dtype='object')"
      ]
     },
     "execution_count": 2,
     "metadata": {},
     "output_type": "execute_result"
    }
   ],
   "source": [
    "import pandas as pd\n",
    "df = pd.read_csv(\"parlaspeech.csv\")\n",
    "df.columns"
   ]
  },
  {
   "cell_type": "code",
   "execution_count": 5,
   "metadata": {},
   "outputs": [],
   "source": [
    "df_pruned = df.loc[:, ['file', 'start', 'end',\n",
    "     'true_file', 'reconame', 'yt_hash', 'hashname',\n",
    "     'was_in_samples', 'human_transcript', 'asr_transcript', 'sim',\n",
    "       'split']]"
   ]
  },
  {
   "cell_type": "code",
   "execution_count": 7,
   "metadata": {},
   "outputs": [],
   "source": [
    "df_pruned.to_csv(\"parlaspeech_pruned.csv\", index=False)"
   ]
  },
  {
   "cell_type": "code",
   "execution_count": 8,
   "metadata": {},
   "outputs": [],
   "source": [
    "df_pruned.to_json(\"parlaspeech_pruned.json\", orient=\"records\", lines=True)"
   ]
  },
  {
   "cell_type": "code",
   "execution_count": 9,
   "metadata": {},
   "outputs": [
    {
     "data": {
      "text/plain": [
       "0.10467166622109986"
      ]
     },
     "execution_count": 9,
     "metadata": {},
     "output_type": "execute_result"
    }
   ],
   "source": [
    "c1 = df_pruned.split == \"test\"\n",
    "c2 = df_pruned.split == \"dev\"\n",
    "available = 224031104 \n",
    "corpus_size = 1316725396\n",
    "\n",
    "train_fraction = available/corpus_size - (sum(c1) + sum(c2))/df_pruned.shape[0]\n",
    "train_fraction"
   ]
  },
  {
   "cell_type": "markdown",
   "metadata": {},
   "source": [
    "Zaokrožim na 0.1 "
   ]
  },
  {
   "cell_type": "code",
   "execution_count": 10,
   "metadata": {},
   "outputs": [],
   "source": [
    "keep_df = pd.concat([\n",
    "    df_pruned.loc[c1, :],\n",
    "    df_pruned.loc[c2, :],\n",
    "    df_pruned.loc[(~c1)&(~c2), :].sample(frac=0.1)\n",
    "])\n",
    "keep_df.to_csv(\"keep_pruned.csv\", index=False)"
   ]
  },
  {
   "cell_type": "code",
   "execution_count": 12,
   "metadata": {},
   "outputs": [
    {
     "data": {
      "text/plain": [
       "50           sPNuDebATRM_2733.3-2736.71.wav\n",
       "59           sPNuDebATRM_2893.3-2893.33.wav\n",
       "65          sPNuDebATRM_3010.24-3030.02.wav\n",
       "72          sPNuDebATRM_3134.95-3153.57.wav\n",
       "86           sPNuDebATRM_3397.1-3416.68.wav\n",
       "                        ...                \n",
       "228999      Hlvu7goPx6c_4237.77-4255.26.wav\n",
       "257071      Ko5OBGRMETo_2265.29-2273.61.wav\n",
       "314364      1s4JHlcC_rM_4103.84-4123.21.wav\n",
       "174024      pGfaIaT8VgY_3042.06-3053.42.wav\n",
       "280558    IF1blZ6YSMA_10706.59-10709.03.wav\n",
       "Name: hashname, Length: 71125, dtype: object"
      ]
     },
     "execution_count": 12,
     "metadata": {},
     "output_type": "execute_result"
    }
   ],
   "source": [
    "keep_df.hashname"
   ]
  },
  {
   "cell_type": "code",
   "execution_count": null,
   "metadata": {},
   "outputs": [],
   "source": []
  }
 ],
 "metadata": {
  "interpreter": {
   "hash": "2d30c88cb7145d662123f76f8c64609bc18e52940d2861adec2407b68f2e334f"
  },
  "kernelspec": {
   "display_name": "Python 3.9.7 ('base')",
   "language": "python",
   "name": "python3"
  },
  "language_info": {
   "codemirror_mode": {
    "name": "ipython",
    "version": 3
   },
   "file_extension": ".py",
   "mimetype": "text/x-python",
   "name": "python",
   "nbconvert_exporter": "python",
   "pygments_lexer": "ipython3",
   "version": "3.9.7"
  },
  "orig_nbformat": 4
 },
 "nbformat": 4,
 "nbformat_minor": 2
}
