{
 "cells": [
  {
   "cell_type": "code",
   "execution_count": 28,
   "metadata": {},
   "outputs": [
    {
     "name": "stderr",
     "output_type": "stream",
     "text": [
      "Special tokens have been added in the vocabulary, make sure the associated word embeddings are fine-tuned or trained.\n"
     ]
    }
   ],
   "source": [
    "# %%\n",
    "# \n",
    "from itertools import groupby\n",
    "import torch\n",
    "from transformers import Wav2Vec2Processor, Wav2Vec2ForCTC\n",
    "from transformers import Wav2Vec2FeatureExtractor\n",
    "from transformers import Wav2Vec2Processor, Wav2Vec2CTCTokenizer\n",
    "import soundfile as sf\n",
    "\n",
    "##############\n",
    "# load model & audio and run audio through model\n",
    "##############\n",
    "\n",
    "\n",
    "\n",
    "tokenizer = Wav2Vec2CTCTokenizer.from_pretrained(\n",
    "    \"/home/peterr/macocu/task8/\", unk_token=\"[UNK]\", \n",
    "    pad_token=\"[PAD]\", word_delimiter_token=\" \")\n",
    "\n",
    "feature_extractor = Wav2Vec2FeatureExtractor(\n",
    "    feature_size=1, sampling_rate=16000, padding_value=0.0, do_normalize=True, return_attention_mask=True)\n",
    "\n",
    "processor = Wav2Vec2Processor(\n",
    "    feature_extractor=feature_extractor, tokenizer=tokenizer)\n",
    "\n",
    "\n",
    "\n",
    "#model_name = '/home/peterr/macocu/task8/300_/checkpoint-2800'\n",
    "#model_name = '/home/peterr/macocu/task8/300_/checkpoint-2800'\n",
    "\n",
    "model = Wav2Vec2ForCTC.from_pretrained(model_name).cuda()\n",
    "def get_transcript(audio_filepath:str):\n",
    "    speech, sample_rate = sf.read(audio_filepath)\n",
    "    input_values = processor(speech, sampling_rate=sample_rate, return_tensors=\"pt\").input_values.cuda()\n",
    "\n",
    "    logits = model(input_values).logits\n",
    "\n",
    "    predicted_ids = torch.argmax(logits, dim=-1)\n",
    "    transcription = processor.decode(predicted_ids[0]).lower()\n",
    "\n",
    "    ##############\n",
    "    # this is where the logic starts to get the start and end timestamp for each word\n",
    "    ##############\n",
    "    words = [w for w in transcription.split(' ') if len(w) > 0]\n",
    "    predicted_ids = predicted_ids[0].tolist()\n",
    "    duration_sec = input_values.shape[1] / sample_rate\n",
    "\n",
    "\n",
    "    ids_w_time = [(i / len(predicted_ids) * duration_sec, _id) for i, _id in enumerate(predicted_ids)]\n",
    "    # remove entries which are just \"padding\" (i.e. no characers are recognized)\n",
    "    ids_w_time = [i for i in ids_w_time if i[1] != processor.tokenizer.pad_token_id]\n",
    "    # now split the ids into groups of ids where each group represents a word\n",
    "    split_ids_w_time = [list(group) for k, group\n",
    "                        in groupby(ids_w_time, lambda x: x[1] == processor.tokenizer.word_delimiter_token_id)\n",
    "                        if not k]\n",
    "    assert len(split_ids_w_time) == len(words)  # make sure that there are the same number of id-groups as words. Otherwise something is wrong\n",
    "\n",
    "    word_start_times = []\n",
    "    word_end_times = []\n",
    "    for cur_ids_w_time, cur_word in zip(split_ids_w_time, words):\n",
    "        _times = [_time for _time, _id in cur_ids_w_time]\n",
    "        word_start_times.append(min(_times))\n",
    "        word_end_times.append(max(_times))\n",
    "\n",
    "    return words, word_start_times, word_end_times\n",
    "\n"
   ]
  },
  {
   "cell_type": "code",
   "execution_count": 29,
   "metadata": {},
   "outputs": [
    {
     "data": {
      "text/plain": [
       "(['proglašava[unk]druga[unk]jocipa[unk]broza[unk]fita[unk]za[unk]predsjednika[unk]republike[unk]bez[unk]ograničenja[unk]trajanja[unk]ma[unk]ndat'],\n",
       " [0.40064367816091956],\n",
       " [8.513678160919541])"
      ]
     },
     "execution_count": 29,
     "metadata": {},
     "output_type": "execute_result"
    }
   ],
   "source": [
    "get_transcript(\"sample_mono.wav\")"
   ]
  },
  {
   "cell_type": "code",
   "execution_count": 31,
   "metadata": {},
   "outputs": [
    {
     "name": "stdout",
     "output_type": "stream",
     "text": [
      "Requirement already up-to-date: transformers in /home/peterr/anaconda3/lib/python3.8/site-packages (4.17.0)\n",
      "Requirement already satisfied, skipping upgrade: tokenizers!=0.11.3,>=0.11.1 in /home/peterr/anaconda3/lib/python3.8/site-packages (from transformers) (0.11.6)\n",
      "Requirement already satisfied, skipping upgrade: regex!=2019.12.17 in /home/peterr/anaconda3/lib/python3.8/site-packages (from transformers) (2020.6.8)\n",
      "Requirement already satisfied, skipping upgrade: numpy>=1.17 in /home/peterr/anaconda3/lib/python3.8/site-packages (from transformers) (1.18.5)\n",
      "Requirement already satisfied, skipping upgrade: tqdm>=4.27 in /home/peterr/anaconda3/lib/python3.8/site-packages (from transformers) (4.62.3)\n",
      "Requirement already satisfied, skipping upgrade: packaging>=20.0 in /home/peterr/anaconda3/lib/python3.8/site-packages (from transformers) (20.9)\n",
      "Requirement already satisfied, skipping upgrade: huggingface-hub<1.0,>=0.1.0 in /home/peterr/anaconda3/lib/python3.8/site-packages (from transformers) (0.1.0)\n",
      "Requirement already satisfied, skipping upgrade: requests in /home/peterr/anaconda3/lib/python3.8/site-packages (from transformers) (2.24.0)\n",
      "Requirement already satisfied, skipping upgrade: pyyaml>=5.1 in /home/peterr/anaconda3/lib/python3.8/site-packages (from transformers) (5.3.1)\n",
      "Requirement already satisfied, skipping upgrade: filelock in /home/peterr/anaconda3/lib/python3.8/site-packages (from transformers) (3.0.12)\n",
      "Requirement already satisfied, skipping upgrade: sacremoses in /home/peterr/anaconda3/lib/python3.8/site-packages (from transformers) (0.0.45)\n",
      "Requirement already satisfied, skipping upgrade: pyparsing>=2.0.2 in /home/peterr/anaconda3/lib/python3.8/site-packages (from packaging>=20.0->transformers) (2.4.7)\n",
      "Requirement already satisfied, skipping upgrade: typing-extensions in /home/peterr/anaconda3/lib/python3.8/site-packages (from huggingface-hub<1.0,>=0.1.0->transformers) (3.10.0.2)\n",
      "Requirement already satisfied, skipping upgrade: urllib3!=1.25.0,!=1.25.1,<1.26,>=1.21.1 in /home/peterr/anaconda3/lib/python3.8/site-packages (from requests->transformers) (1.25.11)\n",
      "Requirement already satisfied, skipping upgrade: idna<3,>=2.5 in /home/peterr/anaconda3/lib/python3.8/site-packages (from requests->transformers) (2.10)\n",
      "Requirement already satisfied, skipping upgrade: certifi>=2017.4.17 in /home/peterr/anaconda3/lib/python3.8/site-packages (from requests->transformers) (2020.6.20)\n",
      "Requirement already satisfied, skipping upgrade: chardet<4,>=3.0.2 in /home/peterr/anaconda3/lib/python3.8/site-packages (from requests->transformers) (3.0.4)\n",
      "Requirement already satisfied, skipping upgrade: joblib in /home/peterr/anaconda3/lib/python3.8/site-packages (from sacremoses->transformers) (0.16.0)\n",
      "Requirement already satisfied, skipping upgrade: six in /home/peterr/anaconda3/lib/python3.8/site-packages (from sacremoses->transformers) (1.15.0)\n",
      "Requirement already satisfied, skipping upgrade: click in /home/peterr/anaconda3/lib/python3.8/site-packages (from sacremoses->transformers) (7.1.2)\n",
      "Note: you may need to restart the kernel to use updated packages.\n"
     ]
    }
   ],
   "source": [
    "%pip install --upgrade transformers"
   ]
  },
  {
   "cell_type": "code",
   "execution_count": null,
   "metadata": {},
   "outputs": [],
   "source": []
  }
 ],
 "metadata": {
  "interpreter": {
   "hash": "7f6f5766036ee03d059e365a942add07f79c17033585e9357ee8157d52fe6bb9"
  },
  "kernelspec": {
   "display_name": "Python 3.8.3 ('base')",
   "language": "python",
   "name": "python3"
  },
  "language_info": {
   "codemirror_mode": {
    "name": "ipython",
    "version": 3
   },
   "file_extension": ".py",
   "mimetype": "text/x-python",
   "name": "python",
   "nbconvert_exporter": "python",
   "pygments_lexer": "ipython3",
   "version": "3.8.3"
  },
  "orig_nbformat": 4
 },
 "nbformat": 4,
 "nbformat_minor": 2
}
